{
 "cells": [
  {
   "cell_type": "code",
   "execution_count": null,
   "id": "dcac9b11",
   "metadata": {},
   "outputs": [],
   "source": [
    "import gbio.src.workingquery as wkquery\n",
    "\n",
    "# List of center coordinates (lat, lon) — Manchester\n",
    "centers = [\n",
    "    (53.47882936553889, -2.223106165535259), # Manchester\n",
    "]\n",
    "\n",
    "w_km = 1.5        \n",
    "tiles_per_side = 14 \n",
    "\n",
    "wkquery.query_tasks(\n",
    "    centers=centers,\n",
    "    tile_width_km=w_km,\n",
    "    tiles_per_side=tiles_per_side,\n",
    "    folder='Manchester_GEE',\n",
    "    earth_engine_project='geofenced-biodiversity-project'\n",
    ")"
   ]
  }
 ],
 "metadata": {
  "language_info": {
   "name": "python"
  }
 },
 "nbformat": 4,
 "nbformat_minor": 5
}
