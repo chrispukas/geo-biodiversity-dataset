{
 "cells": [
  {
   "cell_type": "code",
   "execution_count": 2,
   "id": "896f1653",
   "metadata": {},
   "outputs": [
    {
     "ename": "NameError",
     "evalue": "name 'output_path' is not defined",
     "output_type": "error",
     "traceback": [
      "\u001b[31m---------------------------------------------------------------------------\u001b[39m",
      "\u001b[31mNameError\u001b[39m                                 Traceback (most recent call last)",
      "\u001b[36mCell\u001b[39m\u001b[36m \u001b[39m\u001b[32mIn[2]\u001b[39m\u001b[32m, line 9\u001b[39m\n\u001b[32m      5\u001b[39m output_path = \u001b[33m\"\u001b[39m\u001b[33m/Users/apple/Documents/github/geo-biodiversity-dataset/dataset/sat/processed\u001b[39m\u001b[33m\"\u001b[39m\n\u001b[32m      7\u001b[39m csv_path = \u001b[33m\"\u001b[39m\u001b[33m/Users/apple/Documents/github/geo-biodiversity-dataset/dataset/sat/csv/seperate\u001b[39m\u001b[33m\"\u001b[39m\n\u001b[32m----> \u001b[39m\u001b[32m9\u001b[39m \u001b[43mprc\u001b[49m\u001b[43m.\u001b[49m\u001b[43mprocess_sats\u001b[49m\u001b[43m(\u001b[49m\u001b[43minput_path_raw\u001b[49m\u001b[43m,\u001b[49m\u001b[43m \u001b[49m\u001b[43moutput_path\u001b[49m\u001b[43m,\u001b[49m\u001b[43m \u001b[49m\u001b[43mcsv_path\u001b[49m\u001b[43m)\u001b[49m\n",
      "\u001b[36mFile \u001b[39m\u001b[32m~/Documents/github/geo-biodiversity-dataset/gbio/src/process.py:123\u001b[39m, in \u001b[36mprocess_sats\u001b[39m\u001b[34m(input_path_raw, output_path, csv_path)\u001b[39m\n\u001b[32m    121\u001b[39m \u001b[38;5;28;01mfor\u001b[39;00m \u001b[38;5;28mdir\u001b[39m \u001b[38;5;129;01min\u001b[39;00m dirs:\n\u001b[32m    122\u001b[39m     dir_path: \u001b[38;5;28mstr\u001b[39m = os.path.join(input_path_raw, \u001b[38;5;28mdir\u001b[39m)\n\u001b[32m--> \u001b[39m\u001b[32m123\u001b[39m     \u001b[43mprocess_dir\u001b[49m\u001b[43m(\u001b[49m\u001b[43mdir_path\u001b[49m\u001b[43m)\u001b[49m\n",
      "\u001b[36mFile \u001b[39m\u001b[32m~/Documents/github/geo-biodiversity-dataset/gbio/src/process.py:98\u001b[39m, in \u001b[36mprocess_dir\u001b[39m\u001b[34m(dir_path)\u001b[39m\n\u001b[32m     95\u001b[39m city: \u001b[38;5;28mstr\u001b[39m = os.path.basename(dir_path)\n\u001b[32m     96\u001b[39m imgs: \u001b[38;5;28mstr\u001b[39m = os.listdir(dir_path)\n\u001b[32m---> \u001b[39m\u001b[32m98\u001b[39m save_dir: \u001b[38;5;28mstr\u001b[39m = os.path.join(\u001b[43moutput_path\u001b[49m, city)\n\u001b[32m     99\u001b[39m os.makedirs(save_dir, exist_ok=\u001b[38;5;28;01mTrue\u001b[39;00m)\n\u001b[32m    100\u001b[39m entries = []\n",
      "\u001b[31mNameError\u001b[39m: name 'output_path' is not defined"
     ]
    }
   ],
   "source": [
    "import gbio.src.process as prc\n",
    "\n",
    "\n",
    "input_path_raw = \"/Users/apple/Documents/github/geo-biodiversity-dataset/dataset/sat/raw\"\n",
    "output_path = \"/Users/apple/Documents/github/geo-biodiversity-dataset/dataset/sat/processed\"\n",
    "\n",
    "csv_path = \"/Users/apple/Documents/github/geo-biodiversity-dataset/dataset/sat/csv/seperate\"\n",
    "\n",
    "prc.process_sats(input_path_raw, output_path, csv_path)"
   ]
  },
  {
   "cell_type": "code",
   "execution_count": null,
   "id": "325fba62",
   "metadata": {},
   "outputs": [],
   "source": [
    "# Combine all CSVs into one\n",
    "\n",
    "import gbio.src.process as prc\n",
    "\n",
    "csv_path = \"/Users/apple/Documents/github/geo-biodiversity-dataset/dataset/sat/csv/seperate\"\n",
    "output_path = \"/Users/apple/Documents/github/geo-biodiversity-dataset/dataset/sat/csv/combined.csv\"\n",
    "\n",
    "prc.combine_csvs(csv_path, output_path)"
   ]
  }
 ],
 "metadata": {
  "kernelspec": {
   "display_name": "gbio_env",
   "language": "python",
   "name": "python3"
  },
  "language_info": {
   "codemirror_mode": {
    "name": "ipython",
    "version": 3
   },
   "file_extension": ".py",
   "mimetype": "text/x-python",
   "name": "python",
   "nbconvert_exporter": "python",
   "pygments_lexer": "ipython3",
   "version": "3.12.11"
  }
 },
 "nbformat": 4,
 "nbformat_minor": 5
}
