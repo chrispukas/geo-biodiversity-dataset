{
 "cells": [
  {
   "cell_type": "code",
   "execution_count": 1,
   "id": "896f1653",
   "metadata": {},
   "outputs": [
    {
     "name": "stdout",
     "output_type": "stream",
     "text": [
      "Initialized GBIF IO\n",
      "   Dataset loaded: {'api-paths': {'GBIF_SEARCH': {'name': 'GBIF_SEARCH', 'url': 'https://api.gbif.org/v1/occurrence/search', 'description': 'API access to the Global Biodiversity Information Facility'}, 'GBIF_SPECIES': {'name': 'GBIF_SPECIES', 'url': 'https://api.gbif.org/v1/species', 'description': 'API access to the Global Biodiversity Information Facility'}}}\n",
      "Initialized cache directory: /Users/apple/Documents/github/geo-biodiversity-dataset/cache\n",
      "Checking if pickle exists at: /Users/apple/Documents/github/geo-biodiversity-dataset/cache/species_cache.pkl -> True\n",
      "Processing city: Birmingham\n"
     ]
    },
    {
     "name": "stderr",
     "output_type": "stream",
     "text": [
      "  5%|▌         | 24/441 [00:11<03:37,  1.92it/s]"
     ]
    },
    {
     "name": "stdout",
     "output_type": "stream",
     "text": [
      "Failed: Returned status code of 204, with message: <Response [204]>\n",
      "Error querying GBIF for image tile_52.37886951699379_-2.071181168110954.jpg at coords ('52.37886951699379', '-2.071181168110954'): 'NoneType' object has no attribute 'get'\n",
      "No GBIF data found for image: tile_52.37886951699379_-2.071181168110954.jpg at coords: ('52.37886951699379', '-2.071181168110954')\n"
     ]
    },
    {
     "name": "stderr",
     "output_type": "stream",
     "text": [
      " 17%|█▋        | 75/441 [00:47<03:20,  1.82it/s]"
     ]
    },
    {
     "name": "stdout",
     "output_type": "stream",
     "text": [
      "Failed: Returned status code of 204, with message: <Response [204]>\n",
      "Error querying GBIF for image tile_52.36535600348027_-1.849833074858909.jpg at coords ('52.36535600348027', '-1.849833074858909'): 'NoneType' object has no attribute 'get'\n",
      "No GBIF data found for image: tile_52.36535600348027_-1.849833074858909.jpg at coords: ('52.36535600348027', '-1.849833074858909')\n"
     ]
    },
    {
     "name": "stderr",
     "output_type": "stream",
     "text": [
      " 18%|█▊        | 80/441 [00:49<03:02,  1.97it/s]"
     ]
    },
    {
     "name": "stdout",
     "output_type": "stream",
     "text": [
      "Failed: Returned status code of 204, with message: <Response [204]>\n",
      "Error querying GBIF for image tile_52.36535600348027_-2.137585596086568.jpg at coords ('52.36535600348027', '-2.137585596086568'): 'NoneType' object has no attribute 'get'\n",
      "No GBIF data found for image: tile_52.36535600348027_-2.137585596086568.jpg at coords: ('52.36535600348027', '-2.137585596086568')\n"
     ]
    },
    {
     "name": "stderr",
     "output_type": "stream",
     "text": [
      " 23%|██▎       | 102/441 [01:00<03:14,  1.74it/s]"
     ]
    },
    {
     "name": "stdout",
     "output_type": "stream",
     "text": [
      "Failed: Returned status code of 204, with message: <Response [204]>\n",
      "Error querying GBIF for image tile_52.36535600348027_-2.071181168110954.jpg at coords ('52.36535600348027', '-2.071181168110954'): 'NoneType' object has no attribute 'get'\n",
      "No GBIF data found for image: tile_52.36535600348027_-2.071181168110954.jpg at coords: ('52.36535600348027', '-2.071181168110954')\n"
     ]
    },
    {
     "name": "stderr",
     "output_type": "stream",
     "text": [
      " 27%|██▋       | 117/441 [01:07<03:04,  1.76it/s]"
     ]
    },
    {
     "name": "stdout",
     "output_type": "stream",
     "text": [
      "Failed: Returned status code of 204, with message: <Response [204]>\n",
      "Error querying GBIF for image tile_52.36535600348027_-2.1154507867613637.jpg at coords ('52.36535600348027', '-2.1154507867613637'): 'NoneType' object has no attribute 'get'\n",
      "No GBIF data found for image: tile_52.36535600348027_-2.1154507867613637.jpg at coords: ('52.36535600348027', '-2.1154507867613637')\n"
     ]
    },
    {
     "name": "stderr",
     "output_type": "stream",
     "text": [
      " 39%|███▊      | 170/441 [01:32<02:39,  1.70it/s]"
     ]
    },
    {
     "name": "stdout",
     "output_type": "stream",
     "text": [
      "Failed: Returned status code of 204, with message: <Response [204]>\n",
      "Error querying GBIF for image tile_52.37886951699379_-2.0933159774361587.jpg at coords ('52.37886951699379', '-2.0933159774361587'): 'NoneType' object has no attribute 'get'\n",
      "No GBIF data found for image: tile_52.37886951699379_-2.0933159774361587.jpg at coords: ('52.37886951699379', '-2.0933159774361587')\n"
     ]
    },
    {
     "name": "stderr",
     "output_type": "stream",
     "text": [
      " 44%|████▎     | 192/441 [01:57<03:05,  1.34it/s]"
     ]
    },
    {
     "name": "stdout",
     "output_type": "stream",
     "text": [
      "Failed: Returned status code of 204, with message: <Response [204]>\n",
      "Error querying GBIF for image tile_52.36535600348027_-1.7834286468832954.jpg at coords ('52.36535600348027', '-1.7834286468832954'): 'NoneType' object has no attribute 'get'\n",
      "No GBIF data found for image: tile_52.36535600348027_-1.7834286468832954.jpg at coords: ('52.36535600348027', '-1.7834286468832954')\n"
     ]
    },
    {
     "name": "stderr",
     "output_type": "stream",
     "text": [
      " 52%|█████▏    | 230/441 [02:16<02:02,  1.72it/s]"
     ]
    },
    {
     "name": "stdout",
     "output_type": "stream",
     "text": [
      "Failed: Returned status code of 204, with message: <Response [204]>\n",
      "Error querying GBIF for image tile_52.37886951699379_-1.7834286468832954.jpg at coords ('52.37886951699379', '-1.7834286468832954'): 'NoneType' object has no attribute 'get'\n",
      "No GBIF data found for image: tile_52.37886951699379_-1.7834286468832954.jpg at coords: ('52.37886951699379', '-1.7834286468832954')\n"
     ]
    },
    {
     "name": "stderr",
     "output_type": "stream",
     "text": [
      " 60%|██████    | 265/441 [02:32<01:36,  1.83it/s]"
     ]
    },
    {
     "name": "stdout",
     "output_type": "stream",
     "text": [
      "Failed: Returned status code of 204, with message: <Response [204]>\n",
      "Error querying GBIF for image tile_52.36535600348027_-2.0933159774361587.jpg at coords ('52.36535600348027', '-2.0933159774361587'): 'NoneType' object has no attribute 'get'\n",
      "No GBIF data found for image: tile_52.36535600348027_-2.0933159774361587.jpg at coords: ('52.36535600348027', '-2.0933159774361587')\n"
     ]
    },
    {
     "name": "stderr",
     "output_type": "stream",
     "text": [
      " 73%|███████▎  | 321/441 [02:57<01:03,  1.90it/s]"
     ]
    },
    {
     "name": "stdout",
     "output_type": "stream",
     "text": [
      "Failed: Returned status code of 204, with message: <Response [204]>\n",
      "Error querying GBIF for image tile_52.37886951699379_-2.1154507867613637.jpg at coords ('52.37886951699379', '-2.1154507867613637'): 'NoneType' object has no attribute 'get'\n",
      "No GBIF data found for image: tile_52.37886951699379_-2.1154507867613637.jpg at coords: ('52.37886951699379', '-2.1154507867613637')\n"
     ]
    },
    {
     "name": "stderr",
     "output_type": "stream",
     "text": [
      " 87%|████████▋ | 384/441 [03:26<00:29,  1.94it/s]"
     ]
    },
    {
     "name": "stdout",
     "output_type": "stream",
     "text": [
      "Failed: Returned status code of 204, with message: <Response [204]>\n",
      "Error querying GBIF for image tile_52.41941005753433_-1.8276982655337044.jpg at coords ('52.41941005753433', '-1.8276982655337044'): 'NoneType' object has no attribute 'get'\n",
      "No GBIF data found for image: tile_52.41941005753433_-1.8276982655337044.jpg at coords: ('52.41941005753433', '-1.8276982655337044')\n"
     ]
    },
    {
     "name": "stderr",
     "output_type": "stream",
     "text": [
      "100%|██████████| 441/441 [03:54<00:00,  1.88it/s]\n"
     ]
    },
    {
     "name": "stdout",
     "output_type": "stream",
     "text": [
      "Sucessfully created df with cols: Index(['full_name', 'city', 'variation', 'longitude', 'latitude',\n",
      "       'species_richness', 'redlist_EX', 'redlist_EW', 'redlist_CR',\n",
      "       'redlist_EN', 'redlist_VU', 'redlist_NT', 'redlist_LC', 'redlist_DD',\n",
      "       'redlist_NE'],\n",
      "      dtype='object'), and size: (1720, 15).\n",
      "Processing city: London\n"
     ]
    },
    {
     "name": "stderr",
     "output_type": "stream",
     "text": [
      "  1%|          | 7/1215 [00:04<13:13,  1.52it/s]"
     ]
    },
    {
     "name": "stdout",
     "output_type": "stream",
     "text": [
      "Failed: Returned status code of 204, with message: <Response [204]>\n",
      "Error querying GBIF for image tile_51.33026774559944_0.1571402458110142.jpg at coords ('51.33026774559944', '0.1571402458110142'): 'NoneType' object has no attribute 'get'\n",
      "No GBIF data found for image: tile_51.33026774559944_0.1571402458110142.jpg at coords: ('51.33026774559944', '0.1571402458110142')\n"
     ]
    },
    {
     "name": "stderr",
     "output_type": "stream",
     "text": [
      "  1%|          | 8/1215 [00:05<15:16,  1.32it/s]"
     ]
    },
    {
     "name": "stdout",
     "output_type": "stream",
     "text": [
      "Failed: Returned status code of 204, with message: <Response [204]>\n",
      "Error querying GBIF for image tile_51.451889367221064_0.1787886125415048.jpg at coords ('51.451889367221064', '0.1787886125415048'): 'NoneType' object has no attribute 'get'\n",
      "No GBIF data found for image: tile_51.451889367221064_0.1787886125415048.jpg at coords: ('51.451889367221064', '0.1787886125415048')\n"
     ]
    },
    {
     "name": "stderr",
     "output_type": "stream",
     "text": [
      "  1%|▏         | 17/1215 [00:10<12:56,  1.54it/s]"
     ]
    },
    {
     "name": "stdout",
     "output_type": "stream",
     "text": [
      "Failed: Returned status code of 204, with message: <Response [204]>\n",
      "Error querying GBIF for image tile_51.438375853707555_0.1571402458110142.jpg at coords ('51.438375853707555', '0.1571402458110142'): 'NoneType' object has no attribute 'get'\n",
      "No GBIF data found for image: tile_51.438375853707555_0.1571402458110142.jpg at coords: ('51.438375853707555', '0.1571402458110142')\n"
     ]
    },
    {
     "name": "stderr",
     "output_type": "stream",
     "text": [
      "  3%|▎         | 38/1215 [00:21<11:56,  1.64it/s]"
     ]
    },
    {
     "name": "stdout",
     "output_type": "stream",
     "text": [
      "Failed: Returned status code of 204, with message: <Response [204]>\n",
      "Error querying GBIF for image tile_51.42486234019404_0.13549187908052357.jpg at coords ('51.42486234019404', '0.13549187908052357'): 'NoneType' object has no attribute 'get'\n",
      "No GBIF data found for image: tile_51.42486234019404_0.13549187908052357.jpg at coords: ('51.42486234019404', '0.13549187908052357')\n"
     ]
    },
    {
     "name": "stderr",
     "output_type": "stream",
     "text": [
      "  4%|▍         | 47/1215 [00:26<11:21,  1.71it/s]"
     ]
    },
    {
     "name": "stdout",
     "output_type": "stream",
     "text": [
      "Failed: Returned status code of 204, with message: <Response [204]>\n",
      "Error querying GBIF for image tile_51.72215963749134_0.24373371273297673.jpg at coords ('51.72215963749134', '0.24373371273297673'): 'NoneType' object has no attribute 'get'\n",
      "No GBIF data found for image: tile_51.72215963749134_0.24373371273297673.jpg at coords: ('51.72215963749134', '0.24373371273297673')\n"
     ]
    },
    {
     "name": "stderr",
     "output_type": "stream",
     "text": [
      "  4%|▍         | 53/1215 [00:29<10:53,  1.78it/s]"
     ]
    },
    {
     "name": "stdout",
     "output_type": "stream",
     "text": [
      "Failed: Returned status code of 204, with message: <Response [204]>\n",
      "Error querying GBIF for image tile_51.37080828613998_0.005601678697579812.jpg at coords ('51.37080828613998', '0.005601678697579812'): 'NoneType' object has no attribute 'get'\n",
      "No GBIF data found for image: tile_51.37080828613998_0.005601678697579812.jpg at coords: ('51.37080828613998', '0.005601678697579812')\n"
     ]
    },
    {
     "name": "stderr",
     "output_type": "stream",
     "text": [
      "  5%|▍         | 58/1215 [00:31<07:22,  2.62it/s]"
     ]
    },
    {
     "name": "stdout",
     "output_type": "stream",
     "text": [
      "Failed: Returned status code of 204, with message: <Response [204]>\n",
      "Error querying GBIF for image tile_51.64107855641026_-0.016046688032910816.jpg at coords ('51.64107855641026', '-0.016046688032910816'): 'NoneType' object has no attribute 'get'\n",
      "No GBIF data found for image: tile_51.64107855641026_-0.016046688032910816.jpg at coords: ('51.64107855641026', '-0.016046688032910816')\n",
      "Pulling from GBIF API with species key: 1519365\n",
      "Pulling from GBIF API with species key: 5872829\n",
      "Pulling from GBIF API with species key: 1516379\n",
      "Pulling from GBIF API with species key: 1983088\n",
      "Pulling from GBIF API with species key: 4450526\n",
      "Pulling from GBIF API with species key: 4458762\n",
      "Pulling from GBIF API with species key: 5149787\n",
      "Pulling from GBIF API with species key: 1000850\n",
      "Pulling from GBIF API with species key: 1002218\n",
      "Pulling from GBIF API with species key: 1043066\n",
      "Pulling from GBIF API with species key: 1510915\n",
      "Pulling from GBIF API with species key: 1517296\n",
      "Pulling from GBIF API with species key: 1519582\n",
      "Pulling from GBIF API with species key: 1520496\n",
      "Pulling from GBIF API with species key: 1520764\n",
      "Pulling from GBIF API with species key: 1639419\n",
      "Pulling from GBIF API with species key: 4436510\n",
      "Pulling from GBIF API with species key: 4447852\n",
      "Pulling from GBIF API with species key: 4453412\n",
      "Pulling from GBIF API with species key: 4460852\n",
      "Pulling from GBIF API with species key: 4488240\n",
      "Pulling from GBIF API with species key: 4492393\n",
      "Pulling from GBIF API with species key: 5094811\n",
      "Pulling from GBIF API with species key: 5766979\n",
      "Pulling from GBIF API with species key: 5772222\n",
      "Pulling from GBIF API with species key: 6097442\n",
      "Pulling from GBIF API with species key: 7414565\n",
      "Pulling from GBIF API with species key: 8501267\n",
      "Pulling from GBIF API with species key: 9300880\n"
     ]
    },
    {
     "name": "stderr",
     "output_type": "stream",
     "text": [
      "  5%|▍         | 59/1215 [00:39<53:07,  2.76s/it]"
     ]
    },
    {
     "name": "stdout",
     "output_type": "stream",
     "text": [
      "Pulling from GBIF API with species key: 9756094\n",
      "Pulling from GBIF API with species key: 1338425\n",
      "Pulling from GBIF API with species key: 1530466\n",
      "Pulling from GBIF API with species key: 1575321\n",
      "Pulling from GBIF API with species key: 1736412\n",
      "Pulling from GBIF API with species key: 1850302\n",
      "Pulling from GBIF API with species key: 1850460\n",
      "Pulling from GBIF API with species key: 2106057\n",
      "Pulling from GBIF API with species key: 2108765\n",
      "Pulling from GBIF API with species key: 2234579\n",
      "Pulling from GBIF API with species key: 2234886\n",
      "Pulling from GBIF API with species key: 2479798\n",
      "Pulling from GBIF API with species key: 4460845\n",
      "Pulling from GBIF API with species key: 4494742\n",
      "Pulling from GBIF API with species key: 4543792\n",
      "Pulling from GBIF API with species key: 4543885\n",
      "Pulling from GBIF API with species key: 5119893\n",
      "Pulling from GBIF API with species key: 5746004\n",
      "Pulling from GBIF API with species key: 5749529\n",
      "Pulling from GBIF API with species key: 5870003\n",
      "Pulling from GBIF API with species key: 7964262\n",
      "Pulling from GBIF API with species key: 8528663\n",
      "Pulling from GBIF API with species key: 9305555\n"
     ]
    },
    {
     "name": "stderr",
     "output_type": "stream",
     "text": [
      "  5%|▍         | 60/1215 [00:46<1:19:25,  4.13s/it]"
     ]
    },
    {
     "name": "stdout",
     "output_type": "stream",
     "text": [
      "Pulling from GBIF API with species key: 9508460\n",
      "Pulling from GBIF API with species key: 5733449\n",
      "Pulling from GBIF API with species key: 1489081\n"
     ]
    },
    {
     "name": "stderr",
     "output_type": "stream",
     "text": [
      "  5%|▌         | 61/1215 [00:48<1:04:59,  3.38s/it]"
     ]
    },
    {
     "name": "stdout",
     "output_type": "stream",
     "text": [
      "Pulling from GBIF API with species key: 1702101\n",
      "Pulling from GBIF API with species key: 4949059\n",
      "Pulling from GBIF API with species key: 1765954\n",
      "Pulling from GBIF API with species key: 5793668\n",
      "Pulling from GBIF API with species key: 1309602\n",
      "Pulling from GBIF API with species key: 1441708\n",
      "Pulling from GBIF API with species key: 1455354\n",
      "Pulling from GBIF API with species key: 1614046\n"
     ]
    },
    {
     "name": "stderr",
     "output_type": "stream",
     "text": [
      "  5%|▌         | 62/1215 [00:52<1:07:26,  3.51s/it]"
     ]
    },
    {
     "name": "stdout",
     "output_type": "stream",
     "text": [
      "Pulling from GBIF API with species key: 4436021\n"
     ]
    },
    {
     "name": "stderr",
     "output_type": "stream",
     "text": [
      "  5%|▌         | 63/1215 [00:53<54:17,  2.83s/it]  "
     ]
    },
    {
     "name": "stdout",
     "output_type": "stream",
     "text": [
      "Pulling from GBIF API with species key: 2075269\n",
      "Pulling from GBIF API with species key: 1249668\n",
      "Pulling from GBIF API with species key: 1792645\n"
     ]
    },
    {
     "name": "stderr",
     "output_type": "stream",
     "text": [
      "  5%|▌         | 64/1215 [00:55<48:20,  2.52s/it]"
     ]
    },
    {
     "name": "stdout",
     "output_type": "stream",
     "text": [
      "Failed: Returned status code of 204, with message: <Response [204]>\n",
      "Error querying GBIF for image tile_51.438375853707555_0.13549187908052357.jpg at coords ('51.438375853707555', '0.13549187908052357'): 'NoneType' object has no attribute 'get'\n",
      "No GBIF data found for image: tile_51.438375853707555_0.13549187908052357.jpg at coords: ('51.438375853707555', '0.13549187908052357')\n",
      "Pulling from GBIF API with species key: 7595433\n"
     ]
    },
    {
     "name": "stderr",
     "output_type": "stream",
     "text": [
      "  5%|▌         | 65/1215 [00:56<41:19,  2.16s/it]"
     ]
    },
    {
     "name": "stdout",
     "output_type": "stream",
     "text": [
      "Pulling from GBIF API with species key: 4532493\n"
     ]
    },
    {
     "name": "stderr",
     "output_type": "stream",
     "text": [
      "  6%|▌         | 67/1215 [00:57<27:00,  1.41s/it]"
     ]
    },
    {
     "name": "stdout",
     "output_type": "stream",
     "text": [
      "Pulling from GBIF API with species key: 8624880\n",
      "Pulling from GBIF API with species key: 4567017\n",
      "Pulling from GBIF API with species key: 5749187\n",
      "Pulling from GBIF API with species key: 1039514\n",
      "Pulling from GBIF API with species key: 1435114\n",
      "Pulling from GBIF API with species key: 4429749\n",
      "Pulling from GBIF API with species key: 4480609\n",
      "Pulling from GBIF API with species key: 5749168\n",
      "Pulling from GBIF API with species key: 6097441\n",
      "Pulling from GBIF API with species key: 6097562\n",
      "Pulling from GBIF API with species key: 7865625\n",
      "Pulling from GBIF API with species key: 1533046\n",
      "Pulling from GBIF API with species key: 1536827\n",
      "Pulling from GBIF API with species key: 1540740\n",
      "Pulling from GBIF API with species key: 1646967\n",
      "Pulling from GBIF API with species key: 1768815\n",
      "Pulling from GBIF API with species key: 2102274\n",
      "Pulling from GBIF API with species key: 2120418\n",
      "Pulling from GBIF API with species key: 2120938\n",
      "Pulling from GBIF API with species key: 2121271\n",
      "Pulling from GBIF API with species key: 2121341\n",
      "Pulling from GBIF API with species key: 2122151\n",
      "Pulling from GBIF API with species key: 2426612\n",
      "Pulling from GBIF API with species key: 4404596\n",
      "Pulling from GBIF API with species key: 4438734\n",
      "Pulling from GBIF API with species key: 4476832\n",
      "Pulling from GBIF API with species key: 4487170\n",
      "Pulling from GBIF API with species key: 4537006\n",
      "Pulling from GBIF API with species key: 5166817\n",
      "Pulling from GBIF API with species key: 5189789\n",
      "Pulling from GBIF API with species key: 5781968\n",
      "Pulling from GBIF API with species key: 6097457\n",
      "Pulling from GBIF API with species key: 7578744\n",
      "Pulling from GBIF API with species key: 8042864\n"
     ]
    },
    {
     "name": "stderr",
     "output_type": "stream",
     "text": [
      "  6%|▌         | 68/1215 [01:09<1:24:24,  4.42s/it]"
     ]
    },
    {
     "name": "stdout",
     "output_type": "stream",
     "text": [
      "Pulling from GBIF API with species key: 8688237\n",
      "Pulling from GBIF API with species key: 1649997\n",
      "Pulling from GBIF API with species key: 2227300\n",
      "Pulling from GBIF API with species key: 1552017\n",
      "Pulling from GBIF API with species key: 1598139\n",
      "Pulling from GBIF API with species key: 2029899\n",
      "Pulling from GBIF API with species key: 4517544\n",
      "Pulling from GBIF API with species key: 4987282\n",
      "Pulling from GBIF API with species key: 6284535\n",
      "Pulling from GBIF API with species key: 9766765\n",
      "Pulling from GBIF API with species key: 1095979\n",
      "Pulling from GBIF API with species key: 11372394\n",
      "Pulling from GBIF API with species key: 1309592\n",
      "Pulling from GBIF API with species key: 1533100\n",
      "Pulling from GBIF API with species key: 1551715\n",
      "Pulling from GBIF API with species key: 1553515\n",
      "Pulling from GBIF API with species key: 1592598\n",
      "Pulling from GBIF API with species key: 1594318\n",
      "Pulling from GBIF API with species key: 1595605\n",
      "Pulling from GBIF API with species key: 1595647\n",
      "Pulling from GBIF API with species key: 2029213\n",
      "Pulling from GBIF API with species key: 2120818\n",
      "Pulling from GBIF API with species key: 2144463\n",
      "Pulling from GBIF API with species key: 2156903\n",
      "Pulling from GBIF API with species key: 2234862\n",
      "Pulling from GBIF API with species key: 4492144\n",
      "Pulling from GBIF API with species key: 4494339\n",
      "Pulling from GBIF API with species key: 4496933\n",
      "Pulling from GBIF API with species key: 4496958\n",
      "Pulling from GBIF API with species key: 4544647\n",
      "Pulling from GBIF API with species key: 5023964\n",
      "Pulling from GBIF API with species key: 5745192\n",
      "Pulling from GBIF API with species key: 6097432\n",
      "Pulling from GBIF API with species key: 6913535\n"
     ]
    },
    {
     "name": "stderr",
     "output_type": "stream",
     "text": [
      "  6%|▌         | 69/1215 [01:20<2:02:56,  6.44s/it]"
     ]
    },
    {
     "name": "stdout",
     "output_type": "stream",
     "text": [
      "Pulling from GBIF API with species key: 8216511\n",
      "Pulling from GBIF API with species key: 2071177\n",
      "Pulling from GBIF API with species key: 2074434\n",
      "Pulling from GBIF API with species key: 2071200\n",
      "Pulling from GBIF API with species key: 2072087\n",
      "Pulling from GBIF API with species key: 4568269\n",
      "Pulling from GBIF API with species key: 1358011\n",
      "Pulling from GBIF API with species key: 4518680\n",
      "Pulling from GBIF API with species key: 5233631\n",
      "Pulling from GBIF API with species key: 11764723\n",
      "Pulling from GBIF API with species key: 12215513\n",
      "Pulling from GBIF API with species key: 2283442\n",
      "Pulling from GBIF API with species key: 2506022\n",
      "Pulling from GBIF API with species key: 2506045\n",
      "Pulling from GBIF API with species key: 4413528\n",
      "Pulling from GBIF API with species key: 4595363\n",
      "Pulling from GBIF API with species key: 4595365\n",
      "Pulling from GBIF API with species key: 9401816\n",
      "Pulling from GBIF API with species key: 9659607\n",
      "Pulling from GBIF API with species key: 1077130\n",
      "Pulling from GBIF API with species key: 11115896\n",
      "Pulling from GBIF API with species key: 11645439\n",
      "Pulling from GBIF API with species key: 11674622\n",
      "Pulling from GBIF API with species key: 11699867\n",
      "Pulling from GBIF API with species key: 11910291\n",
      "Pulling from GBIF API with species key: 1573482\n",
      "Pulling from GBIF API with species key: 2283562\n",
      "Pulling from GBIF API with species key: 2455654\n",
      "Pulling from GBIF API with species key: 2457522\n",
      "Pulling from GBIF API with species key: 2504009\n",
      "Pulling from GBIF API with species key: 4414998\n",
      "Pulling from GBIF API with species key: 4557666\n",
      "Pulling from GBIF API with species key: 5224480\n",
      "Pulling from GBIF API with species key: 6101576\n",
      "Pulling from GBIF API with species key: 6161776\n",
      "Pulling from GBIF API with species key: 6475141\n",
      "Pulling from GBIF API with species key: 8691973\n",
      "Pulling from GBIF API with species key: 9078997\n"
     ]
    },
    {
     "name": "stderr",
     "output_type": "stream",
     "text": [
      "  6%|▌         | 70/1215 [01:33<2:37:43,  8.26s/it]"
     ]
    },
    {
     "name": "stdout",
     "output_type": "stream",
     "text": [
      "Pulling from GBIF API with species key: 9768491\n",
      "Pulling from GBIF API with species key: 1553596\n"
     ]
    },
    {
     "name": "stderr",
     "output_type": "stream",
     "text": [
      "  6%|▌         | 71/1215 [01:34<1:56:28,  6.11s/it]"
     ]
    },
    {
     "name": "stdout",
     "output_type": "stream",
     "text": [
      "Pulling from GBIF API with species key: 2102886\n"
     ]
    },
    {
     "name": "stderr",
     "output_type": "stream",
     "text": [
      "  6%|▌         | 72/1215 [01:34<1:25:57,  4.51s/it]"
     ]
    },
    {
     "name": "stdout",
     "output_type": "stream",
     "text": [
      "Failed: Returned status code of 204, with message: <Response [204]>\n",
      "Error querying GBIF for image tile_51.451889367221064_-0.10264015495487333.jpg at coords ('51.451889367221064', '-0.10264015495487333'): 'NoneType' object has no attribute 'get'\n",
      "No GBIF data found for image: tile_51.451889367221064_-0.10264015495487333.jpg at coords: ('51.451889367221064', '-0.10264015495487333')\n"
     ]
    },
    {
     "name": "stderr",
     "output_type": "stream",
     "text": [
      "  6%|▌         | 73/1215 [01:35<1:04:22,  3.38s/it]"
     ]
    },
    {
     "name": "stdout",
     "output_type": "stream",
     "text": [
      "Pulling from GBIF API with species key: 7615221\n",
      "Pulling from GBIF API with species key: 2219218\n"
     ]
    },
    {
     "name": "stderr",
     "output_type": "stream",
     "text": [
      "  6%|▌         | 74/1215 [01:36<50:53,  2.68s/it]  "
     ]
    },
    {
     "name": "stdout",
     "output_type": "stream",
     "text": [
      "Pulling from GBIF API with species key: 2219226\n"
     ]
    },
    {
     "name": "stderr",
     "output_type": "stream",
     "text": [
      "  6%|▌         | 75/1215 [01:37<38:08,  2.01s/it]"
     ]
    },
    {
     "name": "stdout",
     "output_type": "stream",
     "text": [
      "Pulling from GBIF API with species key: 4426506\n",
      "Pulling from GBIF API with species key: 4458779\n",
      "Pulling from GBIF API with species key: 1194823\n",
      "Pulling from GBIF API with species key: 4460778\n",
      "Pulling from GBIF API with species key: 6962435\n",
      "Pulling from GBIF API with species key: 1219121\n",
      "Pulling from GBIF API with species key: 1264929\n",
      "Pulling from GBIF API with species key: 10137552\n",
      "Pulling from GBIF API with species key: 1095639\n",
      "Pulling from GBIF API with species key: 2037991\n",
      "Pulling from GBIF API with species key: 5875994\n",
      "Pulling from GBIF API with species key: 1185290\n",
      "Pulling from GBIF API with species key: 1277120\n",
      "Pulling from GBIF API with species key: 1043616\n",
      "Pulling from GBIF API with species key: 1165549\n",
      "Pulling from GBIF API with species key: 1276685\n",
      "Pulling from GBIF API with species key: 1309635\n",
      "Pulling from GBIF API with species key: 2047706\n",
      "Pulling from GBIF API with species key: 4468665\n",
      "Pulling from GBIF API with species key: 5023730\n",
      "Pulling from GBIF API with species key: 5759913\n",
      "Pulling from GBIF API with species key: 9805941\n",
      "Pulling from GBIF API with species key: 10150194\n",
      "Pulling from GBIF API with species key: 1043326\n",
      "Pulling from GBIF API with species key: 1176504\n",
      "Pulling from GBIF API with species key: 1265418\n",
      "Pulling from GBIF API with species key: 1274911\n",
      "Pulling from GBIF API with species key: 1290887\n",
      "Pulling from GBIF API with species key: 1292329\n",
      "Pulling from GBIF API with species key: 1601933\n",
      "Pulling from GBIF API with species key: 1744860\n",
      "Pulling from GBIF API with species key: 1873904\n",
      "Pulling from GBIF API with species key: 2008616\n",
      "Pulling from GBIF API with species key: 2012934\n",
      "Pulling from GBIF API with species key: 2029493\n",
      "Pulling from GBIF API with species key: 2036052\n",
      "Pulling from GBIF API with species key: 2072955\n",
      "Pulling from GBIF API with species key: 2073585\n",
      "Pulling from GBIF API with species key: 2105632\n",
      "Pulling from GBIF API with species key: 4491747\n",
      "Pulling from GBIF API with species key: 5876004\n",
      "Pulling from GBIF API with species key: 6096923\n",
      "Pulling from GBIF API with species key: 8284026\n",
      "Pulling from GBIF API with species key: 9453130\n",
      "Pulling from GBIF API with species key: 9723498\n",
      "Pulling from GBIF API with species key: 10068472\n",
      "Pulling from GBIF API with species key: 1095855\n",
      "Pulling from GBIF API with species key: 1095863\n",
      "Pulling from GBIF API with species key: 1167007\n",
      "Pulling from GBIF API with species key: 11910449\n",
      "Pulling from GBIF API with species key: 12386328\n",
      "Pulling from GBIF API with species key: 1255314\n",
      "Pulling from GBIF API with species key: 1259056\n",
      "Pulling from GBIF API with species key: 1259200\n",
      "Pulling from GBIF API with species key: 1259220\n",
      "Pulling from GBIF API with species key: 1266104\n",
      "Pulling from GBIF API with species key: 1266153\n",
      "Pulling from GBIF API with species key: 1275289\n",
      "Pulling from GBIF API with species key: 1276976\n",
      "Pulling from GBIF API with species key: 1290306\n",
      "Pulling from GBIF API with species key: 1301720\n",
      "Pulling from GBIF API with species key: 1301959\n",
      "Pulling from GBIF API with species key: 1306210\n",
      "Pulling from GBIF API with species key: 1307826\n",
      "Pulling from GBIF API with species key: 1308945\n",
      "Pulling from GBIF API with species key: 1379313\n",
      "Pulling from GBIF API with species key: 1394953\n",
      "Pulling from GBIF API with species key: 1395566\n",
      "Pulling from GBIF API with species key: 1481848\n",
      "Pulling from GBIF API with species key: 1554867\n",
      "Pulling from GBIF API with species key: 1785887\n",
      "Pulling from GBIF API with species key: 1798802\n",
      "Pulling from GBIF API with species key: 1829363\n",
      "Pulling from GBIF API with species key: 1873919\n",
      "Pulling from GBIF API with species key: 2013063\n",
      "Pulling from GBIF API with species key: 2028264\n",
      "Pulling from GBIF API with species key: 2039237\n",
      "Pulling from GBIF API with species key: 2148040\n",
      "Pulling from GBIF API with species key: 4427283\n",
      "Pulling from GBIF API with species key: 4449934\n",
      "Pulling from GBIF API with species key: 4450809\n",
      "Pulling from GBIF API with species key: 4463161\n",
      "Pulling from GBIF API with species key: 4484047\n",
      "Pulling from GBIF API with species key: 4486575\n",
      "Pulling from GBIF API with species key: 4492336\n",
      "Pulling from GBIF API with species key: 4492446\n",
      "Pulling from GBIF API with species key: 4518780\n",
      "Pulling from GBIF API with species key: 4529738\n",
      "Pulling from GBIF API with species key: 4536109\n",
      "Pulling from GBIF API with species key: 4540860\n",
      "Pulling from GBIF API with species key: 5043180\n",
      "Pulling from GBIF API with species key: 5147150\n",
      "Pulling from GBIF API with species key: 5749732\n",
      "Pulling from GBIF API with species key: 5759923\n",
      "Pulling from GBIF API with species key: 6097083\n",
      "Pulling from GBIF API with species key: 6872456\n",
      "Pulling from GBIF API with species key: 7749219\n",
      "Pulling from GBIF API with species key: 8020970\n"
     ]
    },
    {
     "name": "stderr",
     "output_type": "stream",
     "text": [
      "  6%|▋         | 76/1215 [02:08<3:24:00, 10.75s/it]"
     ]
    },
    {
     "name": "stdout",
     "output_type": "stream",
     "text": [
      "Pulling from GBIF API with species key: 9234296\n",
      "Pulling from GBIF API with species key: 1639169\n",
      "Pulling from GBIF API with species key: 2308364\n",
      "Pulling from GBIF API with species key: 4812535\n",
      "Pulling from GBIF API with species key: 5873220\n"
     ]
    },
    {
     "name": "stderr",
     "output_type": "stream",
     "text": [
      "  6%|▋         | 77/1215 [02:10<2:33:22,  8.09s/it]"
     ]
    },
    {
     "name": "stdout",
     "output_type": "stream",
     "text": [
      "Pulling from GBIF API with species key: 7724111\n",
      "Pulling from GBIF API with species key: 4308899\n",
      "Pulling from GBIF API with species key: 4447958\n",
      "Pulling from GBIF API with species key: 6097387\n",
      "Pulling from GBIF API with species key: 4338242\n",
      "Pulling from GBIF API with species key: 4433947\n",
      "Pulling from GBIF API with species key: 5871110\n",
      "Pulling from GBIF API with species key: 1608900\n",
      "Pulling from GBIF API with species key: 2297460\n",
      "Pulling from GBIF API with species key: 4308858\n",
      "Pulling from GBIF API with species key: 4485450\n",
      "Pulling from GBIF API with species key: 4486577\n",
      "Pulling from GBIF API with species key: 5077128\n",
      "Pulling from GBIF API with species key: 5168408\n",
      "Pulling from GBIF API with species key: 5745349\n",
      "Pulling from GBIF API with species key: 7406286\n",
      "Pulling from GBIF API with species key: 1224109\n",
      "Pulling from GBIF API with species key: 1473183\n",
      "Pulling from GBIF API with species key: 1562186\n",
      "Pulling from GBIF API with species key: 1738463\n",
      "Pulling from GBIF API with species key: 1796183\n",
      "Pulling from GBIF API with species key: 1830408\n",
      "Pulling from GBIF API with species key: 1846683\n",
      "Pulling from GBIF API with species key: 1849856\n",
      "Pulling from GBIF API with species key: 1883161\n",
      "Pulling from GBIF API with species key: 2011094\n",
      "Pulling from GBIF API with species key: 2039993\n",
      "Pulling from GBIF API with species key: 2042185\n",
      "Pulling from GBIF API with species key: 2135360\n",
      "Pulling from GBIF API with species key: 2286995\n",
      "Pulling from GBIF API with species key: 2308668\n",
      "Pulling from GBIF API with species key: 2308676\n",
      "Pulling from GBIF API with species key: 4433894\n",
      "Pulling from GBIF API with species key: 4433931\n",
      "Pulling from GBIF API with species key: 4439752\n",
      "Pulling from GBIF API with species key: 4451519\n",
      "Pulling from GBIF API with species key: 4475179\n",
      "Pulling from GBIF API with species key: 4486556\n",
      "Pulling from GBIF API with species key: 4494428\n",
      "Pulling from GBIF API with species key: 4518711\n",
      "Pulling from GBIF API with species key: 4519029\n",
      "Pulling from GBIF API with species key: 5018848\n",
      "Pulling from GBIF API with species key: 5059602\n",
      "Pulling from GBIF API with species key: 5077145\n"
     ]
    },
    {
     "name": "stderr",
     "output_type": "stream",
     "text": [
      "  6%|▋         | 78/1215 [02:23<3:01:38,  9.59s/it]"
     ]
    },
    {
     "name": "stdout",
     "output_type": "stream",
     "text": [
      "Pulling from GBIF API with species key: 5220081\n",
      "Pulling from GBIF API with species key: 2072311\n",
      "Pulling from GBIF API with species key: 1528705\n",
      "Pulling from GBIF API with species key: 1528647\n",
      "Pulling from GBIF API with species key: 1095973\n",
      "Pulling from GBIF API with species key: 1354656\n",
      "Pulling from GBIF API with species key: 2305073\n",
      "Pulling from GBIF API with species key: 4525438\n",
      "Pulling from GBIF API with species key: 4567182\n",
      "Pulling from GBIF API with species key: 5153082\n",
      "Pulling from GBIF API with species key: 5189032\n",
      "Pulling from GBIF API with species key: 1095977\n",
      "Pulling from GBIF API with species key: 1617875\n",
      "Pulling from GBIF API with species key: 1851337\n",
      "Pulling from GBIF API with species key: 5068288\n",
      "Pulling from GBIF API with species key: 6997654\n",
      "Pulling from GBIF API with species key: 1013610\n",
      "Pulling from GBIF API with species key: 1095971\n",
      "Pulling from GBIF API with species key: 1095975\n",
      "Pulling from GBIF API with species key: 1326634\n",
      "Pulling from GBIF API with species key: 1480975\n",
      "Pulling from GBIF API with species key: 1555136\n",
      "Pulling from GBIF API with species key: 1557100\n",
      "Pulling from GBIF API with species key: 1570516\n",
      "Pulling from GBIF API with species key: 1594828\n",
      "Pulling from GBIF API with species key: 2075889\n",
      "Pulling from GBIF API with species key: 2173232\n",
      "Pulling from GBIF API with species key: 2286583\n",
      "Pulling from GBIF API with species key: 2350050\n",
      "Pulling from GBIF API with species key: 5068885\n"
     ]
    },
    {
     "name": "stderr",
     "output_type": "stream",
     "text": [
      "  7%|▋         | 79/1215 [02:32<2:58:54,  9.45s/it]"
     ]
    },
    {
     "name": "stdout",
     "output_type": "stream",
     "text": [
      "Pulling from GBIF API with species key: 5089497\n",
      "Pulling from GBIF API with species key: 1433235\n",
      "Pulling from GBIF API with species key: 1448041\n",
      "Pulling from GBIF API with species key: 4291970\n"
     ]
    },
    {
     "name": "stderr",
     "output_type": "stream",
     "text": [
      "  7%|▋         | 80/1215 [02:33<2:13:52,  7.08s/it]"
     ]
    },
    {
     "name": "stdout",
     "output_type": "stream",
     "text": [
      "Pulling from GBIF API with species key: 4469845\n",
      "Pulling from GBIF API with species key: 1673849\n",
      "Pulling from GBIF API with species key: 1675832\n",
      "Pulling from GBIF API with species key: 9764668\n",
      "Pulling from GBIF API with species key: 1457454\n",
      "Pulling from GBIF API with species key: 1457626\n",
      "Pulling from GBIF API with species key: 1458009\n",
      "Pulling from GBIF API with species key: 1534410\n",
      "Pulling from GBIF API with species key: 1534412\n",
      "Pulling from GBIF API with species key: 1674075\n",
      "Pulling from GBIF API with species key: 1676128\n",
      "Pulling from GBIF API with species key: 1692898\n",
      "Pulling from GBIF API with species key: 2059793\n",
      "Pulling from GBIF API with species key: 2101719\n",
      "Pulling from GBIF API with species key: 2337607\n",
      "Pulling from GBIF API with species key: 4306872\n",
      "Pulling from GBIF API with species key: 4463707\n",
      "Pulling from GBIF API with species key: 4487215\n"
     ]
    },
    {
     "name": "stderr",
     "output_type": "stream",
     "text": [
      "  7%|▋         | 81/1215 [02:39<2:05:11,  6.62s/it]"
     ]
    },
    {
     "name": "stdout",
     "output_type": "stream",
     "text": [
      "Pulling from GBIF API with species key: 4489108\n"
     ]
    },
    {
     "name": "stderr",
     "output_type": "stream",
     "text": [
      "  7%|▋         | 82/1215 [02:40<1:31:54,  4.87s/it]"
     ]
    },
    {
     "name": "stdout",
     "output_type": "stream",
     "text": [
      "Pulling from GBIF API with species key: 4433621\n",
      "Pulling from GBIF API with species key: 4559985\n",
      "Pulling from GBIF API with species key: 5749156\n",
      "Pulling from GBIF API with species key: 1624274\n",
      "Pulling from GBIF API with species key: 4308789\n",
      "Pulling from GBIF API with species key: 6097897\n",
      "Pulling from GBIF API with species key: 4473101\n",
      "Pulling from GBIF API with species key: 7909042\n",
      "Pulling from GBIF API with species key: 1336138\n",
      "Pulling from GBIF API with species key: 1338677\n",
      "Pulling from GBIF API with species key: 1464816\n",
      "Pulling from GBIF API with species key: 1467051\n",
      "Pulling from GBIF API with species key: 1477235\n",
      "Pulling from GBIF API with species key: 1495615\n",
      "Pulling from GBIF API with species key: 1542830\n",
      "Pulling from GBIF API with species key: 1578742\n",
      "Pulling from GBIF API with species key: 1580585\n",
      "Pulling from GBIF API with species key: 1602437\n",
      "Pulling from GBIF API with species key: 1673999\n",
      "Pulling from GBIF API with species key: 1749282\n",
      "Pulling from GBIF API with species key: 1850506\n",
      "Pulling from GBIF API with species key: 1875896\n",
      "Pulling from GBIF API with species key: 1939879\n",
      "Pulling from GBIF API with species key: 2009127\n",
      "Pulling from GBIF API with species key: 2010036\n",
      "Pulling from GBIF API with species key: 2026086\n",
      "Pulling from GBIF API with species key: 2026935\n",
      "Pulling from GBIF API with species key: 2027009\n",
      "Pulling from GBIF API with species key: 2039963\n",
      "Pulling from GBIF API with species key: 2046700\n",
      "Pulling from GBIF API with species key: 2120177\n",
      "Pulling from GBIF API with species key: 2120372\n",
      "Pulling from GBIF API with species key: 2120946\n",
      "Pulling from GBIF API with species key: 2120948\n",
      "Pulling from GBIF API with species key: 2121952\n",
      "Pulling from GBIF API with species key: 2135658\n",
      "Pulling from GBIF API with species key: 2138060\n",
      "Pulling from GBIF API with species key: 2140933\n",
      "Pulling from GBIF API with species key: 2144211\n",
      "Pulling from GBIF API with species key: 2144644\n",
      "Pulling from GBIF API with species key: 2147916\n",
      "Pulling from GBIF API with species key: 2148022\n",
      "Pulling from GBIF API with species key: 2158075\n",
      "Pulling from GBIF API with species key: 2235058\n",
      "Pulling from GBIF API with species key: 2297229\n",
      "Pulling from GBIF API with species key: 2432582\n",
      "Pulling from GBIF API with species key: 4308830\n",
      "Pulling from GBIF API with species key: 4433870\n",
      "Pulling from GBIF API with species key: 4436880\n",
      "Pulling from GBIF API with species key: 4437027\n",
      "Pulling from GBIF API with species key: 4450710\n",
      "Pulling from GBIF API with species key: 4452678\n",
      "Pulling from GBIF API with species key: 4462755\n",
      "Pulling from GBIF API with species key: 4475213\n",
      "Pulling from GBIF API with species key: 4485406\n",
      "Pulling from GBIF API with species key: 4489285\n",
      "Pulling from GBIF API with species key: 4494257\n",
      "Pulling from GBIF API with species key: 4525266\n",
      "Pulling from GBIF API with species key: 4537215\n",
      "Pulling from GBIF API with species key: 4538787\n",
      "Pulling from GBIF API with species key: 4539364\n",
      "Pulling from GBIF API with species key: 5076836\n",
      "Pulling from GBIF API with species key: 5083497\n",
      "Pulling from GBIF API with species key: 5167154\n",
      "Pulling from GBIF API with species key: 5175631\n",
      "Pulling from GBIF API with species key: 5749224\n",
      "Pulling from GBIF API with species key: 5755043\n",
      "Pulling from GBIF API with species key: 6943177\n",
      "Pulling from GBIF API with species key: 8302267\n",
      "Pulling from GBIF API with species key: 8583563\n"
     ]
    },
    {
     "name": "stderr",
     "output_type": "stream",
     "text": [
      "  7%|▋         | 83/1215 [03:00<2:57:00,  9.38s/it]"
     ]
    },
    {
     "name": "stdout",
     "output_type": "stream",
     "text": [
      "Pulling from GBIF API with species key: 8616087\n"
     ]
    },
    {
     "name": "stderr",
     "output_type": "stream",
     "text": [
      "  7%|▋         | 84/1215 [03:00<2:06:17,  6.70s/it]"
     ]
    },
    {
     "name": "stdout",
     "output_type": "stream",
     "text": [
      "Pulling from GBIF API with species key: 4524393\n",
      "Pulling from GBIF API with species key: 2279598\n"
     ]
    },
    {
     "name": "stderr",
     "output_type": "stream",
     "text": [
      "  7%|▋         | 85/1215 [03:01<1:35:47,  5.09s/it]"
     ]
    },
    {
     "name": "stdout",
     "output_type": "stream",
     "text": [
      "Failed: Returned status code of 204, with message: <Response [204]>\n",
      "Error querying GBIF for image tile_51.41134882668052_-0.037695054763401445.jpg at coords ('51.41134882668052', '-0.037695054763401445'): 'NoneType' object has no attribute 'get'\n",
      "No GBIF data found for image: tile_51.41134882668052_-0.037695054763401445.jpg at coords: ('51.41134882668052', '-0.037695054763401445')\n",
      "Pulling from GBIF API with species key: 2482077\n"
     ]
    },
    {
     "name": "stderr",
     "output_type": "stream",
     "text": [
      "  7%|▋         | 86/1215 [03:02<1:12:40,  3.86s/it]"
     ]
    },
    {
     "name": "stdout",
     "output_type": "stream",
     "text": [
      "Pulling from GBIF API with species key: 2127412\n",
      "Pulling from GBIF API with species key: 1424076\n",
      "Pulling from GBIF API with species key: 1467408\n",
      "Pulling from GBIF API with species key: 2020818\n",
      "Pulling from GBIF API with species key: 4486258\n",
      "Pulling from GBIF API with species key: 5068984\n"
     ]
    },
    {
     "name": "stderr",
     "output_type": "stream",
     "text": [
      "  7%|▋         | 87/1215 [03:05<1:02:47,  3.34s/it]"
     ]
    },
    {
     "name": "stdout",
     "output_type": "stream",
     "text": [
      "Pulling from GBIF API with species key: 9416034\n",
      "Pulling from GBIF API with species key: 2437450\n"
     ]
    },
    {
     "name": "stderr",
     "output_type": "stream",
     "text": [
      "  7%|▋         | 88/1215 [03:06<49:33,  2.64s/it]  "
     ]
    },
    {
     "name": "stdout",
     "output_type": "stream",
     "text": [
      "Pulling from GBIF API with species key: 4516056\n"
     ]
    },
    {
     "name": "stderr",
     "output_type": "stream",
     "text": [
      "  7%|▋         | 89/1215 [03:06<37:02,  1.97s/it]"
     ]
    },
    {
     "name": "stdout",
     "output_type": "stream",
     "text": [
      "Pulling from GBIF API with species key: 10891707\n"
     ]
    },
    {
     "name": "stderr",
     "output_type": "stream",
     "text": [
      "  7%|▋         | 90/1215 [03:07<31:43,  1.69s/it]"
     ]
    },
    {
     "name": "stdout",
     "output_type": "stream",
     "text": [
      "Pulling from GBIF API with species key: 1295815\n",
      "Pulling from GBIF API with species key: 4496017\n",
      "Pulling from GBIF API with species key: 1194989\n",
      "Pulling from GBIF API with species key: 1343808\n",
      "Pulling from GBIF API with species key: 1461104\n",
      "Pulling from GBIF API with species key: 1731598\n",
      "Pulling from GBIF API with species key: 5058094\n"
     ]
    },
    {
     "name": "stderr",
     "output_type": "stream",
     "text": [
      "  7%|▋         | 91/1215 [03:09<35:18,  1.88s/it]"
     ]
    },
    {
     "name": "stdout",
     "output_type": "stream",
     "text": [
      "Pulling from GBIF API with species key: 6913588\n",
      "Pulling from GBIF API with species key: 1982526\n"
     ]
    },
    {
     "name": "stderr",
     "output_type": "stream",
     "text": [
      "  8%|▊         | 92/1215 [03:10<30:42,  1.64s/it]"
     ]
    },
    {
     "name": "stdout",
     "output_type": "stream",
     "text": [
      "Failed: Returned status code of 204, with message: <Response [204]>\n",
      "Error querying GBIF for image tile_51.34378125911296_0.09219514561954233.jpg at coords ('51.34378125911296', '0.09219514561954233'): 'NoneType' object has no attribute 'get'\n",
      "No GBIF data found for image: tile_51.34378125911296_0.09219514561954233.jpg at coords: ('51.34378125911296', '0.09219514561954233')\n"
     ]
    },
    {
     "name": "stderr",
     "output_type": "stream",
     "text": [
      "  8%|▊         | 93/1215 [03:11<25:31,  1.37s/it]"
     ]
    },
    {
     "name": "stdout",
     "output_type": "stream",
     "text": [
      "Pulling from GBIF API with species key: 2296805\n"
     ]
    },
    {
     "name": "stderr",
     "output_type": "stream",
     "text": [
      "  8%|▊         | 94/1215 [03:12<22:25,  1.20s/it]"
     ]
    },
    {
     "name": "stdout",
     "output_type": "stream",
     "text": [
      "Pulling from GBIF API with species key: 2151391\n",
      "Pulling from GBIF API with species key: 2481163\n",
      "Pulling from GBIF API with species key: 1508787\n",
      "Pulling from GBIF API with species key: 1762244\n",
      "Pulling from GBIF API with species key: 4434097\n",
      "Pulling from GBIF API with species key: 4480271\n",
      "Pulling from GBIF API with species key: 4308805\n",
      "Pulling from GBIF API with species key: 4450451\n",
      "Pulling from GBIF API with species key: 5220086\n",
      "Pulling from GBIF API with species key: 5755066\n",
      "Pulling from GBIF API with species key: 8019310\n",
      "Pulling from GBIF API with species key: 9741766\n",
      "Pulling from GBIF API with species key: 4519171\n",
      "Pulling from GBIF API with species key: 5121287\n",
      "Pulling from GBIF API with species key: 5156064\n",
      "Pulling from GBIF API with species key: 1036066\n",
      "Pulling from GBIF API with species key: 1462994\n",
      "Pulling from GBIF API with species key: 1477289\n",
      "Pulling from GBIF API with species key: 2156124\n",
      "Pulling from GBIF API with species key: 2166751\n",
      "Pulling from GBIF API with species key: 2481721\n",
      "Pulling from GBIF API with species key: 4441589\n",
      "Pulling from GBIF API with species key: 5103443\n",
      "Pulling from GBIF API with species key: 5716406\n"
     ]
    },
    {
     "name": "stderr",
     "output_type": "stream",
     "text": [
      "  8%|▊         | 95/1215 [03:19<55:56,  3.00s/it]"
     ]
    },
    {
     "name": "stdout",
     "output_type": "stream",
     "text": [
      "Pulling from GBIF API with species key: 6065844\n"
     ]
    },
    {
     "name": "stderr",
     "output_type": "stream",
     "text": [
      "  8%|▊         | 96/1215 [03:21<47:46,  2.56s/it]"
     ]
    },
    {
     "name": "stdout",
     "output_type": "stream",
     "text": [
      "Pulling from GBIF API with species key: 4433229\n",
      "Pulling from GBIF API with species key: 1309561\n",
      "Pulling from GBIF API with species key: 1461502\n",
      "Pulling from GBIF API with species key: 5081334\n",
      "Pulling from GBIF API with species key: 1031653\n",
      "Pulling from GBIF API with species key: 1308277\n",
      "Pulling from GBIF API with species key: 1860765\n",
      "Pulling from GBIF API with species key: 2013576\n",
      "Pulling from GBIF API with species key: 2074930\n",
      "Pulling from GBIF API with species key: 4494007\n",
      "Pulling from GBIF API with species key: 4989649\n",
      "Pulling from GBIF API with species key: 5178595\n",
      "Pulling from GBIF API with species key: 5759067\n"
     ]
    },
    {
     "name": "stderr",
     "output_type": "stream",
     "text": [
      "  8%|▊         | 97/1215 [03:33<1:41:35,  5.45s/it]"
     ]
    },
    {
     "name": "stdout",
     "output_type": "stream",
     "text": [
      "Pulling from GBIF API with species key: 6097422\n",
      "Pulling from GBIF API with species key: 2072257\n",
      "Pulling from GBIF API with species key: 2076248\n",
      "Pulling from GBIF API with species key: 5073802\n",
      "Pulling from GBIF API with species key: 7553038\n",
      "Pulling from GBIF API with species key: 1045119\n",
      "Pulling from GBIF API with species key: 2091932\n",
      "Pulling from GBIF API with species key: 2149679\n",
      "Pulling from GBIF API with species key: 4487370\n",
      "Pulling from GBIF API with species key: 5094819\n",
      "Pulling from GBIF API with species key: 7446310\n"
     ]
    },
    {
     "name": "stderr",
     "output_type": "stream",
     "text": [
      "  8%|▊         | 98/1215 [03:37<1:31:34,  4.92s/it]"
     ]
    },
    {
     "name": "stdout",
     "output_type": "stream",
     "text": [
      "Pulling from GBIF API with species key: 8052025\n"
     ]
    },
    {
     "name": "stderr",
     "output_type": "stream",
     "text": [
      "  8%|▊         | 99/1215 [03:37<1:08:12,  3.67s/it]"
     ]
    },
    {
     "name": "stdout",
     "output_type": "stream",
     "text": [
      "Pulling from GBIF API with species key: 5058835\n"
     ]
    },
    {
     "name": "stderr",
     "output_type": "stream",
     "text": [
      "  8%|▊         | 100/1215 [03:38<51:48,  2.79s/it] "
     ]
    },
    {
     "name": "stdout",
     "output_type": "stream",
     "text": [
      "Pulling from GBIF API with species key: 2316069\n"
     ]
    },
    {
     "name": "stderr",
     "output_type": "stream",
     "text": [
      "  8%|▊         | 102/1215 [03:39<29:40,  1.60s/it]"
     ]
    },
    {
     "name": "stdout",
     "output_type": "stream",
     "text": [
      "Pulling from GBIF API with species key: 1506624\n"
     ]
    },
    {
     "name": "stderr",
     "output_type": "stream",
     "text": [
      "  8%|▊         | 103/1215 [03:40<26:58,  1.46s/it]"
     ]
    },
    {
     "name": "stdout",
     "output_type": "stream",
     "text": [
      "Failed: Returned status code of 204, with message: <Response [204]>\n",
      "Error querying GBIF for image tile_51.735673151004846_-0.05934342149389207.jpg at coords ('51.735673151004846', '-0.05934342149389207'): 'NoneType' object has no attribute 'get'\n",
      "No GBIF data found for image: tile_51.735673151004846_-0.05934342149389207.jpg at coords: ('51.735673151004846', '-0.05934342149389207')\n",
      "Pulling from GBIF API with species key: 1741756\n"
     ]
    },
    {
     "name": "stderr",
     "output_type": "stream",
     "text": [
      "  9%|▊         | 104/1215 [03:41<24:49,  1.34s/it]"
     ]
    },
    {
     "name": "stdout",
     "output_type": "stream",
     "text": [
      "Pulling from GBIF API with species key: 7753668\n"
     ]
    },
    {
     "name": "stderr",
     "output_type": "stream",
     "text": [
      "  9%|▊         | 105/1215 [03:42<21:57,  1.19s/it]"
     ]
    },
    {
     "name": "stdout",
     "output_type": "stream",
     "text": [
      "Pulling from GBIF API with species key: 8909595\n"
     ]
    },
    {
     "name": "stderr",
     "output_type": "stream",
     "text": [
      "  9%|▉         | 107/1215 [03:43<14:21,  1.29it/s]"
     ]
    },
    {
     "name": "stdout",
     "output_type": "stream",
     "text": [
      "Pulling from GBIF API with species key: 1899433\n"
     ]
    },
    {
     "name": "stderr",
     "output_type": "stream",
     "text": [
      "  9%|▉         | 108/1215 [03:44<15:32,  1.19it/s]"
     ]
    },
    {
     "name": "stdout",
     "output_type": "stream",
     "text": [
      "Pulling from GBIF API with species key: 5058178\n",
      "Pulling from GBIF API with species key: 2151931\n",
      "Pulling from GBIF API with species key: 2135694\n",
      "Pulling from GBIF API with species key: 4421212\n"
     ]
    },
    {
     "name": "stderr",
     "output_type": "stream",
     "text": [
      "  9%|▉         | 109/1215 [03:45<19:23,  1.05s/it]"
     ]
    },
    {
     "name": "stdout",
     "output_type": "stream",
     "text": [
      "Pulling from GBIF API with species key: 5180055\n",
      "Pulling from GBIF API with species key: 1555121\n",
      "Pulling from GBIF API with species key: 1582354\n"
     ]
    },
    {
     "name": "stderr",
     "output_type": "stream",
     "text": [
      "  9%|▉         | 110/1215 [03:47<21:19,  1.16s/it]"
     ]
    },
    {
     "name": "stdout",
     "output_type": "stream",
     "text": [
      "Pulling from GBIF API with species key: 4543767\n"
     ]
    },
    {
     "name": "stderr",
     "output_type": "stream",
     "text": [
      "  9%|▉         | 111/1215 [03:47<17:35,  1.05it/s]"
     ]
    },
    {
     "name": "stdout",
     "output_type": "stream",
     "text": [
      "Pulling from GBIF API with species key: 2135746\n",
      "Pulling from GBIF API with species key: 2137871\n"
     ]
    },
    {
     "name": "stderr",
     "output_type": "stream",
     "text": [
      "  9%|▉         | 112/1215 [03:49<21:17,  1.16s/it]"
     ]
    },
    {
     "name": "stdout",
     "output_type": "stream",
     "text": [
      "Pulling from GBIF API with species key: 2162903\n",
      "Pulling from GBIF API with species key: 1402579\n"
     ]
    },
    {
     "name": "stderr",
     "output_type": "stream",
     "text": [
      "  9%|▉         | 113/1215 [03:50<20:45,  1.13s/it]"
     ]
    },
    {
     "name": "stdout",
     "output_type": "stream",
     "text": [
      "Pulling from GBIF API with species key: 2373980\n",
      "Pulling from GBIF API with species key: 1595225\n",
      "Pulling from GBIF API with species key: 1391525\n",
      "Pulling from GBIF API with species key: 1477635\n",
      "Pulling from GBIF API with species key: 1551397\n",
      "Pulling from GBIF API with species key: 1551868\n",
      "Pulling from GBIF API with species key: 1576414\n",
      "Pulling from GBIF API with species key: 1595495\n",
      "Pulling from GBIF API with species key: 1829588\n",
      "Pulling from GBIF API with species key: 1859305\n",
      "Pulling from GBIF API with species key: 1877988\n",
      "Pulling from GBIF API with species key: 2055904\n",
      "Pulling from GBIF API with species key: 2128495\n",
      "Pulling from GBIF API with species key: 4482929\n",
      "Pulling from GBIF API with species key: 4491472\n",
      "Pulling from GBIF API with species key: 4517534\n",
      "Pulling from GBIF API with species key: 5984735\n",
      "Pulling from GBIF API with species key: 5985045\n"
     ]
    },
    {
     "name": "stderr",
     "output_type": "stream",
     "text": [
      "  9%|▉         | 114/1215 [03:56<45:32,  2.48s/it]"
     ]
    },
    {
     "name": "stdout",
     "output_type": "stream",
     "text": [
      "Pulling from GBIF API with species key: 9153200\n",
      "Pulling from GBIF API with species key: 1378338\n",
      "Pulling from GBIF API with species key: 1380618\n",
      "Pulling from GBIF API with species key: 1434133\n"
     ]
    },
    {
     "name": "stderr",
     "output_type": "stream",
     "text": [
      "  9%|▉         | 115/1215 [03:57<40:31,  2.21s/it]"
     ]
    },
    {
     "name": "stdout",
     "output_type": "stream",
     "text": [
      "Pulling from GBIF API with species key: 4486717\n"
     ]
    },
    {
     "name": "stderr",
     "output_type": "stream",
     "text": [
      " 10%|▉         | 116/1215 [03:58<31:00,  1.69s/it]"
     ]
    },
    {
     "name": "stdout",
     "output_type": "stream",
     "text": [
      "Pulling from GBIF API with species key: 5073476\n",
      "Pulling from GBIF API with species key: 4308786\n",
      "Pulling from GBIF API with species key: 4391856\n",
      "Pulling from GBIF API with species key: 4435795\n",
      "Pulling from GBIF API with species key: 4515145\n",
      "Pulling from GBIF API with species key: 5121021\n"
     ]
    },
    {
     "name": "stderr",
     "output_type": "stream",
     "text": [
      " 10%|▉         | 117/1215 [04:00<34:51,  1.90s/it]"
     ]
    },
    {
     "name": "stdout",
     "output_type": "stream",
     "text": [
      "Pulling from GBIF API with species key: 6097624\n",
      "Pulling from GBIF API with species key: 1249670\n",
      "Pulling from GBIF API with species key: 1351330\n",
      "Pulling from GBIF API with species key: 1505960\n",
      "Pulling from GBIF API with species key: 2071728\n",
      "Pulling from GBIF API with species key: 2074498\n",
      "Pulling from GBIF API with species key: 4432608\n",
      "Pulling from GBIF API with species key: 4487514\n",
      "Pulling from GBIF API with species key: 5037386\n",
      "Pulling from GBIF API with species key: 5102497\n",
      "Pulling from GBIF API with species key: 5870014\n",
      "Pulling from GBIF API with species key: 7832895\n"
     ]
    },
    {
     "name": "stderr",
     "output_type": "stream",
     "text": [
      " 10%|▉         | 118/1215 [04:04<46:15,  2.53s/it]"
     ]
    },
    {
     "name": "stdout",
     "output_type": "stream",
     "text": [
      "Pulling from GBIF API with species key: 8387962\n"
     ]
    },
    {
     "name": "stderr",
     "output_type": "stream",
     "text": [
      " 10%|▉         | 119/1215 [04:05<36:32,  2.00s/it]"
     ]
    },
    {
     "name": "stdout",
     "output_type": "stream",
     "text": [
      "Pulling from GBIF API with species key: 1845965\n",
      "Pulling from GBIF API with species key: 10572229\n",
      "Pulling from GBIF API with species key: 2172729\n"
     ]
    },
    {
     "name": "stderr",
     "output_type": "stream",
     "text": [
      " 10%|▉         | 120/1215 [04:06<32:35,  1.79s/it]"
     ]
    },
    {
     "name": "stdout",
     "output_type": "stream",
     "text": [
      "Pulling from GBIF API with species key: 4490571\n"
     ]
    },
    {
     "name": "stderr",
     "output_type": "stream",
     "text": [
      " 10%|▉         | 121/1215 [04:07<26:51,  1.47s/it]"
     ]
    },
    {
     "name": "stdout",
     "output_type": "stream",
     "text": [
      "Pulling from GBIF API with species key: 1505446\n"
     ]
    },
    {
     "name": "stderr",
     "output_type": "stream",
     "text": [
      " 10%|█         | 122/1215 [04:08<23:04,  1.27s/it]"
     ]
    },
    {
     "name": "stdout",
     "output_type": "stream",
     "text": [
      "Pulling from GBIF API with species key: 1795068\n",
      "Pulling from GBIF API with species key: 8411604\n",
      "Pulling from GBIF API with species key: 2129352\n",
      "Pulling from GBIF API with species key: 2075245\n",
      "Pulling from GBIF API with species key: 5077574\n",
      "Pulling from GBIF API with species key: 1249700\n",
      "Pulling from GBIF API with species key: 2072183\n",
      "Pulling from GBIF API with species key: 5063909\n",
      "Pulling from GBIF API with species key: 5077646\n",
      "Pulling from GBIF API with species key: 2013045\n",
      "Pulling from GBIF API with species key: 1314773\n",
      "Pulling from GBIF API with species key: 2128763\n",
      "Pulling from GBIF API with species key: 1036286\n",
      "Pulling from GBIF API with species key: 2074893\n",
      "Pulling from GBIF API with species key: 9652723\n",
      "Pulling from GBIF API with species key: 1194883\n",
      "Pulling from GBIF API with species key: 1576260\n",
      "Pulling from GBIF API with species key: 2077119\n",
      "Pulling from GBIF API with species key: 2283953\n",
      "Pulling from GBIF API with species key: 4474998\n",
      "Pulling from GBIF API with species key: 4559431\n",
      "Pulling from GBIF API with species key: 5074589\n",
      "Pulling from GBIF API with species key: 9369700\n",
      "Pulling from GBIF API with species key: 1420961\n",
      "Pulling from GBIF API with species key: 1595199\n",
      "Pulling from GBIF API with species key: 1599142\n",
      "Pulling from GBIF API with species key: 1860711\n",
      "Pulling from GBIF API with species key: 1994767\n",
      "Pulling from GBIF API with species key: 2020688\n",
      "Pulling from GBIF API with species key: 2076228\n",
      "Pulling from GBIF API with species key: 2076239\n",
      "Pulling from GBIF API with species key: 2077747\n",
      "Pulling from GBIF API with species key: 4465203\n",
      "Pulling from GBIF API with species key: 4495242\n",
      "Pulling from GBIF API with species key: 4505565\n",
      "Pulling from GBIF API with species key: 8274894\n",
      "Pulling from GBIF API with species key: 8276143\n",
      "Pulling from GBIF API with species key: 9341254\n",
      "Pulling from GBIF API with species key: 1429207\n",
      "Pulling from GBIF API with species key: 1568432\n",
      "Pulling from GBIF API with species key: 1631721\n",
      "Pulling from GBIF API with species key: 2026880\n",
      "Pulling from GBIF API with species key: 2070170\n",
      "Pulling from GBIF API with species key: 2072427\n",
      "Pulling from GBIF API with species key: 2077096\n",
      "Pulling from GBIF API with species key: 2077707\n",
      "Pulling from GBIF API with species key: 4429035\n",
      "Pulling from GBIF API with species key: 4461501\n",
      "Pulling from GBIF API with species key: 4485136\n",
      "Pulling from GBIF API with species key: 4492199\n",
      "Pulling from GBIF API with species key: 4567899\n",
      "Pulling from GBIF API with species key: 5077500\n",
      "Pulling from GBIF API with species key: 5077640\n",
      "Pulling from GBIF API with species key: 5082091\n",
      "Pulling from GBIF API with species key: 6097375\n",
      "Pulling from GBIF API with species key: 7437227\n",
      "Pulling from GBIF API with species key: 1047341\n",
      "Pulling from GBIF API with species key: 1047536\n",
      "Pulling from GBIF API with species key: 1070869\n",
      "Pulling from GBIF API with species key: 1094679\n",
      "Pulling from GBIF API with species key: 11164454\n",
      "Pulling from GBIF API with species key: 1235738\n",
      "Pulling from GBIF API with species key: 1334291\n",
      "Pulling from GBIF API with species key: 1355337\n",
      "Pulling from GBIF API with species key: 1357709\n",
      "Pulling from GBIF API with species key: 1420930\n",
      "Pulling from GBIF API with species key: 1505693\n",
      "Pulling from GBIF API with species key: 1508951\n",
      "Pulling from GBIF API with species key: 1553410\n",
      "Pulling from GBIF API with species key: 1601140\n",
      "Pulling from GBIF API with species key: 1649594\n",
      "Pulling from GBIF API with species key: 1658957\n",
      "Pulling from GBIF API with species key: 1722903\n",
      "Pulling from GBIF API with species key: 2029392\n",
      "Pulling from GBIF API with species key: 2049661\n",
      "Pulling from GBIF API with species key: 2070288\n",
      "Pulling from GBIF API with species key: 2070292\n",
      "Pulling from GBIF API with species key: 2072226\n",
      "Pulling from GBIF API with species key: 2076179\n",
      "Pulling from GBIF API with species key: 2076432\n",
      "Pulling from GBIF API with species key: 2077113\n",
      "Pulling from GBIF API with species key: 2078564\n",
      "Pulling from GBIF API with species key: 2109189\n",
      "Pulling from GBIF API with species key: 2394563\n",
      "Pulling from GBIF API with species key: 4429507\n",
      "Pulling from GBIF API with species key: 4431503\n",
      "Pulling from GBIF API with species key: 4450237\n"
     ]
    },
    {
     "name": "stderr",
     "output_type": "stream",
     "text": [
      " 10%|█         | 123/1215 [04:33<2:35:28,  8.54s/it]"
     ]
    },
    {
     "name": "stdout",
     "output_type": "stream",
     "text": [
      "Pulling from GBIF API with species key: 4470172\n",
      "Pulling from GBIF API with species key: 1686202\n",
      "Pulling from GBIF API with species key: 4485877\n",
      "Pulling from GBIF API with species key: 2217354\n",
      "Pulling from GBIF API with species key: 2316416\n",
      "Pulling from GBIF API with species key: 2325845\n",
      "Pulling from GBIF API with species key: 2415916\n",
      "Pulling from GBIF API with species key: 4372686\n",
      "Pulling from GBIF API with species key: 6467647\n",
      "Pulling from GBIF API with species key: 1029515\n",
      "Pulling from GBIF API with species key: 1888743\n",
      "Pulling from GBIF API with species key: 2215953\n",
      "Pulling from GBIF API with species key: 2220955\n",
      "Pulling from GBIF API with species key: 2287615\n",
      "Pulling from GBIF API with species key: 2308115\n",
      "Pulling from GBIF API with species key: 2317011\n",
      "Pulling from GBIF API with species key: 2329465\n",
      "Pulling from GBIF API with species key: 2336745\n",
      "Pulling from GBIF API with species key: 2409403\n",
      "Pulling from GBIF API with species key: 2414031\n",
      "Pulling from GBIF API with species key: 4985433\n",
      "Pulling from GBIF API with species key: 5195171\n"
     ]
    },
    {
     "name": "stderr",
     "output_type": "stream",
     "text": [
      " 10%|█         | 124/1215 [04:40<2:26:17,  8.05s/it]"
     ]
    },
    {
     "name": "stdout",
     "output_type": "stream",
     "text": [
      "Pulling from GBIF API with species key: 7791733\n",
      "Pulling from GBIF API with species key: 1469993\n",
      "Pulling from GBIF API with species key: 1445102\n",
      "Pulling from GBIF API with species key: 1464295\n",
      "Pulling from GBIF API with species key: 1490785\n",
      "Pulling from GBIF API with species key: 1546633\n",
      "Pulling from GBIF API with species key: 1676539\n",
      "Pulling from GBIF API with species key: 5055164\n",
      "Pulling from GBIF API with species key: 5083386\n",
      "Pulling from GBIF API with species key: 5094693\n"
     ]
    },
    {
     "name": "stderr",
     "output_type": "stream",
     "text": [
      " 10%|█         | 125/1215 [04:43<2:00:25,  6.63s/it]"
     ]
    },
    {
     "name": "stdout",
     "output_type": "stream",
     "text": [
      "Pulling from GBIF API with species key: 9790007\n",
      "Pulling from GBIF API with species key: 9275773\n",
      "Pulling from GBIF API with species key: 4423137\n",
      "Pulling from GBIF API with species key: 9187322\n"
     ]
    },
    {
     "name": "stderr",
     "output_type": "stream",
     "text": [
      " 10%|█         | 126/1215 [04:45<1:32:43,  5.11s/it]"
     ]
    },
    {
     "name": "stdout",
     "output_type": "stream",
     "text": [
      "Pulling from GBIF API with species key: 9784589\n",
      "Pulling from GBIF API with species key: 1528578\n",
      "Pulling from GBIF API with species key: 2008878\n",
      "Pulling from GBIF API with species key: 1523947\n",
      "Pulling from GBIF API with species key: 1704235\n",
      "Pulling from GBIF API with species key: 1705507\n",
      "Pulling from GBIF API with species key: 1707282\n",
      "Pulling from GBIF API with species key: 1728640\n",
      "Pulling from GBIF API with species key: 2011534\n",
      "Pulling from GBIF API with species key: 2078485\n",
      "Pulling from GBIF API with species key: 2227571\n",
      "Pulling from GBIF API with species key: 4652180\n",
      "Pulling from GBIF API with species key: 5068922\n",
      "Pulling from GBIF API with species key: 5069292\n",
      "Pulling from GBIF API with species key: 5098434\n",
      "Pulling from GBIF API with species key: 5747768\n"
     ]
    },
    {
     "name": "stderr",
     "output_type": "stream",
     "text": [
      " 10%|█         | 127/1215 [04:50<1:32:46,  5.12s/it]"
     ]
    },
    {
     "name": "stdout",
     "output_type": "stream",
     "text": [
      "Pulling from GBIF API with species key: 6899816\n"
     ]
    },
    {
     "name": "stderr",
     "output_type": "stream",
     "text": [
      " 11%|█         | 129/1215 [04:51<51:35,  2.85s/it]  "
     ]
    },
    {
     "name": "stdout",
     "output_type": "stream",
     "text": [
      "Pulling from GBIF API with species key: 1769057\n"
     ]
    },
    {
     "name": "stderr",
     "output_type": "stream",
     "text": [
      " 11%|█         | 131/1215 [04:52<29:01,  1.61s/it]"
     ]
    },
    {
     "name": "stdout",
     "output_type": "stream",
     "text": [
      "Pulling from GBIF API with species key: 1040429\n",
      "Pulling from GBIF API with species key: 2244988\n",
      "Pulling from GBIF API with species key: 4435882\n",
      "Pulling from GBIF API with species key: 6097436\n",
      "Pulling from GBIF API with species key: 6097463\n",
      "Pulling from GBIF API with species key: 6097685\n"
     ]
    },
    {
     "name": "stderr",
     "output_type": "stream",
     "text": [
      " 11%|█         | 132/1215 [04:55<34:04,  1.89s/it]"
     ]
    },
    {
     "name": "stdout",
     "output_type": "stream",
     "text": [
      "Pulling from GBIF API with species key: 8025361\n",
      "Pulling from GBIF API with species key: 7642452\n",
      "Pulling from GBIF API with species key: 1215156\n",
      "Pulling from GBIF API with species key: 1511305\n",
      "Pulling from GBIF API with species key: 1519883\n",
      "Pulling from GBIF API with species key: 4487799\n"
     ]
    },
    {
     "name": "stderr",
     "output_type": "stream",
     "text": [
      " 11%|█         | 133/1215 [04:57<35:03,  1.94s/it]"
     ]
    },
    {
     "name": "stdout",
     "output_type": "stream",
     "text": [
      "Pulling from GBIF API with species key: 6097332\n"
     ]
    },
    {
     "name": "stderr",
     "output_type": "stream",
     "text": [
      " 11%|█         | 134/1215 [04:58<28:42,  1.59s/it]"
     ]
    },
    {
     "name": "stdout",
     "output_type": "stream",
     "text": [
      "Pulling from GBIF API with species key: 5089468\n",
      "Pulling from GBIF API with species key: 5070407\n",
      "Pulling from GBIF API with species key: 5712981\n",
      "Pulling from GBIF API with species key: 1552862\n",
      "Pulling from GBIF API with species key: 1743768\n",
      "Pulling from GBIF API with species key: 2294129\n",
      "Pulling from GBIF API with species key: 2498393\n",
      "Pulling from GBIF API with species key: 4453544\n"
     ]
    },
    {
     "name": "stderr",
     "output_type": "stream",
     "text": [
      " 11%|█         | 135/1215 [05:00<35:00,  1.94s/it]"
     ]
    },
    {
     "name": "stdout",
     "output_type": "stream",
     "text": [
      "Pulling from GBIF API with species key: 4562917\n",
      "Pulling from GBIF API with species key: 1831752\n",
      "Pulling from GBIF API with species key: 2490263\n",
      "Pulling from GBIF API with species key: 5771258\n",
      "Pulling from GBIF API with species key: 9101339\n",
      "Pulling from GBIF API with species key: 1838969\n",
      "Pulling from GBIF API with species key: 4525354\n",
      "Pulling from GBIF API with species key: 5103121\n",
      "Pulling from GBIF API with species key: 5771259\n"
     ]
    },
    {
     "name": "stderr",
     "output_type": "stream",
     "text": [
      " 11%|█         | 136/1215 [05:03<41:35,  2.31s/it]"
     ]
    },
    {
     "name": "stdout",
     "output_type": "stream",
     "text": [
      "Pulling from GBIF API with species key: 5880545\n",
      "Pulling from GBIF API with species key: 1595005\n",
      "Pulling from GBIF API with species key: 10684479\n",
      "Pulling from GBIF API with species key: 1295851\n",
      "Pulling from GBIF API with species key: 1295897\n",
      "Pulling from GBIF API with species key: 1351974\n",
      "Pulling from GBIF API with species key: 1505813\n",
      "Pulling from GBIF API with species key: 4490496\n"
     ]
    },
    {
     "name": "stderr",
     "output_type": "stream",
     "text": [
      " 11%|█▏        | 137/1215 [05:06<43:37,  2.43s/it]"
     ]
    },
    {
     "name": "stdout",
     "output_type": "stream",
     "text": [
      "Pulling from GBIF API with species key: 4988191\n"
     ]
    },
    {
     "name": "stderr",
     "output_type": "stream",
     "text": [
      " 11%|█▏        | 138/1215 [05:07<34:38,  1.93s/it]"
     ]
    },
    {
     "name": "stdout",
     "output_type": "stream",
     "text": [
      "Pulling from GBIF API with species key: 1792377\n",
      "Pulling from GBIF API with species key: 6097073\n",
      "Pulling from GBIF API with species key: 2047603\n",
      "Pulling from GBIF API with species key: 2138457\n",
      "Pulling from GBIF API with species key: 4490644\n",
      "Pulling from GBIF API with species key: 5749867\n",
      "Pulling from GBIF API with species key: 6097023\n",
      "Pulling from GBIF API with species key: 1031684\n",
      "Pulling from GBIF API with species key: 1266355\n",
      "Pulling from GBIF API with species key: 1316805\n",
      "Pulling from GBIF API with species key: 1394204\n",
      "Pulling from GBIF API with species key: 1554832\n",
      "Pulling from GBIF API with species key: 1749596\n",
      "Pulling from GBIF API with species key: 1749904\n",
      "Pulling from GBIF API with species key: 1837464\n",
      "Pulling from GBIF API with species key: 1848150\n",
      "Pulling from GBIF API with species key: 2138039\n",
      "Pulling from GBIF API with species key: 4490456\n",
      "Pulling from GBIF API with species key: 4490911\n",
      "Pulling from GBIF API with species key: 4528100\n",
      "Pulling from GBIF API with species key: 5748805\n",
      "Pulling from GBIF API with species key: 5871389\n",
      "Pulling from GBIF API with species key: 6097010\n",
      "Pulling from GBIF API with species key: 6097098\n"
     ]
    },
    {
     "name": "stderr",
     "output_type": "stream",
     "text": [
      " 11%|█▏        | 139/1215 [05:14<1:03:45,  3.56s/it]"
     ]
    },
    {
     "name": "stdout",
     "output_type": "stream",
     "text": [
      "Pulling from GBIF API with species key: 9882511\n",
      "Pulling from GBIF API with species key: 2122217\n",
      "Pulling from GBIF API with species key: 4537137\n",
      "Pulling from GBIF API with species key: 4486853\n",
      "Pulling from GBIF API with species key: 5758812\n",
      "Pulling from GBIF API with species key: 10821620\n",
      "Pulling from GBIF API with species key: 1428311\n",
      "Pulling from GBIF API with species key: 2120510\n",
      "Pulling from GBIF API with species key: 2120539\n",
      "Pulling from GBIF API with species key: 2120918\n",
      "Pulling from GBIF API with species key: 2121294\n",
      "Pulling from GBIF API with species key: 2121316\n",
      "Pulling from GBIF API with species key: 2121806\n",
      "Pulling from GBIF API with species key: 2121823\n",
      "Pulling from GBIF API with species key: 2121834\n",
      "Pulling from GBIF API with species key: 2122157\n",
      "Pulling from GBIF API with species key: 2207918\n",
      "Pulling from GBIF API with species key: 4417378\n",
      "Pulling from GBIF API with species key: 4455082\n",
      "Pulling from GBIF API with species key: 4471238\n",
      "Pulling from GBIF API with species key: 4475133\n",
      "Pulling from GBIF API with species key: 4475163\n",
      "Pulling from GBIF API with species key: 4475188\n",
      "Pulling from GBIF API with species key: 4487089\n",
      "Pulling from GBIF API with species key: 4488738\n",
      "Pulling from GBIF API with species key: 4537257\n",
      "Pulling from GBIF API with species key: 4537846\n",
      "Pulling from GBIF API with species key: 4539314\n",
      "Pulling from GBIF API with species key: 5101327\n",
      "Pulling from GBIF API with species key: 5165705\n",
      "Pulling from GBIF API with species key: 5167086\n",
      "Pulling from GBIF API with species key: 5167099\n",
      "Pulling from GBIF API with species key: 5167110\n",
      "Pulling from GBIF API with species key: 5773254\n",
      "Pulling from GBIF API with species key: 5781046\n"
     ]
    },
    {
     "name": "stderr",
     "output_type": "stream",
     "text": [
      " 12%|█▏        | 140/1215 [05:25<1:40:12,  5.59s/it]"
     ]
    },
    {
     "name": "stdout",
     "output_type": "stream",
     "text": [
      "Pulling from GBIF API with species key: 8580774\n"
     ]
    },
    {
     "name": "stderr",
     "output_type": "stream",
     "text": [
      " 12%|█▏        | 142/1215 [05:26<54:46,  3.06s/it]  "
     ]
    },
    {
     "name": "stdout",
     "output_type": "stream",
     "text": [
      "Pulling from GBIF API with species key: 1861395\n",
      "Pulling from GBIF API with species key: 5052387\n",
      "Pulling from GBIF API with species key: 1436158\n"
     ]
    },
    {
     "name": "stderr",
     "output_type": "stream",
     "text": [
      " 12%|█▏        | 143/1215 [05:27<45:33,  2.55s/it]"
     ]
    },
    {
     "name": "stdout",
     "output_type": "stream",
     "text": [
      "Pulling from GBIF API with species key: 5752048\n"
     ]
    },
    {
     "name": "stderr",
     "output_type": "stream",
     "text": [
      " 12%|█▏        | 144/1215 [05:28<34:02,  1.91s/it]"
     ]
    },
    {
     "name": "stdout",
     "output_type": "stream",
     "text": [
      "Pulling from GBIF API with species key: 1856440\n",
      "Pulling from GBIF API with species key: 4528563\n",
      "Pulling from GBIF API with species key: 11824045\n",
      "Pulling from GBIF API with species key: 1593420\n",
      "Pulling from GBIF API with species key: 1671671\n",
      "Pulling from GBIF API with species key: 1840389\n",
      "Pulling from GBIF API with species key: 1841767\n",
      "Pulling from GBIF API with species key: 1852311\n",
      "Pulling from GBIF API with species key: 4531975\n"
     ]
    },
    {
     "name": "stderr",
     "output_type": "stream",
     "text": [
      " 12%|█▏        | 145/1215 [05:31<41:05,  2.30s/it]"
     ]
    },
    {
     "name": "stdout",
     "output_type": "stream",
     "text": [
      "Pulling from GBIF API with species key: 4535904\n",
      "Pulling from GBIF API with species key: 9564505\n",
      "Pulling from GBIF API with species key: 8891566\n",
      "Pulling from GBIF API with species key: 1309699\n",
      "Pulling from GBIF API with species key: 4453611\n",
      "Pulling from GBIF API with species key: 4490827\n",
      "Pulling from GBIF API with species key: 5868123\n",
      "Pulling from GBIF API with species key: 8495843\n"
     ]
    },
    {
     "name": "stderr",
     "output_type": "stream",
     "text": [
      " 12%|█▏        | 146/1215 [05:34<44:11,  2.48s/it]"
     ]
    },
    {
     "name": "stdout",
     "output_type": "stream",
     "text": [
      "Pulling from GBIF API with species key: 9525815\n",
      "Pulling from GBIF API with species key: 1551315\n",
      "Pulling from GBIF API with species key: 1354781\n",
      "Pulling from GBIF API with species key: 1357540\n",
      "Pulling from GBIF API with species key: 1504273\n",
      "Pulling from GBIF API with species key: 1672547\n",
      "Pulling from GBIF API with species key: 1933138\n",
      "Pulling from GBIF API with species key: 2128492\n",
      "Pulling from GBIF API with species key: 4463128\n"
     ]
    },
    {
     "name": "stderr",
     "output_type": "stream",
     "text": [
      " 12%|█▏        | 147/1215 [05:37<47:48,  2.69s/it]"
     ]
    },
    {
     "name": "stdout",
     "output_type": "stream",
     "text": [
      "Pulling from GBIF API with species key: 4517523\n",
      "Pulling from GBIF API with species key: 4429270\n",
      "Pulling from GBIF API with species key: 4429475\n",
      "Pulling from GBIF API with species key: 4488158\n",
      "Pulling from GBIF API with species key: 5094831\n"
     ]
    },
    {
     "name": "stderr",
     "output_type": "stream",
     "text": [
      " 12%|█▏        | 148/1215 [05:39<44:08,  2.48s/it]"
     ]
    },
    {
     "name": "stdout",
     "output_type": "stream",
     "text": [
      "Pulling from GBIF API with species key: 9703712\n"
     ]
    },
    {
     "name": "stderr",
     "output_type": "stream",
     "text": [
      " 12%|█▏        | 149/1215 [05:40<34:45,  1.96s/it]"
     ]
    },
    {
     "name": "stdout",
     "output_type": "stream",
     "text": [
      "Pulling from GBIF API with species key: 5818628\n"
     ]
    },
    {
     "name": "stderr",
     "output_type": "stream",
     "text": [
      " 12%|█▏        | 150/1215 [05:40<28:23,  1.60s/it]"
     ]
    },
    {
     "name": "stdout",
     "output_type": "stream",
     "text": [
      "Pulling from GBIF API with species key: 1065398\n"
     ]
    },
    {
     "name": "stderr",
     "output_type": "stream",
     "text": [
      " 12%|█▏        | 151/1215 [05:41<23:41,  1.34s/it]"
     ]
    },
    {
     "name": "stdout",
     "output_type": "stream",
     "text": [
      "Pulling from GBIF API with species key: 2498090\n"
     ]
    },
    {
     "name": "stderr",
     "output_type": "stream",
     "text": [
      " 13%|█▎        | 152/1215 [05:42<19:00,  1.07s/it]"
     ]
    },
    {
     "name": "stdout",
     "output_type": "stream",
     "text": [
      "Pulling from GBIF API with species key: 1244402\n",
      "Pulling from GBIF API with species key: 1178289\n",
      "Pulling from GBIF API with species key: 2033064\n",
      "Pulling from GBIF API with species key: 2054413\n",
      "Pulling from GBIF API with species key: 2056770\n",
      "Pulling from GBIF API with species key: 2389991\n",
      "Pulling from GBIF API with species key: 4308837\n",
      "Pulling from GBIF API with species key: 4427735\n",
      "Pulling from GBIF API with species key: 4464250\n",
      "Pulling from GBIF API with species key: 4474974\n",
      "Pulling from GBIF API with species key: 4486588\n",
      "Pulling from GBIF API with species key: 4489243\n",
      "Pulling from GBIF API with species key: 5756005\n"
     ]
    },
    {
     "name": "stderr",
     "output_type": "stream",
     "text": [
      " 13%|█▎        | 153/1215 [05:46<36:30,  2.06s/it]"
     ]
    },
    {
     "name": "stdout",
     "output_type": "stream",
     "text": [
      "Pulling from GBIF API with species key: 5756010\n"
     ]
    },
    {
     "name": "stderr",
     "output_type": "stream",
     "text": [
      " 13%|█▎        | 154/1215 [05:47<29:58,  1.70s/it]"
     ]
    },
    {
     "name": "stdout",
     "output_type": "stream",
     "text": [
      "Pulling from GBIF API with species key: 9257941\n"
     ]
    },
    {
     "name": "stderr",
     "output_type": "stream",
     "text": [
      " 13%|█▎        | 155/1215 [05:47<24:47,  1.40s/it]"
     ]
    },
    {
     "name": "stdout",
     "output_type": "stream",
     "text": [
      "Pulling from GBIF API with species key: 1415862\n",
      "Pulling from GBIF API with species key: 5753757\n",
      "Pulling from GBIF API with species key: 5749241\n",
      "Pulling from GBIF API with species key: 7630191\n",
      "Pulling from GBIF API with species key: 1340521\n",
      "Pulling from GBIF API with species key: 1343367\n",
      "Pulling from GBIF API with species key: 1343381\n",
      "Pulling from GBIF API with species key: 2134829\n",
      "Pulling from GBIF API with species key: 2135389\n",
      "Pulling from GBIF API with species key: 4429279\n",
      "Pulling from GBIF API with species key: 4494632\n",
      "Pulling from GBIF API with species key: 4494888\n",
      "Pulling from GBIF API with species key: 4504921\n",
      "Pulling from GBIF API with species key: 4505102\n",
      "Pulling from GBIF API with species key: 5716420\n",
      "Pulling from GBIF API with species key: 6097260\n",
      "Pulling from GBIF API with species key: 6098876\n",
      "Pulling from GBIF API with species key: 6943368\n",
      "Pulling from GBIF API with species key: 1038153\n",
      "Pulling from GBIF API with species key: 10757419\n",
      "Pulling from GBIF API with species key: 10848695\n",
      "Pulling from GBIF API with species key: 1316667\n",
      "Pulling from GBIF API with species key: 1323381\n",
      "Pulling from GBIF API with species key: 1340444\n",
      "Pulling from GBIF API with species key: 1343302\n",
      "Pulling from GBIF API with species key: 1345319\n",
      "Pulling from GBIF API with species key: 1347914\n",
      "Pulling from GBIF API with species key: 1349475\n",
      "Pulling from GBIF API with species key: 1351513\n",
      "Pulling from GBIF API with species key: 1358094\n",
      "Pulling from GBIF API with species key: 1437064\n",
      "Pulling from GBIF API with species key: 1441025\n",
      "Pulling from GBIF API with species key: 1568451\n",
      "Pulling from GBIF API with species key: 1728965\n",
      "Pulling from GBIF API with species key: 1849764\n",
      "Pulling from GBIF API with species key: 1876623\n",
      "Pulling from GBIF API with species key: 1983997\n",
      "Pulling from GBIF API with species key: 2101616\n",
      "Pulling from GBIF API with species key: 2120343\n",
      "Pulling from GBIF API with species key: 2120704\n",
      "Pulling from GBIF API with species key: 2121994\n",
      "Pulling from GBIF API with species key: 2132150\n",
      "Pulling from GBIF API with species key: 2134187\n",
      "Pulling from GBIF API with species key: 2134295\n",
      "Pulling from GBIF API with species key: 2134778\n",
      "Pulling from GBIF API with species key: 2135142\n",
      "Pulling from GBIF API with species key: 2137309\n",
      "Pulling from GBIF API with species key: 2137432\n",
      "Pulling from GBIF API with species key: 2138438\n",
      "Pulling from GBIF API with species key: 2138546\n",
      "Pulling from GBIF API with species key: 2138569\n",
      "Pulling from GBIF API with species key: 2138727\n",
      "Pulling from GBIF API with species key: 2138914\n",
      "Pulling from GBIF API with species key: 2147434\n",
      "Pulling from GBIF API with species key: 2167496\n",
      "Pulling from GBIF API with species key: 2475247\n",
      "Pulling from GBIF API with species key: 4429415\n",
      "Pulling from GBIF API with species key: 4433572\n",
      "Pulling from GBIF API with species key: 4470334\n",
      "Pulling from GBIF API with species key: 4494396\n",
      "Pulling from GBIF API with species key: 4494824\n",
      "Pulling from GBIF API with species key: 4494948\n",
      "Pulling from GBIF API with species key: 4504947\n",
      "Pulling from GBIF API with species key: 4505753\n",
      "Pulling from GBIF API with species key: 4537106\n",
      "Pulling from GBIF API with species key: 4538516\n",
      "Pulling from GBIF API with species key: 4539125\n",
      "Pulling from GBIF API with species key: 4539524\n",
      "Pulling from GBIF API with species key: 4565046\n",
      "Pulling from GBIF API with species key: 4640256\n",
      "Pulling from GBIF API with species key: 4988207\n",
      "Pulling from GBIF API with species key: 5035772\n",
      "Pulling from GBIF API with species key: 5037467\n",
      "Pulling from GBIF API with species key: 5054111\n",
      "Pulling from GBIF API with species key: 5077778\n",
      "Pulling from GBIF API with species key: 5165586\n",
      "Pulling from GBIF API with species key: 5168728\n",
      "Pulling from GBIF API with species key: 5179972\n",
      "Pulling from GBIF API with species key: 5755954\n",
      "Pulling from GBIF API with species key: 5815559\n",
      "Pulling from GBIF API with species key: 6097179\n",
      "Pulling from GBIF API with species key: 6097414\n",
      "Pulling from GBIF API with species key: 6097539\n",
      "Pulling from GBIF API with species key: 6943215\n",
      "Pulling from GBIF API with species key: 8378963\n",
      "Pulling from GBIF API with species key: 8382605\n",
      "Pulling from GBIF API with species key: 8518896\n",
      "Pulling from GBIF API with species key: 8703749\n"
     ]
    },
    {
     "name": "stderr",
     "output_type": "stream",
     "text": [
      " 13%|█▎        | 156/1215 [06:13<2:31:45,  8.60s/it]"
     ]
    },
    {
     "name": "stdout",
     "output_type": "stream",
     "text": [
      "Pulling from GBIF API with species key: 9788106\n"
     ]
    },
    {
     "name": "stderr",
     "output_type": "stream",
     "text": [
      " 13%|█▎        | 157/1215 [06:13<1:49:12,  6.19s/it]"
     ]
    },
    {
     "name": "stdout",
     "output_type": "stream",
     "text": [
      "Pulling from GBIF API with species key: 1372109\n",
      "Pulling from GBIF API with species key: 1606940\n",
      "Pulling from GBIF API with species key: 1800140\n"
     ]
    },
    {
     "name": "stderr",
     "output_type": "stream",
     "text": [
      " 13%|█▎        | 158/1215 [06:15<1:24:40,  4.81s/it]"
     ]
    },
    {
     "name": "stdout",
     "output_type": "stream",
     "text": [
      "Pulling from GBIF API with species key: 9510564\n"
     ]
    },
    {
     "name": "stderr",
     "output_type": "stream",
     "text": [
      " 13%|█▎        | 159/1215 [06:15<1:01:28,  3.49s/it]"
     ]
    },
    {
     "name": "stdout",
     "output_type": "stream",
     "text": [
      "Pulling from GBIF API with species key: 2205983\n",
      "Pulling from GBIF API with species key: 4417187\n",
      "Pulling from GBIF API with species key: 4462657\n",
      "Pulling from GBIF API with species key: 4465280\n",
      "Pulling from GBIF API with species key: 4491868\n",
      "Pulling from GBIF API with species key: 5877734\n"
     ]
    },
    {
     "name": "stderr",
     "output_type": "stream",
     "text": [
      " 13%|█▎        | 160/1215 [06:18<56:09,  3.19s/it]  "
     ]
    },
    {
     "name": "stdout",
     "output_type": "stream",
     "text": [
      "Pulling from GBIF API with species key: 6097674\n"
     ]
    },
    {
     "name": "stderr",
     "output_type": "stream",
     "text": [
      " 13%|█▎        | 161/1215 [06:18<41:40,  2.37s/it]"
     ]
    },
    {
     "name": "stdout",
     "output_type": "stream",
     "text": [
      "Pulling from GBIF API with species key: 4460244\n",
      "Pulling from GBIF API with species key: 2074228\n",
      "Pulling from GBIF API with species key: 2135272\n",
      "Pulling from GBIF API with species key: 2135968\n",
      "Pulling from GBIF API with species key: 2138349\n",
      "Pulling from GBIF API with species key: 4490138\n"
     ]
    },
    {
     "name": "stderr",
     "output_type": "stream",
     "text": [
      " 13%|█▎        | 162/1215 [06:21<42:30,  2.42s/it]"
     ]
    },
    {
     "name": "stdout",
     "output_type": "stream",
     "text": [
      "Pulling from GBIF API with species key: 6096794\n",
      "Pulling from GBIF API with species key: 1547218\n",
      "Pulling from GBIF API with species key: 1546520\n",
      "Pulling from GBIF API with species key: 4296346\n",
      "Pulling from GBIF API with species key: 1562920\n",
      "Pulling from GBIF API with species key: 5094605\n",
      "Pulling from GBIF API with species key: 1529099\n",
      "Pulling from GBIF API with species key: 1547517\n",
      "Pulling from GBIF API with species key: 1547644\n",
      "Pulling from GBIF API with species key: 1562906\n",
      "Pulling from GBIF API with species key: 1639846\n",
      "Pulling from GBIF API with species key: 4419413\n",
      "Pulling from GBIF API with species key: 4436921\n",
      "Pulling from GBIF API with species key: 5185758\n",
      "Pulling from GBIF API with species key: 8452410\n",
      "Pulling from GBIF API with species key: 8642876\n",
      "Pulling from GBIF API with species key: 1334164\n",
      "Pulling from GBIF API with species key: 1488550\n",
      "Pulling from GBIF API with species key: 2073690\n",
      "Pulling from GBIF API with species key: 2074115\n",
      "Pulling from GBIF API with species key: 2077503\n",
      "Pulling from GBIF API with species key: 4452765\n",
      "Pulling from GBIF API with species key: 5055850\n",
      "Pulling from GBIF API with species key: 5094794\n",
      "Pulling from GBIF API with species key: 5748863\n",
      "Pulling from GBIF API with species key: 5748888\n",
      "Pulling from GBIF API with species key: 7930834\n",
      "Pulling from GBIF API with species key: 1013263\n",
      "Pulling from GBIF API with species key: 1044343\n",
      "Pulling from GBIF API with species key: 1174203\n",
      "Pulling from GBIF API with species key: 1305379\n",
      "Pulling from GBIF API with species key: 1376616\n",
      "Pulling from GBIF API with species key: 1376774\n",
      "Pulling from GBIF API with species key: 1448530\n",
      "Pulling from GBIF API with species key: 1454324\n",
      "Pulling from GBIF API with species key: 1485806\n",
      "Pulling from GBIF API with species key: 1547785\n",
      "Pulling from GBIF API with species key: 1548598\n",
      "Pulling from GBIF API with species key: 1746644\n",
      "Pulling from GBIF API with species key: 1840570\n",
      "Pulling from GBIF API with species key: 2014676\n",
      "Pulling from GBIF API with species key: 2070252\n",
      "Pulling from GBIF API with species key: 2071843\n",
      "Pulling from GBIF API with species key: 2077222\n",
      "Pulling from GBIF API with species key: 2078376\n",
      "Pulling from GBIF API with species key: 4432745\n",
      "Pulling from GBIF API with species key: 5024810\n",
      "Pulling from GBIF API with species key: 5878237\n",
      "Pulling from GBIF API with species key: 8554174\n",
      "Pulling from GBIF API with species key: 1031520\n",
      "Pulling from GBIF API with species key: 10402592\n",
      "Pulling from GBIF API with species key: 1043787\n",
      "Pulling from GBIF API with species key: 10915384\n",
      "Pulling from GBIF API with species key: 10927290\n",
      "Pulling from GBIF API with species key: 1095567\n",
      "Pulling from GBIF API with species key: 1095946\n",
      "Pulling from GBIF API with species key: 1189261\n",
      "Pulling from GBIF API with species key: 1240808\n",
      "Pulling from GBIF API with species key: 1252276\n",
      "Pulling from GBIF API with species key: 1282212\n",
      "Pulling from GBIF API with species key: 1304277\n",
      "Pulling from GBIF API with species key: 1445853\n",
      "Pulling from GBIF API with species key: 1446164\n",
      "Pulling from GBIF API with species key: 1449080\n",
      "Pulling from GBIF API with species key: 1449400\n",
      "Pulling from GBIF API with species key: 1454278\n",
      "Pulling from GBIF API with species key: 1455736\n",
      "Pulling from GBIF API with species key: 1528985\n",
      "Pulling from GBIF API with species key: 1530319\n",
      "Pulling from GBIF API with species key: 1545004\n",
      "Pulling from GBIF API with species key: 1546813\n",
      "Pulling from GBIF API with species key: 1546823\n",
      "Pulling from GBIF API with species key: 1546875\n",
      "Pulling from GBIF API with species key: 1547985\n",
      "Pulling from GBIF API with species key: 1548343\n",
      "Pulling from GBIF API with species key: 1587747\n",
      "Pulling from GBIF API with species key: 1617848\n",
      "Pulling from GBIF API with species key: 1619277\n",
      "Pulling from GBIF API with species key: 1619894\n",
      "Pulling from GBIF API with species key: 1631634\n",
      "Pulling from GBIF API with species key: 1632338\n",
      "Pulling from GBIF API with species key: 1647835\n"
     ]
    },
    {
     "name": "stderr",
     "output_type": "stream",
     "text": [
      " 13%|█▎        | 163/1215 [06:45<2:34:34,  8.82s/it]"
     ]
    },
    {
     "name": "stdout",
     "output_type": "stream",
     "text": [
      "Pulling from GBIF API with species key: 1748321\n",
      "Pulling from GBIF API with species key: 9572219\n",
      "Pulling from GBIF API with species key: 8938340\n",
      "Pulling from GBIF API with species key: 4975738\n",
      "Pulling from GBIF API with species key: 9622172\n",
      "Pulling from GBIF API with species key: 9545820\n",
      "Pulling from GBIF API with species key: 11908487\n",
      "Pulling from GBIF API with species key: 5818498\n",
      "Pulling from GBIF API with species key: 4825170\n",
      "Pulling from GBIF API with species key: 4856687\n",
      "Pulling from GBIF API with species key: 5816362\n",
      "Pulling from GBIF API with species key: 9282572\n",
      "Pulling from GBIF API with species key: 9303478\n",
      "Pulling from GBIF API with species key: 9522639\n",
      "Pulling from GBIF API with species key: 9550838\n"
     ]
    },
    {
     "name": "stderr",
     "output_type": "stream",
     "text": [
      " 13%|█▎        | 164/1215 [06:49<2:13:24,  7.62s/it]"
     ]
    },
    {
     "name": "stdout",
     "output_type": "stream",
     "text": [
      "Pulling from GBIF API with species key: 9627372\n"
     ]
    },
    {
     "name": "stderr",
     "output_type": "stream",
     "text": [
      " 14%|█▎        | 167/1215 [06:51<50:58,  2.92s/it]  "
     ]
    },
    {
     "name": "stdout",
     "output_type": "stream",
     "text": [
      "Pulling from GBIF API with species key: 2498257\n"
     ]
    },
    {
     "name": "stderr",
     "output_type": "stream",
     "text": [
      " 14%|█▍        | 168/1215 [06:52<41:02,  2.35s/it]"
     ]
    },
    {
     "name": "stdout",
     "output_type": "stream",
     "text": [
      "Pulling from GBIF API with species key: 1554694\n",
      "Pulling from GBIF API with species key: 2034482\n",
      "Pulling from GBIF API with species key: 1316675\n",
      "Pulling from GBIF API with species key: 4487404\n",
      "Pulling from GBIF API with species key: 4487610\n",
      "Pulling from GBIF API with species key: 4488750\n",
      "Pulling from GBIF API with species key: 1013799\n",
      "Pulling from GBIF API with species key: 1603622\n",
      "Pulling from GBIF API with species key: 2056866\n",
      "Pulling from GBIF API with species key: 2233761\n",
      "Pulling from GBIF API with species key: 4428312\n",
      "Pulling from GBIF API with species key: 4485524\n",
      "Pulling from GBIF API with species key: 5019591\n",
      "Pulling from GBIF API with species key: 5752536\n",
      "Pulling from GBIF API with species key: 5752598\n",
      "Pulling from GBIF API with species key: 1042697\n",
      "Pulling from GBIF API with species key: 1214763\n",
      "Pulling from GBIF API with species key: 1458024\n",
      "Pulling from GBIF API with species key: 1590965\n",
      "Pulling from GBIF API with species key: 1628063\n",
      "Pulling from GBIF API with species key: 1831780\n",
      "Pulling from GBIF API with species key: 2009275\n",
      "Pulling from GBIF API with species key: 2024956\n",
      "Pulling from GBIF API with species key: 2032960\n",
      "Pulling from GBIF API with species key: 2040892\n",
      "Pulling from GBIF API with species key: 2049195\n",
      "Pulling from GBIF API with species key: 2139488\n",
      "Pulling from GBIF API with species key: 2230106\n",
      "Pulling from GBIF API with species key: 4427269\n",
      "Pulling from GBIF API with species key: 4430670\n"
     ]
    },
    {
     "name": "stderr",
     "output_type": "stream",
     "text": [
      " 14%|█▍        | 169/1215 [07:01<1:16:46,  4.40s/it]"
     ]
    },
    {
     "name": "stdout",
     "output_type": "stream",
     "text": [
      "Pulling from GBIF API with species key: 4450507\n"
     ]
    },
    {
     "name": "stderr",
     "output_type": "stream",
     "text": [
      " 14%|█▍        | 170/1215 [07:02<57:20,  3.29s/it]  "
     ]
    },
    {
     "name": "stdout",
     "output_type": "stream",
     "text": [
      "Pulling from GBIF API with species key: 5058159\n"
     ]
    },
    {
     "name": "stderr",
     "output_type": "stream",
     "text": [
      " 14%|█▍        | 171/1215 [07:03<44:09,  2.54s/it]"
     ]
    },
    {
     "name": "stdout",
     "output_type": "stream",
     "text": [
      "Pulling from GBIF API with species key: 4434173\n",
      "Pulling from GBIF API with species key: 1397786\n"
     ]
    },
    {
     "name": "stderr",
     "output_type": "stream",
     "text": [
      " 14%|█▍        | 172/1215 [07:04<36:44,  2.11s/it]"
     ]
    },
    {
     "name": "stdout",
     "output_type": "stream",
     "text": [
      "Pulling from GBIF API with species key: 2070752\n"
     ]
    },
    {
     "name": "stderr",
     "output_type": "stream",
     "text": [
      " 14%|█▍        | 175/1215 [07:05<19:09,  1.11s/it]"
     ]
    },
    {
     "name": "stdout",
     "output_type": "stream",
     "text": [
      "Pulling from GBIF API with species key: 1768749\n"
     ]
    },
    {
     "name": "stderr",
     "output_type": "stream",
     "text": [
      " 14%|█▍        | 176/1215 [07:06<15:30,  1.12it/s]"
     ]
    },
    {
     "name": "stdout",
     "output_type": "stream",
     "text": [
      "Pulling from GBIF API with species key: 4490528\n"
     ]
    },
    {
     "name": "stderr",
     "output_type": "stream",
     "text": [
      " 15%|█▍        | 177/1215 [07:07<16:09,  1.07it/s]"
     ]
    },
    {
     "name": "stdout",
     "output_type": "stream",
     "text": [
      "Failed: Returned status code of 204, with message: <Response [204]>\n",
      "Error querying GBIF for image tile_51.3843217996535_0.04889841215856107.jpg at coords ('51.3843217996535', '0.04889841215856107'): 'NoneType' object has no attribute 'get'\n",
      "No GBIF data found for image: tile_51.3843217996535_0.04889841215856107.jpg at coords: ('51.3843217996535', '0.04889841215856107')\n",
      "Pulling from GBIF API with species key: 9783902\n",
      "Pulling from GBIF API with species key: 1239109\n",
      "Pulling from GBIF API with species key: 1288021\n",
      "Pulling from GBIF API with species key: 1351582\n",
      "Pulling from GBIF API with species key: 2217983\n",
      "Pulling from GBIF API with species key: 4544248\n"
     ]
    },
    {
     "name": "stderr",
     "output_type": "stream",
     "text": [
      " 15%|█▍        | 178/1215 [07:09<24:54,  1.44s/it]"
     ]
    },
    {
     "name": "stdout",
     "output_type": "stream",
     "text": [
      "Pulling from GBIF API with species key: 7990021\n",
      "Pulling from GBIF API with species key: 11753692\n",
      "Pulling from GBIF API with species key: 11130762\n",
      "Pulling from GBIF API with species key: 1337361\n",
      "Pulling from GBIF API with species key: 2069750\n",
      "Pulling from GBIF API with species key: 2070015\n"
     ]
    },
    {
     "name": "stderr",
     "output_type": "stream",
     "text": [
      " 15%|█▍        | 179/1215 [07:11<28:32,  1.65s/it]"
     ]
    },
    {
     "name": "stdout",
     "output_type": "stream",
     "text": [
      "Pulling from GBIF API with species key: 2149784\n"
     ]
    },
    {
     "name": "stderr",
     "output_type": "stream",
     "text": [
      " 15%|█▍        | 181/1215 [07:12<17:54,  1.04s/it]"
     ]
    },
    {
     "name": "stdout",
     "output_type": "stream",
     "text": [
      "Pulling from GBIF API with species key: 12242082\n",
      "Pulling from GBIF API with species key: 1524287\n",
      "Pulling from GBIF API with species key: 1545356\n",
      "Pulling from GBIF API with species key: 1554702\n",
      "Pulling from GBIF API with species key: 1554854\n",
      "Pulling from GBIF API with species key: 1570523\n",
      "Pulling from GBIF API with species key: 1574864\n",
      "Pulling from GBIF API with species key: 1606956\n",
      "Pulling from GBIF API with species key: 1611491\n",
      "Pulling from GBIF API with species key: 1617921\n",
      "Pulling from GBIF API with species key: 1618835\n",
      "Pulling from GBIF API with species key: 1619426\n",
      "Pulling from GBIF API with species key: 1619478\n",
      "Pulling from GBIF API with species key: 1620024\n",
      "Pulling from GBIF API with species key: 2033279\n",
      "Pulling from GBIF API with species key: 4469788\n",
      "Pulling from GBIF API with species key: 4486152\n",
      "Pulling from GBIF API with species key: 4486584\n",
      "Pulling from GBIF API with species key: 4488886\n",
      "Pulling from GBIF API with species key: 4514619\n",
      "Pulling from GBIF API with species key: 4518671\n",
      "Pulling from GBIF API with species key: 5068245\n",
      "Pulling from GBIF API with species key: 5149836\n"
     ]
    },
    {
     "name": "stderr",
     "output_type": "stream",
     "text": [
      " 15%|█▍        | 182/1215 [07:20<50:53,  2.96s/it]"
     ]
    },
    {
     "name": "stdout",
     "output_type": "stream",
     "text": [
      "Pulling from GBIF API with species key: 6097900\n"
     ]
    },
    {
     "name": "stderr",
     "output_type": "stream",
     "text": [
      " 15%|█▌        | 183/1215 [07:21<39:30,  2.30s/it]"
     ]
    },
    {
     "name": "stdout",
     "output_type": "stream",
     "text": [
      "Pulling from GBIF API with species key: 1554581\n",
      "Pulling from GBIF API with species key: 1846219\n",
      "Pulling from GBIF API with species key: 5077131\n"
     ]
    },
    {
     "name": "stderr",
     "output_type": "stream",
     "text": [
      " 15%|█▌        | 184/1215 [07:22<34:12,  1.99s/it]"
     ]
    },
    {
     "name": "stdout",
     "output_type": "stream",
     "text": [
      "Pulling from GBIF API with species key: 5077169\n",
      "Pulling from GBIF API with species key: 9414758\n",
      "Pulling from GBIF API with species key: 1463655\n",
      "Pulling from GBIF API with species key: 1967273\n",
      "Pulling from GBIF API with species key: 2008137\n",
      "Pulling from GBIF API with species key: 4428306\n",
      "Pulling from GBIF API with species key: 4445238\n",
      "Pulling from GBIF API with species key: 4447701\n",
      "Pulling from GBIF API with species key: 4447842\n",
      "Pulling from GBIF API with species key: 5874844\n",
      "Pulling from GBIF API with species key: 6906639\n",
      "Pulling from GBIF API with species key: 7663646\n",
      "Pulling from GBIF API with species key: 7869346\n",
      "Pulling from GBIF API with species key: 8138668\n"
     ]
    },
    {
     "name": "stderr",
     "output_type": "stream",
     "text": [
      " 15%|█▌        | 185/1215 [07:26<47:44,  2.78s/it]"
     ]
    },
    {
     "name": "stdout",
     "output_type": "stream",
     "text": [
      "Pulling from GBIF API with species key: 9575913\n"
     ]
    },
    {
     "name": "stderr",
     "output_type": "stream",
     "text": [
      " 15%|█▌        | 188/1215 [07:28<21:25,  1.25s/it]"
     ]
    },
    {
     "name": "stdout",
     "output_type": "stream",
     "text": [
      "Pulling from GBIF API with species key: 4472906\n",
      "Pulling from GBIF API with species key: 4480320\n",
      "Pulling from GBIF API with species key: 1102048\n",
      "Pulling from GBIF API with species key: 4456957\n",
      "Pulling from GBIF API with species key: 6989916\n",
      "Pulling from GBIF API with species key: 1037974\n",
      "Pulling from GBIF API with species key: 10962794\n",
      "Pulling from GBIF API with species key: 1476935\n",
      "Pulling from GBIF API with species key: 1737881\n",
      "Pulling from GBIF API with species key: 1744785\n",
      "Pulling from GBIF API with species key: 1831799\n",
      "Pulling from GBIF API with species key: 1975341\n",
      "Pulling from GBIF API with species key: 4308806\n",
      "Pulling from GBIF API with species key: 4308812\n",
      "Pulling from GBIF API with species key: 4428217\n",
      "Pulling from GBIF API with species key: 4433525\n",
      "Pulling from GBIF API with species key: 4438477\n",
      "Pulling from GBIF API with species key: 4452546\n",
      "Pulling from GBIF API with species key: 4453653\n",
      "Pulling from GBIF API with species key: 4461495\n",
      "Pulling from GBIF API with species key: 4522322\n",
      "Pulling from GBIF API with species key: 5750384\n",
      "Pulling from GBIF API with species key: 6097081\n",
      "Pulling from GBIF API with species key: 7789394\n",
      "Pulling from GBIF API with species key: 7984899\n",
      "Pulling from GBIF API with species key: 8394261\n",
      "Pulling from GBIF API with species key: 8544630\n",
      "Pulling from GBIF API with species key: 10181669\n",
      "Pulling from GBIF API with species key: 10214555\n",
      "Pulling from GBIF API with species key: 1040758\n",
      "Pulling from GBIF API with species key: 10450501\n",
      "Pulling from GBIF API with species key: 1066009\n",
      "Pulling from GBIF API with species key: 1067927\n",
      "Pulling from GBIF API with species key: 10923496\n",
      "Pulling from GBIF API with species key: 1176494\n",
      "Pulling from GBIF API with species key: 1196164\n",
      "Pulling from GBIF API with species key: 1204500\n",
      "Pulling from GBIF API with species key: 1239143\n",
      "Pulling from GBIF API with species key: 1248443\n",
      "Pulling from GBIF API with species key: 1459160\n",
      "Pulling from GBIF API with species key: 1459729\n",
      "Pulling from GBIF API with species key: 1504912\n",
      "Pulling from GBIF API with species key: 1510006\n",
      "Pulling from GBIF API with species key: 1516362\n",
      "Pulling from GBIF API with species key: 1518421\n",
      "Pulling from GBIF API with species key: 1521144\n",
      "Pulling from GBIF API with species key: 1566549\n",
      "Pulling from GBIF API with species key: 1632847\n",
      "Pulling from GBIF API with species key: 1646902\n",
      "Pulling from GBIF API with species key: 1651891\n",
      "Pulling from GBIF API with species key: 1736411\n",
      "Pulling from GBIF API with species key: 1736514\n",
      "Pulling from GBIF API with species key: 1738512\n",
      "Pulling from GBIF API with species key: 1738732\n",
      "Pulling from GBIF API with species key: 1741348\n",
      "Pulling from GBIF API with species key: 1742185\n",
      "Pulling from GBIF API with species key: 1798346\n",
      "Pulling from GBIF API with species key: 1833136\n",
      "Pulling from GBIF API with species key: 1835031\n",
      "Pulling from GBIF API with species key: 1850029\n",
      "Pulling from GBIF API with species key: 1852136\n",
      "Pulling from GBIF API with species key: 1854792\n",
      "Pulling from GBIF API with species key: 2011270\n",
      "Pulling from GBIF API with species key: 2120549\n",
      "Pulling from GBIF API with species key: 2133397\n",
      "Pulling from GBIF API with species key: 2155761\n",
      "Pulling from GBIF API with species key: 2156053\n",
      "Pulling from GBIF API with species key: 2235011\n",
      "Pulling from GBIF API with species key: 4427167\n",
      "Pulling from GBIF API with species key: 4428989\n",
      "Pulling from GBIF API with species key: 4429483\n",
      "Pulling from GBIF API with species key: 4433974\n",
      "Pulling from GBIF API with species key: 4434004\n",
      "Pulling from GBIF API with species key: 4435453\n",
      "Pulling from GBIF API with species key: 4435650\n",
      "Pulling from GBIF API with species key: 4435658\n",
      "Pulling from GBIF API with species key: 4435742\n",
      "Pulling from GBIF API with species key: 4437037\n",
      "Pulling from GBIF API with species key: 4437040\n",
      "Pulling from GBIF API with species key: 4437180\n",
      "Pulling from GBIF API with species key: 4437251\n",
      "Pulling from GBIF API with species key: 4437315\n",
      "Pulling from GBIF API with species key: 4437343\n",
      "Pulling from GBIF API with species key: 4438579\n",
      "Pulling from GBIF API with species key: 4439875\n",
      "Pulling from GBIF API with species key: 4440331\n",
      "Pulling from GBIF API with species key: 4441274\n",
      "Pulling from GBIF API with species key: 4441456\n",
      "Pulling from GBIF API with species key: 4442324\n"
     ]
    },
    {
     "name": "stderr",
     "output_type": "stream",
     "text": [
      " 16%|█▌        | 189/1215 [07:54<2:30:53,  8.82s/it]"
     ]
    },
    {
     "name": "stdout",
     "output_type": "stream",
     "text": [
      "Pulling from GBIF API with species key: 4442338\n",
      "Pulling from GBIF API with species key: 4463165\n"
     ]
    },
    {
     "name": "stderr",
     "output_type": "stream",
     "text": [
      " 16%|█▌        | 190/1215 [07:55<1:50:57,  6.50s/it]"
     ]
    },
    {
     "name": "stdout",
     "output_type": "stream",
     "text": [
      "Failed: Returned status code of 204, with message: <Response [204]>\n",
      "Error querying GBIF for image tile_51.2897272050589_-0.297475455529289.jpg at coords ('51.2897272050589', '-0.297475455529289'): 'NoneType' object has no attribute 'get'\n",
      "No GBIF data found for image: tile_51.2897272050589_-0.297475455529289.jpg at coords: ('51.2897272050589', '-0.297475455529289')\n"
     ]
    },
    {
     "name": "stderr",
     "output_type": "stream",
     "text": [
      " 16%|█▌        | 192/1215 [07:57<1:00:04,  3.52s/it]"
     ]
    },
    {
     "name": "stdout",
     "output_type": "stream",
     "text": [
      "Pulling from GBIF API with species key: 1276464\n"
     ]
    },
    {
     "name": "stderr",
     "output_type": "stream",
     "text": [
      " 16%|█▌        | 193/1215 [07:57<44:14,  2.60s/it]  "
     ]
    },
    {
     "name": "stdout",
     "output_type": "stream",
     "text": [
      "Pulling from GBIF API with species key: 9362842\n",
      "Pulling from GBIF API with species key: 1392236\n",
      "Pulling from GBIF API with species key: 4452920\n"
     ]
    },
    {
     "name": "stderr",
     "output_type": "stream",
     "text": [
      " 16%|█▌        | 194/1215 [07:59<40:05,  2.36s/it]"
     ]
    },
    {
     "name": "stdout",
     "output_type": "stream",
     "text": [
      "Pulling from GBIF API with species key: 8183385\n"
     ]
    },
    {
     "name": "stderr",
     "output_type": "stream",
     "text": [
      " 16%|█▌        | 195/1215 [07:59<30:27,  1.79s/it]"
     ]
    },
    {
     "name": "stdout",
     "output_type": "stream",
     "text": [
      "Pulling from GBIF API with species key: 6097336\n",
      "Pulling from GBIF API with species key: 1038059\n",
      "Pulling from GBIF API with species key: 1534751\n",
      "Pulling from GBIF API with species key: 2027607\n",
      "Pulling from GBIF API with species key: 5984753\n",
      "Pulling from GBIF API with species key: 7003997\n"
     ]
    },
    {
     "name": "stderr",
     "output_type": "stream",
     "text": [
      " 16%|█▌        | 196/1215 [08:02<33:58,  2.00s/it]"
     ]
    },
    {
     "name": "stdout",
     "output_type": "stream",
     "text": [
      "Pulling from GBIF API with species key: 8202450\n"
     ]
    },
    {
     "name": "stderr",
     "output_type": "stream",
     "text": [
      " 16%|█▋        | 198/1215 [08:03<20:37,  1.22s/it]"
     ]
    },
    {
     "name": "stdout",
     "output_type": "stream",
     "text": [
      "Pulling from GBIF API with species key: 4529248\n"
     ]
    },
    {
     "name": "stderr",
     "output_type": "stream",
     "text": [
      " 16%|█▋        | 199/1215 [08:04<19:41,  1.16s/it]"
     ]
    },
    {
     "name": "stdout",
     "output_type": "stream",
     "text": [
      "Pulling from GBIF API with species key: 9418736\n",
      "Pulling from GBIF API with species key: 6531336\n",
      "Pulling from GBIF API with species key: 5126675\n",
      "Pulling from GBIF API with species key: 5798150\n",
      "Pulling from GBIF API with species key: 2125972\n",
      "Pulling from GBIF API with species key: 2137245\n",
      "Pulling from GBIF API with species key: 2160067\n",
      "Pulling from GBIF API with species key: 2479329\n",
      "Pulling from GBIF API with species key: 4548796\n",
      "Pulling from GBIF API with species key: 5218878\n",
      "Pulling from GBIF API with species key: 5795828\n",
      "Pulling from GBIF API with species key: 7368833\n",
      "Pulling from GBIF API with species key: 8708656\n",
      "Pulling from GBIF API with species key: 9281933\n",
      "Pulling from GBIF API with species key: 9436481\n",
      "Pulling from GBIF API with species key: 9592810\n"
     ]
    },
    {
     "name": "stderr",
     "output_type": "stream",
     "text": [
      " 16%|█▋        | 200/1215 [08:09<39:54,  2.36s/it]"
     ]
    },
    {
     "name": "stdout",
     "output_type": "stream",
     "text": [
      "Pulling from GBIF API with species key: 9624777\n"
     ]
    },
    {
     "name": "stderr",
     "output_type": "stream",
     "text": [
      " 17%|█▋        | 203/1215 [08:11<20:30,  1.22s/it]"
     ]
    },
    {
     "name": "stdout",
     "output_type": "stream",
     "text": [
      "Pulling from GBIF API with species key: 1435583\n",
      "Pulling from GBIF API with species key: 7341585\n",
      "Pulling from GBIF API with species key: 1750056\n",
      "Pulling from GBIF API with species key: 2498408\n",
      "Pulling from GBIF API with species key: 2234820\n",
      "Pulling from GBIF API with species key: 2234824\n",
      "Pulling from GBIF API with species key: 2498402\n",
      "Pulling from GBIF API with species key: 1003574\n",
      "Pulling from GBIF API with species key: 1750046\n",
      "Pulling from GBIF API with species key: 2234836\n",
      "Pulling from GBIF API with species key: 2234845\n"
     ]
    },
    {
     "name": "stderr",
     "output_type": "stream",
     "text": [
      " 17%|█▋        | 204/1215 [08:14<33:01,  1.96s/it]"
     ]
    },
    {
     "name": "stdout",
     "output_type": "stream",
     "text": [
      "Pulling from GBIF API with species key: 9480191\n",
      "Pulling from GBIF API with species key: 1043772\n"
     ]
    },
    {
     "name": "stderr",
     "output_type": "stream",
     "text": [
      " 17%|█▋        | 205/1215 [08:16<29:15,  1.74s/it]"
     ]
    },
    {
     "name": "stdout",
     "output_type": "stream",
     "text": [
      "Pulling from GBIF API with species key: 5094615\n"
     ]
    },
    {
     "name": "stderr",
     "output_type": "stream",
     "text": [
      " 17%|█▋        | 207/1215 [08:17<19:31,  1.16s/it]"
     ]
    },
    {
     "name": "stdout",
     "output_type": "stream",
     "text": [
      "Pulling from GBIF API with species key: 2075500\n",
      "Pulling from GBIF API with species key: 1041060\n",
      "Pulling from GBIF API with species key: 1041063\n",
      "Pulling from GBIF API with species key: 1041551\n",
      "Pulling from GBIF API with species key: 10608708\n",
      "Pulling from GBIF API with species key: 12222356\n",
      "Pulling from GBIF API with species key: 4435458\n",
      "Pulling from GBIF API with species key: 4435572\n",
      "Pulling from GBIF API with species key: 4435644\n",
      "Pulling from GBIF API with species key: 4435725\n",
      "Pulling from GBIF API with species key: 4435781\n",
      "Pulling from GBIF API with species key: 4435859\n",
      "Pulling from GBIF API with species key: 4438766\n",
      "Pulling from GBIF API with species key: 4440687\n",
      "Pulling from GBIF API with species key: 4442892\n",
      "Pulling from GBIF API with species key: 4444629\n",
      "Pulling from GBIF API with species key: 4444739\n",
      "Pulling from GBIF API with species key: 4444840\n",
      "Pulling from GBIF API with species key: 4452535\n",
      "Pulling from GBIF API with species key: 4456954\n",
      "Pulling from GBIF API with species key: 4989662\n",
      "Pulling from GBIF API with species key: 4990283\n",
      "Pulling from GBIF API with species key: 5746564\n",
      "Pulling from GBIF API with species key: 5874769\n",
      "Pulling from GBIF API with species key: 5874774\n",
      "Pulling from GBIF API with species key: 5874796\n",
      "Pulling from GBIF API with species key: 5875051\n",
      "Pulling from GBIF API with species key: 6097338\n",
      "Pulling from GBIF API with species key: 6097419\n",
      "Pulling from GBIF API with species key: 6097429\n",
      "Pulling from GBIF API with species key: 6097451\n",
      "Pulling from GBIF API with species key: 6097453\n",
      "Pulling from GBIF API with species key: 6097464\n",
      "Pulling from GBIF API with species key: 6097467\n",
      "Pulling from GBIF API with species key: 6097469\n",
      "Pulling from GBIF API with species key: 6097473\n",
      "Pulling from GBIF API with species key: 6097507\n",
      "Pulling from GBIF API with species key: 6097559\n",
      "Pulling from GBIF API with species key: 6097588\n",
      "Pulling from GBIF API with species key: 6097589\n",
      "Pulling from GBIF API with species key: 6097594\n",
      "Pulling from GBIF API with species key: 6097597\n",
      "Pulling from GBIF API with species key: 6097613\n",
      "Pulling from GBIF API with species key: 6097628\n",
      "Pulling from GBIF API with species key: 6943657\n",
      "Pulling from GBIF API with species key: 7384124\n",
      "Pulling from GBIF API with species key: 7559920\n",
      "Pulling from GBIF API with species key: 7651452\n",
      "Pulling from GBIF API with species key: 7831752\n",
      "Pulling from GBIF API with species key: 7948625\n",
      "Pulling from GBIF API with species key: 8304366\n",
      "Pulling from GBIF API with species key: 9311247\n"
     ]
    },
    {
     "name": "stderr",
     "output_type": "stream",
     "text": [
      " 17%|█▋        | 208/1215 [08:32<1:31:13,  5.44s/it]"
     ]
    },
    {
     "name": "stdout",
     "output_type": "stream",
     "text": [
      "Pulling from GBIF API with species key: 9598378\n"
     ]
    },
    {
     "name": "stderr",
     "output_type": "stream",
     "text": [
      " 17%|█▋        | 209/1215 [08:33<1:05:55,  3.93s/it]"
     ]
    },
    {
     "name": "stdout",
     "output_type": "stream",
     "text": [
      "Pulling from GBIF API with species key: 1605624\n",
      "Pulling from GBIF API with species key: 1673862\n",
      "Pulling from GBIF API with species key: 2010962\n",
      "Pulling from GBIF API with species key: 2034756\n",
      "Pulling from GBIF API with species key: 4464431\n",
      "Pulling from GBIF API with species key: 5746298\n"
     ]
    },
    {
     "name": "stderr",
     "output_type": "stream",
     "text": [
      " 17%|█▋        | 210/1215 [08:36<1:01:03,  3.64s/it]"
     ]
    },
    {
     "name": "stdout",
     "output_type": "stream",
     "text": [
      "Pulling from GBIF API with species key: 7475912\n",
      "Pulling from GBIF API with species key: 2440954\n",
      "Pulling from GBIF API with species key: 4472993\n"
     ]
    },
    {
     "name": "stderr",
     "output_type": "stream",
     "text": [
      " 17%|█▋        | 211/1215 [08:37<49:40,  2.97s/it]  "
     ]
    },
    {
     "name": "stdout",
     "output_type": "stream",
     "text": [
      "Failed: Returned status code of 204, with message: <Response [204]>\n",
      "Error querying GBIF for image tile_51.276213691545394_0.20043697927199544.jpg at coords ('51.276213691545394', '0.20043697927199544'): 'NoneType' object has no attribute 'get'\n",
      "No GBIF data found for image: tile_51.276213691545394_0.20043697927199544.jpg at coords: ('51.276213691545394', '0.20043697927199544')\n",
      "Pulling from GBIF API with species key: 1716462\n",
      "Pulling from GBIF API with species key: 4537138\n",
      "Pulling from GBIF API with species key: 5167151\n",
      "Pulling from GBIF API with species key: 1002086\n",
      "Pulling from GBIF API with species key: 1446650\n",
      "Pulling from GBIF API with species key: 1554360\n",
      "Pulling from GBIF API with species key: 2120313\n",
      "Pulling from GBIF API with species key: 4486328\n",
      "Pulling from GBIF API with species key: 5023190\n",
      "Pulling from GBIF API with species key: 5179130\n",
      "Pulling from GBIF API with species key: 5877723\n",
      "Pulling from GBIF API with species key: 6096912\n",
      "Pulling from GBIF API with species key: 9574654\n"
     ]
    },
    {
     "name": "stderr",
     "output_type": "stream",
     "text": [
      " 17%|█▋        | 212/1215 [08:42<57:55,  3.46s/it]"
     ]
    },
    {
     "name": "stdout",
     "output_type": "stream",
     "text": [
      "Pulling from GBIF API with species key: 9816904\n",
      "Pulling from GBIF API with species key: 2481770\n",
      "Pulling from GBIF API with species key: 5229389\n",
      "Pulling from GBIF API with species key: 8292425\n",
      "Pulling from GBIF API with species key: 2492846\n"
     ]
    },
    {
     "name": "stderr",
     "output_type": "stream",
     "text": [
      " 18%|█▊        | 213/1215 [08:44<50:34,  3.03s/it]"
     ]
    },
    {
     "name": "stdout",
     "output_type": "stream",
     "text": [
      "Pulling from GBIF API with species key: 2498329\n",
      "Pulling from GBIF API with species key: 4491135\n",
      "Pulling from GBIF API with species key: 4491149\n",
      "Pulling from GBIF API with species key: 8307577\n",
      "Pulling from GBIF API with species key: 4490376\n",
      "Pulling from GBIF API with species key: 4491701\n",
      "Pulling from GBIF API with species key: 4449953\n",
      "Pulling from GBIF API with species key: 4491506\n",
      "Pulling from GBIF API with species key: 1237603\n",
      "Pulling from GBIF API with species key: 4433152\n",
      "Pulling from GBIF API with species key: 4457616\n",
      "Pulling from GBIF API with species key: 4490241\n"
     ]
    },
    {
     "name": "stderr",
     "output_type": "stream",
     "text": [
      " 18%|█▊        | 214/1215 [08:48<55:04,  3.30s/it]"
     ]
    },
    {
     "name": "stdout",
     "output_type": "stream",
     "text": [
      "Failed: Returned status code of 204, with message: <Response [204]>\n",
      "Error querying GBIF for image tile_51.33026774559944_-0.47066238937321403.jpg at coords ('51.33026774559944', '-0.47066238937321403'): 'NoneType' object has no attribute 'get'\n",
      "No GBIF data found for image: tile_51.33026774559944_-0.47066238937321403.jpg at coords: ('51.33026774559944', '-0.47066238937321403')\n",
      "Pulling from GBIF API with species key: 1318870\n",
      "Pulling from GBIF API with species key: 1456930\n",
      "Pulling from GBIF API with species key: 1456973\n",
      "Pulling from GBIF API with species key: 1457707\n",
      "Pulling from GBIF API with species key: 1458026\n",
      "Pulling from GBIF API with species key: 1493850\n",
      "Pulling from GBIF API with species key: 1540446\n",
      "Pulling from GBIF API with species key: 1583134\n",
      "Pulling from GBIF API with species key: 1583178\n",
      "Pulling from GBIF API with species key: 1583664\n",
      "Pulling from GBIF API with species key: 1585318\n",
      "Pulling from GBIF API with species key: 1610148\n",
      "Pulling from GBIF API with species key: 1622149\n",
      "Pulling from GBIF API with species key: 1673824\n",
      "Pulling from GBIF API with species key: 2039462\n",
      "Pulling from GBIF API with species key: 10761604\n",
      "Pulling from GBIF API with species key: 1176459\n",
      "Pulling from GBIF API with species key: 1510609\n",
      "Pulling from GBIF API with species key: 1554821\n",
      "Pulling from GBIF API with species key: 1554952\n",
      "Pulling from GBIF API with species key: 1555052\n",
      "Pulling from GBIF API with species key: 2011329\n",
      "Pulling from GBIF API with species key: 2026913\n",
      "Pulling from GBIF API with species key: 2026995\n",
      "Pulling from GBIF API with species key: 2031778\n",
      "Pulling from GBIF API with species key: 2032508\n",
      "Pulling from GBIF API with species key: 2035385\n",
      "Pulling from GBIF API with species key: 2035581\n",
      "Pulling from GBIF API with species key: 2045728\n",
      "Pulling from GBIF API with species key: 2048608\n",
      "Pulling from GBIF API with species key: 2144214\n",
      "Pulling from GBIF API with species key: 2146084\n"
     ]
    },
    {
     "name": "stderr",
     "output_type": "stream",
     "text": [
      " 18%|█▊        | 215/1215 [08:57<1:28:02,  5.28s/it]"
     ]
    },
    {
     "name": "stdout",
     "output_type": "stream",
     "text": [
      "Pulling from GBIF API with species key: 2147274\n"
     ]
    },
    {
     "name": "stderr",
     "output_type": "stream",
     "text": [
      " 18%|█▊        | 217/1215 [08:59<48:18,  2.90s/it]  "
     ]
    },
    {
     "name": "stdout",
     "output_type": "stream",
     "text": [
      "Pulling from GBIF API with species key: 1785895\n"
     ]
    },
    {
     "name": "stderr",
     "output_type": "stream",
     "text": [
      " 18%|█▊        | 218/1215 [08:59<35:58,  2.16s/it]"
     ]
    },
    {
     "name": "stdout",
     "output_type": "stream",
     "text": [
      "Pulling from GBIF API with species key: 4468735\n",
      "Pulling from GBIF API with species key: 4426531\n",
      "Pulling from GBIF API with species key: 4466417\n"
     ]
    },
    {
     "name": "stderr",
     "output_type": "stream",
     "text": [
      " 18%|█▊        | 219/1215 [09:01<32:52,  1.98s/it]"
     ]
    },
    {
     "name": "stdout",
     "output_type": "stream",
     "text": [
      "Pulling from GBIF API with species key: 9915023\n",
      "Pulling from GBIF API with species key: 5791733\n",
      "Pulling from GBIF API with species key: 1552635\n"
     ]
    },
    {
     "name": "stderr",
     "output_type": "stream",
     "text": [
      " 18%|█▊        | 220/1215 [09:02<29:39,  1.79s/it]"
     ]
    },
    {
     "name": "stdout",
     "output_type": "stream",
     "text": [
      "Pulling from GBIF API with species key: 2158383\n",
      "Pulling from GBIF API with species key: 10779094\n",
      "Pulling from GBIF API with species key: 9327916\n",
      "Pulling from GBIF API with species key: 9243284\n",
      "Pulling from GBIF API with species key: 9266366\n",
      "Pulling from GBIF API with species key: 9084194\n",
      "Pulling from GBIF API with species key: 4959797\n",
      "Pulling from GBIF API with species key: 9412040\n",
      "Pulling from GBIF API with species key: 9521122\n",
      "Pulling from GBIF API with species key: 9580396\n",
      "Pulling from GBIF API with species key: 9586989\n",
      "Pulling from GBIF API with species key: 9241167\n",
      "Pulling from GBIF API with species key: 9290333\n",
      "Pulling from GBIF API with species key: 9502544\n",
      "Pulling from GBIF API with species key: 5794101\n",
      "Pulling from GBIF API with species key: 11422893\n",
      "Pulling from GBIF API with species key: 9180509\n",
      "Pulling from GBIF API with species key: 12178062\n",
      "Pulling from GBIF API with species key: 5935557\n",
      "Pulling from GBIF API with species key: 2299639\n",
      "Pulling from GBIF API with species key: 7754858\n",
      "Pulling from GBIF API with species key: 11440554\n",
      "Pulling from GBIF API with species key: 8994424\n",
      "Pulling from GBIF API with species key: 9347132\n",
      "Pulling from GBIF API with species key: 10787590\n",
      "Pulling from GBIF API with species key: 9381797\n",
      "Pulling from GBIF API with species key: 9439468\n",
      "Pulling from GBIF API with species key: 2001474\n",
      "Pulling from GBIF API with species key: 9458308\n",
      "Pulling from GBIF API with species key: 9484209\n",
      "Pulling from GBIF API with species key: 11425443\n",
      "Pulling from GBIF API with species key: 11589497\n",
      "Pulling from GBIF API with species key: 2003049\n",
      "Pulling from GBIF API with species key: 5872127\n",
      "Pulling from GBIF API with species key: 9303451\n",
      "Pulling from GBIF API with species key: 9407477\n",
      "Pulling from GBIF API with species key: 9447351\n",
      "Pulling from GBIF API with species key: 9524062\n"
     ]
    },
    {
     "name": "stderr",
     "output_type": "stream",
     "text": [
      " 18%|█▊        | 221/1215 [09:13<1:17:26,  4.67s/it]"
     ]
    },
    {
     "name": "stdout",
     "output_type": "stream",
     "text": [
      "Pulling from GBIF API with species key: 9616836\n"
     ]
    },
    {
     "name": "stderr",
     "output_type": "stream",
     "text": [
      " 18%|█▊        | 222/1215 [09:14<56:18,  3.40s/it]  "
     ]
    },
    {
     "name": "stdout",
     "output_type": "stream",
     "text": [
      "Pulling from GBIF API with species key: 4475127\n",
      "Pulling from GBIF API with species key: 5780449\n",
      "Pulling from GBIF API with species key: 4411121\n",
      "Pulling from GBIF API with species key: 1520873\n",
      "Pulling from GBIF API with species key: 2219867\n",
      "Pulling from GBIF API with species key: 4428232\n",
      "Pulling from GBIF API with species key: 4470298\n",
      "Pulling from GBIF API with species key: 5745032\n",
      "Pulling from GBIF API with species key: 5745443\n",
      "Pulling from GBIF API with species key: 5753427\n",
      "Pulling from GBIF API with species key: 6097321\n",
      "Pulling from GBIF API with species key: 6943269\n"
     ]
    },
    {
     "name": "stderr",
     "output_type": "stream",
     "text": [
      " 18%|█▊        | 223/1215 [09:19<1:02:50,  3.80s/it]"
     ]
    },
    {
     "name": "stdout",
     "output_type": "stream",
     "text": [
      "Pulling from GBIF API with species key: 7386618\n",
      "Pulling from GBIF API with species key: 6871831\n",
      "Pulling from GBIF API with species key: 1861331\n",
      "Pulling from GBIF API with species key: 2010164\n",
      "Pulling from GBIF API with species key: 2137333\n",
      "Pulling from GBIF API with species key: 2143869\n",
      "Pulling from GBIF API with species key: 2159883\n",
      "Pulling from GBIF API with species key: 4486851\n",
      "Pulling from GBIF API with species key: 4494283\n",
      "Pulling from GBIF API with species key: 5168243\n",
      "Pulling from GBIF API with species key: 5169432\n",
      "Pulling from GBIF API with species key: 5984871\n",
      "Pulling from GBIF API with species key: 6097744\n"
     ]
    },
    {
     "name": "stderr",
     "output_type": "stream",
     "text": [
      " 18%|█▊        | 224/1215 [09:23<1:05:29,  3.96s/it]"
     ]
    },
    {
     "name": "stdout",
     "output_type": "stream",
     "text": [
      "Pulling from GBIF API with species key: 8326950\n"
     ]
    },
    {
     "name": "stderr",
     "output_type": "stream",
     "text": [
      " 19%|█▊        | 225/1215 [09:23<48:20,  2.93s/it]  "
     ]
    },
    {
     "name": "stdout",
     "output_type": "stream",
     "text": [
      "Pulling from GBIF API with species key: 2014765\n",
      "Pulling from GBIF API with species key: 1482157\n",
      "Pulling from GBIF API with species key: 1931779\n",
      "Pulling from GBIF API with species key: 8600687\n",
      "Pulling from GBIF API with species key: 9395376\n"
     ]
    },
    {
     "name": "stderr",
     "output_type": "stream",
     "text": [
      " 19%|█▊        | 226/1215 [09:26<45:15,  2.75s/it]"
     ]
    },
    {
     "name": "stdout",
     "output_type": "stream",
     "text": [
      "Pulling from GBIF API with species key: 9435872\n",
      "Pulling from GBIF API with species key: 9345027\n",
      "Pulling from GBIF API with species key: 11181636\n",
      "Pulling from GBIF API with species key: 1204491\n",
      "Pulling from GBIF API with species key: 1355107\n",
      "Pulling from GBIF API with species key: 2029068\n",
      "Pulling from GBIF API with species key: 4483099\n",
      "Pulling from GBIF API with species key: 4483858\n",
      "Pulling from GBIF API with species key: 4483868\n",
      "Pulling from GBIF API with species key: 4486442\n",
      "Pulling from GBIF API with species key: 4488059\n",
      "Pulling from GBIF API with species key: 4488178\n",
      "Pulling from GBIF API with species key: 4494379\n",
      "Pulling from GBIF API with species key: 4494856\n",
      "Pulling from GBIF API with species key: 5758903\n"
     ]
    },
    {
     "name": "stderr",
     "output_type": "stream",
     "text": [
      " 19%|█▊        | 227/1215 [09:31<55:47,  3.39s/it]"
     ]
    },
    {
     "name": "stdout",
     "output_type": "stream",
     "text": [
      "Pulling from GBIF API with species key: 8414437\n",
      "Pulling from GBIF API with species key: 1833125\n",
      "Pulling from GBIF API with species key: 1790160\n"
     ]
    },
    {
     "name": "stderr",
     "output_type": "stream",
     "text": [
      " 19%|█▉        | 228/1215 [09:32<45:42,  2.78s/it]"
     ]
    },
    {
     "name": "stdout",
     "output_type": "stream",
     "text": [
      "Pulling from GBIF API with species key: 4452600\n",
      "Pulling from GBIF API with species key: 2127407\n",
      "Pulling from GBIF API with species key: 5102541\n",
      "Pulling from GBIF API with species key: 5121296\n",
      "Pulling from GBIF API with species key: 5769768\n"
     ]
    },
    {
     "name": "stderr",
     "output_type": "stream",
     "text": [
      " 19%|█▉        | 229/1215 [09:34<41:19,  2.51s/it]"
     ]
    },
    {
     "name": "stdout",
     "output_type": "stream",
     "text": [
      "Pulling from GBIF API with species key: 5769827\n",
      "Pulling from GBIF API with species key: 1095739\n"
     ]
    },
    {
     "name": "stderr",
     "output_type": "stream",
     "text": [
      " 19%|█▉        | 230/1215 [09:35<34:37,  2.11s/it]"
     ]
    },
    {
     "name": "stdout",
     "output_type": "stream",
     "text": [
      "Failed: Returned status code of 204, with message: <Response [204]>\n",
      "Error querying GBIF for image tile_51.519456934788636_-0.1459368884158546.jpg at coords ('51.519456934788636', '-0.1459368884158546'): 'NoneType' object has no attribute 'get'\n",
      "No GBIF data found for image: tile_51.519456934788636_-0.1459368884158546.jpg at coords: ('51.519456934788636', '-0.1459368884158546')\n"
     ]
    },
    {
     "name": "stderr",
     "output_type": "stream",
     "text": [
      " 19%|█▉        | 231/1215 [09:35<26:36,  1.62s/it]"
     ]
    },
    {
     "name": "stdout",
     "output_type": "stream",
     "text": [
      "Pulling from GBIF API with species key: 4496979\n",
      "Pulling from GBIF API with species key: 10456887\n",
      "Pulling from GBIF API with species key: 12005640\n",
      "Pulling from GBIF API with species key: 12166552\n",
      "Pulling from GBIF API with species key: 1445107\n",
      "Pulling from GBIF API with species key: 1457965\n",
      "Pulling from GBIF API with species key: 1458957\n",
      "Pulling from GBIF API with species key: 1522334\n",
      "Pulling from GBIF API with species key: 1529129\n",
      "Pulling from GBIF API with species key: 1545012\n",
      "Pulling from GBIF API with species key: 1545916\n",
      "Pulling from GBIF API with species key: 1588949\n",
      "Pulling from GBIF API with species key: 1749775\n",
      "Pulling from GBIF API with species key: 2046571\n",
      "Pulling from GBIF API with species key: 2077332\n",
      "Pulling from GBIF API with species key: 2135986\n",
      "Pulling from GBIF API with species key: 5073565\n",
      "Pulling from GBIF API with species key: 5079406\n",
      "Pulling from GBIF API with species key: 5079638\n",
      "Pulling from GBIF API with species key: 5080407\n",
      "Pulling from GBIF API with species key: 5094619\n",
      "Pulling from GBIF API with species key: 5094683\n",
      "Pulling from GBIF API with species key: 5102455\n",
      "Pulling from GBIF API with species key: 5102459\n",
      "Pulling from GBIF API with species key: 5194017\n",
      "Pulling from GBIF API with species key: 5769734\n",
      "Pulling from GBIF API with species key: 5769751\n"
     ]
    },
    {
     "name": "stderr",
     "output_type": "stream",
     "text": [
      " 19%|█▉        | 232/1215 [09:44<1:01:26,  3.75s/it]"
     ]
    },
    {
     "name": "stdout",
     "output_type": "stream",
     "text": [
      "Pulling from GBIF API with species key: 7457167\n",
      "Pulling from GBIF API with species key: 2137834\n",
      "Pulling from GBIF API with species key: 6913604\n"
     ]
    },
    {
     "name": "stderr",
     "output_type": "stream",
     "text": [
      " 19%|█▉        | 233/1215 [09:46<49:29,  3.02s/it]  "
     ]
    },
    {
     "name": "stdout",
     "output_type": "stream",
     "text": [
      "Pulling from GBIF API with species key: 7576840\n"
     ]
    },
    {
     "name": "stderr",
     "output_type": "stream",
     "text": [
      " 19%|█▉        | 236/1215 [09:47<22:20,  1.37s/it]"
     ]
    },
    {
     "name": "stdout",
     "output_type": "stream",
     "text": [
      "Pulling from GBIF API with species key: 7964291\n",
      "Pulling from GBIF API with species key: 4433298\n"
     ]
    },
    {
     "name": "stderr",
     "output_type": "stream",
     "text": [
      " 20%|█▉        | 237/1215 [09:48<22:23,  1.37s/it]"
     ]
    },
    {
     "name": "stdout",
     "output_type": "stream",
     "text": [
      "Pulling from GBIF API with species key: 4440179\n",
      "Pulling from GBIF API with species key: 7690198\n"
     ]
    },
    {
     "name": "stderr",
     "output_type": "stream",
     "text": [
      " 20%|█▉        | 238/1215 [09:50<20:46,  1.28s/it]"
     ]
    },
    {
     "name": "stdout",
     "output_type": "stream",
     "text": [
      "Pulling from GBIF API with species key: 8463617\n",
      "Pulling from GBIF API with species key: 1042354\n",
      "Pulling from GBIF API with species key: 2011697\n"
     ]
    },
    {
     "name": "stderr",
     "output_type": "stream",
     "text": [
      " 20%|█▉        | 239/1215 [09:51<21:35,  1.33s/it]"
     ]
    },
    {
     "name": "stdout",
     "output_type": "stream",
     "text": [
      "Failed: Returned status code of 204, with message: <Response [204]>\n",
      "Error querying GBIF for image tile_51.316754232085934_-0.47066238937321403.jpg at coords ('51.316754232085934', '-0.47066238937321403'): 'NoneType' object has no attribute 'get'\n",
      "No GBIF data found for image: tile_51.316754232085934_-0.47066238937321403.jpg at coords: ('51.316754232085934', '-0.47066238937321403')\n",
      "Pulling from GBIF API with species key: 5816532\n",
      "Pulling from GBIF API with species key: 2078399\n",
      "Pulling from GBIF API with species key: 1036779\n",
      "Pulling from GBIF API with species key: 10541663\n",
      "Pulling from GBIF API with species key: 1454091\n",
      "Pulling from GBIF API with species key: 2308425\n",
      "Pulling from GBIF API with species key: 2372381\n",
      "Pulling from GBIF API with species key: 2480352\n",
      "Pulling from GBIF API with species key: 4285694\n",
      "Pulling from GBIF API with species key: 5053644\n",
      "Pulling from GBIF API with species key: 5220114\n",
      "Pulling from GBIF API with species key: 6065811\n"
     ]
    },
    {
     "name": "stderr",
     "output_type": "stream",
     "text": [
      " 20%|█▉        | 240/1215 [09:55<36:17,  2.23s/it]"
     ]
    },
    {
     "name": "stdout",
     "output_type": "stream",
     "text": [
      "Pulling from GBIF API with species key: 8288896\n"
     ]
    },
    {
     "name": "stderr",
     "output_type": "stream",
     "text": [
      " 20%|█▉        | 242/1215 [09:56<21:43,  1.34s/it]"
     ]
    },
    {
     "name": "stdout",
     "output_type": "stream",
     "text": [
      "Pulling from GBIF API with species key: 2441247\n",
      "Pulling from GBIF API with species key: 10060703\n",
      "Pulling from GBIF API with species key: 10874796\n",
      "Pulling from GBIF API with species key: 1237492\n",
      "Pulling from GBIF API with species key: 7888781\n"
     ]
    },
    {
     "name": "stderr",
     "output_type": "stream",
     "text": [
      " 20%|██        | 243/1215 [09:59<26:29,  1.63s/it]"
     ]
    },
    {
     "name": "stdout",
     "output_type": "stream",
     "text": [
      "Pulling from GBIF API with species key: 8658998\n"
     ]
    },
    {
     "name": "stderr",
     "output_type": "stream",
     "text": [
      " 20%|██        | 245/1215 [10:00<16:45,  1.04s/it]"
     ]
    },
    {
     "name": "stdout",
     "output_type": "stream",
     "text": [
      "Pulling from GBIF API with species key: 8162832\n",
      "Pulling from GBIF API with species key: 1014409\n",
      "Pulling from GBIF API with species key: 2120380\n",
      "Pulling from GBIF API with species key: 1015472\n",
      "Pulling from GBIF API with species key: 10425513\n",
      "Pulling from GBIF API with species key: 1291754\n",
      "Pulling from GBIF API with species key: 2013904\n",
      "Pulling from GBIF API with species key: 2073121\n",
      "Pulling from GBIF API with species key: 2121093\n",
      "Pulling from GBIF API with species key: 2121936\n",
      "Pulling from GBIF API with species key: 2121999\n",
      "Pulling from GBIF API with species key: 2174528\n",
      "Pulling from GBIF API with species key: 2308574\n",
      "Pulling from GBIF API with species key: 2433451\n",
      "Pulling from GBIF API with species key: 4309152\n",
      "Pulling from GBIF API with species key: 5167583\n",
      "Pulling from GBIF API with species key: 9481124\n",
      "Pulling from GBIF API with species key: 9519244\n",
      "Pulling from GBIF API with species key: 9563332\n"
     ]
    },
    {
     "name": "stderr",
     "output_type": "stream",
     "text": [
      " 20%|██        | 246/1215 [10:06<43:03,  2.67s/it]"
     ]
    },
    {
     "name": "stdout",
     "output_type": "stream",
     "text": [
      "Pulling from GBIF API with species key: 9768940\n",
      "Pulling from GBIF API with species key: 2120366\n",
      "Pulling from GBIF API with species key: 4568253\n",
      "Pulling from GBIF API with species key: 5749270\n",
      "Pulling from GBIF API with species key: 2120368\n",
      "Pulling from GBIF API with species key: 4447987\n",
      "Pulling from GBIF API with species key: 4562072\n",
      "Pulling from GBIF API with species key: 6097919\n",
      "Pulling from GBIF API with species key: 1195632\n",
      "Pulling from GBIF API with species key: 1441886\n",
      "Pulling from GBIF API with species key: 2102037\n",
      "Pulling from GBIF API with species key: 2120321\n",
      "Pulling from GBIF API with species key: 4433594\n",
      "Pulling from GBIF API with species key: 4537150\n",
      "Pulling from GBIF API with species key: 4538269\n",
      "Pulling from GBIF API with species key: 6097327\n",
      "Pulling from GBIF API with species key: 8053958\n",
      "Pulling from GBIF API with species key: 1000940\n",
      "Pulling from GBIF API with species key: 1001837\n",
      "Pulling from GBIF API with species key: 1034668\n",
      "Pulling from GBIF API with species key: 11950141\n",
      "Pulling from GBIF API with species key: 1787504\n",
      "Pulling from GBIF API with species key: 2097056\n",
      "Pulling from GBIF API with species key: 2108812\n",
      "Pulling from GBIF API with species key: 2119934\n",
      "Pulling from GBIF API with species key: 2120605\n",
      "Pulling from GBIF API with species key: 2121101\n",
      "Pulling from GBIF API with species key: 2121452\n",
      "Pulling from GBIF API with species key: 2121532\n",
      "Pulling from GBIF API with species key: 4427234\n",
      "Pulling from GBIF API with species key: 4438216\n",
      "Pulling from GBIF API with species key: 4456638\n",
      "Pulling from GBIF API with species key: 4472907\n",
      "Pulling from GBIF API with species key: 4485896\n",
      "Pulling from GBIF API with species key: 4537535\n",
      "Pulling from GBIF API with species key: 4538433\n",
      "Pulling from GBIF API with species key: 4538717\n",
      "Pulling from GBIF API with species key: 4539165\n",
      "Pulling from GBIF API with species key: 4539194\n",
      "Pulling from GBIF API with species key: 4539531\n"
     ]
    },
    {
     "name": "stderr",
     "output_type": "stream",
     "text": [
      " 20%|██        | 247/1215 [10:18<1:28:34,  5.49s/it]"
     ]
    },
    {
     "name": "stdout",
     "output_type": "stream",
     "text": [
      "Pulling from GBIF API with species key: 4640399\n",
      "Pulling from GBIF API with species key: 4438593\n",
      "Pulling from GBIF API with species key: 4442346\n",
      "Pulling from GBIF API with species key: 4470051\n",
      "Pulling from GBIF API with species key: 4487073\n",
      "Pulling from GBIF API with species key: 4487908\n",
      "Pulling from GBIF API with species key: 4488778\n",
      "Pulling from GBIF API with species key: 4490821\n",
      "Pulling from GBIF API with species key: 4490995\n",
      "Pulling from GBIF API with species key: 4491515\n",
      "Pulling from GBIF API with species key: 4494301\n",
      "Pulling from GBIF API with species key: 4494902\n",
      "Pulling from GBIF API with species key: 4505795\n",
      "Pulling from GBIF API with species key: 5035862\n",
      "Pulling from GBIF API with species key: 5064021\n",
      "Pulling from GBIF API with species key: 5154733\n",
      "Pulling from GBIF API with species key: 5759844\n",
      "Pulling from GBIF API with species key: 5870042\n",
      "Pulling from GBIF API with species key: 6097020\n",
      "Pulling from GBIF API with species key: 6097080\n",
      "Pulling from GBIF API with species key: 6097085\n",
      "Pulling from GBIF API with species key: 6097095\n",
      "Pulling from GBIF API with species key: 7535068\n",
      "Pulling from GBIF API with species key: 8363314\n",
      "Pulling from GBIF API with species key: 9245970\n"
     ]
    },
    {
     "name": "stderr",
     "output_type": "stream",
     "text": [
      " 20%|██        | 248/1215 [10:26<1:38:38,  6.12s/it]"
     ]
    },
    {
     "name": "stdout",
     "output_type": "stream",
     "text": [
      "Pulling from GBIF API with species key: 9710800\n",
      "Pulling from GBIF API with species key: 5880559\n",
      "Pulling from GBIF API with species key: 1237508\n",
      "Pulling from GBIF API with species key: 1673969\n"
     ]
    },
    {
     "name": "stderr",
     "output_type": "stream",
     "text": [
      " 20%|██        | 249/1215 [10:27<1:17:00,  4.78s/it]"
     ]
    },
    {
     "name": "stdout",
     "output_type": "stream",
     "text": [
      "Failed: Returned status code of 204, with message: <Response [204]>\n",
      "Error querying GBIF for image tile_51.397835313167015_0.22208534600248608.jpg at coords ('51.397835313167015', '0.22208534600248608'): 'NoneType' object has no attribute 'get'\n",
      "No GBIF data found for image: tile_51.397835313167015_0.22208534600248608.jpg at coords: ('51.397835313167015', '0.22208534600248608')\n"
     ]
    },
    {
     "name": "stderr",
     "output_type": "stream",
     "text": [
      " 21%|██        | 252/1215 [10:29<32:57,  2.05s/it]  "
     ]
    },
    {
     "name": "stdout",
     "output_type": "stream",
     "text": [
      "Pulling from GBIF API with species key: 9185677\n"
     ]
    },
    {
     "name": "stderr",
     "output_type": "stream",
     "text": [
      " 21%|██        | 253/1215 [10:30<25:14,  1.57s/it]"
     ]
    },
    {
     "name": "stdout",
     "output_type": "stream",
     "text": [
      "Pulling from GBIF API with species key: 1645185\n",
      "Pulling from GBIF API with species key: 4527259\n",
      "Pulling from GBIF API with species key: 1445084\n",
      "Pulling from GBIF API with species key: 1457990\n",
      "Pulling from GBIF API with species key: 1489315\n",
      "Pulling from GBIF API with species key: 1492230\n",
      "Pulling from GBIF API with species key: 1608214\n",
      "Pulling from GBIF API with species key: 1611468\n",
      "Pulling from GBIF API with species key: 1627975\n",
      "Pulling from GBIF API with species key: 4430641\n",
      "Pulling from GBIF API with species key: 4505101\n",
      "Pulling from GBIF API with species key: 5056234\n",
      "Pulling from GBIF API with species key: 5073460\n",
      "Pulling from GBIF API with species key: 5074094\n",
      "Pulling from GBIF API with species key: 6098422\n",
      "Pulling from GBIF API with species key: 9411943\n",
      "Pulling from GBIF API with species key: 1489196\n",
      "Pulling from GBIF API with species key: 1529582\n",
      "Pulling from GBIF API with species key: 1552074\n",
      "Pulling from GBIF API with species key: 1575258\n",
      "Pulling from GBIF API with species key: 1575270\n",
      "Pulling from GBIF API with species key: 1576041\n",
      "Pulling from GBIF API with species key: 1587742\n",
      "Pulling from GBIF API with species key: 1739077\n",
      "Pulling from GBIF API with species key: 2134780\n",
      "Pulling from GBIF API with species key: 2138707\n",
      "Pulling from GBIF API with species key: 4467994\n",
      "Pulling from GBIF API with species key: 5079286\n",
      "Pulling from GBIF API with species key: 5168410\n",
      "Pulling from GBIF API with species key: 5979635\n",
      "Pulling from GBIF API with species key: 7844803\n"
     ]
    },
    {
     "name": "stderr",
     "output_type": "stream",
     "text": [
      " 21%|██        | 254/1215 [10:40<1:05:51,  4.11s/it]"
     ]
    },
    {
     "name": "stdout",
     "output_type": "stream",
     "text": [
      "Pulling from GBIF API with species key: 9734171\n"
     ]
    },
    {
     "name": "stderr",
     "output_type": "stream",
     "text": [
      " 21%|██        | 255/1215 [10:40<48:52,  3.05s/it]  "
     ]
    },
    {
     "name": "stdout",
     "output_type": "stream",
     "text": [
      "Pulling from GBIF API with species key: 1554738\n",
      "Pulling from GBIF API with species key: 1001487\n",
      "Pulling from GBIF API with species key: 1002869\n"
     ]
    },
    {
     "name": "stderr",
     "output_type": "stream",
     "text": [
      " 21%|██        | 256/1215 [10:42<42:10,  2.64s/it]"
     ]
    },
    {
     "name": "stdout",
     "output_type": "stream",
     "text": [
      "Pulling from GBIF API with species key: 1003155\n",
      "Pulling from GBIF API with species key: 1371606\n",
      "Pulling from GBIF API with species key: 1371874\n"
     ]
    },
    {
     "name": "stderr",
     "output_type": "stream",
     "text": [
      " 21%|██        | 257/1215 [10:43<35:42,  2.24s/it]"
     ]
    },
    {
     "name": "stdout",
     "output_type": "stream",
     "text": [
      "Pulling from GBIF API with species key: 1854347\n"
     ]
    },
    {
     "name": "stderr",
     "output_type": "stream",
     "text": [
      " 21%|██▏       | 260/1215 [10:45<19:00,  1.19s/it]"
     ]
    },
    {
     "name": "stdout",
     "output_type": "stream",
     "text": [
      "Pulling from GBIF API with species key: 2498007\n",
      "Pulling from GBIF API with species key: 2498335\n",
      "Pulling from GBIF API with species key: 4417403\n",
      "Pulling from GBIF API with species key: 2217990\n",
      "Pulling from GBIF API with species key: 4530002\n"
     ]
    },
    {
     "name": "stderr",
     "output_type": "stream",
     "text": [
      " 21%|██▏       | 261/1215 [10:47<22:39,  1.42s/it]"
     ]
    },
    {
     "name": "stdout",
     "output_type": "stream",
     "text": [
      "Pulling from GBIF API with species key: 8836946\n"
     ]
    },
    {
     "name": "stderr",
     "output_type": "stream",
     "text": [
      " 22%|██▏       | 265/1215 [10:49<11:35,  1.37it/s]"
     ]
    },
    {
     "name": "stdout",
     "output_type": "stream",
     "text": [
      "Pulling from GBIF API with species key: 1442540\n",
      "Pulling from GBIF API with species key: 1875952\n",
      "Pulling from GBIF API with species key: 1164369\n",
      "Pulling from GBIF API with species key: 1587715\n",
      "Pulling from GBIF API with species key: 2056082\n",
      "Pulling from GBIF API with species key: 4489399\n",
      "Pulling from GBIF API with species key: 4490833\n",
      "Pulling from GBIF API with species key: 5068291\n",
      "Pulling from GBIF API with species key: 5759661\n",
      "Pulling from GBIF API with species key: 5759671\n",
      "Pulling from GBIF API with species key: 5766439\n",
      "Pulling from GBIF API with species key: 5982841\n",
      "Pulling from GBIF API with species key: 6097075\n",
      "Pulling from GBIF API with species key: 6097100\n"
     ]
    },
    {
     "name": "stderr",
     "output_type": "stream",
     "text": [
      " 22%|██▏       | 266/1215 [10:54<30:48,  1.95s/it]"
     ]
    },
    {
     "name": "stdout",
     "output_type": "stream",
     "text": [
      "Pulling from GBIF API with species key: 8324364\n"
     ]
    },
    {
     "name": "stderr",
     "output_type": "stream",
     "text": [
      " 22%|██▏       | 268/1215 [10:56<25:53,  1.64s/it]"
     ]
    },
    {
     "name": "stdout",
     "output_type": "stream",
     "text": [
      "Pulling from GBIF API with species key: 9566132\n"
     ]
    },
    {
     "name": "stderr",
     "output_type": "stream",
     "text": [
      " 22%|██▏       | 269/1215 [10:57<20:25,  1.30s/it]"
     ]
    },
    {
     "name": "stdout",
     "output_type": "stream",
     "text": [
      "Pulling from GBIF API with species key: 2127270\n",
      "Pulling from GBIF API with species key: 5094502\n",
      "Pulling from GBIF API with species key: 2233599\n",
      "Pulling from GBIF API with species key: 2498262\n",
      "Pulling from GBIF API with species key: 4391866\n",
      "Pulling from GBIF API with species key: 5019070\n",
      "Pulling from GBIF API with species key: 5188626\n",
      "Pulling from GBIF API with species key: 7487997\n",
      "Pulling from GBIF API with species key: 1000778\n",
      "Pulling from GBIF API with species key: 1001461\n",
      "Pulling from GBIF API with species key: 1002126\n",
      "Pulling from GBIF API with species key: 1002906\n",
      "Pulling from GBIF API with species key: 1002971\n",
      "Pulling from GBIF API with species key: 1003039\n",
      "Pulling from GBIF API with species key: 10780412\n",
      "Pulling from GBIF API with species key: 1553722\n",
      "Pulling from GBIF API with species key: 2036304\n",
      "Pulling from GBIF API with species key: 2056867\n",
      "Pulling from GBIF API with species key: 2102097\n",
      "Pulling from GBIF API with species key: 2479146\n",
      "Pulling from GBIF API with species key: 2504361\n",
      "Pulling from GBIF API with species key: 4414329\n",
      "Pulling from GBIF API with species key: 4456441\n",
      "Pulling from GBIF API with species key: 4468550\n",
      "Pulling from GBIF API with species key: 4469924\n",
      "Pulling from GBIF API with species key: 4490309\n"
     ]
    },
    {
     "name": "stderr",
     "output_type": "stream",
     "text": [
      " 22%|██▏       | 270/1215 [11:05<53:19,  3.39s/it]"
     ]
    },
    {
     "name": "stdout",
     "output_type": "stream",
     "text": [
      "Pulling from GBIF API with species key: 4495042\n"
     ]
    },
    {
     "name": "stderr",
     "output_type": "stream",
     "text": [
      " 22%|██▏       | 271/1215 [11:05<39:07,  2.49s/it]"
     ]
    },
    {
     "name": "stdout",
     "output_type": "stream",
     "text": [
      "Pulling from GBIF API with species key: 1984083\n",
      "Pulling from GBIF API with species key: 8037117\n",
      "Pulling from GBIF API with species key: 4491734\n",
      "Pulling from GBIF API with species key: 4500514\n",
      "Pulling from GBIF API with species key: 5144318\n",
      "Pulling from GBIF API with species key: 5159020\n",
      "Pulling from GBIF API with species key: 1643658\n",
      "Pulling from GBIF API with species key: 1873780\n",
      "Pulling from GBIF API with species key: 1977007\n",
      "Pulling from GBIF API with species key: 1978977\n",
      "Pulling from GBIF API with species key: 2502885\n",
      "Pulling from GBIF API with species key: 4490381\n",
      "Pulling from GBIF API with species key: 4490761\n",
      "Pulling from GBIF API with species key: 4490887\n",
      "Pulling from GBIF API with species key: 4491333\n",
      "Pulling from GBIF API with species key: 4491609\n",
      "Pulling from GBIF API with species key: 4491845\n",
      "Pulling from GBIF API with species key: 4492326\n",
      "Pulling from GBIF API with species key: 4532508\n",
      "Pulling from GBIF API with species key: 5868045\n",
      "Pulling from GBIF API with species key: 5868167\n",
      "Pulling from GBIF API with species key: 6097069\n",
      "Pulling from GBIF API with species key: 7414713\n"
     ]
    },
    {
     "name": "stderr",
     "output_type": "stream",
     "text": [
      " 22%|██▏       | 272/1215 [11:15<1:11:54,  4.58s/it]"
     ]
    },
    {
     "name": "stdout",
     "output_type": "stream",
     "text": [
      "Pulling from GBIF API with species key: 8492027\n",
      "Pulling from GBIF API with species key: 1647381\n",
      "Pulling from GBIF API with species key: 1674608\n",
      "Pulling from GBIF API with species key: 2039296\n",
      "Pulling from GBIF API with species key: 4481489\n",
      "Pulling from GBIF API with species key: 4488691\n"
     ]
    },
    {
     "name": "stderr",
     "output_type": "stream",
     "text": [
      " 22%|██▏       | 273/1215 [11:17<1:00:43,  3.87s/it]"
     ]
    },
    {
     "name": "stdout",
     "output_type": "stream",
     "text": [
      "Pulling from GBIF API with species key: 7947330\n",
      "Pulling from GBIF API with species key: 1351335\n",
      "Pulling from GBIF API with species key: 1354819\n",
      "Pulling from GBIF API with species key: 4494362\n"
     ]
    },
    {
     "name": "stderr",
     "output_type": "stream",
     "text": [
      " 23%|██▎       | 274/1215 [11:19<50:24,  3.21s/it]  "
     ]
    },
    {
     "name": "stdout",
     "output_type": "stream",
     "text": [
      "Pulling from GBIF API with species key: 4494882\n",
      "Pulling from GBIF API with species key: 7582240\n",
      "Pulling from GBIF API with species key: 1277489\n",
      "Pulling from GBIF API with species key: 1747738\n",
      "Pulling from GBIF API with species key: 4429494\n"
     ]
    },
    {
     "name": "stderr",
     "output_type": "stream",
     "text": [
      " 23%|██▎       | 275/1215 [11:21<44:31,  2.84s/it]"
     ]
    },
    {
     "name": "stdout",
     "output_type": "stream",
     "text": [
      "Pulling from GBIF API with species key: 4458527\n"
     ]
    },
    {
     "name": "stderr",
     "output_type": "stream",
     "text": [
      " 23%|██▎       | 277/1215 [11:23<29:06,  1.86s/it]"
     ]
    },
    {
     "name": "stdout",
     "output_type": "stream",
     "text": [
      "Pulling from GBIF API with species key: 5101678\n",
      "Pulling from GBIF API with species key: 10765511\n",
      "Pulling from GBIF API with species key: 4514182\n"
     ]
    },
    {
     "name": "stderr",
     "output_type": "stream",
     "text": [
      " 23%|██▎       | 278/1215 [11:24<27:00,  1.73s/it]"
     ]
    },
    {
     "name": "stdout",
     "output_type": "stream",
     "text": [
      "Pulling from GBIF API with species key: 8224548\n",
      "Pulling from GBIF API with species key: 11808090\n",
      "Pulling from GBIF API with species key: 7873443\n",
      "Pulling from GBIF API with species key: 4609662\n",
      "Pulling from GBIF API with species key: 11731114\n",
      "Pulling from GBIF API with species key: 1597401\n",
      "Pulling from GBIF API with species key: 1631463\n",
      "Pulling from GBIF API with species key: 1649571\n"
     ]
    },
    {
     "name": "stderr",
     "output_type": "stream",
     "text": [
      " 23%|██▎       | 279/1215 [11:27<32:18,  2.07s/it]"
     ]
    },
    {
     "name": "stdout",
     "output_type": "stream",
     "text": [
      "Pulling from GBIF API with species key: 5794394\n",
      "Pulling from GBIF API with species key: 10414829\n",
      "Pulling from GBIF API with species key: 1343416\n"
     ]
    },
    {
     "name": "stderr",
     "output_type": "stream",
     "text": [
      " 23%|██▎       | 280/1215 [11:28<29:11,  1.87s/it]"
     ]
    },
    {
     "name": "stdout",
     "output_type": "stream",
     "text": [
      "Pulling from GBIF API with species key: 4518697\n"
     ]
    },
    {
     "name": "stderr",
     "output_type": "stream",
     "text": [
      " 23%|██▎       | 281/1215 [11:29<22:31,  1.45s/it]"
     ]
    },
    {
     "name": "stdout",
     "output_type": "stream",
     "text": [
      "Pulling from GBIF API with species key: 1000863\n"
     ]
    },
    {
     "name": "stderr",
     "output_type": "stream",
     "text": [
      " 23%|██▎       | 282/1215 [11:30<20:10,  1.30s/it]"
     ]
    },
    {
     "name": "stdout",
     "output_type": "stream",
     "text": [
      "Pulling from GBIF API with species key: 2134627\n"
     ]
    },
    {
     "name": "stderr",
     "output_type": "stream",
     "text": [
      " 23%|██▎       | 283/1215 [11:30<17:59,  1.16s/it]"
     ]
    },
    {
     "name": "stdout",
     "output_type": "stream",
     "text": [
      "Failed: Returned status code of 204, with message: <Response [204]>\n",
      "Error querying GBIF for image tile_51.276213691545394_0.1787886125415048.jpg at coords ('51.276213691545394', '0.1787886125415048'): 'NoneType' object has no attribute 'get'\n",
      "No GBIF data found for image: tile_51.276213691545394_0.1787886125415048.jpg at coords: ('51.276213691545394', '0.1787886125415048')\n",
      "Pulling from GBIF API with species key: 2295425\n"
     ]
    },
    {
     "name": "stderr",
     "output_type": "stream",
     "text": [
      " 23%|██▎       | 284/1215 [11:31<17:27,  1.12s/it]"
     ]
    },
    {
     "name": "stdout",
     "output_type": "stream",
     "text": [
      "Pulling from GBIF API with species key: 5118896\n",
      "Pulling from GBIF API with species key: 5936340\n",
      "Pulling from GBIF API with species key: 9364807\n",
      "Pulling from GBIF API with species key: 4590281\n",
      "Pulling from GBIF API with species key: 5743494\n",
      "Pulling from GBIF API with species key: 1201267\n",
      "Pulling from GBIF API with species key: 4434131\n",
      "Pulling from GBIF API with species key: 4427738\n",
      "Pulling from GBIF API with species key: 4974095\n",
      "Pulling from GBIF API with species key: 5936307\n",
      "Pulling from GBIF API with species key: 9314300\n",
      "Pulling from GBIF API with species key: 9623492\n",
      "Pulling from GBIF API with species key: 1571642\n",
      "Pulling from GBIF API with species key: 4974057\n",
      "Pulling from GBIF API with species key: 4974788\n",
      "Pulling from GBIF API with species key: 4974961\n",
      "Pulling from GBIF API with species key: 8461468\n",
      "Pulling from GBIF API with species key: 8873722\n",
      "Pulling from GBIF API with species key: 9322955\n",
      "Pulling from GBIF API with species key: 9339659\n"
     ]
    },
    {
     "name": "stderr",
     "output_type": "stream",
     "text": [
      " 23%|██▎       | 285/1215 [11:38<40:54,  2.64s/it]"
     ]
    },
    {
     "name": "stdout",
     "output_type": "stream",
     "text": [
      "Pulling from GBIF API with species key: 9535123\n",
      "Pulling from GBIF API with species key: 1648346\n",
      "Pulling from GBIF API with species key: 1648451\n",
      "Pulling from GBIF API with species key: 1648258\n",
      "Pulling from GBIF API with species key: 1648325\n",
      "Pulling from GBIF API with species key: 1653613\n"
     ]
    },
    {
     "name": "stderr",
     "output_type": "stream",
     "text": [
      " 24%|██▎       | 286/1215 [11:40<38:39,  2.50s/it]"
     ]
    },
    {
     "name": "stdout",
     "output_type": "stream",
     "text": [
      "Pulling from GBIF API with species key: 4522180\n",
      "Pulling from GBIF API with species key: 7614906\n"
     ]
    },
    {
     "name": "stderr",
     "output_type": "stream",
     "text": [
      " 24%|██▎       | 287/1215 [11:41<31:47,  2.06s/it]"
     ]
    },
    {
     "name": "stdout",
     "output_type": "stream",
     "text": [
      "Pulling from GBIF API with species key: 8342703\n",
      "Pulling from GBIF API with species key: 4475157\n",
      "Pulling from GBIF API with species key: 5876104\n",
      "Pulling from GBIF API with species key: 7491944\n",
      "Pulling from GBIF API with species key: 6097854\n"
     ]
    },
    {
     "name": "stderr",
     "output_type": "stream",
     "text": [
      " 24%|██▎       | 288/1215 [11:43<31:37,  2.05s/it]"
     ]
    },
    {
     "name": "stdout",
     "output_type": "stream",
     "text": [
      "Failed: Returned status code of 204, with message: <Response [204]>\n",
      "Error querying GBIF for image tile_51.276213691545394_-0.31912382225977964.jpg at coords ('51.276213691545394', '-0.31912382225977964'): 'NoneType' object has no attribute 'get'\n",
      "No GBIF data found for image: tile_51.276213691545394_-0.31912382225977964.jpg at coords: ('51.276213691545394', '-0.31912382225977964')\n",
      "Pulling from GBIF API with species key: 1764531\n",
      "Pulling from GBIF API with species key: 2495494\n"
     ]
    },
    {
     "name": "stderr",
     "output_type": "stream",
     "text": [
      " 24%|██▍       | 289/1215 [11:44<28:15,  1.83s/it]"
     ]
    },
    {
     "name": "stdout",
     "output_type": "stream",
     "text": [
      "Failed: Returned status code of 204, with message: <Response [204]>\n",
      "Error querying GBIF for image tile_51.46540288073458_0.04889841215856107.jpg at coords ('51.46540288073458', '0.04889841215856107'): 'NoneType' object has no attribute 'get'\n",
      "No GBIF data found for image: tile_51.46540288073458_0.04889841215856107.jpg at coords: ('51.46540288073458', '0.04889841215856107')\n"
     ]
    },
    {
     "name": "stderr",
     "output_type": "stream",
     "text": [
      " 24%|██▍       | 290/1215 [11:45<21:58,  1.42s/it]"
     ]
    },
    {
     "name": "stdout",
     "output_type": "stream",
     "text": [
      "Pulling from GBIF API with species key: 1995489\n"
     ]
    },
    {
     "name": "stderr",
     "output_type": "stream",
     "text": [
      " 24%|██▍       | 291/1215 [11:46<20:26,  1.33s/it]"
     ]
    },
    {
     "name": "stdout",
     "output_type": "stream",
     "text": [
      "Pulling from GBIF API with species key: 4445037\n",
      "Pulling from GBIF API with species key: 4429352\n",
      "Pulling from GBIF API with species key: 1391496\n",
      "Pulling from GBIF API with species key: 9612491\n",
      "Pulling from GBIF API with species key: 1034338\n",
      "Pulling from GBIF API with species key: 1395561\n",
      "Pulling from GBIF API with species key: 4464830\n"
     ]
    },
    {
     "name": "stderr",
     "output_type": "stream",
     "text": [
      " 24%|██▍       | 292/1215 [11:48<26:00,  1.69s/it]"
     ]
    },
    {
     "name": "stdout",
     "output_type": "stream",
     "text": [
      "Pulling from GBIF API with species key: 5153186\n"
     ]
    },
    {
     "name": "stderr",
     "output_type": "stream",
     "text": [
      " 24%|██▍       | 293/1215 [11:49<20:57,  1.36s/it]"
     ]
    },
    {
     "name": "stdout",
     "output_type": "stream",
     "text": [
      "Pulling from GBIF API with species key: 1081167\n",
      "Pulling from GBIF API with species key: 1787751\n",
      "Pulling from GBIF API with species key: 4451852\n"
     ]
    },
    {
     "name": "stderr",
     "output_type": "stream",
     "text": [
      " 24%|██▍       | 294/1215 [11:51<22:17,  1.45s/it]"
     ]
    },
    {
     "name": "stdout",
     "output_type": "stream",
     "text": [
      "Failed: Returned status code of 204, with message: <Response [204]>\n",
      "Error querying GBIF for image tile_51.34378125911296_-0.10264015495487333.jpg at coords ('51.34378125911296', '-0.10264015495487333'): 'NoneType' object has no attribute 'get'\n",
      "No GBIF data found for image: tile_51.34378125911296_-0.10264015495487333.jpg at coords: ('51.34378125911296', '-0.10264015495487333')\n",
      "Pulling from GBIF API with species key: 1579909\n",
      "Pulling from GBIF API with species key: 2157402\n",
      "Pulling from GBIF API with species key: 4428445\n"
     ]
    },
    {
     "name": "stderr",
     "output_type": "stream",
     "text": [
      " 24%|██▍       | 295/1215 [11:52<23:16,  1.52s/it]"
     ]
    },
    {
     "name": "stdout",
     "output_type": "stream",
     "text": [
      "Pulling from GBIF API with species key: 5153690\n",
      "Pulling from GBIF API with species key: 1539281\n",
      "Pulling from GBIF API with species key: 1543080\n",
      "Pulling from GBIF API with species key: 1577596\n",
      "Pulling from GBIF API with species key: 6097855\n"
     ]
    },
    {
     "name": "stderr",
     "output_type": "stream",
     "text": [
      " 24%|██▍       | 296/1215 [11:54<25:48,  1.68s/it]"
     ]
    },
    {
     "name": "stdout",
     "output_type": "stream",
     "text": [
      "Pulling from GBIF API with species key: 8843340\n",
      "Pulling from GBIF API with species key: 1420795\n",
      "Pulling from GBIF API with species key: 5176082\n",
      "Pulling from GBIF API with species key: 1491184\n",
      "Pulling from GBIF API with species key: 4522793\n"
     ]
    },
    {
     "name": "stderr",
     "output_type": "stream",
     "text": [
      " 24%|██▍       | 297/1215 [11:56<26:51,  1.76s/it]"
     ]
    },
    {
     "name": "stdout",
     "output_type": "stream",
     "text": [
      "Pulling from GBIF API with species key: 4539722\n"
     ]
    },
    {
     "name": "stderr",
     "output_type": "stream",
     "text": [
      " 25%|██▍       | 298/1215 [11:57<21:17,  1.39s/it]"
     ]
    },
    {
     "name": "stdout",
     "output_type": "stream",
     "text": [
      "Pulling from GBIF API with species key: 4550051\n",
      "Pulling from GBIF API with species key: 8472198\n",
      "Pulling from GBIF API with species key: 4550048\n",
      "Pulling from GBIF API with species key: 9786356\n",
      "Pulling from GBIF API with species key: 5190486\n",
      "Pulling from GBIF API with species key: 6922735\n",
      "Pulling from GBIF API with species key: 1203297\n",
      "Pulling from GBIF API with species key: 2308432\n",
      "Pulling from GBIF API with species key: 2502938\n",
      "Pulling from GBIF API with species key: 2177741\n",
      "Pulling from GBIF API with species key: 4549192\n",
      "Pulling from GBIF API with species key: 7910695\n",
      "Pulling from GBIF API with species key: 2095283\n",
      "Pulling from GBIF API with species key: 2185012\n",
      "Pulling from GBIF API with species key: 4549968\n",
      "Pulling from GBIF API with species key: 5163470\n",
      "Pulling from GBIF API with species key: 6891198\n",
      "Pulling from GBIF API with species key: 6913494\n",
      "Pulling from GBIF API with species key: 7520678\n",
      "Pulling from GBIF API with species key: 1013597\n",
      "Pulling from GBIF API with species key: 1320787\n",
      "Pulling from GBIF API with species key: 1320810\n",
      "Pulling from GBIF API with species key: 1511331\n",
      "Pulling from GBIF API with species key: 1512444\n",
      "Pulling from GBIF API with species key: 1580564\n",
      "Pulling from GBIF API with species key: 2188223\n",
      "Pulling from GBIF API with species key: 2188267\n",
      "Pulling from GBIF API with species key: 2308192\n",
      "Pulling from GBIF API with species key: 2308430\n",
      "Pulling from GBIF API with species key: 4474984\n",
      "Pulling from GBIF API with species key: 4549896\n",
      "Pulling from GBIF API with species key: 4549906\n",
      "Pulling from GBIF API with species key: 7362921\n",
      "Pulling from GBIF API with species key: 9565622\n",
      "Pulling from GBIF API with species key: 10637117\n",
      "Pulling from GBIF API with species key: 11151299\n",
      "Pulling from GBIF API with species key: 1420769\n",
      "Pulling from GBIF API with species key: 1462553\n",
      "Pulling from GBIF API with species key: 1626042\n",
      "Pulling from GBIF API with species key: 1648104\n",
      "Pulling from GBIF API with species key: 2071290\n",
      "Pulling from GBIF API with species key: 2130873\n",
      "Pulling from GBIF API with species key: 2131793\n",
      "Pulling from GBIF API with species key: 2131797\n",
      "Pulling from GBIF API with species key: 2137254\n",
      "Pulling from GBIF API with species key: 2181914\n"
     ]
    },
    {
     "name": "stderr",
     "output_type": "stream",
     "text": [
      " 25%|██▍       | 299/1215 [12:11<1:20:28,  5.27s/it]"
     ]
    },
    {
     "name": "stdout",
     "output_type": "stream",
     "text": [
      "Pulling from GBIF API with species key: 2181976\n",
      "Pulling from GBIF API with species key: 5748041\n",
      "Pulling from GBIF API with species key: 1514000\n",
      "Pulling from GBIF API with species key: 4452100\n",
      "Pulling from GBIF API with species key: 1044109\n",
      "Pulling from GBIF API with species key: 1236832\n",
      "Pulling from GBIF API with species key: 4442894\n",
      "Pulling from GBIF API with species key: 4444228\n",
      "Pulling from GBIF API with species key: 4448375\n",
      "Pulling from GBIF API with species key: 6097431\n",
      "Pulling from GBIF API with species key: 7752249\n"
     ]
    },
    {
     "name": "stderr",
     "output_type": "stream",
     "text": [
      " 25%|██▍       | 300/1215 [12:15<1:13:20,  4.81s/it]"
     ]
    },
    {
     "name": "stdout",
     "output_type": "stream",
     "text": [
      "Pulling from GBIF API with species key: 9479651\n"
     ]
    },
    {
     "name": "stderr",
     "output_type": "stream",
     "text": [
      " 25%|██▍       | 302/1215 [12:16<40:50,  2.68s/it]  "
     ]
    },
    {
     "name": "stdout",
     "output_type": "stream",
     "text": [
      "Failed: Returned status code of 204, with message: <Response [204]>\n",
      "Error querying GBIF for image tile_51.397835313167015_0.20043697927199544.jpg at coords ('51.397835313167015', '0.20043697927199544'): 'NoneType' object has no attribute 'get'\n",
      "No GBIF data found for image: tile_51.397835313167015_0.20043697927199544.jpg at coords: ('51.397835313167015', '0.20043697927199544')\n"
     ]
    },
    {
     "name": "stderr",
     "output_type": "stream",
     "text": [
      " 25%|██▍       | 303/1215 [12:17<30:36,  2.01s/it]"
     ]
    },
    {
     "name": "stdout",
     "output_type": "stream",
     "text": [
      "Pulling from GBIF API with species key: 5054024\n",
      "Pulling from GBIF API with species key: 1430527\n",
      "Pulling from GBIF API with species key: 4462666\n",
      "Pulling from GBIF API with species key: 1431569\n",
      "Pulling from GBIF API with species key: 4449354\n",
      "Pulling from GBIF API with species key: 5745083\n",
      "Pulling from GBIF API with species key: 5749499\n",
      "Pulling from GBIF API with species key: 9312266\n",
      "Pulling from GBIF API with species key: 1038508\n",
      "Pulling from GBIF API with species key: 1494296\n",
      "Pulling from GBIF API with species key: 1656438\n",
      "Pulling from GBIF API with species key: 1787506\n",
      "Pulling from GBIF API with species key: 2108709\n",
      "Pulling from GBIF API with species key: 2121210\n",
      "Pulling from GBIF API with species key: 2479964\n",
      "Pulling from GBIF API with species key: 4429462\n",
      "Pulling from GBIF API with species key: 4448454\n"
     ]
    },
    {
     "name": "stderr",
     "output_type": "stream",
     "text": [
      " 25%|██▌       | 304/1215 [12:23<52:11,  3.44s/it]"
     ]
    },
    {
     "name": "stdout",
     "output_type": "stream",
     "text": [
      "Pulling from GBIF API with species key: 5758782\n",
      "Pulling from GBIF API with species key: 1444522\n"
     ]
    },
    {
     "name": "stderr",
     "output_type": "stream",
     "text": [
      " 25%|██▌       | 305/1215 [12:24<41:23,  2.73s/it]"
     ]
    },
    {
     "name": "stdout",
     "output_type": "stream",
     "text": [
      "Pulling from GBIF API with species key: 1474107\n",
      "Pulling from GBIF API with species key: 1529016\n",
      "Pulling from GBIF API with species key: 1983616\n",
      "Pulling from GBIF API with species key: 4463715\n",
      "Pulling from GBIF API with species key: 4534788\n",
      "Pulling from GBIF API with species key: 4989405\n",
      "Pulling from GBIF API with species key: 8429555\n"
     ]
    },
    {
     "name": "stderr",
     "output_type": "stream",
     "text": [
      " 25%|██▌       | 306/1215 [12:27<40:03,  2.64s/it]"
     ]
    },
    {
     "name": "stdout",
     "output_type": "stream",
     "text": [
      "Pulling from GBIF API with species key: 9567193\n",
      "Pulling from GBIF API with species key: 1451097\n",
      "Pulling from GBIF API with species key: 4516107\n",
      "Pulling from GBIF API with species key: 7983644\n",
      "Pulling from GBIF API with species key: 1433314\n",
      "Pulling from GBIF API with species key: 1515172\n"
     ]
    },
    {
     "name": "stderr",
     "output_type": "stream",
     "text": [
      " 25%|██▌       | 307/1215 [12:31<47:33,  3.14s/it]"
     ]
    },
    {
     "name": "stdout",
     "output_type": "stream",
     "text": [
      "Pulling from GBIF API with species key: 1581062\n",
      "Pulling from GBIF API with species key: 4520153\n",
      "Pulling from GBIF API with species key: 1300233\n",
      "Pulling from GBIF API with species key: 1364038\n",
      "Pulling from GBIF API with species key: 1370910\n",
      "Pulling from GBIF API with species key: 1377075\n",
      "Pulling from GBIF API with species key: 1382073\n",
      "Pulling from GBIF API with species key: 1393357\n",
      "Pulling from GBIF API with species key: 1890584\n"
     ]
    },
    {
     "name": "stderr",
     "output_type": "stream",
     "text": [
      " 25%|██▌       | 308/1215 [12:34<48:03,  3.18s/it]"
     ]
    },
    {
     "name": "stdout",
     "output_type": "stream",
     "text": [
      "Pulling from GBIF API with species key: 4429521\n"
     ]
    },
    {
     "name": "stderr",
     "output_type": "stream",
     "text": [
      " 26%|██▌       | 310/1215 [12:36<28:27,  1.89s/it]"
     ]
    },
    {
     "name": "stdout",
     "output_type": "stream",
     "text": [
      "Pulling from GBIF API with species key: 1713418\n"
     ]
    },
    {
     "name": "stderr",
     "output_type": "stream",
     "text": [
      " 26%|██▌       | 311/1215 [12:36<23:45,  1.58s/it]"
     ]
    },
    {
     "name": "stdout",
     "output_type": "stream",
     "text": [
      "Pulling from GBIF API with species key: 1433394\n"
     ]
    },
    {
     "name": "stderr",
     "output_type": "stream",
     "text": [
      " 26%|██▌       | 315/1215 [12:39<13:04,  1.15it/s]"
     ]
    },
    {
     "name": "stdout",
     "output_type": "stream",
     "text": [
      "Pulling from GBIF API with species key: 1445219\n",
      "Pulling from GBIF API with species key: 1470134\n"
     ]
    },
    {
     "name": "stderr",
     "output_type": "stream",
     "text": [
      " 26%|██▌       | 316/1215 [12:41<15:47,  1.05s/it]"
     ]
    },
    {
     "name": "stdout",
     "output_type": "stream",
     "text": [
      "Pulling from GBIF API with species key: 9007987\n",
      "Pulling from GBIF API with species key: 2138326\n",
      "Pulling from GBIF API with species key: 2138600\n",
      "Pulling from GBIF API with species key: 5060329\n",
      "Pulling from GBIF API with species key: 5978458\n",
      "Pulling from GBIF API with species key: 1444791\n",
      "Pulling from GBIF API with species key: 1507203\n",
      "Pulling from GBIF API with species key: 1510429\n",
      "Pulling from GBIF API with species key: 1563351\n",
      "Pulling from GBIF API with species key: 2134186\n",
      "Pulling from GBIF API with species key: 2136112\n",
      "Pulling from GBIF API with species key: 2141339\n",
      "Pulling from GBIF API with species key: 4518422\n",
      "Pulling from GBIF API with species key: 4521000\n",
      "Pulling from GBIF API with species key: 5168738\n"
     ]
    },
    {
     "name": "stderr",
     "output_type": "stream",
     "text": [
      " 26%|██▌       | 317/1215 [12:45<32:53,  2.20s/it]"
     ]
    },
    {
     "name": "stdout",
     "output_type": "stream",
     "text": [
      "Pulling from GBIF API with species key: 6097487\n",
      "Pulling from GBIF API with species key: 2458538\n",
      "Pulling from GBIF API with species key: 5741731\n",
      "Pulling from GBIF API with species key: 2162537\n",
      "Pulling from GBIF API with species key: 2027001\n",
      "Pulling from GBIF API with species key: 1028923\n"
     ]
    },
    {
     "name": "stderr",
     "output_type": "stream",
     "text": [
      " 26%|██▌       | 318/1215 [12:48<33:27,  2.24s/it]"
     ]
    },
    {
     "name": "stdout",
     "output_type": "stream",
     "text": [
      "Failed: Returned status code of 204, with message: <Response [204]>\n",
      "Error querying GBIF for image tile_51.532970448302144_-0.1459368884158546.jpg at coords ('51.532970448302144', '-0.1459368884158546'): 'NoneType' object has no attribute 'get'\n",
      "No GBIF data found for image: tile_51.532970448302144_-0.1459368884158546.jpg at coords: ('51.532970448302144', '-0.1459368884158546')\n"
     ]
    },
    {
     "name": "stderr",
     "output_type": "stream",
     "text": [
      " 26%|██▋       | 320/1215 [12:49<21:00,  1.41s/it]"
     ]
    },
    {
     "name": "stdout",
     "output_type": "stream",
     "text": [
      "Pulling from GBIF API with species key: 7422165\n"
     ]
    },
    {
     "name": "stderr",
     "output_type": "stream",
     "text": [
      " 27%|██▋       | 323/1215 [12:51<13:33,  1.10it/s]"
     ]
    },
    {
     "name": "stdout",
     "output_type": "stream",
     "text": [
      "Pulling from GBIF API with species key: 1798504\n"
     ]
    },
    {
     "name": "stderr",
     "output_type": "stream",
     "text": [
      " 27%|██▋       | 324/1215 [12:54<25:21,  1.71s/it]"
     ]
    },
    {
     "name": "stdout",
     "output_type": "stream",
     "text": [
      "Pulling from GBIF API with species key: 1197441\n",
      "Pulling from GBIF API with species key: 2308428\n",
      "Pulling from GBIF API with species key: 5752577\n"
     ]
    },
    {
     "name": "stderr",
     "output_type": "stream",
     "text": [
      " 27%|██▋       | 325/1215 [12:57<27:13,  1.84s/it]"
     ]
    },
    {
     "name": "stdout",
     "output_type": "stream",
     "text": [
      "Pulling from GBIF API with species key: 5753445\n"
     ]
    },
    {
     "name": "stderr",
     "output_type": "stream",
     "text": [
      " 27%|██▋       | 327/1215 [12:58<17:44,  1.20s/it]"
     ]
    },
    {
     "name": "stdout",
     "output_type": "stream",
     "text": [
      "Pulling from GBIF API with species key: 1031470\n",
      "Pulling from GBIF API with species key: 1046592\n",
      "Pulling from GBIF API with species key: 11022414\n",
      "Pulling from GBIF API with species key: 1302693\n",
      "Pulling from GBIF API with species key: 2141379\n",
      "Pulling from GBIF API with species key: 2166707\n",
      "Pulling from GBIF API with species key: 4430847\n",
      "Pulling from GBIF API with species key: 5169448\n",
      "Pulling from GBIF API with species key: 5874780\n",
      "Pulling from GBIF API with species key: 6097492\n",
      "Pulling from GBIF API with species key: 6097593\n",
      "Pulling from GBIF API with species key: 6958250\n",
      "Pulling from GBIF API with species key: 7402894\n"
     ]
    },
    {
     "name": "stderr",
     "output_type": "stream",
     "text": [
      " 27%|██▋       | 328/1215 [13:02<32:24,  2.19s/it]"
     ]
    },
    {
     "name": "stdout",
     "output_type": "stream",
     "text": [
      "Pulling from GBIF API with species key: 9368911\n"
     ]
    },
    {
     "name": "stderr",
     "output_type": "stream",
     "text": [
      " 27%|██▋       | 329/1215 [13:03<26:41,  1.81s/it]"
     ]
    },
    {
     "name": "stdout",
     "output_type": "stream",
     "text": [
      "Pulling from GBIF API with species key: 1891167\n",
      "Pulling from GBIF API with species key: 1039067\n",
      "Pulling from GBIF API with species key: 4463528\n",
      "Pulling from GBIF API with species key: 4486475\n",
      "Pulling from GBIF API with species key: 4494864\n"
     ]
    },
    {
     "name": "stderr",
     "output_type": "stream",
     "text": [
      " 27%|██▋       | 330/1215 [13:05<27:04,  1.84s/it]"
     ]
    },
    {
     "name": "stdout",
     "output_type": "stream",
     "text": [
      "Pulling from GBIF API with species key: 4494914\n"
     ]
    },
    {
     "name": "stderr",
     "output_type": "stream",
     "text": [
      " 27%|██▋       | 331/1215 [13:06<22:12,  1.51s/it]"
     ]
    },
    {
     "name": "stdout",
     "output_type": "stream",
     "text": [
      "Pulling from GBIF API with species key: 2390012\n"
     ]
    },
    {
     "name": "stderr",
     "output_type": "stream",
     "text": [
      " 27%|██▋       | 332/1215 [13:06<18:12,  1.24s/it]"
     ]
    },
    {
     "name": "stdout",
     "output_type": "stream",
     "text": [
      "Pulling from GBIF API with species key: 1040046\n",
      "Pulling from GBIF API with species key: 1744901\n",
      "Pulling from GBIF API with species key: 7526039\n",
      "Pulling from GBIF API with species key: 7979018\n",
      "Pulling from GBIF API with species key: 4527972\n"
     ]
    },
    {
     "name": "stderr",
     "output_type": "stream",
     "text": [
      " 27%|██▋       | 333/1215 [13:09<22:47,  1.55s/it]"
     ]
    },
    {
     "name": "stdout",
     "output_type": "stream",
     "text": [
      "Pulling from GBIF API with species key: 9311161\n"
     ]
    },
    {
     "name": "stderr",
     "output_type": "stream",
     "text": [
      " 27%|██▋       | 334/1215 [13:09<19:32,  1.33s/it]"
     ]
    },
    {
     "name": "stdout",
     "output_type": "stream",
     "text": [
      "Pulling from GBIF API with species key: 4534461\n"
     ]
    },
    {
     "name": "stderr",
     "output_type": "stream",
     "text": [
      " 28%|██▊       | 335/1215 [13:10<16:56,  1.16s/it]"
     ]
    },
    {
     "name": "stdout",
     "output_type": "stream",
     "text": [
      "Pulling from GBIF API with species key: 6097777\n",
      "Pulling from GBIF API with species key: 1504840\n",
      "Pulling from GBIF API with species key: 2054391\n",
      "Pulling from GBIF API with species key: 2054405\n"
     ]
    },
    {
     "name": "stderr",
     "output_type": "stream",
     "text": [
      " 28%|██▊       | 336/1215 [13:12<20:07,  1.37s/it]"
     ]
    },
    {
     "name": "stdout",
     "output_type": "stream",
     "text": [
      "Pulling from GBIF API with species key: 8898408\n",
      "Pulling from GBIF API with species key: 1276761\n",
      "Pulling from GBIF API with species key: 1555100\n",
      "Pulling from GBIF API with species key: 1560868\n"
     ]
    },
    {
     "name": "stderr",
     "output_type": "stream",
     "text": [
      " 28%|██▊       | 337/1215 [13:14<21:35,  1.48s/it]"
     ]
    },
    {
     "name": "stdout",
     "output_type": "stream",
     "text": [
      "Pulling from GBIF API with species key: 5749724\n"
     ]
    },
    {
     "name": "stderr",
     "output_type": "stream",
     "text": [
      " 28%|██▊       | 339/1215 [13:15<15:44,  1.08s/it]"
     ]
    },
    {
     "name": "stdout",
     "output_type": "stream",
     "text": [
      "Pulling from GBIF API with species key: 1555114\n"
     ]
    },
    {
     "name": "stderr",
     "output_type": "stream",
     "text": [
      " 28%|██▊       | 340/1215 [13:16<14:20,  1.02it/s]"
     ]
    },
    {
     "name": "stdout",
     "output_type": "stream",
     "text": [
      "Pulling from GBIF API with species key: 1040762\n",
      "Pulling from GBIF API with species key: 2077737\n"
     ]
    },
    {
     "name": "stderr",
     "output_type": "stream",
     "text": [
      " 28%|██▊       | 341/1215 [13:17<14:43,  1.01s/it]"
     ]
    },
    {
     "name": "stdout",
     "output_type": "stream",
     "text": [
      "Pulling from GBIF API with species key: 4442829\n"
     ]
    },
    {
     "name": "stderr",
     "output_type": "stream",
     "text": [
      " 28%|██▊       | 342/1215 [13:17<12:35,  1.16it/s]"
     ]
    },
    {
     "name": "stdout",
     "output_type": "stream",
     "text": [
      "Pulling from GBIF API with species key: 1013547\n",
      "Pulling from GBIF API with species key: 6159223\n"
     ]
    },
    {
     "name": "stderr",
     "output_type": "stream",
     "text": [
      " 28%|██▊       | 343/1215 [13:19<15:45,  1.08s/it]"
     ]
    },
    {
     "name": "stdout",
     "output_type": "stream",
     "text": [
      "Pulling from GBIF API with species key: 8498959\n"
     ]
    },
    {
     "name": "stderr",
     "output_type": "stream",
     "text": [
      " 28%|██▊       | 344/1215 [13:20<13:09,  1.10it/s]"
     ]
    },
    {
     "name": "stdout",
     "output_type": "stream",
     "text": [
      "Pulling from GBIF API with species key: 5077791\n"
     ]
    },
    {
     "name": "stderr",
     "output_type": "stream",
     "text": [
      " 28%|██▊       | 345/1215 [13:21<13:32,  1.07it/s]"
     ]
    },
    {
     "name": "stdout",
     "output_type": "stream",
     "text": [
      "Pulling from GBIF API with species key: 4443455\n"
     ]
    },
    {
     "name": "stderr",
     "output_type": "stream",
     "text": [
      " 29%|██▊       | 348/1215 [13:22<10:30,  1.38it/s]"
     ]
    },
    {
     "name": "stdout",
     "output_type": "stream",
     "text": [
      "Pulling from GBIF API with species key: 5739437\n",
      "Pulling from GBIF API with species key: 2049572\n"
     ]
    },
    {
     "name": "stderr",
     "output_type": "stream",
     "text": [
      " 29%|██▊       | 349/1215 [13:23<12:12,  1.18it/s]"
     ]
    },
    {
     "name": "stdout",
     "output_type": "stream",
     "text": [
      "Pulling from GBIF API with species key: 6187379\n"
     ]
    },
    {
     "name": "stderr",
     "output_type": "stream",
     "text": [
      " 29%|██▉       | 350/1215 [13:24<11:48,  1.22it/s]"
     ]
    },
    {
     "name": "stdout",
     "output_type": "stream",
     "text": [
      "Pulling from GBIF API with species key: 1501700\n"
     ]
    },
    {
     "name": "stderr",
     "output_type": "stream",
     "text": [
      " 29%|██▉       | 351/1215 [13:25<11:35,  1.24it/s]"
     ]
    },
    {
     "name": "stdout",
     "output_type": "stream",
     "text": [
      "Failed: Returned status code of 204, with message: <Response [204]>\n",
      "Error querying GBIF for image tile_51.695132610464306_-0.037695054763401445.jpg at coords ('51.695132610464306', '-0.037695054763401445'): 'NoneType' object has no attribute 'get'\n",
      "No GBIF data found for image: tile_51.695132610464306_-0.037695054763401445.jpg at coords: ('51.695132610464306', '-0.037695054763401445')\n",
      "Pulling from GBIF API with species key: 1627983\n",
      "Pulling from GBIF API with species key: 7563173\n"
     ]
    },
    {
     "name": "stderr",
     "output_type": "stream",
     "text": [
      " 29%|██▉       | 352/1215 [13:26<13:50,  1.04it/s]"
     ]
    },
    {
     "name": "stdout",
     "output_type": "stream",
     "text": [
      "Pulling from GBIF API with species key: 7721567\n"
     ]
    },
    {
     "name": "stderr",
     "output_type": "stream",
     "text": [
      " 29%|██▉       | 353/1215 [13:27<11:58,  1.20it/s]"
     ]
    },
    {
     "name": "stdout",
     "output_type": "stream",
     "text": [
      "Pulling from GBIF API with species key: 1522566\n"
     ]
    },
    {
     "name": "stderr",
     "output_type": "stream",
     "text": [
      " 29%|██▉       | 354/1215 [13:28<13:17,  1.08it/s]"
     ]
    },
    {
     "name": "stdout",
     "output_type": "stream",
     "text": [
      "Pulling from GBIF API with species key: 1803108\n",
      "Pulling from GBIF API with species key: 1457896\n",
      "Pulling from GBIF API with species key: 1628021\n",
      "Pulling from GBIF API with species key: 1929659\n",
      "Pulling from GBIF API with species key: 2008320\n",
      "Pulling from GBIF API with species key: 4468967\n",
      "Pulling from GBIF API with species key: 4487660\n",
      "Pulling from GBIF API with species key: 5121026\n"
     ]
    },
    {
     "name": "stderr",
     "output_type": "stream",
     "text": [
      " 29%|██▉       | 355/1215 [13:31<21:33,  1.50s/it]"
     ]
    },
    {
     "name": "stdout",
     "output_type": "stream",
     "text": [
      "Pulling from GBIF API with species key: 5765917\n",
      "Pulling from GBIF API with species key: 2498163\n",
      "Pulling from GBIF API with species key: 4393083\n"
     ]
    },
    {
     "name": "stderr",
     "output_type": "stream",
     "text": [
      " 29%|██▉       | 356/1215 [13:32<21:00,  1.47s/it]"
     ]
    },
    {
     "name": "stdout",
     "output_type": "stream",
     "text": [
      "Pulling from GBIF API with species key: 5741657\n",
      "Pulling from GBIF API with species key: 4646345\n"
     ]
    },
    {
     "name": "stderr",
     "output_type": "stream",
     "text": [
      " 29%|██▉       | 357/1215 [13:33<19:40,  1.38s/it]"
     ]
    },
    {
     "name": "stdout",
     "output_type": "stream",
     "text": [
      "Pulling from GBIF API with species key: 8696839\n"
     ]
    },
    {
     "name": "stderr",
     "output_type": "stream",
     "text": [
      " 29%|██▉       | 358/1215 [13:34<15:50,  1.11s/it]"
     ]
    },
    {
     "name": "stdout",
     "output_type": "stream",
     "text": [
      "Pulling from GBIF API with species key: 11598529\n",
      "Pulling from GBIF API with species key: 5054001\n",
      "Pulling from GBIF API with species key: 2122260\n",
      "Pulling from GBIF API with species key: 4537152\n",
      "Pulling from GBIF API with species key: 5191325\n",
      "Pulling from GBIF API with species key: 8973198\n",
      "Pulling from GBIF API with species key: 10694620\n",
      "Pulling from GBIF API with species key: 1432593\n",
      "Pulling from GBIF API with species key: 1528980\n",
      "Pulling from GBIF API with species key: 1546787\n",
      "Pulling from GBIF API with species key: 2120024\n",
      "Pulling from GBIF API with species key: 2121148\n",
      "Pulling from GBIF API with species key: 2121463\n",
      "Pulling from GBIF API with species key: 2121469\n",
      "Pulling from GBIF API with species key: 2121493\n",
      "Pulling from GBIF API with species key: 2122120\n",
      "Pulling from GBIF API with species key: 4458433\n",
      "Pulling from GBIF API with species key: 4537121\n",
      "Pulling from GBIF API with species key: 4537544\n",
      "Pulling from GBIF API with species key: 4537590\n",
      "Pulling from GBIF API with species key: 4537815\n",
      "Pulling from GBIF API with species key: 4539001\n",
      "Pulling from GBIF API with species key: 4539051\n"
     ]
    },
    {
     "name": "stderr",
     "output_type": "stream",
     "text": [
      " 30%|██▉       | 359/1215 [13:41<42:58,  3.01s/it]"
     ]
    },
    {
     "name": "stdout",
     "output_type": "stream",
     "text": [
      "Failed: Returned status code of 204, with message: <Response [204]>\n",
      "Error querying GBIF for image tile_51.46540288073458_-0.34077218899027023.jpg at coords ('51.46540288073458', '-0.34077218899027023'): 'NoneType' object has no attribute 'get'\n",
      "No GBIF data found for image: tile_51.46540288073458_-0.34077218899027023.jpg at coords: ('51.46540288073458', '-0.34077218899027023')\n"
     ]
    },
    {
     "name": "stderr",
     "output_type": "stream",
     "text": [
      " 30%|██▉       | 360/1215 [13:42<33:29,  2.35s/it]"
     ]
    },
    {
     "name": "stdout",
     "output_type": "stream",
     "text": [
      "Pulling from GBIF API with species key: 2481756\n",
      "Pulling from GBIF API with species key: 2172846\n"
     ]
    },
    {
     "name": "stderr",
     "output_type": "stream",
     "text": [
      " 30%|██▉       | 361/1215 [13:43<27:57,  1.96s/it]"
     ]
    },
    {
     "name": "stdout",
     "output_type": "stream",
     "text": [
      "Pulling from GBIF API with species key: 4495018\n"
     ]
    },
    {
     "name": "stderr",
     "output_type": "stream",
     "text": [
      " 30%|██▉       | 362/1215 [13:44<23:07,  1.63s/it]"
     ]
    },
    {
     "name": "stdout",
     "output_type": "stream",
     "text": [
      "Failed: Returned status code of 204, with message: <Response [204]>\n",
      "Error querying GBIF for image tile_51.41134882668052_0.24373371273297673.jpg at coords ('51.41134882668052', '0.24373371273297673'): 'NoneType' object has no attribute 'get'\n",
      "No GBIF data found for image: tile_51.41134882668052_0.24373371273297673.jpg at coords: ('51.41134882668052', '0.24373371273297673')\n",
      "Pulling from GBIF API with species key: 9496048\n",
      "Pulling from GBIF API with species key: 1462557\n",
      "Pulling from GBIF API with species key: 1563132\n",
      "Pulling from GBIF API with species key: 1571112\n",
      "Pulling from GBIF API with species key: 1572219\n",
      "Pulling from GBIF API with species key: 1611127\n",
      "Pulling from GBIF API with species key: 1615539\n",
      "Pulling from GBIF API with species key: 1626362\n",
      "Pulling from GBIF API with species key: 1646877\n",
      "Pulling from GBIF API with species key: 1647433\n"
     ]
    },
    {
     "name": "stderr",
     "output_type": "stream",
     "text": [
      " 30%|██▉       | 363/1215 [13:48<31:43,  2.23s/it]"
     ]
    },
    {
     "name": "stdout",
     "output_type": "stream",
     "text": [
      "Pulling from GBIF API with species key: 7341522\n"
     ]
    },
    {
     "name": "stderr",
     "output_type": "stream",
     "text": [
      " 30%|██▉       | 364/1215 [13:48<25:35,  1.80s/it]"
     ]
    },
    {
     "name": "stdout",
     "output_type": "stream",
     "text": [
      "Pulling from GBIF API with species key: 1560778\n",
      "Pulling from GBIF API with species key: 2020153\n",
      "Pulling from GBIF API with species key: 2432427\n",
      "Pulling from GBIF API with species key: 4451844\n",
      "Pulling from GBIF API with species key: 4461713\n",
      "Pulling from GBIF API with species key: 4537759\n",
      "Pulling from GBIF API with species key: 8883460\n",
      "Pulling from GBIF API with species key: 1095904\n",
      "Pulling from GBIF API with species key: 1336564\n",
      "Pulling from GBIF API with species key: 2294277\n",
      "Pulling from GBIF API with species key: 4464813\n",
      "Pulling from GBIF API with species key: 4486678\n",
      "Pulling from GBIF API with species key: 4494940\n",
      "Pulling from GBIF API with species key: 4497489\n",
      "Pulling from GBIF API with species key: 4538000\n",
      "Pulling from GBIF API with species key: 4538515\n",
      "Pulling from GBIF API with species key: 4990525\n",
      "Pulling from GBIF API with species key: 5752158\n",
      "Pulling from GBIF API with species key: 6096754\n",
      "Pulling from GBIF API with species key: 7534095\n",
      "Pulling from GBIF API with species key: 8849164\n"
     ]
    },
    {
     "name": "stderr",
     "output_type": "stream",
     "text": [
      " 30%|███       | 365/1215 [13:55<44:59,  3.18s/it]"
     ]
    },
    {
     "name": "stdout",
     "output_type": "stream",
     "text": [
      "Pulling from GBIF API with species key: 9791194\n",
      "Pulling from GBIF API with species key: 1619373\n",
      "Pulling from GBIF API with species key: 2158735\n"
     ]
    },
    {
     "name": "stderr",
     "output_type": "stream",
     "text": [
      " 30%|███       | 366/1215 [13:56<37:04,  2.62s/it]"
     ]
    },
    {
     "name": "stdout",
     "output_type": "stream",
     "text": [
      "Pulling from GBIF API with species key: 2163546\n",
      "Pulling from GBIF API with species key: 4964516\n",
      "Pulling from GBIF API with species key: 9594708\n",
      "Pulling from GBIF API with species key: 8475047\n",
      "Pulling from GBIF API with species key: 1466944\n",
      "Pulling from GBIF API with species key: 4532352\n",
      "Pulling from GBIF API with species key: 5977869\n"
     ]
    },
    {
     "name": "stderr",
     "output_type": "stream",
     "text": [
      " 30%|███       | 367/1215 [13:59<36:19,  2.57s/it]"
     ]
    },
    {
     "name": "stdout",
     "output_type": "stream",
     "text": [
      "Pulling from GBIF API with species key: 9174377\n",
      "Pulling from GBIF API with species key: 1269307\n",
      "Pulling from GBIF API with species key: 2284240\n",
      "Pulling from GBIF API with species key: 4413697\n",
      "Pulling from GBIF API with species key: 4564338\n",
      "Pulling from GBIF API with species key: 5102628\n",
      "Pulling from GBIF API with species key: 9100030\n"
     ]
    },
    {
     "name": "stderr",
     "output_type": "stream",
     "text": [
      " 30%|███       | 368/1215 [14:01<35:54,  2.54s/it]"
     ]
    },
    {
     "name": "stdout",
     "output_type": "stream",
     "text": [
      "Pulling from GBIF API with species key: 9375185\n",
      "Pulling from GBIF API with species key: 1827125\n",
      "Pulling from GBIF API with species key: 4436140\n",
      "Pulling from GBIF API with species key: 5079629\n"
     ]
    },
    {
     "name": "stderr",
     "output_type": "stream",
     "text": [
      " 30%|███       | 369/1215 [14:03<31:28,  2.23s/it]"
     ]
    },
    {
     "name": "stdout",
     "output_type": "stream",
     "text": [
      "Failed: Returned status code of 204, with message: <Response [204]>\n",
      "Error querying GBIF for image tile_51.70864612397782_0.1787886125415048.jpg at coords ('51.70864612397782', '0.1787886125415048'): 'NoneType' object has no attribute 'get'\n",
      "No GBIF data found for image: tile_51.70864612397782_0.1787886125415048.jpg at coords: ('51.70864612397782', '0.1787886125415048')\n"
     ]
    },
    {
     "name": "stderr",
     "output_type": "stream",
     "text": [
      " 31%|███       | 371/1215 [14:04<18:51,  1.34s/it]"
     ]
    },
    {
     "name": "stdout",
     "output_type": "stream",
     "text": [
      "Pulling from GBIF API with species key: 10080471\n",
      "Pulling from GBIF API with species key: 11897980\n",
      "Pulling from GBIF API with species key: 1503585\n",
      "Pulling from GBIF API with species key: 4487120\n"
     ]
    },
    {
     "name": "stderr",
     "output_type": "stream",
     "text": [
      " 31%|███       | 372/1215 [14:05<20:52,  1.49s/it]"
     ]
    },
    {
     "name": "stdout",
     "output_type": "stream",
     "text": [
      "Pulling from GBIF API with species key: 9497651\n"
     ]
    },
    {
     "name": "stderr",
     "output_type": "stream",
     "text": [
      " 31%|███       | 375/1215 [14:07<12:17,  1.14it/s]"
     ]
    },
    {
     "name": "stdout",
     "output_type": "stream",
     "text": [
      "Pulling from GBIF API with species key: 1385950\n",
      "Pulling from GBIF API with species key: 11085717\n"
     ]
    },
    {
     "name": "stderr",
     "output_type": "stream",
     "text": [
      " 31%|███       | 376/1215 [14:08<14:12,  1.02s/it]"
     ]
    },
    {
     "name": "stdout",
     "output_type": "stream",
     "text": [
      "Pulling from GBIF API with species key: 8898037\n",
      "Pulling from GBIF API with species key: 4475846\n",
      "Pulling from GBIF API with species key: 6097861\n",
      "Pulling from GBIF API with species key: 2009709\n",
      "Pulling from GBIF API with species key: 4480348\n",
      "Pulling from GBIF API with species key: 10954690\n",
      "Pulling from GBIF API with species key: 5716419\n",
      "Pulling from GBIF API with species key: 6097762\n",
      "Pulling from GBIF API with species key: 2421365\n",
      "Pulling from GBIF API with species key: 4488127\n",
      "Pulling from GBIF API with species key: 5716410\n",
      "Pulling from GBIF API with species key: 8378220\n",
      "Pulling from GBIF API with species key: 10327905\n",
      "Pulling from GBIF API with species key: 1175153\n",
      "Pulling from GBIF API with species key: 1184730\n",
      "Pulling from GBIF API with species key: 1188916\n",
      "Pulling from GBIF API with species key: 1467425\n"
     ]
    },
    {
     "name": "stderr",
     "output_type": "stream",
     "text": [
      " 31%|███       | 377/1215 [14:14<31:36,  2.26s/it]"
     ]
    },
    {
     "name": "stdout",
     "output_type": "stream",
     "text": [
      "Pulling from GBIF API with species key: 1485443\n"
     ]
    },
    {
     "name": "stderr",
     "output_type": "stream",
     "text": [
      " 31%|███▏      | 381/1215 [14:16<13:57,  1.00s/it]"
     ]
    },
    {
     "name": "stdout",
     "output_type": "stream",
     "text": [
      "Failed: Returned status code of 204, with message: <Response [204]>\n",
      "Error querying GBIF for image tile_51.70864612397782_-0.10264015495487333.jpg at coords ('51.70864612397782', '-0.10264015495487333'): 'NoneType' object has no attribute 'get'\n",
      "No GBIF data found for image: tile_51.70864612397782_-0.10264015495487333.jpg at coords: ('51.70864612397782', '-0.10264015495487333')\n",
      "Pulling from GBIF API with species key: 1649556\n",
      "Pulling from GBIF API with species key: 6097619\n",
      "Pulling from GBIF API with species key: 1463357\n",
      "Pulling from GBIF API with species key: 1555038\n",
      "Pulling from GBIF API with species key: 4391587\n",
      "Pulling from GBIF API with species key: 4429149\n",
      "Pulling from GBIF API with species key: 4437990\n",
      "Pulling from GBIF API with species key: 4437991\n",
      "Pulling from GBIF API with species key: 4438159\n",
      "Pulling from GBIF API with species key: 4438454\n",
      "Pulling from GBIF API with species key: 4439055\n",
      "Pulling from GBIF API with species key: 4444700\n",
      "Pulling from GBIF API with species key: 4451114\n",
      "Pulling from GBIF API with species key: 4462313\n",
      "Pulling from GBIF API with species key: 4464204\n",
      "Pulling from GBIF API with species key: 4487974\n",
      "Pulling from GBIF API with species key: 4488147\n",
      "Pulling from GBIF API with species key: 4488684\n",
      "Pulling from GBIF API with species key: 4489983\n",
      "Pulling from GBIF API with species key: 4490281\n",
      "Pulling from GBIF API with species key: 4490768\n",
      "Pulling from GBIF API with species key: 4490946\n",
      "Pulling from GBIF API with species key: 4494368\n",
      "Pulling from GBIF API with species key: 4494711\n",
      "Pulling from GBIF API with species key: 4495090\n",
      "Pulling from GBIF API with species key: 4527229\n",
      "Pulling from GBIF API with species key: 4527339\n",
      "Pulling from GBIF API with species key: 4527903\n",
      "Pulling from GBIF API with species key: 4536292\n",
      "Pulling from GBIF API with species key: 4990828\n",
      "Pulling from GBIF API with species key: 5037103\n",
      "Pulling from GBIF API with species key: 5041099\n",
      "Pulling from GBIF API with species key: 5077756\n",
      "Pulling from GBIF API with species key: 5104829\n",
      "Pulling from GBIF API with species key: 5120465\n",
      "Pulling from GBIF API with species key: 5120990\n",
      "Pulling from GBIF API with species key: 5121509\n",
      "Pulling from GBIF API with species key: 5121686\n",
      "Pulling from GBIF API with species key: 5121714\n",
      "Pulling from GBIF API with species key: 5121795\n",
      "Pulling from GBIF API with species key: 5745045\n",
      "Pulling from GBIF API with species key: 5746428\n",
      "Pulling from GBIF API with species key: 5749735\n",
      "Pulling from GBIF API with species key: 5752478\n",
      "Pulling from GBIF API with species key: 5752508\n",
      "Pulling from GBIF API with species key: 5758859\n",
      "Pulling from GBIF API with species key: 5766600\n",
      "Pulling from GBIF API with species key: 5771232\n",
      "Pulling from GBIF API with species key: 5771249\n",
      "Pulling from GBIF API with species key: 6097630\n",
      "Pulling from GBIF API with species key: 6097658\n",
      "Pulling from GBIF API with species key: 6097751\n",
      "Pulling from GBIF API with species key: 6943243\n",
      "Pulling from GBIF API with species key: 6943606\n",
      "Pulling from GBIF API with species key: 7834494\n",
      "Pulling from GBIF API with species key: 8169450\n"
     ]
    },
    {
     "name": "stderr",
     "output_type": "stream",
     "text": [
      " 31%|███▏      | 382/1215 [14:34<1:23:26,  6.01s/it]"
     ]
    },
    {
     "name": "stdout",
     "output_type": "stream",
     "text": [
      "Pulling from GBIF API with species key: 9602851\n"
     ]
    },
    {
     "name": "stderr",
     "output_type": "stream",
     "text": [
      " 32%|███▏      | 384/1215 [14:35<44:22,  3.20s/it]  "
     ]
    },
    {
     "name": "stdout",
     "output_type": "stream",
     "text": [
      "Pulling from GBIF API with species key: 4825168\n",
      "Pulling from GBIF API with species key: 4825172\n",
      "Pulling from GBIF API with species key: 11125661\n",
      "Pulling from GBIF API with species key: 9245102\n",
      "Pulling from GBIF API with species key: 9275203\n"
     ]
    },
    {
     "name": "stderr",
     "output_type": "stream",
     "text": [
      " 32%|███▏      | 385/1215 [14:37<40:07,  2.90s/it]"
     ]
    },
    {
     "name": "stdout",
     "output_type": "stream",
     "text": [
      "Pulling from GBIF API with species key: 9585588\n",
      "Pulling from GBIF API with species key: 10519873\n"
     ]
    },
    {
     "name": "stderr",
     "output_type": "stream",
     "text": [
      " 32%|███▏      | 386/1215 [14:38<32:28,  2.35s/it]"
     ]
    },
    {
     "name": "stdout",
     "output_type": "stream",
     "text": [
      "Pulling from GBIF API with species key: 4562145\n",
      "Pulling from GBIF API with species key: 4487697\n",
      "Pulling from GBIF API with species key: 1460493\n",
      "Pulling from GBIF API with species key: 2029647\n",
      "Pulling from GBIF API with species key: 2056757\n",
      "Pulling from GBIF API with species key: 2165222\n",
      "Pulling from GBIF API with species key: 4406796\n",
      "Pulling from GBIF API with species key: 4415240\n",
      "Pulling from GBIF API with species key: 4437337\n",
      "Pulling from GBIF API with species key: 4486257\n",
      "Pulling from GBIF API with species key: 4486570\n",
      "Pulling from GBIF API with species key: 4488367\n"
     ]
    },
    {
     "name": "stderr",
     "output_type": "stream",
     "text": [
      " 32%|███▏      | 387/1215 [14:42<39:01,  2.83s/it]"
     ]
    },
    {
     "name": "stdout",
     "output_type": "stream",
     "text": [
      "Pulling from GBIF API with species key: 6097557\n",
      "Pulling from GBIF API with species key: 5057891\n",
      "Pulling from GBIF API with species key: 1477353\n",
      "Pulling from GBIF API with species key: 1043870\n",
      "Pulling from GBIF API with species key: 1304336\n",
      "Pulling from GBIF API with species key: 1493818\n",
      "Pulling from GBIF API with species key: 1493837\n",
      "Pulling from GBIF API with species key: 1563110\n",
      "Pulling from GBIF API with species key: 1573521\n",
      "Pulling from GBIF API with species key: 1573528\n",
      "Pulling from GBIF API with species key: 1577153\n",
      "Pulling from GBIF API with species key: 1586414\n",
      "Pulling from GBIF API with species key: 2054778\n",
      "Pulling from GBIF API with species key: 2072350\n",
      "Pulling from GBIF API with species key: 2075012\n",
      "Pulling from GBIF API with species key: 4487083\n",
      "Pulling from GBIF API with species key: 4489999\n",
      "Pulling from GBIF API with species key: 4494403\n",
      "Pulling from GBIF API with species key: 5068453\n",
      "Pulling from GBIF API with species key: 5069623\n",
      "Pulling from GBIF API with species key: 5072848\n",
      "Pulling from GBIF API with species key: 5077935\n"
     ]
    },
    {
     "name": "stderr",
     "output_type": "stream",
     "text": [
      " 32%|███▏      | 388/1215 [14:49<55:33,  4.03s/it]"
     ]
    },
    {
     "name": "stdout",
     "output_type": "stream",
     "text": [
      "Pulling from GBIF API with species key: 5149839\n",
      "Pulling from GBIF API with species key: 4523880\n",
      "Pulling from GBIF API with species key: 1176431\n"
     ]
    },
    {
     "name": "stderr",
     "output_type": "stream",
     "text": [
      " 32%|███▏      | 389/1215 [14:50<44:21,  3.22s/it]"
     ]
    },
    {
     "name": "stdout",
     "output_type": "stream",
     "text": [
      "Failed: Returned status code of 204, with message: <Response [204]>\n",
      "Error querying GBIF for image tile_51.276213691545394_0.24373371273297673.jpg at coords ('51.276213691545394', '0.24373371273297673'): 'NoneType' object has no attribute 'get'\n",
      "No GBIF data found for image: tile_51.276213691545394_0.24373371273297673.jpg at coords: ('51.276213691545394', '0.24373371273297673')\n"
     ]
    },
    {
     "name": "stderr",
     "output_type": "stream",
     "text": [
      " 32%|███▏      | 390/1215 [14:50<33:04,  2.41s/it]"
     ]
    },
    {
     "name": "stdout",
     "output_type": "stream",
     "text": [
      "Pulling from GBIF API with species key: 4490817\n"
     ]
    },
    {
     "name": "stderr",
     "output_type": "stream",
     "text": [
      " 32%|███▏      | 391/1215 [14:52<27:37,  2.01s/it]"
     ]
    },
    {
     "name": "stdout",
     "output_type": "stream",
     "text": [
      "Failed: Returned status code of 204, with message: <Response [204]>\n",
      "Error querying GBIF for image tile_51.654592069923766_-0.18923362187683584.jpg at coords ('51.654592069923766', '-0.18923362187683584'): 'NoneType' object has no attribute 'get'\n",
      "No GBIF data found for image: tile_51.654592069923766_-0.18923362187683584.jpg at coords: ('51.654592069923766', '-0.18923362187683584')\n"
     ]
    },
    {
     "name": "stderr",
     "output_type": "stream",
     "text": [
      " 32%|███▏      | 393/1215 [14:53<18:34,  1.36s/it]"
     ]
    },
    {
     "name": "stdout",
     "output_type": "stream",
     "text": [
      "Pulling from GBIF API with species key: 2001954\n"
     ]
    },
    {
     "name": "stderr",
     "output_type": "stream",
     "text": [
      " 32%|███▏      | 394/1215 [14:54<16:33,  1.21s/it]"
     ]
    },
    {
     "name": "stdout",
     "output_type": "stream",
     "text": [
      "Pulling from GBIF API with species key: 4488900\n",
      "Pulling from GBIF API with species key: 2283566\n",
      "Pulling from GBIF API with species key: 1174232\n",
      "Pulling from GBIF API with species key: 4426764\n"
     ]
    },
    {
     "name": "stderr",
     "output_type": "stream",
     "text": [
      " 33%|███▎      | 395/1215 [14:55<18:15,  1.34s/it]"
     ]
    },
    {
     "name": "stdout",
     "output_type": "stream",
     "text": [
      "Pulling from GBIF API with species key: 8294401\n",
      "Pulling from GBIF API with species key: 11887819\n"
     ]
    },
    {
     "name": "stderr",
     "output_type": "stream",
     "text": [
      " 33%|███▎      | 396/1215 [14:57<17:24,  1.27s/it]"
     ]
    },
    {
     "name": "stdout",
     "output_type": "stream",
     "text": [
      "Pulling from GBIF API with species key: 2234840\n"
     ]
    },
    {
     "name": "stderr",
     "output_type": "stream",
     "text": [
      " 33%|███▎      | 399/1215 [14:58<10:18,  1.32it/s]"
     ]
    },
    {
     "name": "stdout",
     "output_type": "stream",
     "text": [
      "Pulling from GBIF API with species key: 8072416\n",
      "Pulling from GBIF API with species key: 1244520\n",
      "Pulling from GBIF API with species key: 2120905\n"
     ]
    },
    {
     "name": "stderr",
     "output_type": "stream",
     "text": [
      " 33%|███▎      | 400/1215 [15:00<14:12,  1.05s/it]"
     ]
    },
    {
     "name": "stdout",
     "output_type": "stream",
     "text": [
      "Failed: Returned status code of 204, with message: <Response [204]>\n",
      "Error querying GBIF for image tile_51.54648396181566_-0.49231075610370467.jpg at coords ('51.54648396181566', '-0.49231075610370467'): 'NoneType' object has no attribute 'get'\n",
      "No GBIF data found for image: tile_51.54648396181566_-0.49231075610370467.jpg at coords: ('51.54648396181566', '-0.49231075610370467')\n"
     ]
    },
    {
     "name": "stderr",
     "output_type": "stream",
     "text": [
      " 33%|███▎      | 401/1215 [15:00<12:06,  1.12it/s]"
     ]
    },
    {
     "name": "stdout",
     "output_type": "stream",
     "text": [
      "Pulling from GBIF API with species key: 1876941\n",
      "Pulling from GBIF API with species key: 1068307\n",
      "Pulling from GBIF API with species key: 1531912\n",
      "Pulling from GBIF API with species key: 4436172\n",
      "Pulling from GBIF API with species key: 1047210\n",
      "Pulling from GBIF API with species key: 10825093\n",
      "Pulling from GBIF API with species key: 1161907\n",
      "Pulling from GBIF API with species key: 1179346\n",
      "Pulling from GBIF API with species key: 1217296\n",
      "Pulling from GBIF API with species key: 1675990\n",
      "Pulling from GBIF API with species key: 1972187\n",
      "Pulling from GBIF API with species key: 2011646\n",
      "Pulling from GBIF API with species key: 4434544\n",
      "Pulling from GBIF API with species key: 4435855\n",
      "Pulling from GBIF API with species key: 4446594\n",
      "Pulling from GBIF API with species key: 4450933\n",
      "Pulling from GBIF API with species key: 4452486\n",
      "Pulling from GBIF API with species key: 4568831\n",
      "Pulling from GBIF API with species key: 5156767\n",
      "Pulling from GBIF API with species key: 5745012\n",
      "Pulling from GBIF API with species key: 5746285\n",
      "Pulling from GBIF API with species key: 5747469\n",
      "Pulling from GBIF API with species key: 5749845\n",
      "Pulling from GBIF API with species key: 6097509\n",
      "Pulling from GBIF API with species key: 7659055\n",
      "Pulling from GBIF API with species key: 7870952\n",
      "Pulling from GBIF API with species key: 7997290\n",
      "Pulling from GBIF API with species key: 8362314\n"
     ]
    },
    {
     "name": "stderr",
     "output_type": "stream",
     "text": [
      " 33%|███▎      | 402/1215 [15:09<45:13,  3.34s/it]"
     ]
    },
    {
     "name": "stdout",
     "output_type": "stream",
     "text": [
      "Pulling from GBIF API with species key: 9027622\n",
      "Pulling from GBIF API with species key: 5757120\n",
      "Pulling from GBIF API with species key: 4469020\n",
      "Pulling from GBIF API with species key: 5749249\n",
      "Pulling from GBIF API with species key: 1176433\n",
      "Pulling from GBIF API with species key: 5752562\n",
      "Pulling from GBIF API with species key: 1213170\n",
      "Pulling from GBIF API with species key: 1638597\n",
      "Pulling from GBIF API with species key: 4463880\n",
      "Pulling from GBIF API with species key: 4464028\n",
      "Pulling from GBIF API with species key: 5101301\n",
      "Pulling from GBIF API with species key: 6097847\n",
      "Pulling from GBIF API with species key: 6097896\n",
      "Pulling from GBIF API with species key: 8139233\n",
      "Pulling from GBIF API with species key: 1040781\n",
      "Pulling from GBIF API with species key: 1045482\n",
      "Pulling from GBIF API with species key: 10950708\n",
      "Pulling from GBIF API with species key: 1216470\n",
      "Pulling from GBIF API with species key: 1498801\n",
      "Pulling from GBIF API with species key: 1889287\n",
      "Pulling from GBIF API with species key: 2097030\n",
      "Pulling from GBIF API with species key: 2108783\n",
      "Pulling from GBIF API with species key: 2109122\n",
      "Pulling from GBIF API with species key: 2121303\n",
      "Pulling from GBIF API with species key: 4291057\n",
      "Pulling from GBIF API with species key: 4308864\n",
      "Pulling from GBIF API with species key: 4431062\n",
      "Pulling from GBIF API with species key: 4432792\n",
      "Pulling from GBIF API with species key: 4442126\n",
      "Pulling from GBIF API with species key: 4447386\n",
      "Pulling from GBIF API with species key: 4450572\n",
      "Pulling from GBIF API with species key: 4451246\n"
     ]
    },
    {
     "name": "stderr",
     "output_type": "stream",
     "text": [
      " 33%|███▎      | 403/1215 [15:19<1:11:10,  5.26s/it]"
     ]
    },
    {
     "name": "stdout",
     "output_type": "stream",
     "text": [
      "Pulling from GBIF API with species key: 4453141\n",
      "Pulling from GBIF API with species key: 2076577\n"
     ]
    },
    {
     "name": "stderr",
     "output_type": "stream",
     "text": [
      " 33%|███▎      | 404/1215 [15:20<54:18,  4.02s/it]  "
     ]
    },
    {
     "name": "stdout",
     "output_type": "stream",
     "text": [
      "Pulling from GBIF API with species key: 1576210\n"
     ]
    },
    {
     "name": "stderr",
     "output_type": "stream",
     "text": [
      " 33%|███▎      | 405/1215 [15:21<41:06,  3.05s/it]"
     ]
    },
    {
     "name": "stdout",
     "output_type": "stream",
     "text": [
      "Pulling from GBIF API with species key: 2440931\n"
     ]
    },
    {
     "name": "stderr",
     "output_type": "stream",
     "text": [
      " 33%|███▎      | 406/1215 [15:22<31:57,  2.37s/it]"
     ]
    },
    {
     "name": "stdout",
     "output_type": "stream",
     "text": [
      "Pulling from GBIF API with species key: 6097416\n"
     ]
    },
    {
     "name": "stderr",
     "output_type": "stream",
     "text": [
      " 34%|███▎      | 409/1215 [15:23<15:34,  1.16s/it]"
     ]
    },
    {
     "name": "stdout",
     "output_type": "stream",
     "text": [
      "Pulling from GBIF API with species key: 4453224\n"
     ]
    },
    {
     "name": "stderr",
     "output_type": "stream",
     "text": [
      " 34%|███▎      | 410/1215 [15:24<15:07,  1.13s/it]"
     ]
    },
    {
     "name": "stdout",
     "output_type": "stream",
     "text": [
      "Pulling from GBIF API with species key: 4487546\n"
     ]
    },
    {
     "name": "stderr",
     "output_type": "stream",
     "text": [
      " 34%|███▍      | 411/1215 [15:25<12:43,  1.05it/s]"
     ]
    },
    {
     "name": "stdout",
     "output_type": "stream",
     "text": [
      "Pulling from GBIF API with species key: 1249664\n"
     ]
    },
    {
     "name": "stderr",
     "output_type": "stream",
     "text": [
      " 34%|███▍      | 412/1215 [15:26<13:04,  1.02it/s]"
     ]
    },
    {
     "name": "stdout",
     "output_type": "stream",
     "text": [
      "Pulling from GBIF API with species key: 4491733\n"
     ]
    },
    {
     "name": "stderr",
     "output_type": "stream",
     "text": [
      " 34%|███▍      | 418/1215 [15:29<08:10,  1.62it/s]"
     ]
    },
    {
     "name": "stdout",
     "output_type": "stream",
     "text": [
      "Failed: Returned status code of 204, with message: <Response [204]>\n",
      "Error querying GBIF for image tile_51.397835313167015_0.1571402458110142.jpg at coords ('51.397835313167015', '0.1571402458110142'): 'NoneType' object has no attribute 'get'\n",
      "No GBIF data found for image: tile_51.397835313167015_0.1571402458110142.jpg at coords: ('51.397835313167015', '0.1571402458110142')\n"
     ]
    },
    {
     "name": "stderr",
     "output_type": "stream",
     "text": [
      " 35%|███▍      | 423/1215 [15:32<06:53,  1.91it/s]"
     ]
    },
    {
     "name": "stdout",
     "output_type": "stream",
     "text": [
      "Pulling from GBIF API with species key: 6161347\n",
      "Pulling from GBIF API with species key: 1759686\n",
      "Pulling from GBIF API with species key: 2163653\n",
      "Pulling from GBIF API with species key: 5744362\n"
     ]
    },
    {
     "name": "stderr",
     "output_type": "stream",
     "text": [
      " 35%|███▍      | 424/1215 [15:34<12:30,  1.05it/s]"
     ]
    },
    {
     "name": "stdout",
     "output_type": "stream",
     "text": [
      "Pulling from GBIF API with species key: 9361079\n",
      "Pulling from GBIF API with species key: 2273118\n",
      "Pulling from GBIF API with species key: 2271268\n"
     ]
    },
    {
     "name": "stderr",
     "output_type": "stream",
     "text": [
      " 35%|███▍      | 425/1215 [15:35<14:25,  1.10s/it]"
     ]
    },
    {
     "name": "stdout",
     "output_type": "stream",
     "text": [
      "Pulling from GBIF API with species key: 2274376\n",
      "Pulling from GBIF API with species key: 5053652\n",
      "Pulling from GBIF API with species key: 1438081\n",
      "Pulling from GBIF API with species key: 4440399\n",
      "Pulling from GBIF API with species key: 4447625\n",
      "Pulling from GBIF API with species key: 4488725\n",
      "Pulling from GBIF API with species key: 5746994\n",
      "Pulling from GBIF API with species key: 6097671\n",
      "Pulling from GBIF API with species key: 6097862\n",
      "Pulling from GBIF API with species key: 6098957\n",
      "Pulling from GBIF API with species key: 2009151\n",
      "Pulling from GBIF API with species key: 2011525\n",
      "Pulling from GBIF API with species key: 2049905\n",
      "Pulling from GBIF API with species key: 4427184\n",
      "Pulling from GBIF API with species key: 4435627\n",
      "Pulling from GBIF API with species key: 4452499\n",
      "Pulling from GBIF API with species key: 4487205\n",
      "Pulling from GBIF API with species key: 5747027\n",
      "Pulling from GBIF API with species key: 5752445\n",
      "Pulling from GBIF API with species key: 5875052\n",
      "Pulling from GBIF API with species key: 6097726\n",
      "Pulling from GBIF API with species key: 6989927\n"
     ]
    },
    {
     "name": "stderr",
     "output_type": "stream",
     "text": [
      " 35%|███▌      | 426/1215 [15:42<36:55,  2.81s/it]"
     ]
    },
    {
     "name": "stdout",
     "output_type": "stream",
     "text": [
      "Pulling from GBIF API with species key: 8104778\n"
     ]
    },
    {
     "name": "stderr",
     "output_type": "stream",
     "text": [
      " 35%|███▌      | 429/1215 [15:44<18:35,  1.42s/it]"
     ]
    },
    {
     "name": "stdout",
     "output_type": "stream",
     "text": [
      "Pulling from GBIF API with species key: 6097668\n",
      "Pulling from GBIF API with species key: 4488064\n",
      "Pulling from GBIF API with species key: 2010027\n",
      "Pulling from GBIF API with species key: 4488682\n",
      "Pulling from GBIF API with species key: 4488703\n",
      "Pulling from GBIF API with species key: 4488709\n",
      "Pulling from GBIF API with species key: 1650857\n",
      "Pulling from GBIF API with species key: 1652274\n",
      "Pulling from GBIF API with species key: 2011538\n",
      "Pulling from GBIF API with species key: 2011934\n",
      "Pulling from GBIF API with species key: 2026789\n",
      "Pulling from GBIF API with species key: 2048955\n",
      "Pulling from GBIF API with species key: 2498396\n",
      "Pulling from GBIF API with species key: 4289012\n",
      "Pulling from GBIF API with species key: 4414979\n",
      "Pulling from GBIF API with species key: 4458501\n",
      "Pulling from GBIF API with species key: 4488713\n"
     ]
    },
    {
     "name": "stderr",
     "output_type": "stream",
     "text": [
      " 35%|███▌      | 430/1215 [15:49<34:21,  2.63s/it]"
     ]
    },
    {
     "name": "stdout",
     "output_type": "stream",
     "text": [
      "Pulling from GBIF API with species key: 4489819\n",
      "Pulling from GBIF API with species key: 1219135\n",
      "Pulling from GBIF API with species key: 1218240\n",
      "Pulling from GBIF API with species key: 10888045\n",
      "Pulling from GBIF API with species key: 1249680\n",
      "Pulling from GBIF API with species key: 1280835\n",
      "Pulling from GBIF API with species key: 1860688\n",
      "Pulling from GBIF API with species key: 4490266\n",
      "Pulling from GBIF API with species key: 4490285\n",
      "Pulling from GBIF API with species key: 6097078\n",
      "Pulling from GBIF API with species key: 6098503\n"
     ]
    },
    {
     "name": "stderr",
     "output_type": "stream",
     "text": [
      " 35%|███▌      | 431/1215 [15:53<38:39,  2.96s/it]"
     ]
    },
    {
     "name": "stdout",
     "output_type": "stream",
     "text": [
      "Pulling from GBIF API with species key: 7735049\n",
      "Pulling from GBIF API with species key: 2320564\n",
      "Pulling from GBIF API with species key: 2412685\n"
     ]
    },
    {
     "name": "stderr",
     "output_type": "stream",
     "text": [
      " 36%|███▌      | 432/1215 [15:54<32:46,  2.51s/it]"
     ]
    },
    {
     "name": "stdout",
     "output_type": "stream",
     "text": [
      "Pulling from GBIF API with species key: 5220008\n"
     ]
    },
    {
     "name": "stderr",
     "output_type": "stream",
     "text": [
      " 36%|███▌      | 433/1215 [15:55<24:49,  1.90s/it]"
     ]
    },
    {
     "name": "stdout",
     "output_type": "stream",
     "text": [
      "Pulling from GBIF API with species key: 1975741\n"
     ]
    },
    {
     "name": "stderr",
     "output_type": "stream",
     "text": [
      " 36%|███▌      | 434/1215 [15:56<21:31,  1.65s/it]"
     ]
    },
    {
     "name": "stdout",
     "output_type": "stream",
     "text": [
      "Pulling from GBIF API with species key: 5772063\n"
     ]
    },
    {
     "name": "stderr",
     "output_type": "stream",
     "text": [
      " 36%|███▌      | 435/1215 [15:57<18:33,  1.43s/it]"
     ]
    },
    {
     "name": "stdout",
     "output_type": "stream",
     "text": [
      "Pulling from GBIF API with species key: 1329637\n"
     ]
    },
    {
     "name": "stderr",
     "output_type": "stream",
     "text": [
      " 36%|███▌      | 436/1215 [15:57<14:45,  1.14s/it]"
     ]
    },
    {
     "name": "stdout",
     "output_type": "stream",
     "text": [
      "Pulling from GBIF API with species key: 1637299\n",
      "Pulling from GBIF API with species key: 2069964\n",
      "Pulling from GBIF API with species key: 4562143\n",
      "Pulling from GBIF API with species key: 5180060\n"
     ]
    },
    {
     "name": "stderr",
     "output_type": "stream",
     "text": [
      " 36%|███▌      | 437/1215 [15:59<18:12,  1.40s/it]"
     ]
    },
    {
     "name": "stdout",
     "output_type": "stream",
     "text": [
      "Pulling from GBIF API with species key: 8306571\n"
     ]
    },
    {
     "name": "stderr",
     "output_type": "stream",
     "text": [
      " 36%|███▌      | 438/1215 [16:00<15:40,  1.21s/it]"
     ]
    },
    {
     "name": "stdout",
     "output_type": "stream",
     "text": [
      "Pulling from GBIF API with species key: 1860668\n"
     ]
    },
    {
     "name": "stderr",
     "output_type": "stream",
     "text": [
      " 36%|███▌      | 440/1215 [16:01<11:30,  1.12it/s]"
     ]
    },
    {
     "name": "stdout",
     "output_type": "stream",
     "text": [
      "Pulling from GBIF API with species key: 1987578\n",
      "Pulling from GBIF API with species key: 2120081\n",
      "Pulling from GBIF API with species key: 4302268\n",
      "Pulling from GBIF API with species key: 4438197\n",
      "Pulling from GBIF API with species key: 4440533\n",
      "Pulling from GBIF API with species key: 4464152\n"
     ]
    },
    {
     "name": "stderr",
     "output_type": "stream",
     "text": [
      " 36%|███▋      | 441/1215 [16:04<17:58,  1.39s/it]"
     ]
    },
    {
     "name": "stdout",
     "output_type": "stream",
     "text": [
      "Pulling from GBIF API with species key: 4464531\n"
     ]
    },
    {
     "name": "stderr",
     "output_type": "stream",
     "text": [
      " 36%|███▋      | 442/1215 [16:04<14:29,  1.12s/it]"
     ]
    },
    {
     "name": "stdout",
     "output_type": "stream",
     "text": [
      "Pulling from GBIF API with species key: 5035793\n",
      "Pulling from GBIF API with species key: 2332960\n",
      "Pulling from GBIF API with species key: 2376212\n",
      "Pulling from GBIF API with species key: 2413452\n"
     ]
    },
    {
     "name": "stderr",
     "output_type": "stream",
     "text": [
      " 36%|███▋      | 443/1215 [16:06<17:20,  1.35s/it]"
     ]
    },
    {
     "name": "stdout",
     "output_type": "stream",
     "text": [
      "Pulling from GBIF API with species key: 5076715\n"
     ]
    },
    {
     "name": "stderr",
     "output_type": "stream",
     "text": [
      " 37%|███▋      | 444/1215 [16:07<14:07,  1.10s/it]"
     ]
    },
    {
     "name": "stdout",
     "output_type": "stream",
     "text": [
      "Pulling from GBIF API with species key: 1170585\n",
      "Pulling from GBIF API with species key: 1585701\n",
      "Pulling from GBIF API with species key: 2140648\n"
     ]
    },
    {
     "name": "stderr",
     "output_type": "stream",
     "text": [
      " 37%|███▋      | 445/1215 [16:09<16:48,  1.31s/it]"
     ]
    },
    {
     "name": "stdout",
     "output_type": "stream",
     "text": [
      "Pulling from GBIF API with species key: 4398741\n",
      "Pulling from GBIF API with species key: 5232470\n"
     ]
    },
    {
     "name": "stderr",
     "output_type": "stream",
     "text": [
      " 37%|███▋      | 446/1215 [16:10<16:02,  1.25s/it]"
     ]
    },
    {
     "name": "stdout",
     "output_type": "stream",
     "text": [
      "Failed: Returned status code of 204, with message: <Response [204]>\n",
      "Error querying GBIF for image tile_51.654592069923766_-0.016046688032910816.jpg at coords ('51.654592069923766', '-0.016046688032910816'): 'NoneType' object has no attribute 'get'\n",
      "No GBIF data found for image: tile_51.654592069923766_-0.016046688032910816.jpg at coords: ('51.654592069923766', '-0.016046688032910816')\n"
     ]
    },
    {
     "name": "stderr",
     "output_type": "stream",
     "text": [
      " 37%|███▋      | 448/1215 [16:11<11:04,  1.15it/s]"
     ]
    },
    {
     "name": "stdout",
     "output_type": "stream",
     "text": [
      "Pulling from GBIF API with species key: 1749791\n",
      "Pulling from GBIF API with species key: 6097386\n",
      "Pulling from GBIF API with species key: 6097389\n",
      "Pulling from GBIF API with species key: 1549944\n",
      "Pulling from GBIF API with species key: 1633538\n",
      "Pulling from GBIF API with species key: 4458870\n",
      "Pulling from GBIF API with species key: 4486603\n",
      "Pulling from GBIF API with species key: 4488029\n"
     ]
    },
    {
     "name": "stderr",
     "output_type": "stream",
     "text": [
      " 37%|███▋      | 449/1215 [16:14<19:38,  1.54s/it]"
     ]
    },
    {
     "name": "stdout",
     "output_type": "stream",
     "text": [
      "Pulling from GBIF API with species key: 5094598\n"
     ]
    },
    {
     "name": "stderr",
     "output_type": "stream",
     "text": [
      " 37%|███▋      | 452/1215 [16:16<12:00,  1.06it/s]"
     ]
    },
    {
     "name": "stdout",
     "output_type": "stream",
     "text": [
      "Pulling from GBIF API with species key: 1371917\n",
      "Pulling from GBIF API with species key: 1370883\n",
      "Pulling from GBIF API with species key: 5045576\n",
      "Pulling from GBIF API with species key: 5752356\n",
      "Pulling from GBIF API with species key: 1203368\n",
      "Pulling from GBIF API with species key: 1370985\n",
      "Pulling from GBIF API with species key: 1390278\n",
      "Pulling from GBIF API with species key: 4484307\n",
      "Pulling from GBIF API with species key: 5045339\n",
      "Pulling from GBIF API with species key: 5078421\n"
     ]
    },
    {
     "name": "stderr",
     "output_type": "stream",
     "text": [
      " 37%|███▋      | 453/1215 [16:19<22:58,  1.81s/it]"
     ]
    },
    {
     "name": "stdout",
     "output_type": "stream",
     "text": [
      "Pulling from GBIF API with species key: 5743293\n"
     ]
    },
    {
     "name": "stderr",
     "output_type": "stream",
     "text": [
      " 37%|███▋      | 454/1215 [16:20<18:03,  1.42s/it]"
     ]
    },
    {
     "name": "stdout",
     "output_type": "stream",
     "text": [
      "Pulling from GBIF API with species key: 5185751\n",
      "Pulling from GBIF API with species key: 1271246\n",
      "Pulling from GBIF API with species key: 1271498\n",
      "Pulling from GBIF API with species key: 1554833\n",
      "Pulling from GBIF API with species key: 4587375\n"
     ]
    },
    {
     "name": "stderr",
     "output_type": "stream",
     "text": [
      " 37%|███▋      | 455/1215 [16:22<21:14,  1.68s/it]"
     ]
    },
    {
     "name": "stdout",
     "output_type": "stream",
     "text": [
      "Pulling from GBIF API with species key: 6097715\n"
     ]
    },
    {
     "name": "stderr",
     "output_type": "stream",
     "text": [
      " 38%|███▊      | 457/1215 [16:23<14:41,  1.16s/it]"
     ]
    },
    {
     "name": "stdout",
     "output_type": "stream",
     "text": [
      "Pulling from GBIF API with species key: 4441465\n",
      "Pulling from GBIF API with species key: 5742524\n",
      "Pulling from GBIF API with species key: 2148792\n",
      "Pulling from GBIF API with species key: 2232992\n",
      "Pulling from GBIF API with species key: 4456760\n"
     ]
    },
    {
     "name": "stderr",
     "output_type": "stream",
     "text": [
      " 38%|███▊      | 458/1215 [16:25<17:56,  1.42s/it]"
     ]
    },
    {
     "name": "stdout",
     "output_type": "stream",
     "text": [
      "Pulling from GBIF API with species key: 6943247\n"
     ]
    },
    {
     "name": "stderr",
     "output_type": "stream",
     "text": [
      " 38%|███▊      | 459/1215 [16:26<15:33,  1.23s/it]"
     ]
    },
    {
     "name": "stdout",
     "output_type": "stream",
     "text": [
      "Pulling from GBIF API with species key: 1487484\n"
     ]
    },
    {
     "name": "stderr",
     "output_type": "stream",
     "text": [
      " 38%|███▊      | 460/1215 [16:27<12:53,  1.02s/it]"
     ]
    },
    {
     "name": "stdout",
     "output_type": "stream",
     "text": [
      "Pulling from GBIF API with species key: 4473277\n",
      "Pulling from GBIF API with species key: 4418536\n",
      "Pulling from GBIF API with species key: 6098952\n",
      "Pulling from GBIF API with species key: 1856686\n",
      "Pulling from GBIF API with species key: 1858107\n",
      "Pulling from GBIF API with species key: 2121103\n",
      "Pulling from GBIF API with species key: 2427091\n"
     ]
    },
    {
     "name": "stderr",
     "output_type": "stream",
     "text": [
      " 38%|███▊      | 461/1215 [16:30<19:30,  1.55s/it]"
     ]
    },
    {
     "name": "stdout",
     "output_type": "stream",
     "text": [
      "Pulling from GBIF API with species key: 4469857\n"
     ]
    },
    {
     "name": "stderr",
     "output_type": "stream",
     "text": [
      " 38%|███▊      | 463/1215 [16:31<13:32,  1.08s/it]"
     ]
    },
    {
     "name": "stdout",
     "output_type": "stream",
     "text": [
      "Pulling from GBIF API with species key: 5068426\n"
     ]
    },
    {
     "name": "stderr",
     "output_type": "stream",
     "text": [
      " 38%|███▊      | 465/1215 [16:32<10:48,  1.16it/s]"
     ]
    },
    {
     "name": "stdout",
     "output_type": "stream",
     "text": [
      "Failed: Returned status code of 204, with message: <Response [204]>\n",
      "Error querying GBIF for image tile_51.72215963749134_-0.05934342149389207.jpg at coords ('51.72215963749134', '-0.05934342149389207'): 'NoneType' object has no attribute 'get'\n",
      "No GBIF data found for image: tile_51.72215963749134_-0.05934342149389207.jpg at coords: ('51.72215963749134', '-0.05934342149389207')\n"
     ]
    },
    {
     "name": "stderr",
     "output_type": "stream",
     "text": [
      " 38%|███▊      | 467/1215 [16:34<09:53,  1.26it/s]"
     ]
    },
    {
     "name": "stdout",
     "output_type": "stream",
     "text": [
      "Pulling from GBIF API with species key: 5752145\n"
     ]
    },
    {
     "name": "stderr",
     "output_type": "stream",
     "text": [
      " 39%|███▊      | 468/1215 [16:34<08:48,  1.41it/s]"
     ]
    },
    {
     "name": "stdout",
     "output_type": "stream",
     "text": [
      "Pulling from GBIF API with species key: 1554439\n"
     ]
    },
    {
     "name": "stderr",
     "output_type": "stream",
     "text": [
      " 39%|███▊      | 469/1215 [16:35<10:05,  1.23it/s]"
     ]
    },
    {
     "name": "stdout",
     "output_type": "stream",
     "text": [
      "Pulling from GBIF API with species key: 1531016\n",
      "Pulling from GBIF API with species key: 4518677\n",
      "Pulling from GBIF API with species key: 11203264\n",
      "Pulling from GBIF API with species key: 11218026\n",
      "Pulling from GBIF API with species key: 11342904\n",
      "Pulling from GBIF API with species key: 11598542\n",
      "Pulling from GBIF API with species key: 1749862\n",
      "Pulling from GBIF API with species key: 4525530\n",
      "Pulling from GBIF API with species key: 4956896\n",
      "Pulling from GBIF API with species key: 4970243\n",
      "Pulling from GBIF API with species key: 4971966\n",
      "Pulling from GBIF API with species key: 5769255\n",
      "Pulling from GBIF API with species key: 8533838\n",
      "Pulling from GBIF API with species key: 8541779\n",
      "Pulling from GBIF API with species key: 8582439\n",
      "Pulling from GBIF API with species key: 8612897\n",
      "Pulling from GBIF API with species key: 8988655\n",
      "Pulling from GBIF API with species key: 9242725\n",
      "Pulling from GBIF API with species key: 9266991\n",
      "Pulling from GBIF API with species key: 9268308\n",
      "Pulling from GBIF API with species key: 9439513\n",
      "Pulling from GBIF API with species key: 9448636\n",
      "Pulling from GBIF API with species key: 9504486\n",
      "Pulling from GBIF API with species key: 9565935\n",
      "Pulling from GBIF API with species key: 9566054\n",
      "Pulling from GBIF API with species key: 9566113\n",
      "Pulling from GBIF API with species key: 9614692\n",
      "Pulling from GBIF API with species key: 9634950\n"
     ]
    },
    {
     "name": "stderr",
     "output_type": "stream",
     "text": [
      " 39%|███▊      | 470/1215 [16:44<38:53,  3.13s/it]"
     ]
    },
    {
     "name": "stdout",
     "output_type": "stream",
     "text": [
      "Pulling from GBIF API with species key: 9788097\n"
     ]
    },
    {
     "name": "stderr",
     "output_type": "stream",
     "text": [
      " 39%|███▉      | 473/1215 [16:46<18:37,  1.51s/it]"
     ]
    },
    {
     "name": "stdout",
     "output_type": "stream",
     "text": [
      "Pulling from GBIF API with species key: 1228465\n",
      "Pulling from GBIF API with species key: 8106051\n",
      "Pulling from GBIF API with species key: 5984976\n"
     ]
    },
    {
     "name": "stderr",
     "output_type": "stream",
     "text": [
      " 39%|███▉      | 474/1215 [16:47<17:46,  1.44s/it]"
     ]
    },
    {
     "name": "stdout",
     "output_type": "stream",
     "text": [
      "Pulling from GBIF API with species key: 10690593\n"
     ]
    },
    {
     "name": "stderr",
     "output_type": "stream",
     "text": [
      " 39%|███▉      | 475/1215 [16:47<14:10,  1.15s/it]"
     ]
    },
    {
     "name": "stdout",
     "output_type": "stream",
     "text": [
      "Pulling from GBIF API with species key: 2480208\n",
      "Pulling from GBIF API with species key: 1858100\n",
      "Pulling from GBIF API with species key: 1878469\n",
      "Pulling from GBIF API with species key: 2013572\n",
      "Pulling from GBIF API with species key: 2069580\n",
      "Pulling from GBIF API with species key: 2073024\n",
      "Pulling from GBIF API with species key: 2074609\n",
      "Pulling from GBIF API with species key: 2076371\n",
      "Pulling from GBIF API with species key: 2077443\n",
      "Pulling from GBIF API with species key: 2078368\n",
      "Pulling from GBIF API with species key: 2090694\n",
      "Pulling from GBIF API with species key: 2105530\n",
      "Pulling from GBIF API with species key: 2169369\n",
      "Pulling from GBIF API with species key: 2172885\n",
      "Pulling from GBIF API with species key: 2233033\n",
      "Pulling from GBIF API with species key: 2234812\n",
      "Pulling from GBIF API with species key: 4296342\n"
     ]
    },
    {
     "name": "stderr",
     "output_type": "stream",
     "text": [
      " 39%|███▉      | 476/1215 [16:53<31:19,  2.54s/it]"
     ]
    },
    {
     "name": "stdout",
     "output_type": "stream",
     "text": [
      "Pulling from GBIF API with species key: 4490257\n",
      "Pulling from GBIF API with species key: 4485408\n",
      "Pulling from GBIF API with species key: 5103948\n",
      "Pulling from GBIF API with species key: 8064249\n",
      "Pulling from GBIF API with species key: 1301408\n",
      "Pulling from GBIF API with species key: 1490883\n",
      "Pulling from GBIF API with species key: 1491109\n",
      "Pulling from GBIF API with species key: 1495328\n",
      "Pulling from GBIF API with species key: 1619176\n",
      "Pulling from GBIF API with species key: 1850878\n"
     ]
    },
    {
     "name": "stderr",
     "output_type": "stream",
     "text": [
      " 39%|███▉      | 477/1215 [16:57<34:44,  2.83s/it]"
     ]
    },
    {
     "name": "stdout",
     "output_type": "stream",
     "text": [
      "Pulling from GBIF API with species key: 1874743\n",
      "Pulling from GBIF API with species key: 1847640\n",
      "Pulling from GBIF API with species key: 2308550\n"
     ]
    },
    {
     "name": "stderr",
     "output_type": "stream",
     "text": [
      " 39%|███▉      | 478/1215 [16:58<29:28,  2.40s/it]"
     ]
    },
    {
     "name": "stdout",
     "output_type": "stream",
     "text": [
      "Pulling from GBIF API with species key: 2308608\n"
     ]
    },
    {
     "name": "stderr",
     "output_type": "stream",
     "text": [
      " 39%|███▉      | 479/1215 [16:59<23:35,  1.92s/it]"
     ]
    },
    {
     "name": "stdout",
     "output_type": "stream",
     "text": [
      "Pulling from GBIF API with species key: 2498011\n"
     ]
    },
    {
     "name": "stderr",
     "output_type": "stream",
     "text": [
      " 40%|███▉      | 480/1215 [16:59<18:25,  1.50s/it]"
     ]
    },
    {
     "name": "stdout",
     "output_type": "stream",
     "text": [
      "Pulling from GBIF API with species key: 8203812\n",
      "Pulling from GBIF API with species key: 1520106\n",
      "Pulling from GBIF API with species key: 4553820\n"
     ]
    },
    {
     "name": "stderr",
     "output_type": "stream",
     "text": [
      " 40%|███▉      | 481/1215 [17:01<18:47,  1.54s/it]"
     ]
    },
    {
     "name": "stdout",
     "output_type": "stream",
     "text": [
      "Pulling from GBIF API with species key: 4580751\n"
     ]
    },
    {
     "name": "stderr",
     "output_type": "stream",
     "text": [
      " 40%|███▉      | 483/1215 [17:02<12:16,  1.01s/it]"
     ]
    },
    {
     "name": "stdout",
     "output_type": "stream",
     "text": [
      "Pulling from GBIF API with species key: 1031724\n",
      "Pulling from GBIF API with species key: 2072196\n",
      "Pulling from GBIF API with species key: 10920891\n"
     ]
    },
    {
     "name": "stderr",
     "output_type": "stream",
     "text": [
      " 40%|███▉      | 484/1215 [17:04<14:34,  1.20s/it]"
     ]
    },
    {
     "name": "stdout",
     "output_type": "stream",
     "text": [
      "Pulling from GBIF API with species key: 5174079\n"
     ]
    },
    {
     "name": "stderr",
     "output_type": "stream",
     "text": [
      " 40%|███▉      | 485/1215 [17:04<13:07,  1.08s/it]"
     ]
    },
    {
     "name": "stdout",
     "output_type": "stream",
     "text": [
      "Pulling from GBIF API with species key: 1856023\n"
     ]
    },
    {
     "name": "stderr",
     "output_type": "stream",
     "text": [
      " 40%|████      | 486/1215 [17:05<11:41,  1.04it/s]"
     ]
    },
    {
     "name": "stdout",
     "output_type": "stream",
     "text": [
      "Pulling from GBIF API with species key: 4492215\n"
     ]
    },
    {
     "name": "stderr",
     "output_type": "stream",
     "text": [
      " 40%|████      | 487/1215 [17:06<10:51,  1.12it/s]"
     ]
    },
    {
     "name": "stdout",
     "output_type": "stream",
     "text": [
      "Failed: Returned status code of 204, with message: <Response [204]>\n",
      "Error querying GBIF for image tile_51.735673151004846_0.09219514561954233.jpg at coords ('51.735673151004846', '0.09219514561954233'): 'NoneType' object has no attribute 'get'\n",
      "No GBIF data found for image: tile_51.735673151004846_0.09219514561954233.jpg at coords: ('51.735673151004846', '0.09219514561954233')\n",
      "Pulling from GBIF API with species key: 4987991\n",
      "Pulling from GBIF API with species key: 2136895\n",
      "Pulling from GBIF API with species key: 4395993\n"
     ]
    },
    {
     "name": "stderr",
     "output_type": "stream",
     "text": [
      " 40%|████      | 488/1215 [17:08<14:04,  1.16s/it]"
     ]
    },
    {
     "name": "stdout",
     "output_type": "stream",
     "text": [
      "Pulling from GBIF API with species key: 5745451\n",
      "Pulling from GBIF API with species key: 1493807\n",
      "Pulling from GBIF API with species key: 1493834\n",
      "Pulling from GBIF API with species key: 1617497\n",
      "Pulling from GBIF API with species key: 1619699\n",
      "Pulling from GBIF API with species key: 2012536\n",
      "Pulling from GBIF API with species key: 2054083\n",
      "Pulling from GBIF API with species key: 5074534\n",
      "Pulling from GBIF API with species key: 9317615\n",
      "Pulling from GBIF API with species key: 10340609\n",
      "Pulling from GBIF API with species key: 1311651\n",
      "Pulling from GBIF API with species key: 1444231\n",
      "Pulling from GBIF API with species key: 1444494\n",
      "Pulling from GBIF API with species key: 1457291\n",
      "Pulling from GBIF API with species key: 1459365\n",
      "Pulling from GBIF API with species key: 1489740\n",
      "Pulling from GBIF API with species key: 1490239\n",
      "Pulling from GBIF API with species key: 1493816\n",
      "Pulling from GBIF API with species key: 1588946\n",
      "Pulling from GBIF API with species key: 1605004\n",
      "Pulling from GBIF API with species key: 1605803\n",
      "Pulling from GBIF API with species key: 1617958\n",
      "Pulling from GBIF API with species key: 1619053\n",
      "Pulling from GBIF API with species key: 1619145\n",
      "Pulling from GBIF API with species key: 1619781\n",
      "Pulling from GBIF API with species key: 1884212\n",
      "Pulling from GBIF API with species key: 2039625\n",
      "Pulling from GBIF API with species key: 2054894\n",
      "Pulling from GBIF API with species key: 2056662\n",
      "Pulling from GBIF API with species key: 4430798\n",
      "Pulling from GBIF API with species key: 4571482\n",
      "Pulling from GBIF API with species key: 5079551\n",
      "Pulling from GBIF API with species key: 5094677\n",
      "Pulling from GBIF API with species key: 5874748\n",
      "Pulling from GBIF API with species key: 5977871\n"
     ]
    },
    {
     "name": "stderr",
     "output_type": "stream",
     "text": [
      " 40%|████      | 489/1215 [17:18<48:09,  3.98s/it]"
     ]
    },
    {
     "name": "stdout",
     "output_type": "stream",
     "text": [
      "Pulling from GBIF API with species key: 6097233\n",
      "Pulling from GBIF API with species key: 2115701\n",
      "Pulling from GBIF API with species key: 2115769\n",
      "Pulling from GBIF API with species key: 2321001\n",
      "Pulling from GBIF API with species key: 4315720\n",
      "Pulling from GBIF API with species key: 4437523\n"
     ]
    },
    {
     "name": "stderr",
     "output_type": "stream",
     "text": [
      " 40%|████      | 490/1215 [17:20<41:36,  3.44s/it]"
     ]
    },
    {
     "name": "stdout",
     "output_type": "stream",
     "text": [
      "Pulling from GBIF API with species key: 5189062\n"
     ]
    },
    {
     "name": "stderr",
     "output_type": "stream",
     "text": [
      " 41%|████      | 495/1215 [17:23<12:59,  1.08s/it]"
     ]
    },
    {
     "name": "stdout",
     "output_type": "stream",
     "text": [
      "Pulling from GBIF API with species key: 1983387\n"
     ]
    },
    {
     "name": "stderr",
     "output_type": "stream",
     "text": [
      " 41%|████      | 496/1215 [17:24<12:02,  1.01s/it]"
     ]
    },
    {
     "name": "stdout",
     "output_type": "stream",
     "text": [
      "Pulling from GBIF API with species key: 1856684\n"
     ]
    },
    {
     "name": "stderr",
     "output_type": "stream",
     "text": [
      " 41%|████      | 498/1215 [17:25<10:15,  1.16it/s]"
     ]
    },
    {
     "name": "stdout",
     "output_type": "stream",
     "text": [
      "Pulling from GBIF API with species key: 1673986\n"
     ]
    },
    {
     "name": "stderr",
     "output_type": "stream",
     "text": [
      " 41%|████      | 499/1215 [17:26<11:23,  1.05it/s]"
     ]
    },
    {
     "name": "stdout",
     "output_type": "stream",
     "text": [
      "Failed: Returned status code of 204, with message: <Response [204]>\n",
      "Error querying GBIF for image tile_51.695132610464306_-0.3624205557207609.jpg at coords ('51.695132610464306', '-0.3624205557207609'): 'NoneType' object has no attribute 'get'\n",
      "No GBIF data found for image: tile_51.695132610464306_-0.3624205557207609.jpg at coords: ('51.695132610464306', '-0.3624205557207609')\n"
     ]
    },
    {
     "name": "stderr",
     "output_type": "stream",
     "text": [
      " 41%|████      | 500/1215 [17:27<09:53,  1.20it/s]"
     ]
    },
    {
     "name": "stdout",
     "output_type": "stream",
     "text": [
      "Pulling from GBIF API with species key: 1420012\n",
      "Pulling from GBIF API with species key: 1460610\n",
      "Pulling from GBIF API with species key: 1493819\n",
      "Pulling from GBIF API with species key: 4447371\n"
     ]
    },
    {
     "name": "stderr",
     "output_type": "stream",
     "text": [
      " 41%|████      | 501/1215 [17:29<13:49,  1.16s/it]"
     ]
    },
    {
     "name": "stdout",
     "output_type": "stream",
     "text": [
      "Pulling from GBIF API with species key: 4488793\n"
     ]
    },
    {
     "name": "stderr",
     "output_type": "stream",
     "text": [
      " 41%|████▏     | 502/1215 [17:30<12:30,  1.05s/it]"
     ]
    },
    {
     "name": "stdout",
     "output_type": "stream",
     "text": [
      "Pulling from GBIF API with species key: 1905383\n"
     ]
    },
    {
     "name": "stderr",
     "output_type": "stream",
     "text": [
      " 41%|████▏     | 504/1215 [17:31<09:55,  1.19it/s]"
     ]
    },
    {
     "name": "stdout",
     "output_type": "stream",
     "text": [
      "Pulling from GBIF API with species key: 2071320\n"
     ]
    },
    {
     "name": "stderr",
     "output_type": "stream",
     "text": [
      " 42%|████▏     | 506/1215 [17:32<07:51,  1.51it/s]"
     ]
    },
    {
     "name": "stdout",
     "output_type": "stream",
     "text": [
      "Pulling from GBIF API with species key: 4490682\n"
     ]
    },
    {
     "name": "stderr",
     "output_type": "stream",
     "text": [
      " 42%|████▏     | 507/1215 [17:33<09:14,  1.28it/s]"
     ]
    },
    {
     "name": "stdout",
     "output_type": "stream",
     "text": [
      "Pulling from GBIF API with species key: 4532516\n"
     ]
    },
    {
     "name": "stderr",
     "output_type": "stream",
     "text": [
      " 42%|████▏     | 508/1215 [17:34<09:23,  1.25it/s]"
     ]
    },
    {
     "name": "stdout",
     "output_type": "stream",
     "text": [
      "Pulling from GBIF API with species key: 5220435\n"
     ]
    },
    {
     "name": "stderr",
     "output_type": "stream",
     "text": [
      " 42%|████▏     | 509/1215 [17:34<08:21,  1.41it/s]"
     ]
    },
    {
     "name": "stdout",
     "output_type": "stream",
     "text": [
      "Pulling from GBIF API with species key: 2072460\n",
      "Pulling from GBIF API with species key: 2078488\n",
      "Pulling from GBIF API with species key: 8114730\n",
      "Pulling from GBIF API with species key: 2077273\n"
     ]
    },
    {
     "name": "stderr",
     "output_type": "stream",
     "text": [
      " 42%|████▏     | 510/1215 [17:36<12:28,  1.06s/it]"
     ]
    },
    {
     "name": "stdout",
     "output_type": "stream",
     "text": [
      "Pulling from GBIF API with species key: 5746567\n"
     ]
    },
    {
     "name": "stderr",
     "output_type": "stream",
     "text": [
      " 42%|████▏     | 511/1215 [17:37<10:27,  1.12it/s]"
     ]
    },
    {
     "name": "stdout",
     "output_type": "stream",
     "text": [
      "Pulling from GBIF API with species key: 1850008\n"
     ]
    },
    {
     "name": "stderr",
     "output_type": "stream",
     "text": [
      " 42%|████▏     | 512/1215 [17:38<11:05,  1.06it/s]"
     ]
    },
    {
     "name": "stdout",
     "output_type": "stream",
     "text": [
      "Pulling from GBIF API with species key: 4506181\n",
      "Pulling from GBIF API with species key: 1551483\n",
      "Pulling from GBIF API with species key: 11191345\n",
      "Pulling from GBIF API with species key: 1551797\n",
      "Pulling from GBIF API with species key: 1554333\n",
      "Pulling from GBIF API with species key: 1554363\n",
      "Pulling from GBIF API with species key: 1554980\n",
      "Pulling from GBIF API with species key: 1551947\n",
      "Pulling from GBIF API with species key: 1554621\n",
      "Pulling from GBIF API with species key: 11173936\n",
      "Pulling from GBIF API with species key: 1551742\n",
      "Pulling from GBIF API with species key: 1552247\n",
      "Pulling from GBIF API with species key: 1552553\n",
      "Pulling from GBIF API with species key: 1555004\n",
      "Pulling from GBIF API with species key: 1555097\n",
      "Pulling from GBIF API with species key: 1555144\n"
     ]
    },
    {
     "name": "stderr",
     "output_type": "stream",
     "text": [
      " 42%|████▏     | 513/1215 [17:43<25:13,  2.16s/it]"
     ]
    },
    {
     "name": "stdout",
     "output_type": "stream",
     "text": [
      "Pulling from GBIF API with species key: 4517428\n"
     ]
    },
    {
     "name": "stderr",
     "output_type": "stream",
     "text": [
      " 42%|████▏     | 514/1215 [17:43<19:25,  1.66s/it]"
     ]
    },
    {
     "name": "stdout",
     "output_type": "stream",
     "text": [
      "Pulling from GBIF API with species key: 6932828\n"
     ]
    },
    {
     "name": "stderr",
     "output_type": "stream",
     "text": [
      " 42%|████▏     | 515/1215 [17:44<17:17,  1.48s/it]"
     ]
    },
    {
     "name": "stdout",
     "output_type": "stream",
     "text": [
      "Pulling from GBIF API with species key: 8929087\n",
      "Pulling from GBIF API with species key: 4428961\n"
     ]
    },
    {
     "name": "stderr",
     "output_type": "stream",
     "text": [
      " 42%|████▏     | 516/1215 [17:45<15:45,  1.35s/it]"
     ]
    },
    {
     "name": "stdout",
     "output_type": "stream",
     "text": [
      "Pulling from GBIF API with species key: 5729434\n",
      "Pulling from GBIF API with species key: 2220407\n"
     ]
    },
    {
     "name": "stderr",
     "output_type": "stream",
     "text": [
      " 43%|████▎     | 517/1215 [17:46<14:39,  1.26s/it]"
     ]
    },
    {
     "name": "stdout",
     "output_type": "stream",
     "text": [
      "Pulling from GBIF API with species key: 5177125\n"
     ]
    },
    {
     "name": "stderr",
     "output_type": "stream",
     "text": [
      " 43%|████▎     | 518/1215 [17:47<12:04,  1.04s/it]"
     ]
    },
    {
     "name": "stdout",
     "output_type": "stream",
     "text": [
      "Pulling from GBIF API with species key: 4437246\n",
      "Pulling from GBIF API with species key: 1210377\n",
      "Pulling from GBIF API with species key: 5752653\n",
      "Pulling from GBIF API with species key: 10932096\n",
      "Pulling from GBIF API with species key: 4436089\n",
      "Pulling from GBIF API with species key: 7791391\n",
      "Pulling from GBIF API with species key: 1181210\n",
      "Pulling from GBIF API with species key: 1738433\n",
      "Pulling from GBIF API with species key: 2234860\n",
      "Pulling from GBIF API with species key: 2234922\n",
      "Pulling from GBIF API with species key: 2244968\n",
      "Pulling from GBIF API with species key: 2253484\n",
      "Pulling from GBIF API with species key: 4436823\n",
      "Pulling from GBIF API with species key: 4437032\n",
      "Pulling from GBIF API with species key: 4438824\n",
      "Pulling from GBIF API with species key: 4444715\n",
      "Pulling from GBIF API with species key: 4444719\n",
      "Pulling from GBIF API with species key: 4449304\n",
      "Pulling from GBIF API with species key: 4463461\n",
      "Pulling from GBIF API with species key: 5748923\n",
      "Pulling from GBIF API with species key: 5892122\n",
      "Pulling from GBIF API with species key: 6097240\n",
      "Pulling from GBIF API with species key: 6097693\n",
      "Pulling from GBIF API with species key: 6098856\n"
     ]
    },
    {
     "name": "stderr",
     "output_type": "stream",
     "text": [
      " 43%|████▎     | 519/1215 [17:54<34:34,  2.98s/it]"
     ]
    },
    {
     "name": "stdout",
     "output_type": "stream",
     "text": [
      "Pulling from GBIF API with species key: 8098866\n",
      "Pulling from GBIF API with species key: 9464701\n",
      "Pulling from GBIF API with species key: 9510526\n",
      "Pulling from GBIF API with species key: 1279233\n"
     ]
    },
    {
     "name": "stderr",
     "output_type": "stream",
     "text": [
      " 43%|████▎     | 520/1215 [17:56<30:05,  2.60s/it]"
     ]
    },
    {
     "name": "stdout",
     "output_type": "stream",
     "text": [
      "Pulling from GBIF API with species key: 9752334\n",
      "Pulling from GBIF API with species key: 2134791\n",
      "Pulling from GBIF API with species key: 2135963\n",
      "Pulling from GBIF API with species key: 4504373\n",
      "Pulling from GBIF API with species key: 4518716\n",
      "Pulling from GBIF API with species key: 5766948\n"
     ]
    },
    {
     "name": "stderr",
     "output_type": "stream",
     "text": [
      " 43%|████▎     | 521/1215 [17:58<28:48,  2.49s/it]"
     ]
    },
    {
     "name": "stdout",
     "output_type": "stream",
     "text": [
      "Pulling from GBIF API with species key: 7859583\n"
     ]
    },
    {
     "name": "stderr",
     "output_type": "stream",
     "text": [
      " 43%|████▎     | 522/1215 [17:59<21:56,  1.90s/it]"
     ]
    },
    {
     "name": "stdout",
     "output_type": "stream",
     "text": [
      "Pulling from GBIF API with species key: 11193178\n",
      "Pulling from GBIF API with species key: 1445074\n",
      "Pulling from GBIF API with species key: 1549517\n",
      "Pulling from GBIF API with species key: 1549665\n",
      "Pulling from GBIF API with species key: 1549729\n",
      "Pulling from GBIF API with species key: 2160258\n",
      "Pulling from GBIF API with species key: 1044270\n",
      "Pulling from GBIF API with species key: 1196092\n",
      "Pulling from GBIF API with species key: 1269181\n",
      "Pulling from GBIF API with species key: 1545235\n",
      "Pulling from GBIF API with species key: 1545258\n",
      "Pulling from GBIF API with species key: 1545928\n",
      "Pulling from GBIF API with species key: 1545931\n",
      "Pulling from GBIF API with species key: 1546041\n",
      "Pulling from GBIF API with species key: 1546504\n",
      "Pulling from GBIF API with species key: 1546523\n",
      "Pulling from GBIF API with species key: 1546686\n",
      "Pulling from GBIF API with species key: 1546726\n",
      "Pulling from GBIF API with species key: 1547053\n",
      "Pulling from GBIF API with species key: 1547209\n",
      "Pulling from GBIF API with species key: 1547325\n",
      "Pulling from GBIF API with species key: 1547792\n",
      "Pulling from GBIF API with species key: 1548126\n",
      "Pulling from GBIF API with species key: 1548133\n",
      "Pulling from GBIF API with species key: 1548403\n",
      "Pulling from GBIF API with species key: 1548494\n",
      "Pulling from GBIF API with species key: 1549632\n",
      "Pulling from GBIF API with species key: 1549653\n",
      "Pulling from GBIF API with species key: 1557706\n",
      "Pulling from GBIF API with species key: 1564532\n",
      "Pulling from GBIF API with species key: 1575859\n",
      "Pulling from GBIF API with species key: 1586309\n",
      "Pulling from GBIF API with species key: 1588722\n",
      "Pulling from GBIF API with species key: 2308887\n",
      "Pulling from GBIF API with species key: 4295479\n",
      "Pulling from GBIF API with species key: 4399604\n",
      "Pulling from GBIF API with species key: 4427399\n",
      "Pulling from GBIF API with species key: 4435584\n",
      "Pulling from GBIF API with species key: 4437978\n",
      "Pulling from GBIF API with species key: 4438194\n",
      "Pulling from GBIF API with species key: 4441334\n",
      "Pulling from GBIF API with species key: 4460846\n",
      "Pulling from GBIF API with species key: 4526976\n",
      "Pulling from GBIF API with species key: 5018600\n",
      "Pulling from GBIF API with species key: 5094665\n",
      "Pulling from GBIF API with species key: 5121324\n",
      "Pulling from GBIF API with species key: 5746383\n",
      "Pulling from GBIF API with species key: 6097592\n",
      "Pulling from GBIF API with species key: 7908600\n",
      "Pulling from GBIF API with species key: 9689691\n"
     ]
    },
    {
     "name": "stderr",
     "output_type": "stream",
     "text": [
      " 43%|████▎     | 523/1215 [18:14<1:07:06,  5.82s/it]"
     ]
    },
    {
     "name": "stdout",
     "output_type": "stream",
     "text": [
      "Pulling from GBIF API with species key: 9746042\n",
      "Pulling from GBIF API with species key: 5749305\n",
      "Pulling from GBIF API with species key: 1477766\n",
      "Pulling from GBIF API with species key: 4418629\n",
      "Pulling from GBIF API with species key: 1652371\n",
      "Pulling from GBIF API with species key: 9539217\n",
      "Pulling from GBIF API with species key: 1070887\n",
      "Pulling from GBIF API with species key: 1217397\n",
      "Pulling from GBIF API with species key: 1223870\n",
      "Pulling from GBIF API with species key: 1879655\n",
      "Pulling from GBIF API with species key: 4428064\n"
     ]
    },
    {
     "name": "stderr",
     "output_type": "stream",
     "text": [
      " 43%|████▎     | 524/1215 [18:18<59:36,  5.18s/it]  "
     ]
    },
    {
     "name": "stdout",
     "output_type": "stream",
     "text": [
      "Pulling from GBIF API with species key: 4433920\n"
     ]
    },
    {
     "name": "stderr",
     "output_type": "stream",
     "text": [
      " 43%|████▎     | 525/1215 [18:18<44:39,  3.88s/it]"
     ]
    },
    {
     "name": "stdout",
     "output_type": "stream",
     "text": [
      "Pulling from GBIF API with species key: 1676094\n"
     ]
    },
    {
     "name": "stderr",
     "output_type": "stream",
     "text": [
      " 43%|████▎     | 526/1215 [18:19<32:50,  2.86s/it]"
     ]
    },
    {
     "name": "stdout",
     "output_type": "stream",
     "text": [
      "Pulling from GBIF API with species key: 2136687\n",
      "Pulling from GBIF API with species key: 1648017\n",
      "Pulling from GBIF API with species key: 2135122\n",
      "Pulling from GBIF API with species key: 2161872\n",
      "Pulling from GBIF API with species key: 4435648\n",
      "Pulling from GBIF API with species key: 4487177\n",
      "Pulling from GBIF API with species key: 5089516\n",
      "Pulling from GBIF API with species key: 1040045\n",
      "Pulling from GBIF API with species key: 1040922\n",
      "Pulling from GBIF API with species key: 10514297\n",
      "Pulling from GBIF API with species key: 1445155\n",
      "Pulling from GBIF API with species key: 1445453\n",
      "Pulling from GBIF API with species key: 1457103\n",
      "Pulling from GBIF API with species key: 1457280\n",
      "Pulling from GBIF API with species key: 1457383\n",
      "Pulling from GBIF API with species key: 1457391\n",
      "Pulling from GBIF API with species key: 1457407\n",
      "Pulling from GBIF API with species key: 1457557\n",
      "Pulling from GBIF API with species key: 1457656\n",
      "Pulling from GBIF API with species key: 1459169\n",
      "Pulling from GBIF API with species key: 1489372\n",
      "Pulling from GBIF API with species key: 1489732\n",
      "Pulling from GBIF API with species key: 1490322\n",
      "Pulling from GBIF API with species key: 1524562\n",
      "Pulling from GBIF API with species key: 1560414\n",
      "Pulling from GBIF API with species key: 1564682\n",
      "Pulling from GBIF API with species key: 1571462\n",
      "Pulling from GBIF API with species key: 1573532\n",
      "Pulling from GBIF API with species key: 1574753\n",
      "Pulling from GBIF API with species key: 1574790\n",
      "Pulling from GBIF API with species key: 1575799\n",
      "Pulling from GBIF API with species key: 1576200\n",
      "Pulling from GBIF API with species key: 1583627\n",
      "Pulling from GBIF API with species key: 1585122\n",
      "Pulling from GBIF API with species key: 1586485\n",
      "Pulling from GBIF API with species key: 1587616\n",
      "Pulling from GBIF API with species key: 1588713\n",
      "Pulling from GBIF API with species key: 1589287\n",
      "Pulling from GBIF API with species key: 1589643\n",
      "Pulling from GBIF API with species key: 1589648\n",
      "Pulling from GBIF API with species key: 1608241\n",
      "Pulling from GBIF API with species key: 1608402\n",
      "Pulling from GBIF API with species key: 1608572\n",
      "Pulling from GBIF API with species key: 1735870\n",
      "Pulling from GBIF API with species key: 1833179\n",
      "Pulling from GBIF API with species key: 2137903\n",
      "Pulling from GBIF API with species key: 5054676\n",
      "Pulling from GBIF API with species key: 5069144\n",
      "Pulling from GBIF API with species key: 5079186\n",
      "Pulling from GBIF API with species key: 5079536\n",
      "Pulling from GBIF API with species key: 5089492\n",
      "Pulling from GBIF API with species key: 5120798\n"
     ]
    },
    {
     "name": "stderr",
     "output_type": "stream",
     "text": [
      " 43%|████▎     | 527/1215 [18:34<1:16:05,  6.64s/it]"
     ]
    },
    {
     "name": "stdout",
     "output_type": "stream",
     "text": [
      "Failed: Returned status code of 204, with message: <Response [204]>\n",
      "Error querying GBIF for image tile_51.46540288073458_0.07054677888905171.jpg at coords ('51.46540288073458', '0.07054677888905171'): 'NoneType' object has no attribute 'get'\n",
      "No GBIF data found for image: tile_51.46540288073458_0.07054677888905171.jpg at coords: ('51.46540288073458', '0.07054677888905171')\n",
      "Pulling from GBIF API with species key: 1315006\n",
      "Pulling from GBIF API with species key: 1353363\n",
      "Pulling from GBIF API with species key: 1355126\n",
      "Pulling from GBIF API with species key: 1651255\n",
      "Pulling from GBIF API with species key: 2147386\n",
      "Pulling from GBIF API with species key: 1471496\n",
      "Pulling from GBIF API with species key: 4453158\n",
      "Pulling from GBIF API with species key: 1287096\n",
      "Pulling from GBIF API with species key: 2014366\n",
      "Pulling from GBIF API with species key: 4486370\n",
      "Pulling from GBIF API with species key: 4494312\n",
      "Pulling from GBIF API with species key: 4494404\n",
      "Pulling from GBIF API with species key: 5753725\n"
     ]
    },
    {
     "name": "stderr",
     "output_type": "stream",
     "text": [
      " 43%|████▎     | 528/1215 [18:39<1:08:58,  6.02s/it]"
     ]
    },
    {
     "name": "stdout",
     "output_type": "stream",
     "text": [
      "Pulling from GBIF API with species key: 5769028\n",
      "Pulling from GBIF API with species key: 4459735\n",
      "Pulling from GBIF API with species key: 2498380\n",
      "Pulling from GBIF API with species key: 2498046\n",
      "Pulling from GBIF API with species key: 4410412\n"
     ]
    },
    {
     "name": "stderr",
     "output_type": "stream",
     "text": [
      " 44%|████▎     | 529/1215 [18:41<55:21,  4.84s/it]  "
     ]
    },
    {
     "name": "stdout",
     "output_type": "stream",
     "text": [
      "Failed: Returned status code of 204, with message: <Response [204]>\n",
      "Error querying GBIF for image tile_51.478916394248095_-0.2325303553378171.jpg at coords ('51.478916394248095', '-0.2325303553378171'): 'NoneType' object has no attribute 'get'\n",
      "No GBIF data found for image: tile_51.478916394248095_-0.2325303553378171.jpg at coords: ('51.478916394248095', '-0.2325303553378171')\n",
      "Pulling from GBIF API with species key: 5110818\n",
      "Pulling from GBIF API with species key: 7993353\n",
      "Pulling from GBIF API with species key: 4413779\n",
      "Pulling from GBIF API with species key: 6101578\n"
     ]
    },
    {
     "name": "stderr",
     "output_type": "stream",
     "text": [
      " 44%|████▎     | 530/1215 [18:43<45:57,  4.03s/it]"
     ]
    },
    {
     "name": "stdout",
     "output_type": "stream",
     "text": [
      "Pulling from GBIF API with species key: 8750134\n"
     ]
    },
    {
     "name": "stderr",
     "output_type": "stream",
     "text": [
      " 44%|████▎     | 531/1215 [18:44<35:04,  3.08s/it]"
     ]
    },
    {
     "name": "stdout",
     "output_type": "stream",
     "text": [
      "Pulling from GBIF API with species key: 4483389\n",
      "Pulling from GBIF API with species key: 5067755\n"
     ]
    },
    {
     "name": "stderr",
     "output_type": "stream",
     "text": [
      " 44%|████▍     | 532/1215 [18:45<28:07,  2.47s/it]"
     ]
    },
    {
     "name": "stdout",
     "output_type": "stream",
     "text": [
      "Pulling from GBIF API with species key: 8013994\n",
      "Pulling from GBIF API with species key: 4490252\n",
      "Pulling from GBIF API with species key: 4490981\n"
     ]
    },
    {
     "name": "stderr",
     "output_type": "stream",
     "text": [
      " 44%|████▍     | 533/1215 [18:46<24:13,  2.13s/it]"
     ]
    },
    {
     "name": "stdout",
     "output_type": "stream",
     "text": [
      "Pulling from GBIF API with species key: 5069239\n"
     ]
    },
    {
     "name": "stderr",
     "output_type": "stream",
     "text": [
      " 44%|████▍     | 538/1215 [18:49<09:26,  1.20it/s]"
     ]
    },
    {
     "name": "stdout",
     "output_type": "stream",
     "text": [
      "Pulling from GBIF API with species key: 5732579\n"
     ]
    },
    {
     "name": "stderr",
     "output_type": "stream",
     "text": [
      " 44%|████▍     | 539/1215 [18:50<09:27,  1.19it/s]"
     ]
    },
    {
     "name": "stdout",
     "output_type": "stream",
     "text": [
      "Pulling from GBIF API with species key: 8161409\n"
     ]
    },
    {
     "name": "stderr",
     "output_type": "stream",
     "text": [
      " 44%|████▍     | 540/1215 [18:51<09:12,  1.22it/s]"
     ]
    },
    {
     "name": "stdout",
     "output_type": "stream",
     "text": [
      "Pulling from GBIF API with species key: 1920258\n"
     ]
    },
    {
     "name": "stderr",
     "output_type": "stream",
     "text": [
      " 45%|████▍     | 542/1215 [18:52<07:07,  1.58it/s]"
     ]
    },
    {
     "name": "stdout",
     "output_type": "stream",
     "text": [
      "Pulling from GBIF API with species key: 1451380\n",
      "Pulling from GBIF API with species key: 2077463\n",
      "Pulling from GBIF API with species key: 2427573\n",
      "Pulling from GBIF API with species key: 1367078\n",
      "Pulling from GBIF API with species key: 1451733\n",
      "Pulling from GBIF API with species key: 1456678\n"
     ]
    },
    {
     "name": "stderr",
     "output_type": "stream",
     "text": [
      " 45%|████▍     | 543/1215 [18:54<13:36,  1.21s/it]"
     ]
    },
    {
     "name": "stdout",
     "output_type": "stream",
     "text": [
      "Pulling from GBIF API with species key: 2013873\n"
     ]
    },
    {
     "name": "stderr",
     "output_type": "stream",
     "text": [
      " 45%|████▍     | 545/1215 [18:56<10:46,  1.04it/s]"
     ]
    },
    {
     "name": "stdout",
     "output_type": "stream",
     "text": [
      "Pulling from GBIF API with species key: 5160450\n"
     ]
    },
    {
     "name": "stderr",
     "output_type": "stream",
     "text": [
      " 45%|████▍     | 546/1215 [18:56<10:31,  1.06it/s]"
     ]
    },
    {
     "name": "stdout",
     "output_type": "stream",
     "text": [
      "Pulling from GBIF API with species key: 1357466\n"
     ]
    },
    {
     "name": "stderr",
     "output_type": "stream",
     "text": [
      " 45%|████▌     | 547/1215 [18:57<09:47,  1.14it/s]"
     ]
    },
    {
     "name": "stdout",
     "output_type": "stream",
     "text": [
      "Pulling from GBIF API with species key: 1023256\n"
     ]
    },
    {
     "name": "stderr",
     "output_type": "stream",
     "text": [
      " 45%|████▌     | 549/1215 [18:59<08:40,  1.28it/s]"
     ]
    },
    {
     "name": "stdout",
     "output_type": "stream",
     "text": [
      "Pulling from GBIF API with species key: 2486132\n",
      "Pulling from GBIF API with species key: 7458371\n",
      "Pulling from GBIF API with species key: 1316908\n",
      "Pulling from GBIF API with species key: 1734704\n",
      "Pulling from GBIF API with species key: 5747020\n",
      "Pulling from GBIF API with species key: 5800728\n"
     ]
    },
    {
     "name": "stderr",
     "output_type": "stream",
     "text": [
      " 45%|████▌     | 550/1215 [19:01<13:28,  1.22s/it]"
     ]
    },
    {
     "name": "stdout",
     "output_type": "stream",
     "text": [
      "Pulling from GBIF API with species key: 5879001\n"
     ]
    },
    {
     "name": "stderr",
     "output_type": "stream",
     "text": [
      " 46%|████▌     | 554/1215 [19:03<08:30,  1.29it/s]"
     ]
    },
    {
     "name": "stdout",
     "output_type": "stream",
     "text": [
      "Pulling from GBIF API with species key: 4627179\n"
     ]
    },
    {
     "name": "stderr",
     "output_type": "stream",
     "text": [
      " 46%|████▌     | 555/1215 [19:04<07:52,  1.40it/s]"
     ]
    },
    {
     "name": "stdout",
     "output_type": "stream",
     "text": [
      "Pulling from GBIF API with species key: 11527216\n",
      "Pulling from GBIF API with species key: 11651307\n",
      "Pulling from GBIF API with species key: 11692638\n",
      "Pulling from GBIF API with species key: 11835794\n"
     ]
    },
    {
     "name": "stderr",
     "output_type": "stream",
     "text": [
      " 46%|████▌     | 556/1215 [19:06<12:02,  1.10s/it]"
     ]
    },
    {
     "name": "stdout",
     "output_type": "stream",
     "text": [
      "Pulling from GBIF API with species key: 5820507\n"
     ]
    },
    {
     "name": "stderr",
     "output_type": "stream",
     "text": [
      " 46%|████▌     | 558/1215 [19:07<09:42,  1.13it/s]"
     ]
    },
    {
     "name": "stdout",
     "output_type": "stream",
     "text": [
      "Pulling from GBIF API with species key: 2151378\n"
     ]
    },
    {
     "name": "stderr",
     "output_type": "stream",
     "text": [
      " 46%|████▋     | 562/1215 [19:09<07:24,  1.47it/s]"
     ]
    },
    {
     "name": "stdout",
     "output_type": "stream",
     "text": [
      "Failed: Returned status code of 204, with message: <Response [204]>\n",
      "Error querying GBIF for image tile_51.532970448302144_-0.31912382225977964.jpg at coords ('51.532970448302144', '-0.31912382225977964'): 'NoneType' object has no attribute 'get'\n",
      "No GBIF data found for image: tile_51.532970448302144_-0.31912382225977964.jpg at coords: ('51.532970448302144', '-0.31912382225977964')\n"
     ]
    },
    {
     "name": "stderr",
     "output_type": "stream",
     "text": [
      " 46%|████▋     | 564/1215 [19:10<06:12,  1.75it/s]"
     ]
    },
    {
     "name": "stdout",
     "output_type": "stream",
     "text": [
      "Pulling from GBIF API with species key: 1599285\n",
      "Pulling from GBIF API with species key: 2134798\n",
      "Pulling from GBIF API with species key: 5179027\n",
      "Pulling from GBIF API with species key: 5192789\n",
      "Pulling from GBIF API with species key: 7914589\n"
     ]
    },
    {
     "name": "stderr",
     "output_type": "stream",
     "text": [
      " 47%|████▋     | 565/1215 [19:13<11:33,  1.07s/it]"
     ]
    },
    {
     "name": "stdout",
     "output_type": "stream",
     "text": [
      "Pulling from GBIF API with species key: 9770031\n"
     ]
    },
    {
     "name": "stderr",
     "output_type": "stream",
     "text": [
      " 47%|████▋     | 566/1215 [19:13<10:57,  1.01s/it]"
     ]
    },
    {
     "name": "stdout",
     "output_type": "stream",
     "text": [
      "Pulling from GBIF API with species key: 5072268\n"
     ]
    },
    {
     "name": "stderr",
     "output_type": "stream",
     "text": [
      " 47%|████▋     | 567/1215 [19:14<10:18,  1.05it/s]"
     ]
    },
    {
     "name": "stdout",
     "output_type": "stream",
     "text": [
      "Pulling from GBIF API with species key: 1336823\n"
     ]
    },
    {
     "name": "stderr",
     "output_type": "stream",
     "text": [
      " 47%|████▋     | 568/1215 [19:15<08:37,  1.25it/s]"
     ]
    },
    {
     "name": "stdout",
     "output_type": "stream",
     "text": [
      "Pulling from GBIF API with species key: 1738222\n",
      "Pulling from GBIF API with species key: 1746775\n",
      "Pulling from GBIF API with species key: 1750244\n",
      "Pulling from GBIF API with species key: 1830407\n",
      "Pulling from GBIF API with species key: 1840345\n",
      "Pulling from GBIF API with species key: 1848202\n",
      "Pulling from GBIF API with species key: 1850394\n",
      "Pulling from GBIF API with species key: 1858778\n",
      "Pulling from GBIF API with species key: 4525503\n",
      "Pulling from GBIF API with species key: 4536222\n",
      "Pulling from GBIF API with species key: 5120955\n",
      "Pulling from GBIF API with species key: 5121379\n",
      "Pulling from GBIF API with species key: 5121476\n",
      "Pulling from GBIF API with species key: 5771227\n",
      "Pulling from GBIF API with species key: 6097246\n",
      "Pulling from GBIF API with species key: 7642240\n",
      "Pulling from GBIF API with species key: 7734292\n",
      "Pulling from GBIF API with species key: 8021674\n"
     ]
    },
    {
     "name": "stderr",
     "output_type": "stream",
     "text": [
      " 47%|████▋     | 569/1215 [19:21<25:15,  2.35s/it]"
     ]
    },
    {
     "name": "stdout",
     "output_type": "stream",
     "text": [
      "Pulling from GBIF API with species key: 9717507\n"
     ]
    },
    {
     "name": "stderr",
     "output_type": "stream",
     "text": [
      " 47%|████▋     | 573/1215 [19:23<10:17,  1.04it/s]"
     ]
    },
    {
     "name": "stdout",
     "output_type": "stream",
     "text": [
      "Pulling from GBIF API with species key: 2010988\n",
      "Pulling from GBIF API with species key: 4488359\n",
      "Pulling from GBIF API with species key: 4494295\n",
      "Pulling from GBIF API with species key: 4494381\n"
     ]
    },
    {
     "name": "stderr",
     "output_type": "stream",
     "text": [
      " 47%|████▋     | 574/1215 [19:25<13:28,  1.26s/it]"
     ]
    },
    {
     "name": "stdout",
     "output_type": "stream",
     "text": [
      "Failed: Returned status code of 204, with message: <Response [204]>\n",
      "Error querying GBIF for image tile_51.34378125911296_-0.0809917882243827.jpg at coords ('51.34378125911296', '-0.0809917882243827'): 'NoneType' object has no attribute 'get'\n",
      "No GBIF data found for image: tile_51.34378125911296_-0.0809917882243827.jpg at coords: ('51.34378125911296', '-0.0809917882243827')\n"
     ]
    },
    {
     "name": "stderr",
     "output_type": "stream",
     "text": [
      " 47%|████▋     | 575/1215 [19:26<12:04,  1.13s/it]"
     ]
    },
    {
     "name": "stdout",
     "output_type": "stream",
     "text": [
      "Pulling from GBIF API with species key: 2072502\n"
     ]
    },
    {
     "name": "stderr",
     "output_type": "stream",
     "text": [
      " 47%|████▋     | 576/1215 [19:26<09:53,  1.08it/s]"
     ]
    },
    {
     "name": "stdout",
     "output_type": "stream",
     "text": [
      "Pulling from GBIF API with species key: 2185151\n",
      "Pulling from GBIF API with species key: 4404573\n",
      "Pulling from GBIF API with species key: 1181463\n",
      "Pulling from GBIF API with species key: 2295309\n",
      "Pulling from GBIF API with species key: 1014424\n",
      "Pulling from GBIF API with species key: 1017156\n",
      "Pulling from GBIF API with species key: 1043889\n",
      "Pulling from GBIF API with species key: 1066713\n",
      "Pulling from GBIF API with species key: 1623245\n",
      "Pulling from GBIF API with species key: 1624090\n",
      "Pulling from GBIF API with species key: 4439591\n",
      "Pulling from GBIF API with species key: 4490962\n",
      "Pulling from GBIF API with species key: 4516756\n",
      "Pulling from GBIF API with species key: 6097439\n",
      "Pulling from GBIF API with species key: 6097631\n",
      "Pulling from GBIF API with species key: 8294966\n"
     ]
    },
    {
     "name": "stderr",
     "output_type": "stream",
     "text": [
      " 47%|████▋     | 577/1215 [19:31<24:07,  2.27s/it]"
     ]
    },
    {
     "name": "stdout",
     "output_type": "stream",
     "text": [
      "Pulling from GBIF API with species key: 9572016\n",
      "Pulling from GBIF API with species key: 11199623\n",
      "Pulling from GBIF API with species key: 9484218\n",
      "Pulling from GBIF API with species key: 11163950\n",
      "Pulling from GBIF API with species key: 4947771\n",
      "Pulling from GBIF API with species key: 11804511\n",
      "Pulling from GBIF API with species key: 1364031\n",
      "Pulling from GBIF API with species key: 1364093\n",
      "Pulling from GBIF API with species key: 1373544\n",
      "Pulling from GBIF API with species key: 1373647\n",
      "Pulling from GBIF API with species key: 1377562\n"
     ]
    },
    {
     "name": "stderr",
     "output_type": "stream",
     "text": [
      " 48%|████▊     | 578/1215 [19:35<28:36,  2.69s/it]"
     ]
    },
    {
     "name": "stdout",
     "output_type": "stream",
     "text": [
      "Pulling from GBIF API with species key: 4947770\n",
      "Pulling from GBIF API with species key: 2150955\n"
     ]
    },
    {
     "name": "stderr",
     "output_type": "stream",
     "text": [
      " 48%|████▊     | 579/1215 [19:36<23:24,  2.21s/it]"
     ]
    },
    {
     "name": "stdout",
     "output_type": "stream",
     "text": [
      "Pulling from GBIF API with species key: 6186977\n",
      "Pulling from GBIF API with species key: 5047605\n",
      "Pulling from GBIF API with species key: 1395414\n",
      "Pulling from GBIF API with species key: 9802397\n",
      "Pulling from GBIF API with species key: 1371438\n",
      "Pulling from GBIF API with species key: 1371639\n",
      "Pulling from GBIF API with species key: 1371710\n"
     ]
    },
    {
     "name": "stderr",
     "output_type": "stream",
     "text": [
      " 48%|████▊     | 580/1215 [19:39<24:53,  2.35s/it]"
     ]
    },
    {
     "name": "stdout",
     "output_type": "stream",
     "text": [
      "Pulling from GBIF API with species key: 1395426\n",
      "Pulling from GBIF API with species key: 2126575\n"
     ]
    },
    {
     "name": "stderr",
     "output_type": "stream",
     "text": [
      " 48%|████▊     | 581/1215 [19:40<20:54,  1.98s/it]"
     ]
    },
    {
     "name": "stdout",
     "output_type": "stream",
     "text": [
      "Pulling from GBIF API with species key: 4463423\n"
     ]
    },
    {
     "name": "stderr",
     "output_type": "stream",
     "text": [
      " 48%|████▊     | 582/1215 [19:41<16:26,  1.56s/it]"
     ]
    },
    {
     "name": "stdout",
     "output_type": "stream",
     "text": [
      "Pulling from GBIF API with species key: 1581677\n",
      "Pulling from GBIF API with species key: 1622166\n",
      "Pulling from GBIF API with species key: 1460849\n",
      "Pulling from GBIF API with species key: 1471144\n",
      "Pulling from GBIF API with species key: 1515594\n",
      "Pulling from GBIF API with species key: 1540138\n",
      "Pulling from GBIF API with species key: 4464429\n",
      "Pulling from GBIF API with species key: 8011857\n",
      "Pulling from GBIF API with species key: 8165131\n",
      "Pulling from GBIF API with species key: 10047362\n",
      "Pulling from GBIF API with species key: 10728437\n",
      "Pulling from GBIF API with species key: 1168486\n",
      "Pulling from GBIF API with species key: 1354773\n",
      "Pulling from GBIF API with species key: 1535931\n",
      "Pulling from GBIF API with species key: 1563101\n",
      "Pulling from GBIF API with species key: 1750173\n",
      "Pulling from GBIF API with species key: 1890679\n",
      "Pulling from GBIF API with species key: 2029186\n",
      "Pulling from GBIF API with species key: 4434792\n",
      "Pulling from GBIF API with species key: 4435468\n",
      "Pulling from GBIF API with species key: 4452495\n",
      "Pulling from GBIF API with species key: 4452509\n",
      "Pulling from GBIF API with species key: 4459806\n",
      "Pulling from GBIF API with species key: 4463108\n",
      "Pulling from GBIF API with species key: 4486553\n",
      "Pulling from GBIF API with species key: 4494798\n",
      "Pulling from GBIF API with species key: 5147638\n",
      "Pulling from GBIF API with species key: 5747794\n",
      "Pulling from GBIF API with species key: 5752432\n"
     ]
    },
    {
     "name": "stderr",
     "output_type": "stream",
     "text": [
      " 48%|████▊     | 583/1215 [19:50<40:01,  3.80s/it]"
     ]
    },
    {
     "name": "stdout",
     "output_type": "stream",
     "text": [
      "Pulling from GBIF API with species key: 5874830\n"
     ]
    },
    {
     "name": "stderr",
     "output_type": "stream",
     "text": [
      " 48%|████▊     | 584/1215 [19:50<29:24,  2.80s/it]"
     ]
    },
    {
     "name": "stdout",
     "output_type": "stream",
     "text": [
      "Pulling from GBIF API with species key: 1492329\n"
     ]
    },
    {
     "name": "stderr",
     "output_type": "stream",
     "text": [
      " 48%|████▊     | 585/1215 [19:51<24:26,  2.33s/it]"
     ]
    },
    {
     "name": "stdout",
     "output_type": "stream",
     "text": [
      "Pulling from GBIF API with species key: 4438105\n",
      "Pulling from GBIF API with species key: 1613772\n",
      "Pulling from GBIF API with species key: 1846643\n",
      "Pulling from GBIF API with species key: 5145965\n",
      "Pulling from GBIF API with species key: 7866907\n"
     ]
    },
    {
     "name": "stderr",
     "output_type": "stream",
     "text": [
      " 48%|████▊     | 586/1215 [19:53<23:21,  2.23s/it]"
     ]
    },
    {
     "name": "stdout",
     "output_type": "stream",
     "text": [
      "Pulling from GBIF API with species key: 9529391\n"
     ]
    },
    {
     "name": "stderr",
     "output_type": "stream",
     "text": [
      " 48%|████▊     | 589/1215 [19:55<11:07,  1.07s/it]"
     ]
    },
    {
     "name": "stdout",
     "output_type": "stream",
     "text": [
      "Pulling from GBIF API with species key: 5102642\n"
     ]
    },
    {
     "name": "stderr",
     "output_type": "stream",
     "text": [
      " 49%|████▊     | 590/1215 [19:56<11:03,  1.06s/it]"
     ]
    },
    {
     "name": "stdout",
     "output_type": "stream",
     "text": [
      "Pulling from GBIF API with species key: 1785361\n"
     ]
    },
    {
     "name": "stderr",
     "output_type": "stream",
     "text": [
      " 49%|████▊     | 591/1215 [19:56<10:05,  1.03it/s]"
     ]
    },
    {
     "name": "stdout",
     "output_type": "stream",
     "text": [
      "Pulling from GBIF API with species key: 9660512\n"
     ]
    },
    {
     "name": "stderr",
     "output_type": "stream",
     "text": [
      " 49%|████▊     | 592/1215 [19:57<08:24,  1.24it/s]"
     ]
    },
    {
     "name": "stdout",
     "output_type": "stream",
     "text": [
      "Pulling from GBIF API with species key: 5060870\n",
      "Pulling from GBIF API with species key: 1795854\n",
      "Pulling from GBIF API with species key: 1829823\n"
     ]
    },
    {
     "name": "stderr",
     "output_type": "stream",
     "text": [
      " 49%|████▉     | 593/1215 [19:59<10:57,  1.06s/it]"
     ]
    },
    {
     "name": "stdout",
     "output_type": "stream",
     "text": [
      "Pulling from GBIF API with species key: 4490918\n",
      "Pulling from GBIF API with species key: 2009957\n"
     ]
    },
    {
     "name": "stderr",
     "output_type": "stream",
     "text": [
      " 49%|████▉     | 594/1215 [20:00<10:59,  1.06s/it]"
     ]
    },
    {
     "name": "stdout",
     "output_type": "stream",
     "text": [
      "Pulling from GBIF API with species key: 4485681\n"
     ]
    },
    {
     "name": "stderr",
     "output_type": "stream",
     "text": [
      " 49%|████▉     | 598/1215 [20:02<07:34,  1.36it/s]"
     ]
    },
    {
     "name": "stdout",
     "output_type": "stream",
     "text": [
      "Failed: Returned status code of 204, with message: <Response [204]>\n",
      "Error querying GBIF for image tile_51.451889367221064_0.11384351235003294.jpg at coords ('51.451889367221064', '0.11384351235003294'): 'NoneType' object has no attribute 'get'\n",
      "No GBIF data found for image: tile_51.451889367221064_0.11384351235003294.jpg at coords: ('51.451889367221064', '0.11384351235003294')\n"
     ]
    },
    {
     "name": "stderr",
     "output_type": "stream",
     "text": [
      " 49%|████▉     | 599/1215 [20:03<07:47,  1.32it/s]"
     ]
    },
    {
     "name": "stdout",
     "output_type": "stream",
     "text": [
      "Pulling from GBIF API with species key: 1681054\n",
      "Pulling from GBIF API with species key: 2142533\n",
      "Pulling from GBIF API with species key: 5750799\n",
      "Pulling from GBIF API with species key: 1853079\n",
      "Pulling from GBIF API with species key: 6097804\n",
      "Pulling from GBIF API with species key: 1031715\n",
      "Pulling from GBIF API with species key: 2114317\n",
      "Pulling from GBIF API with species key: 4535884\n",
      "Pulling from GBIF API with species key: 1031796\n",
      "Pulling from GBIF API with species key: 1296195\n",
      "Pulling from GBIF API with species key: 1385869\n",
      "Pulling from GBIF API with species key: 2012832\n",
      "Pulling from GBIF API with species key: 2234624\n",
      "Pulling from GBIF API with species key: 4332862\n",
      "Pulling from GBIF API with species key: 4456865\n",
      "Pulling from GBIF API with species key: 5169610\n"
     ]
    },
    {
     "name": "stderr",
     "output_type": "stream",
     "text": [
      " 49%|████▉     | 600/1215 [20:08<22:08,  2.16s/it]"
     ]
    },
    {
     "name": "stdout",
     "output_type": "stream",
     "text": [
      "Pulling from GBIF API with species key: 5757566\n"
     ]
    },
    {
     "name": "stderr",
     "output_type": "stream",
     "text": [
      " 50%|████▉     | 607/1215 [20:12<07:49,  1.29it/s]"
     ]
    },
    {
     "name": "stdout",
     "output_type": "stream",
     "text": [
      "Failed: Returned status code of 204, with message: <Response [204]>\n",
      "Error querying GBIF for image tile_51.397835313167015_-0.016046688032910816.jpg at coords ('51.397835313167015', '-0.016046688032910816'): 'NoneType' object has no attribute 'get'\n",
      "No GBIF data found for image: tile_51.397835313167015_-0.016046688032910816.jpg at coords: ('51.397835313167015', '-0.016046688032910816')\n",
      "Pulling from GBIF API with species key: 1749162\n",
      "Pulling from GBIF API with species key: 5121201\n",
      "Pulling from GBIF API with species key: 9341614\n",
      "Pulling from GBIF API with species key: 5121807\n",
      "Pulling from GBIF API with species key: 1042278\n",
      "Pulling from GBIF API with species key: 1743714\n",
      "Pulling from GBIF API with species key: 4439858\n",
      "Pulling from GBIF API with species key: 4475685\n",
      "Pulling from GBIF API with species key: 4525364\n",
      "Pulling from GBIF API with species key: 5120685\n",
      "Pulling from GBIF API with species key: 5121105\n"
     ]
    },
    {
     "name": "stderr",
     "output_type": "stream",
     "text": [
      " 50%|█████     | 608/1215 [20:16<17:20,  1.71s/it]"
     ]
    },
    {
     "name": "stdout",
     "output_type": "stream",
     "text": [
      "Failed: Returned status code of 204, with message: <Response [204]>\n",
      "Error querying GBIF for image tile_51.30324071857242_-0.47066238937321403.jpg at coords ('51.30324071857242', '-0.47066238937321403'): 'NoneType' object has no attribute 'get'\n",
      "No GBIF data found for image: tile_51.30324071857242_-0.47066238937321403.jpg at coords: ('51.30324071857242', '-0.47066238937321403')\n"
     ]
    },
    {
     "name": "stderr",
     "output_type": "stream",
     "text": [
      " 50%|█████     | 609/1215 [20:18<17:22,  1.72s/it]"
     ]
    },
    {
     "name": "stdout",
     "output_type": "stream",
     "text": [
      "Pulling from GBIF API with species key: 2155557\n"
     ]
    },
    {
     "name": "stderr",
     "output_type": "stream",
     "text": [
      " 50%|█████     | 611/1215 [20:19<11:06,  1.10s/it]"
     ]
    },
    {
     "name": "stdout",
     "output_type": "stream",
     "text": [
      "Pulling from GBIF API with species key: 9375924\n",
      "Pulling from GBIF API with species key: 4838337\n",
      "Pulling from GBIF API with species key: 5936477\n",
      "Pulling from GBIF API with species key: 8526926\n"
     ]
    },
    {
     "name": "stderr",
     "output_type": "stream",
     "text": [
      " 50%|█████     | 612/1215 [20:21<13:37,  1.36s/it]"
     ]
    },
    {
     "name": "stdout",
     "output_type": "stream",
     "text": [
      "Pulling from GBIF API with species key: 8768186\n"
     ]
    },
    {
     "name": "stderr",
     "output_type": "stream",
     "text": [
      " 51%|█████     | 619/1215 [20:25<06:41,  1.49it/s]"
     ]
    },
    {
     "name": "stdout",
     "output_type": "stream",
     "text": [
      "Pulling from GBIF API with species key: 6097773\n"
     ]
    },
    {
     "name": "stderr",
     "output_type": "stream",
     "text": [
      " 51%|█████     | 622/1215 [20:26<05:54,  1.67it/s]"
     ]
    },
    {
     "name": "stdout",
     "output_type": "stream",
     "text": [
      "Pulling from GBIF API with species key: 5229205\n",
      "Pulling from GBIF API with species key: 4432936\n",
      "Pulling from GBIF API with species key: 6097689\n",
      "Pulling from GBIF API with species key: 1032951\n",
      "Pulling from GBIF API with species key: 1040356\n"
     ]
    },
    {
     "name": "stderr",
     "output_type": "stream",
     "text": [
      " 51%|█████▏    | 623/1215 [20:29<10:47,  1.09s/it]"
     ]
    },
    {
     "name": "stdout",
     "output_type": "stream",
     "text": [
      "Pulling from GBIF API with species key: 1162023\n"
     ]
    },
    {
     "name": "stderr",
     "output_type": "stream",
     "text": [
      " 51%|█████▏    | 625/1215 [20:30<07:49,  1.26it/s]"
     ]
    },
    {
     "name": "stdout",
     "output_type": "stream",
     "text": [
      "Pulling from GBIF API with species key: 4444172\n"
     ]
    },
    {
     "name": "stderr",
     "output_type": "stream",
     "text": [
      " 52%|█████▏    | 626/1215 [20:31<08:50,  1.11it/s]"
     ]
    },
    {
     "name": "stdout",
     "output_type": "stream",
     "text": [
      "Failed: Returned status code of 204, with message: <Response [204]>\n",
      "Error querying GBIF for image tile_51.519456934788636_0.04889841215856107.jpg at coords ('51.519456934788636', '0.04889841215856107'): 'NoneType' object has no attribute 'get'\n",
      "No GBIF data found for image: tile_51.519456934788636_0.04889841215856107.jpg at coords: ('51.519456934788636', '0.04889841215856107')\n"
     ]
    },
    {
     "name": "stderr",
     "output_type": "stream",
     "text": [
      " 52%|█████▏    | 628/1215 [20:32<06:48,  1.44it/s]"
     ]
    },
    {
     "name": "stdout",
     "output_type": "stream",
     "text": [
      "Pulling from GBIF API with species key: 10975420\n",
      "Pulling from GBIF API with species key: 1528247\n",
      "Pulling from GBIF API with species key: 1530226\n",
      "Pulling from GBIF API with species key: 1530235\n",
      "Pulling from GBIF API with species key: 1619460\n",
      "Pulling from GBIF API with species key: 4516701\n"
     ]
    },
    {
     "name": "stderr",
     "output_type": "stream",
     "text": [
      " 52%|█████▏    | 629/1215 [20:34<11:59,  1.23s/it]"
     ]
    },
    {
     "name": "stdout",
     "output_type": "stream",
     "text": [
      "Pulling from GBIF API with species key: 5069028\n"
     ]
    },
    {
     "name": "stderr",
     "output_type": "stream",
     "text": [
      " 52%|█████▏    | 630/1215 [20:35<10:46,  1.10s/it]"
     ]
    },
    {
     "name": "stdout",
     "output_type": "stream",
     "text": [
      "Failed: Returned status code of 204, with message: <Response [204]>\n",
      "Error querying GBIF for image tile_51.438375853707555_0.11384351235003294.jpg at coords ('51.438375853707555', '0.11384351235003294'): 'NoneType' object has no attribute 'get'\n",
      "No GBIF data found for image: tile_51.438375853707555_0.11384351235003294.jpg at coords: ('51.438375853707555', '0.11384351235003294')\n"
     ]
    },
    {
     "name": "stderr",
     "output_type": "stream",
     "text": [
      " 52%|█████▏    | 631/1215 [20:36<08:52,  1.10it/s]"
     ]
    },
    {
     "name": "stdout",
     "output_type": "stream",
     "text": [
      "Pulling from GBIF API with species key: 8583190\n"
     ]
    },
    {
     "name": "stderr",
     "output_type": "stream",
     "text": [
      " 52%|█████▏    | 632/1215 [20:37<09:20,  1.04it/s]"
     ]
    },
    {
     "name": "stdout",
     "output_type": "stream",
     "text": [
      "Pulling from GBIF API with species key: 8586336\n"
     ]
    },
    {
     "name": "stderr",
     "output_type": "stream",
     "text": [
      " 52%|█████▏    | 633/1215 [20:37<08:02,  1.21it/s]"
     ]
    },
    {
     "name": "stdout",
     "output_type": "stream",
     "text": [
      "Pulling from GBIF API with species key: 4534252\n"
     ]
    },
    {
     "name": "stderr",
     "output_type": "stream",
     "text": [
      " 52%|█████▏    | 634/1215 [20:38<08:47,  1.10it/s]"
     ]
    },
    {
     "name": "stdout",
     "output_type": "stream",
     "text": [
      "Pulling from GBIF API with species key: 7512981\n"
     ]
    },
    {
     "name": "stderr",
     "output_type": "stream",
     "text": [
      " 52%|█████▏    | 635/1215 [20:39<08:29,  1.14it/s]"
     ]
    },
    {
     "name": "stdout",
     "output_type": "stream",
     "text": [
      "Pulling from GBIF API with species key: 2070973\n",
      "Pulling from GBIF API with species key: 4486708\n"
     ]
    },
    {
     "name": "stderr",
     "output_type": "stream",
     "text": [
      " 52%|█████▏    | 636/1215 [20:40<09:14,  1.04it/s]"
     ]
    },
    {
     "name": "stdout",
     "output_type": "stream",
     "text": [
      "Pulling from GBIF API with species key: 11274961\n",
      "Pulling from GBIF API with species key: 1295769\n",
      "Pulling from GBIF API with species key: 1534984\n",
      "Pulling from GBIF API with species key: 2069467\n",
      "Pulling from GBIF API with species key: 8236498\n",
      "Pulling from GBIF API with species key: 1067759\n",
      "Pulling from GBIF API with species key: 11214404\n",
      "Pulling from GBIF API with species key: 11375555\n",
      "Pulling from GBIF API with species key: 1260569\n",
      "Pulling from GBIF API with species key: 2137735\n",
      "Pulling from GBIF API with species key: 4452952\n",
      "Pulling from GBIF API with species key: 4595677\n",
      "Pulling from GBIF API with species key: 4644442\n",
      "Pulling from GBIF API with species key: 4646503\n",
      "Pulling from GBIF API with species key: 4882259\n",
      "Pulling from GBIF API with species key: 4945588\n",
      "Pulling from GBIF API with species key: 4963189\n",
      "Pulling from GBIF API with species key: 4964500\n",
      "Pulling from GBIF API with species key: 4968179\n",
      "Pulling from GBIF API with species key: 4976031\n",
      "Pulling from GBIF API with species key: 4976101\n",
      "Pulling from GBIF API with species key: 5799201\n",
      "Pulling from GBIF API with species key: 8083501\n",
      "Pulling from GBIF API with species key: 8515535\n",
      "Pulling from GBIF API with species key: 8546103\n",
      "Pulling from GBIF API with species key: 8629946\n",
      "Pulling from GBIF API with species key: 8632888\n",
      "Pulling from GBIF API with species key: 8669783\n",
      "Pulling from GBIF API with species key: 9290825\n",
      "Pulling from GBIF API with species key: 9318387\n",
      "Pulling from GBIF API with species key: 9325040\n",
      "Pulling from GBIF API with species key: 9352943\n",
      "Pulling from GBIF API with species key: 9384230\n",
      "Pulling from GBIF API with species key: 9392923\n",
      "Pulling from GBIF API with species key: 9507357\n"
     ]
    },
    {
     "name": "stderr",
     "output_type": "stream",
     "text": [
      " 52%|█████▏    | 637/1215 [20:51<36:40,  3.81s/it]"
     ]
    },
    {
     "name": "stdout",
     "output_type": "stream",
     "text": [
      "Pulling from GBIF API with species key: 9527663\n"
     ]
    },
    {
     "name": "stderr",
     "output_type": "stream",
     "text": [
      " 53%|█████▎    | 639/1215 [20:52<20:29,  2.13s/it]"
     ]
    },
    {
     "name": "stdout",
     "output_type": "stream",
     "text": [
      "Pulling from GBIF API with species key: 1041477\n",
      "Pulling from GBIF API with species key: 1042185\n"
     ]
    },
    {
     "name": "stderr",
     "output_type": "stream",
     "text": [
      " 53%|█████▎    | 640/1215 [20:53<18:00,  1.88s/it]"
     ]
    },
    {
     "name": "stdout",
     "output_type": "stream",
     "text": [
      "Pulling from GBIF API with species key: 5750797\n"
     ]
    },
    {
     "name": "stderr",
     "output_type": "stream",
     "text": [
      " 53%|█████▎    | 642/1215 [20:54<11:45,  1.23s/it]"
     ]
    },
    {
     "name": "stdout",
     "output_type": "stream",
     "text": [
      "Pulling from GBIF API with species key: 1042457\n",
      "Pulling from GBIF API with species key: 2211487\n"
     ]
    },
    {
     "name": "stderr",
     "output_type": "stream",
     "text": [
      " 53%|█████▎    | 643/1215 [20:56<12:30,  1.31s/it]"
     ]
    },
    {
     "name": "stdout",
     "output_type": "stream",
     "text": [
      "Pulling from GBIF API with species key: 4452636\n"
     ]
    },
    {
     "name": "stderr",
     "output_type": "stream",
     "text": [
      " 53%|█████▎    | 644/1215 [20:56<10:53,  1.14s/it]"
     ]
    },
    {
     "name": "stdout",
     "output_type": "stream",
     "text": [
      "Pulling from GBIF API with species key: 6096915\n"
     ]
    },
    {
     "name": "stderr",
     "output_type": "stream",
     "text": [
      " 53%|█████▎    | 645/1215 [20:57<09:52,  1.04s/it]"
     ]
    },
    {
     "name": "stdout",
     "output_type": "stream",
     "text": [
      "Pulling from GBIF API with species key: 2074462\n"
     ]
    },
    {
     "name": "stderr",
     "output_type": "stream",
     "text": [
      " 53%|█████▎    | 647/1215 [20:59<08:06,  1.17it/s]"
     ]
    },
    {
     "name": "stdout",
     "output_type": "stream",
     "text": [
      "Failed: Returned status code of 204, with message: <Response [204]>\n",
      "Error querying GBIF for image tile_51.397835313167015_0.027250045428070427.jpg at coords ('51.397835313167015', '0.027250045428070427'): 'NoneType' object has no attribute 'get'\n",
      "No GBIF data found for image: tile_51.397835313167015_0.027250045428070427.jpg at coords: ('51.397835313167015', '0.027250045428070427')\n"
     ]
    },
    {
     "name": "stderr",
     "output_type": "stream",
     "text": [
      " 53%|█████▎    | 649/1215 [21:00<06:21,  1.48it/s]"
     ]
    },
    {
     "name": "stdout",
     "output_type": "stream",
     "text": [
      "Pulling from GBIF API with species key: 11168736\n"
     ]
    },
    {
     "name": "stderr",
     "output_type": "stream",
     "text": [
      " 53%|█████▎    | 650/1215 [21:01<07:22,  1.28it/s]"
     ]
    },
    {
     "name": "stdout",
     "output_type": "stream",
     "text": [
      "Pulling from GBIF API with species key: 1540334\n"
     ]
    },
    {
     "name": "stderr",
     "output_type": "stream",
     "text": [
      " 54%|█████▎    | 651/1215 [21:01<07:19,  1.28it/s]"
     ]
    },
    {
     "name": "stdout",
     "output_type": "stream",
     "text": [
      "Pulling from GBIF API with species key: 1364088\n",
      "Pulling from GBIF API with species key: 11552780\n",
      "Pulling from GBIF API with species key: 4587695\n"
     ]
    },
    {
     "name": "stderr",
     "output_type": "stream",
     "text": [
      " 54%|█████▎    | 652/1215 [21:03<08:48,  1.07it/s]"
     ]
    },
    {
     "name": "stdout",
     "output_type": "stream",
     "text": [
      "Pulling from GBIF API with species key: 9266827\n"
     ]
    },
    {
     "name": "stderr",
     "output_type": "stream",
     "text": [
      " 54%|█████▍    | 654/1215 [21:04<06:47,  1.38it/s]"
     ]
    },
    {
     "name": "stdout",
     "output_type": "stream",
     "text": [
      "Pulling from GBIF API with species key: 1360506\n",
      "Pulling from GBIF API with species key: 1381400\n"
     ]
    },
    {
     "name": "stderr",
     "output_type": "stream",
     "text": [
      " 54%|█████▍    | 655/1215 [21:05<08:23,  1.11it/s]"
     ]
    },
    {
     "name": "stdout",
     "output_type": "stream",
     "text": [
      "Pulling from GBIF API with species key: 1383017\n"
     ]
    },
    {
     "name": "stderr",
     "output_type": "stream",
     "text": [
      " 54%|█████▍    | 661/1215 [21:09<06:07,  1.51it/s]"
     ]
    },
    {
     "name": "stdout",
     "output_type": "stream",
     "text": [
      "Pulling from GBIF API with species key: 1653558\n",
      "Pulling from GBIF API with species key: 1288001\n"
     ]
    },
    {
     "name": "stderr",
     "output_type": "stream",
     "text": [
      " 54%|█████▍    | 662/1215 [21:10<07:33,  1.22it/s]"
     ]
    },
    {
     "name": "stdout",
     "output_type": "stream",
     "text": [
      "Pulling from GBIF API with species key: 4496920\n"
     ]
    },
    {
     "name": "stderr",
     "output_type": "stream",
     "text": [
      " 55%|█████▍    | 663/1215 [21:11<07:31,  1.22it/s]"
     ]
    },
    {
     "name": "stdout",
     "output_type": "stream",
     "text": [
      "Failed: Returned status code of 204, with message: <Response [204]>\n",
      "Error querying GBIF for image tile_51.37080828613998_-0.016046688032910816.jpg at coords ('51.37080828613998', '-0.016046688032910816'): 'NoneType' object has no attribute 'get'\n",
      "No GBIF data found for image: tile_51.37080828613998_-0.016046688032910816.jpg at coords: ('51.37080828613998', '-0.016046688032910816')\n",
      "Pulling from GBIF API with species key: 2049512\n"
     ]
    },
    {
     "name": "stderr",
     "output_type": "stream",
     "text": [
      " 55%|█████▍    | 664/1215 [21:12<08:39,  1.06it/s]"
     ]
    },
    {
     "name": "stdout",
     "output_type": "stream",
     "text": [
      "Pulling from GBIF API with species key: 1037890\n",
      "Pulling from GBIF API with species key: 1469884\n",
      "Pulling from GBIF API with species key: 4427685\n",
      "Pulling from GBIF API with species key: 4433561\n"
     ]
    },
    {
     "name": "stderr",
     "output_type": "stream",
     "text": [
      " 55%|█████▍    | 665/1215 [21:13<10:32,  1.15s/it]"
     ]
    },
    {
     "name": "stdout",
     "output_type": "stream",
     "text": [
      "Failed: Returned status code of 204, with message: <Response [204]>\n",
      "Error querying GBIF for image tile_51.3843217996535_0.22208534600248608.jpg at coords ('51.3843217996535', '0.22208534600248608'): 'NoneType' object has no attribute 'get'\n",
      "No GBIF data found for image: tile_51.3843217996535_0.22208534600248608.jpg at coords: ('51.3843217996535', '0.22208534600248608')\n"
     ]
    },
    {
     "name": "stderr",
     "output_type": "stream",
     "text": [
      " 55%|█████▍    | 667/1215 [21:15<07:59,  1.14it/s]"
     ]
    },
    {
     "name": "stdout",
     "output_type": "stream",
     "text": [
      "Pulling from GBIF API with species key: 1027937\n",
      "Pulling from GBIF API with species key: 4450610\n",
      "Pulling from GBIF API with species key: 1433594\n",
      "Pulling from GBIF API with species key: 4988947\n",
      "Pulling from GBIF API with species key: 1282624\n",
      "Pulling from GBIF API with species key: 2495688\n",
      "Pulling from GBIF API with species key: 4488076\n",
      "Pulling from GBIF API with species key: 6943456\n"
     ]
    },
    {
     "name": "stderr",
     "output_type": "stream",
     "text": [
      " 55%|█████▍    | 668/1215 [21:17<13:19,  1.46s/it]"
     ]
    },
    {
     "name": "stdout",
     "output_type": "stream",
     "text": [
      "Pulling from GBIF API with species key: 8152705\n",
      "Pulling from GBIF API with species key: 12346410\n",
      "Pulling from GBIF API with species key: 2283558\n",
      "Pulling from GBIF API with species key: 2283560\n"
     ]
    },
    {
     "name": "stderr",
     "output_type": "stream",
     "text": [
      " 55%|█████▌    | 669/1215 [21:19<13:32,  1.49s/it]"
     ]
    },
    {
     "name": "stdout",
     "output_type": "stream",
     "text": [
      "Pulling from GBIF API with species key: 9320636\n"
     ]
    },
    {
     "name": "stderr",
     "output_type": "stream",
     "text": [
      " 55%|█████▌    | 670/1215 [21:20<11:48,  1.30s/it]"
     ]
    },
    {
     "name": "stdout",
     "output_type": "stream",
     "text": [
      "Pulling from GBIF API with species key: 2120616\n"
     ]
    },
    {
     "name": "stderr",
     "output_type": "stream",
     "text": [
      " 55%|█████▌    | 671/1215 [21:21<10:09,  1.12s/it]"
     ]
    },
    {
     "name": "stdout",
     "output_type": "stream",
     "text": [
      "Pulling from GBIF API with species key: 6097088\n"
     ]
    },
    {
     "name": "stderr",
     "output_type": "stream",
     "text": [
      " 55%|█████▌    | 672/1215 [21:21<08:43,  1.04it/s]"
     ]
    },
    {
     "name": "stdout",
     "output_type": "stream",
     "text": [
      "Pulling from GBIF API with species key: 2185010\n",
      "Pulling from GBIF API with species key: 2185163\n",
      "Pulling from GBIF API with species key: 4548736\n",
      "Pulling from GBIF API with species key: 4548740\n",
      "Pulling from GBIF API with species key: 4548877\n",
      "Pulling from GBIF API with species key: 4549250\n",
      "Pulling from GBIF API with species key: 4549268\n",
      "Pulling from GBIF API with species key: 4549518\n",
      "Pulling from GBIF API with species key: 4549946\n",
      "Pulling from GBIF API with species key: 5775654\n"
     ]
    },
    {
     "name": "stderr",
     "output_type": "stream",
     "text": [
      " 55%|█████▌    | 673/1215 [21:25<15:54,  1.76s/it]"
     ]
    },
    {
     "name": "stdout",
     "output_type": "stream",
     "text": [
      "Pulling from GBIF API with species key: 6135068\n"
     ]
    },
    {
     "name": "stderr",
     "output_type": "stream",
     "text": [
      " 55%|█████▌    | 674/1215 [21:25<12:34,  1.40s/it]"
     ]
    },
    {
     "name": "stdout",
     "output_type": "stream",
     "text": [
      "Pulling from GBIF API with species key: 1560485\n",
      "Pulling from GBIF API with species key: 1555105\n",
      "Pulling from GBIF API with species key: 1612695\n",
      "Pulling from GBIF API with species key: 1616479\n",
      "Pulling from GBIF API with species key: 1635975\n"
     ]
    },
    {
     "name": "stderr",
     "output_type": "stream",
     "text": [
      " 56%|█████▌    | 675/1215 [21:28<14:37,  1.63s/it]"
     ]
    },
    {
     "name": "stdout",
     "output_type": "stream",
     "text": [
      "Pulling from GBIF API with species key: 1642394\n"
     ]
    },
    {
     "name": "stderr",
     "output_type": "stream",
     "text": [
      " 56%|█████▌    | 678/1215 [21:29<08:39,  1.03it/s]"
     ]
    },
    {
     "name": "stdout",
     "output_type": "stream",
     "text": [
      "Pulling from GBIF API with species key: 6097402\n"
     ]
    },
    {
     "name": "stderr",
     "output_type": "stream",
     "text": [
      " 56%|█████▌    | 679/1215 [21:30<08:13,  1.09it/s]"
     ]
    },
    {
     "name": "stdout",
     "output_type": "stream",
     "text": [
      "Pulling from GBIF API with species key: 4532125\n",
      "Pulling from GBIF API with species key: 1595158\n"
     ]
    },
    {
     "name": "stderr",
     "output_type": "stream",
     "text": [
      " 56%|█████▌    | 680/1215 [21:31<08:52,  1.01it/s]"
     ]
    },
    {
     "name": "stdout",
     "output_type": "stream",
     "text": [
      "Pulling from GBIF API with species key: 2086833\n",
      "Pulling from GBIF API with species key: 4444613\n",
      "Pulling from GBIF API with species key: 5748820\n"
     ]
    },
    {
     "name": "stderr",
     "output_type": "stream",
     "text": [
      " 56%|█████▌    | 681/1215 [21:33<09:56,  1.12s/it]"
     ]
    },
    {
     "name": "stdout",
     "output_type": "stream",
     "text": [
      "Pulling from GBIF API with species key: 5754817\n",
      "Pulling from GBIF API with species key: 2438606\n"
     ]
    },
    {
     "name": "stderr",
     "output_type": "stream",
     "text": [
      " 56%|█████▌    | 682/1215 [21:34<09:49,  1.11s/it]"
     ]
    },
    {
     "name": "stdout",
     "output_type": "stream",
     "text": [
      "Pulling from GBIF API with species key: 2435654\n"
     ]
    },
    {
     "name": "stderr",
     "output_type": "stream",
     "text": [
      " 56%|█████▌    | 683/1215 [21:35<08:57,  1.01s/it]"
     ]
    },
    {
     "name": "stdout",
     "output_type": "stream",
     "text": [
      "Pulling from GBIF API with species key: 6097323\n"
     ]
    },
    {
     "name": "stderr",
     "output_type": "stream",
     "text": [
      " 56%|█████▋    | 684/1215 [21:35<07:33,  1.17it/s]"
     ]
    },
    {
     "name": "stdout",
     "output_type": "stream",
     "text": [
      "Pulling from GBIF API with species key: 4455275\n",
      "Pulling from GBIF API with species key: 1847572\n",
      "Pulling from GBIF API with species key: 1384821\n",
      "Pulling from GBIF API with species key: 4450839\n"
     ]
    },
    {
     "name": "stderr",
     "output_type": "stream",
     "text": [
      " 56%|█████▋    | 685/1215 [21:37<10:30,  1.19s/it]"
     ]
    },
    {
     "name": "stdout",
     "output_type": "stream",
     "text": [
      "Pulling from GBIF API with species key: 8098079\n"
     ]
    },
    {
     "name": "stderr",
     "output_type": "stream",
     "text": [
      " 57%|█████▋    | 692/1215 [21:41<05:25,  1.61it/s]"
     ]
    },
    {
     "name": "stdout",
     "output_type": "stream",
     "text": [
      "Pulling from GBIF API with species key: 5755302\n",
      "Pulling from GBIF API with species key: 5123636\n"
     ]
    },
    {
     "name": "stderr",
     "output_type": "stream",
     "text": [
      " 57%|█████▋    | 693/1215 [21:42<06:50,  1.27it/s]"
     ]
    },
    {
     "name": "stdout",
     "output_type": "stream",
     "text": [
      "Pulling from GBIF API with species key: 4526094\n"
     ]
    },
    {
     "name": "stderr",
     "output_type": "stream",
     "text": [
      " 57%|█████▋    | 694/1215 [21:43<06:56,  1.25it/s]"
     ]
    },
    {
     "name": "stdout",
     "output_type": "stream",
     "text": [
      "Pulling from GBIF API with species key: 5746283\n",
      "Pulling from GBIF API with species key: 6096739\n"
     ]
    },
    {
     "name": "stderr",
     "output_type": "stream",
     "text": [
      " 57%|█████▋    | 695/1215 [21:44<07:50,  1.11it/s]"
     ]
    },
    {
     "name": "stdout",
     "output_type": "stream",
     "text": [
      "Pulling from GBIF API with species key: 6097235\n",
      "Pulling from GBIF API with species key: 10806916\n",
      "Pulling from GBIF API with species key: 1444023\n",
      "Pulling from GBIF API with species key: 1444234\n",
      "Pulling from GBIF API with species key: 1605179\n",
      "Pulling from GBIF API with species key: 1607936\n",
      "Pulling from GBIF API with species key: 1607981\n",
      "Pulling from GBIF API with species key: 4465625\n",
      "Pulling from GBIF API with species key: 4485454\n",
      "Pulling from GBIF API with species key: 6253266\n"
     ]
    },
    {
     "name": "stderr",
     "output_type": "stream",
     "text": [
      " 57%|█████▋    | 696/1215 [21:47<14:21,  1.66s/it]"
     ]
    },
    {
     "name": "stdout",
     "output_type": "stream",
     "text": [
      "Pulling from GBIF API with species key: 6718759\n"
     ]
    },
    {
     "name": "stderr",
     "output_type": "stream",
     "text": [
      " 58%|█████▊    | 699/1215 [21:49<07:35,  1.13it/s]"
     ]
    },
    {
     "name": "stdout",
     "output_type": "stream",
     "text": [
      "Pulling from GBIF API with species key: 1553298\n",
      "Pulling from GBIF API with species key: 1553219\n",
      "Pulling from GBIF API with species key: 1628889\n",
      "Pulling from GBIF API with species key: 2308399\n",
      "Pulling from GBIF API with species key: 2441184\n"
     ]
    },
    {
     "name": "stderr",
     "output_type": "stream",
     "text": [
      " 58%|█████▊    | 700/1215 [21:51<10:59,  1.28s/it]"
     ]
    },
    {
     "name": "stdout",
     "output_type": "stream",
     "text": [
      "Pulling from GBIF API with species key: 4517358\n"
     ]
    },
    {
     "name": "stderr",
     "output_type": "stream",
     "text": [
      " 58%|█████▊    | 702/1215 [21:52<08:22,  1.02it/s]"
     ]
    },
    {
     "name": "stdout",
     "output_type": "stream",
     "text": [
      "Failed: Returned status code of 204, with message: <Response [204]>\n",
      "Error querying GBIF for image tile_51.276213691545394_-0.297475455529289.jpg at coords ('51.276213691545394', '-0.297475455529289'): 'NoneType' object has no attribute 'get'\n",
      "No GBIF data found for image: tile_51.276213691545394_-0.297475455529289.jpg at coords: ('51.276213691545394', '-0.297475455529289')\n",
      "Pulling from GBIF API with species key: 5716409\n",
      "Pulling from GBIF API with species key: 5757175\n"
     ]
    },
    {
     "name": "stderr",
     "output_type": "stream",
     "text": [
      " 58%|█████▊    | 703/1215 [21:54<09:23,  1.10s/it]"
     ]
    },
    {
     "name": "stdout",
     "output_type": "stream",
     "text": [
      "Pulling from GBIF API with species key: 4308887\n"
     ]
    },
    {
     "name": "stderr",
     "output_type": "stream",
     "text": [
      " 58%|█████▊    | 704/1215 [21:54<08:36,  1.01s/it]"
     ]
    },
    {
     "name": "stdout",
     "output_type": "stream",
     "text": [
      "Pulling from GBIF API with species key: 2186559\n"
     ]
    },
    {
     "name": "stderr",
     "output_type": "stream",
     "text": [
      " 58%|█████▊    | 706/1215 [21:56<07:17,  1.16it/s]"
     ]
    },
    {
     "name": "stdout",
     "output_type": "stream",
     "text": [
      "Pulling from GBIF API with species key: 5168242\n"
     ]
    },
    {
     "name": "stderr",
     "output_type": "stream",
     "text": [
      " 58%|█████▊    | 708/1215 [21:57<05:56,  1.42it/s]"
     ]
    },
    {
     "name": "stdout",
     "output_type": "stream",
     "text": [
      "Pulling from GBIF API with species key: 2494097\n",
      "Pulling from GBIF API with species key: 2480331\n",
      "Pulling from GBIF API with species key: 2498117\n",
      "Pulling from GBIF API with species key: 2480320\n",
      "Pulling from GBIF API with species key: 2481196\n"
     ]
    },
    {
     "name": "stderr",
     "output_type": "stream",
     "text": [
      " 58%|█████▊    | 709/1215 [21:59<10:03,  1.19s/it]"
     ]
    },
    {
     "name": "stdout",
     "output_type": "stream",
     "text": [
      "Pulling from GBIF API with species key: 2492081\n"
     ]
    },
    {
     "name": "stderr",
     "output_type": "stream",
     "text": [
      " 58%|█████▊    | 710/1215 [22:00<08:46,  1.04s/it]"
     ]
    },
    {
     "name": "stdout",
     "output_type": "stream",
     "text": [
      "Pulling from GBIF API with species key: 1538420\n"
     ]
    },
    {
     "name": "stderr",
     "output_type": "stream",
     "text": [
      " 59%|█████▊    | 711/1215 [22:01<08:47,  1.05s/it]"
     ]
    },
    {
     "name": "stdout",
     "output_type": "stream",
     "text": [
      "Pulling from GBIF API with species key: 9837844\n"
     ]
    },
    {
     "name": "stderr",
     "output_type": "stream",
     "text": [
      " 59%|█████▉    | 714/1215 [22:03<05:45,  1.45it/s]"
     ]
    },
    {
     "name": "stdout",
     "output_type": "stream",
     "text": [
      "Pulling from GBIF API with species key: 5069268\n"
     ]
    },
    {
     "name": "stderr",
     "output_type": "stream",
     "text": [
      " 59%|█████▉    | 715/1215 [22:04<07:06,  1.17it/s]"
     ]
    },
    {
     "name": "stdout",
     "output_type": "stream",
     "text": [
      "Pulling from GBIF API with species key: 7578887\n"
     ]
    },
    {
     "name": "stderr",
     "output_type": "stream",
     "text": [
      " 59%|█████▉    | 716/1215 [22:04<06:13,  1.33it/s]"
     ]
    },
    {
     "name": "stdout",
     "output_type": "stream",
     "text": [
      "Pulling from GBIF API with species key: 5058933\n",
      "Pulling from GBIF API with species key: 1061089\n"
     ]
    },
    {
     "name": "stderr",
     "output_type": "stream",
     "text": [
      " 59%|█████▉    | 717/1215 [22:06<07:47,  1.07it/s]"
     ]
    },
    {
     "name": "stdout",
     "output_type": "stream",
     "text": [
      "Pulling from GBIF API with species key: 4555645\n",
      "Pulling from GBIF API with species key: 1785185\n",
      "Pulling from GBIF API with species key: 5855597\n"
     ]
    },
    {
     "name": "stderr",
     "output_type": "stream",
     "text": [
      " 59%|█████▉    | 718/1215 [22:07<09:03,  1.09s/it]"
     ]
    },
    {
     "name": "stdout",
     "output_type": "stream",
     "text": [
      "Pulling from GBIF API with species key: 9636383\n"
     ]
    },
    {
     "name": "stderr",
     "output_type": "stream",
     "text": [
      " 59%|█████▉    | 719/1215 [22:08<07:35,  1.09it/s]"
     ]
    },
    {
     "name": "stdout",
     "output_type": "stream",
     "text": [
      "Pulling from GBIF API with species key: 8252699\n",
      "Pulling from GBIF API with species key: 8653597\n",
      "Pulling from GBIF API with species key: 2085166\n",
      "Pulling from GBIF API with species key: 2234831\n",
      "Pulling from GBIF API with species key: 2308594\n",
      "Pulling from GBIF API with species key: 4398301\n"
     ]
    },
    {
     "name": "stderr",
     "output_type": "stream",
     "text": [
      " 59%|█████▉    | 720/1215 [22:10<11:38,  1.41s/it]"
     ]
    },
    {
     "name": "stdout",
     "output_type": "stream",
     "text": [
      "Pulling from GBIF API with species key: 5044636\n"
     ]
    },
    {
     "name": "stderr",
     "output_type": "stream",
     "text": [
      " 60%|█████▉    | 724/1215 [22:12<05:58,  1.37it/s]"
     ]
    },
    {
     "name": "stdout",
     "output_type": "stream",
     "text": [
      "Pulling from GBIF API with species key: 4562199\n",
      "Pulling from GBIF API with species key: 5113030\n"
     ]
    },
    {
     "name": "stderr",
     "output_type": "stream",
     "text": [
      " 60%|█████▉    | 725/1215 [22:14<07:31,  1.08it/s]"
     ]
    },
    {
     "name": "stdout",
     "output_type": "stream",
     "text": [
      "Pulling from GBIF API with species key: 5229044\n"
     ]
    },
    {
     "name": "stderr",
     "output_type": "stream",
     "text": [
      " 60%|█████▉    | 726/1215 [22:14<06:21,  1.28it/s]"
     ]
    },
    {
     "name": "stdout",
     "output_type": "stream",
     "text": [
      "Pulling from GBIF API with species key: 5746619\n",
      "Pulling from GBIF API with species key: 1473763\n",
      "Pulling from GBIF API with species key: 10884269\n",
      "Pulling from GBIF API with species key: 11801264\n",
      "Pulling from GBIF API with species key: 1244405\n",
      "Pulling from GBIF API with species key: 1244882\n",
      "Pulling from GBIF API with species key: 1462940\n",
      "Pulling from GBIF API with species key: 1468053\n",
      "Pulling from GBIF API with species key: 1468182\n",
      "Pulling from GBIF API with species key: 1473322\n",
      "Pulling from GBIF API with species key: 1478649\n",
      "Pulling from GBIF API with species key: 1522699\n",
      "Pulling from GBIF API with species key: 1573175\n",
      "Pulling from GBIF API with species key: 1575633\n",
      "Pulling from GBIF API with species key: 1594915\n",
      "Pulling from GBIF API with species key: 1640067\n",
      "Pulling from GBIF API with species key: 1676411\n",
      "Pulling from GBIF API with species key: 1679479\n",
      "Pulling from GBIF API with species key: 1833169\n",
      "Pulling from GBIF API with species key: 2234834\n",
      "Pulling from GBIF API with species key: 2235029\n",
      "Pulling from GBIF API with species key: 4435832\n",
      "Pulling from GBIF API with species key: 4438860\n",
      "Pulling from GBIF API with species key: 4450935\n",
      "Pulling from GBIF API with species key: 4481463\n",
      "Pulling from GBIF API with species key: 4487720\n",
      "Pulling from GBIF API with species key: 4491740\n",
      "Pulling from GBIF API with species key: 4492280\n"
     ]
    },
    {
     "name": "stderr",
     "output_type": "stream",
     "text": [
      " 60%|█████▉    | 727/1215 [22:23<25:33,  3.14s/it]"
     ]
    },
    {
     "name": "stdout",
     "output_type": "stream",
     "text": [
      "Pulling from GBIF API with species key: 4514472\n",
      "Pulling from GBIF API with species key: 7005099\n",
      "Pulling from GBIF API with species key: 7804447\n"
     ]
    },
    {
     "name": "stderr",
     "output_type": "stream",
     "text": [
      " 60%|█████▉    | 728/1215 [22:24<21:11,  2.61s/it]"
     ]
    },
    {
     "name": "stdout",
     "output_type": "stream",
     "text": [
      "Pulling from GBIF API with species key: 9519984\n"
     ]
    },
    {
     "name": "stderr",
     "output_type": "stream",
     "text": [
      " 60%|██████    | 729/1215 [22:25<16:04,  1.98s/it]"
     ]
    },
    {
     "name": "stdout",
     "output_type": "stream",
     "text": [
      "Pulling from GBIF API with species key: 1470122\n",
      "Pulling from GBIF API with species key: 1548010\n",
      "Pulling from GBIF API with species key: 4464071\n",
      "Pulling from GBIF API with species key: 5745006\n",
      "Pulling from GBIF API with species key: 5746609\n"
     ]
    },
    {
     "name": "stderr",
     "output_type": "stream",
     "text": [
      " 60%|██████    | 730/1215 [22:27<16:29,  2.04s/it]"
     ]
    },
    {
     "name": "stdout",
     "output_type": "stream",
     "text": [
      "Pulling from GBIF API with species key: 8195192\n"
     ]
    },
    {
     "name": "stderr",
     "output_type": "stream",
     "text": [
      " 60%|██████    | 732/1215 [22:28<10:57,  1.36s/it]"
     ]
    },
    {
     "name": "stdout",
     "output_type": "stream",
     "text": [
      "Pulling from GBIF API with species key: 1503905\n"
     ]
    },
    {
     "name": "stderr",
     "output_type": "stream",
     "text": [
      " 60%|██████    | 733/1215 [22:29<09:40,  1.20s/it]"
     ]
    },
    {
     "name": "stdout",
     "output_type": "stream",
     "text": [
      "Failed: Returned status code of 204, with message: <Response [204]>\n",
      "Error querying GBIF for image tile_51.72215963749134_-0.037695054763401445.jpg at coords ('51.72215963749134', '-0.037695054763401445'): 'NoneType' object has no attribute 'get'\n",
      "No GBIF data found for image: tile_51.72215963749134_-0.037695054763401445.jpg at coords: ('51.72215963749134', '-0.037695054763401445')\n",
      "Pulling from GBIF API with species key: 1480953\n"
     ]
    },
    {
     "name": "stderr",
     "output_type": "stream",
     "text": [
      " 60%|██████    | 734/1215 [22:30<09:55,  1.24s/it]"
     ]
    },
    {
     "name": "stdout",
     "output_type": "stream",
     "text": [
      "Failed: Returned status code of 204, with message: <Response [204]>\n",
      "Error querying GBIF for image tile_51.397835313167015_0.04889841215856107.jpg at coords ('51.397835313167015', '0.04889841215856107'): 'NoneType' object has no attribute 'get'\n",
      "No GBIF data found for image: tile_51.397835313167015_0.04889841215856107.jpg at coords: ('51.397835313167015', '0.04889841215856107')\n"
     ]
    },
    {
     "name": "stderr",
     "output_type": "stream",
     "text": [
      " 61%|██████    | 736/1215 [22:32<07:51,  1.02it/s]"
     ]
    },
    {
     "name": "stdout",
     "output_type": "stream",
     "text": [
      "Failed: Returned status code of 204, with message: <Response [204]>\n",
      "Error querying GBIF for image tile_51.62756504289674_-0.49231075610370467.jpg at coords ('51.62756504289674', '-0.49231075610370467'): 'NoneType' object has no attribute 'get'\n",
      "No GBIF data found for image: tile_51.62756504289674_-0.49231075610370467.jpg at coords: ('51.62756504289674', '-0.49231075610370467')\n"
     ]
    },
    {
     "name": "stderr",
     "output_type": "stream",
     "text": [
      " 61%|██████    | 739/1215 [22:34<06:08,  1.29it/s]"
     ]
    },
    {
     "name": "stdout",
     "output_type": "stream",
     "text": [
      "Pulling from GBIF API with species key: 2225596\n"
     ]
    },
    {
     "name": "stderr",
     "output_type": "stream",
     "text": [
      " 61%|██████    | 744/1215 [22:37<05:15,  1.49it/s]"
     ]
    },
    {
     "name": "stdout",
     "output_type": "stream",
     "text": [
      "Pulling from GBIF API with species key: 1003642\n"
     ]
    },
    {
     "name": "stderr",
     "output_type": "stream",
     "text": [
      " 61%|██████▏   | 746/1215 [22:38<05:25,  1.44it/s]"
     ]
    },
    {
     "name": "stdout",
     "output_type": "stream",
     "text": [
      "Pulling from GBIF API with species key: 1529037\n"
     ]
    },
    {
     "name": "stderr",
     "output_type": "stream",
     "text": [
      " 61%|██████▏   | 747/1215 [22:39<05:39,  1.38it/s]"
     ]
    },
    {
     "name": "stdout",
     "output_type": "stream",
     "text": [
      "Failed: Returned status code of 204, with message: <Response [204]>\n",
      "Error querying GBIF for image tile_51.42486234019404_0.24373371273297673.jpg at coords ('51.42486234019404', '0.24373371273297673'): 'NoneType' object has no attribute 'get'\n",
      "No GBIF data found for image: tile_51.42486234019404_0.24373371273297673.jpg at coords: ('51.42486234019404', '0.24373371273297673')\n"
     ]
    },
    {
     "name": "stderr",
     "output_type": "stream",
     "text": [
      " 62%|██████▏   | 750/1215 [22:41<05:31,  1.40it/s]"
     ]
    },
    {
     "name": "stdout",
     "output_type": "stream",
     "text": [
      "Pulling from GBIF API with species key: 2234764\n"
     ]
    },
    {
     "name": "stderr",
     "output_type": "stream",
     "text": [
      " 62%|██████▏   | 751/1215 [22:41<05:36,  1.38it/s]"
     ]
    },
    {
     "name": "stdout",
     "output_type": "stream",
     "text": [
      "Pulling from GBIF API with species key: 4450860\n"
     ]
    },
    {
     "name": "stderr",
     "output_type": "stream",
     "text": [
      " 62%|██████▏   | 752/1215 [22:42<05:09,  1.50it/s]"
     ]
    },
    {
     "name": "stdout",
     "output_type": "stream",
     "text": [
      "Pulling from GBIF API with species key: 4518687\n"
     ]
    },
    {
     "name": "stderr",
     "output_type": "stream",
     "text": [
      " 62%|██████▏   | 753/1215 [22:43<06:01,  1.28it/s]"
     ]
    },
    {
     "name": "stdout",
     "output_type": "stream",
     "text": [
      "Pulling from GBIF API with species key: 6159243\n"
     ]
    },
    {
     "name": "stderr",
     "output_type": "stream",
     "text": [
      " 62%|██████▏   | 754/1215 [22:44<05:29,  1.40it/s]"
     ]
    },
    {
     "name": "stdout",
     "output_type": "stream",
     "text": [
      "Pulling from GBIF API with species key: 1420626\n",
      "Pulling from GBIF API with species key: 2046794\n"
     ]
    },
    {
     "name": "stderr",
     "output_type": "stream",
     "text": [
      " 62%|██████▏   | 755/1215 [22:45<07:10,  1.07it/s]"
     ]
    },
    {
     "name": "stdout",
     "output_type": "stream",
     "text": [
      "Pulling from GBIF API with species key: 5756819\n",
      "Pulling from GBIF API with species key: 5053991\n",
      "Pulling from GBIF API with species key: 4487229\n",
      "Pulling from GBIF API with species key: 4519167\n",
      "Pulling from GBIF API with species key: 7261875\n",
      "Pulling from GBIF API with species key: 1224532\n",
      "Pulling from GBIF API with species key: 2020904\n",
      "Pulling from GBIF API with species key: 4483203\n",
      "Pulling from GBIF API with species key: 4486134\n",
      "Pulling from GBIF API with species key: 4531284\n"
     ]
    },
    {
     "name": "stderr",
     "output_type": "stream",
     "text": [
      " 62%|██████▏   | 756/1215 [22:48<12:39,  1.65s/it]"
     ]
    },
    {
     "name": "stdout",
     "output_type": "stream",
     "text": [
      "Failed: Returned status code of 204, with message: <Response [204]>\n",
      "Error querying GBIF for image tile_51.276213691545394_0.07054677888905171.jpg at coords ('51.276213691545394', '0.07054677888905171'): 'NoneType' object has no attribute 'get'\n",
      "No GBIF data found for image: tile_51.276213691545394_0.07054677888905171.jpg at coords: ('51.276213691545394', '0.07054677888905171')\n"
     ]
    },
    {
     "name": "stderr",
     "output_type": "stream",
     "text": [
      " 63%|██████▎   | 761/1215 [22:54<10:18,  1.36s/it]"
     ]
    },
    {
     "name": "stdout",
     "output_type": "stream",
     "text": [
      "Pulling from GBIF API with species key: 1832819\n",
      "Pulling from GBIF API with species key: 5102495\n",
      "Pulling from GBIF API with species key: 1833159\n",
      "Pulling from GBIF API with species key: 4433413\n",
      "Pulling from GBIF API with species key: 5188563\n"
     ]
    },
    {
     "name": "stderr",
     "output_type": "stream",
     "text": [
      " 63%|██████▎   | 762/1215 [22:56<13:13,  1.75s/it]"
     ]
    },
    {
     "name": "stdout",
     "output_type": "stream",
     "text": [
      "Pulling from GBIF API with species key: 9425190\n"
     ]
    },
    {
     "name": "stderr",
     "output_type": "stream",
     "text": [
      " 63%|██████▎   | 764/1215 [22:58<09:54,  1.32s/it]"
     ]
    },
    {
     "name": "stdout",
     "output_type": "stream",
     "text": [
      "Pulling from GBIF API with species key: 4473093\n"
     ]
    },
    {
     "name": "stderr",
     "output_type": "stream",
     "text": [
      " 63%|██████▎   | 765/1215 [22:59<09:18,  1.24s/it]"
     ]
    },
    {
     "name": "stdout",
     "output_type": "stream",
     "text": [
      "Failed: Returned status code of 204, with message: <Response [204]>\n",
      "Error querying GBIF for image tile_51.397835313167015_0.1787886125415048.jpg at coords ('51.397835313167015', '0.1787886125415048'): 'NoneType' object has no attribute 'get'\n",
      "No GBIF data found for image: tile_51.397835313167015_0.1787886125415048.jpg at coords: ('51.397835313167015', '0.1787886125415048')\n"
     ]
    },
    {
     "name": "stderr",
     "output_type": "stream",
     "text": [
      " 63%|██████▎   | 766/1215 [23:00<08:22,  1.12s/it]"
     ]
    },
    {
     "name": "stdout",
     "output_type": "stream",
     "text": [
      "Pulling from GBIF API with species key: 4505088\n"
     ]
    },
    {
     "name": "stderr",
     "output_type": "stream",
     "text": [
      " 63%|██████▎   | 767/1215 [23:01<08:23,  1.12s/it]"
     ]
    },
    {
     "name": "stdout",
     "output_type": "stream",
     "text": [
      "Failed: Returned status code of 204, with message: <Response [204]>\n",
      "Error querying GBIF for image tile_51.614051529383225_-0.49231075610370467.jpg at coords ('51.614051529383225', '-0.49231075610370467'): 'NoneType' object has no attribute 'get'\n",
      "No GBIF data found for image: tile_51.614051529383225_-0.49231075610370467.jpg at coords: ('51.614051529383225', '-0.49231075610370467')\n"
     ]
    },
    {
     "name": "stderr",
     "output_type": "stream",
     "text": [
      " 64%|██████▎   | 772/1215 [23:04<05:35,  1.32it/s]"
     ]
    },
    {
     "name": "stdout",
     "output_type": "stream",
     "text": [
      "Pulling from GBIF API with species key: 4487373\n"
     ]
    },
    {
     "name": "stderr",
     "output_type": "stream",
     "text": [
      " 64%|██████▍   | 775/1215 [23:06<05:00,  1.46it/s]"
     ]
    },
    {
     "name": "stdout",
     "output_type": "stream",
     "text": [
      "Pulling from GBIF API with species key: 1554157\n"
     ]
    },
    {
     "name": "stderr",
     "output_type": "stream",
     "text": [
      " 64%|██████▍   | 776/1215 [23:07<04:55,  1.49it/s]"
     ]
    },
    {
     "name": "stdout",
     "output_type": "stream",
     "text": [
      "Pulling from GBIF API with species key: 5874866\n",
      "Pulling from GBIF API with species key: 6097508\n",
      "Pulling from GBIF API with species key: 11228709\n",
      "Pulling from GBIF API with species key: 2030420\n",
      "Pulling from GBIF API with species key: 4484077\n",
      "Pulling from GBIF API with species key: 4484084\n",
      "Pulling from GBIF API with species key: 4534686\n"
     ]
    },
    {
     "name": "stderr",
     "output_type": "stream",
     "text": [
      " 64%|██████▍   | 777/1215 [23:09<09:34,  1.31s/it]"
     ]
    },
    {
     "name": "stdout",
     "output_type": "stream",
     "text": [
      "Pulling from GBIF API with species key: 6097915\n"
     ]
    },
    {
     "name": "stderr",
     "output_type": "stream",
     "text": [
      " 64%|██████▍   | 779/1215 [23:11<07:03,  1.03it/s]"
     ]
    },
    {
     "name": "stdout",
     "output_type": "stream",
     "text": [
      "Pulling from GBIF API with species key: 4544467\n",
      "Pulling from GBIF API with species key: 5232445\n",
      "Pulling from GBIF API with species key: 5229155\n"
     ]
    },
    {
     "name": "stderr",
     "output_type": "stream",
     "text": [
      " 64%|██████▍   | 780/1215 [23:12<08:04,  1.11s/it]"
     ]
    },
    {
     "name": "stdout",
     "output_type": "stream",
     "text": [
      "Failed: Returned status code of 204, with message: <Response [204]>\n",
      "Error querying GBIF for image tile_51.50594342127512_-0.1459368884158546.jpg at coords ('51.50594342127512', '-0.1459368884158546'): 'NoneType' object has no attribute 'get'\n",
      "No GBIF data found for image: tile_51.50594342127512_-0.1459368884158546.jpg at coords: ('51.50594342127512', '-0.1459368884158546')\n",
      "Pulling from GBIF API with species key: 4963185\n",
      "Pulling from GBIF API with species key: 5794386\n"
     ]
    },
    {
     "name": "stderr",
     "output_type": "stream",
     "text": [
      " 64%|██████▍   | 781/1215 [23:14<08:37,  1.19s/it]"
     ]
    },
    {
     "name": "stdout",
     "output_type": "stream",
     "text": [
      "Pulling from GBIF API with species key: 9624133\n"
     ]
    },
    {
     "name": "stderr",
     "output_type": "stream",
     "text": [
      " 64%|██████▍   | 783/1215 [23:15<06:50,  1.05it/s]"
     ]
    },
    {
     "name": "stdout",
     "output_type": "stream",
     "text": [
      "Pulling from GBIF API with species key: 5753568\n"
     ]
    },
    {
     "name": "stderr",
     "output_type": "stream",
     "text": [
      " 65%|██████▍   | 788/1215 [23:18<04:20,  1.64it/s]"
     ]
    },
    {
     "name": "stdout",
     "output_type": "stream",
     "text": [
      "Pulling from GBIF API with species key: 4481425\n",
      "Pulling from GBIF API with species key: 5146342\n",
      "Pulling from GBIF API with species key: 1037986\n",
      "Pulling from GBIF API with species key: 1507630\n",
      "Pulling from GBIF API with species key: 1510995\n",
      "Pulling from GBIF API with species key: 2308606\n",
      "Pulling from GBIF API with species key: 4464419\n",
      "Pulling from GBIF API with species key: 4469883\n",
      "Pulling from GBIF API with species key: 5232469\n"
     ]
    },
    {
     "name": "stderr",
     "output_type": "stream",
     "text": [
      " 65%|██████▍   | 789/1215 [23:21<10:25,  1.47s/it]"
     ]
    },
    {
     "name": "stdout",
     "output_type": "stream",
     "text": [
      "Pulling from GBIF API with species key: 5757308\n"
     ]
    },
    {
     "name": "stderr",
     "output_type": "stream",
     "text": [
      " 65%|██████▌   | 791/1215 [23:22<06:45,  1.05it/s]"
     ]
    },
    {
     "name": "stdout",
     "output_type": "stream",
     "text": [
      "Pulling from GBIF API with species key: 8116657\n",
      "Pulling from GBIF API with species key: 8521094\n"
     ]
    },
    {
     "name": "stderr",
     "output_type": "stream",
     "text": [
      " 65%|██████▌   | 792/1215 [23:24<07:58,  1.13s/it]"
     ]
    },
    {
     "name": "stdout",
     "output_type": "stream",
     "text": [
      "Pulling from GBIF API with species key: 8902927\n",
      "Pulling from GBIF API with species key: 4490992\n",
      "Pulling from GBIF API with species key: 4492300\n",
      "Pulling from GBIF API with species key: 4492311\n",
      "Pulling from GBIF API with species key: 5870020\n"
     ]
    },
    {
     "name": "stderr",
     "output_type": "stream",
     "text": [
      " 65%|██████▌   | 793/1215 [23:26<09:43,  1.38s/it]"
     ]
    },
    {
     "name": "stdout",
     "output_type": "stream",
     "text": [
      "Pulling from GBIF API with species key: 9596591\n"
     ]
    },
    {
     "name": "stderr",
     "output_type": "stream",
     "text": [
      " 65%|██████▌   | 794/1215 [23:26<08:24,  1.20s/it]"
     ]
    },
    {
     "name": "stdout",
     "output_type": "stream",
     "text": [
      "Pulling from GBIF API with species key: 4646648\n"
     ]
    },
    {
     "name": "stderr",
     "output_type": "stream",
     "text": [
      " 65%|██████▌   | 795/1215 [23:27<07:27,  1.07s/it]"
     ]
    },
    {
     "name": "stdout",
     "output_type": "stream",
     "text": [
      "Failed: Returned status code of 204, with message: <Response [204]>\n",
      "Error querying GBIF for image tile_51.451889367221064_0.07054677888905171.jpg at coords ('51.451889367221064', '0.07054677888905171'): 'NoneType' object has no attribute 'get'\n",
      "No GBIF data found for image: tile_51.451889367221064_0.07054677888905171.jpg at coords: ('51.451889367221064', '0.07054677888905171')\n"
     ]
    },
    {
     "name": "stderr",
     "output_type": "stream",
     "text": [
      " 66%|██████▌   | 796/1215 [23:28<06:40,  1.05it/s]"
     ]
    },
    {
     "name": "stdout",
     "output_type": "stream",
     "text": [
      "Pulling from GBIF API with species key: 1562872\n"
     ]
    },
    {
     "name": "stderr",
     "output_type": "stream",
     "text": [
      " 66%|██████▌   | 800/1215 [23:30<04:40,  1.48it/s]"
     ]
    },
    {
     "name": "stdout",
     "output_type": "stream",
     "text": [
      "Pulling from GBIF API with species key: 4399517\n",
      "Pulling from GBIF API with species key: 1625371\n",
      "Pulling from GBIF API with species key: 1850335\n",
      "Pulling from GBIF API with species key: 5104927\n",
      "Pulling from GBIF API with species key: 5120915\n",
      "Pulling from GBIF API with species key: 5769764\n",
      "Pulling from GBIF API with species key: 4438290\n",
      "Pulling from GBIF API with species key: 4989583\n",
      "Pulling from GBIF API with species key: 5749016\n"
     ]
    },
    {
     "name": "stderr",
     "output_type": "stream",
     "text": [
      " 66%|██████▌   | 801/1215 [23:34<10:24,  1.51s/it]"
     ]
    },
    {
     "name": "stdout",
     "output_type": "stream",
     "text": [
      "Pulling from GBIF API with species key: 6097510\n"
     ]
    },
    {
     "name": "stderr",
     "output_type": "stream",
     "text": [
      " 66%|██████▌   | 802/1215 [23:34<08:29,  1.23s/it]"
     ]
    },
    {
     "name": "stdout",
     "output_type": "stream",
     "text": [
      "Pulling from GBIF API with species key: 1546812\n",
      "Pulling from GBIF API with species key: 1571084\n",
      "Pulling from GBIF API with species key: 1608560\n",
      "Pulling from GBIF API with species key: 2234888\n",
      "Pulling from GBIF API with species key: 4438501\n",
      "Pulling from GBIF API with species key: 4490865\n",
      "Pulling from GBIF API with species key: 5068247\n"
     ]
    },
    {
     "name": "stderr",
     "output_type": "stream",
     "text": [
      " 66%|██████▌   | 803/1215 [23:37<11:45,  1.71s/it]"
     ]
    },
    {
     "name": "stdout",
     "output_type": "stream",
     "text": [
      "Pulling from GBIF API with species key: 5874786\n"
     ]
    },
    {
     "name": "stderr",
     "output_type": "stream",
     "text": [
      " 66%|██████▌   | 804/1215 [23:38<10:00,  1.46s/it]"
     ]
    },
    {
     "name": "stdout",
     "output_type": "stream",
     "text": [
      "Pulling from GBIF API with species key: 5892124\n",
      "Pulling from GBIF API with species key: 4427490\n",
      "Pulling from GBIF API with species key: 5872143\n",
      "Pulling from GBIF API with species key: 1039728\n",
      "Pulling from GBIF API with species key: 4487251\n",
      "Pulling from GBIF API with species key: 8155131\n",
      "Pulling from GBIF API with species key: 10118411\n",
      "Pulling from GBIF API with species key: 1039755\n"
     ]
    },
    {
     "name": "stderr",
     "output_type": "stream",
     "text": [
      " 66%|██████▋   | 805/1215 [23:41<13:08,  1.92s/it]"
     ]
    },
    {
     "name": "stdout",
     "output_type": "stream",
     "text": [
      "Pulling from GBIF API with species key: 1583316\n",
      "Pulling from GBIF API with species key: 5158960\n"
     ]
    },
    {
     "name": "stderr",
     "output_type": "stream",
     "text": [
      " 66%|██████▋   | 806/1215 [23:42<11:21,  1.67s/it]"
     ]
    },
    {
     "name": "stdout",
     "output_type": "stream",
     "text": [
      "Pulling from GBIF API with species key: 5029918\n",
      "Pulling from GBIF API with species key: 4514884\n",
      "Pulling from GBIF API with species key: 1443591\n",
      "Pulling from GBIF API with species key: 1554700\n"
     ]
    },
    {
     "name": "stderr",
     "output_type": "stream",
     "text": [
      " 66%|██████▋   | 807/1215 [23:44<11:25,  1.68s/it]"
     ]
    },
    {
     "name": "stdout",
     "output_type": "stream",
     "text": [
      "Failed: Returned status code of 204, with message: <Response [204]>\n",
      "Error querying GBIF for image tile_51.34378125911296_0.07054677888905171.jpg at coords ('51.34378125911296', '0.07054677888905171'): 'NoneType' object has no attribute 'get'\n",
      "No GBIF data found for image: tile_51.34378125911296_0.07054677888905171.jpg at coords: ('51.34378125911296', '0.07054677888905171')\n"
     ]
    },
    {
     "name": "stderr",
     "output_type": "stream",
     "text": [
      " 67%|██████▋   | 809/1215 [23:45<07:31,  1.11s/it]"
     ]
    },
    {
     "name": "stdout",
     "output_type": "stream",
     "text": [
      "Pulling from GBIF API with species key: 1555558\n"
     ]
    },
    {
     "name": "stderr",
     "output_type": "stream",
     "text": [
      " 67%|██████▋   | 810/1215 [23:46<07:22,  1.09s/it]"
     ]
    },
    {
     "name": "stdout",
     "output_type": "stream",
     "text": [
      "Pulling from GBIF API with species key: 5231640\n"
     ]
    },
    {
     "name": "stderr",
     "output_type": "stream",
     "text": [
      " 67%|██████▋   | 811/1215 [23:47<07:06,  1.06s/it]"
     ]
    },
    {
     "name": "stdout",
     "output_type": "stream",
     "text": [
      "Pulling from GBIF API with species key: 1583568\n",
      "Pulling from GBIF API with species key: 11081457\n",
      "Pulling from GBIF API with species key: 1510759\n",
      "Pulling from GBIF API with species key: 1555623\n",
      "Pulling from GBIF API with species key: 1556073\n",
      "Pulling from GBIF API with species key: 1568404\n",
      "Pulling from GBIF API with species key: 1605871\n",
      "Pulling from GBIF API with species key: 1612126\n",
      "Pulling from GBIF API with species key: 1612274\n",
      "Pulling from GBIF API with species key: 1612282\n",
      "Pulling from GBIF API with species key: 1612747\n",
      "Pulling from GBIF API with species key: 1613060\n",
      "Pulling from GBIF API with species key: 1613991\n",
      "Pulling from GBIF API with species key: 1613998\n",
      "Pulling from GBIF API with species key: 1614060\n",
      "Pulling from GBIF API with species key: 1614300\n",
      "Pulling from GBIF API with species key: 1614360\n",
      "Pulling from GBIF API with species key: 1616585\n",
      "Pulling from GBIF API with species key: 1616625\n",
      "Pulling from GBIF API with species key: 1616698\n",
      "Pulling from GBIF API with species key: 1619627\n",
      "Pulling from GBIF API with species key: 2133871\n",
      "Pulling from GBIF API with species key: 4438224\n",
      "Pulling from GBIF API with species key: 4491004\n",
      "Pulling from GBIF API with species key: 5035777\n",
      "Pulling from GBIF API with species key: 5083295\n",
      "Pulling from GBIF API with species key: 5083317\n",
      "Pulling from GBIF API with species key: 5085817\n",
      "Pulling from GBIF API with species key: 5878395\n",
      "Pulling from GBIF API with species key: 6096752\n",
      "Pulling from GBIF API with species key: 6097599\n",
      "Pulling from GBIF API with species key: 7742306\n"
     ]
    },
    {
     "name": "stderr",
     "output_type": "stream",
     "text": [
      " 67%|██████▋   | 812/1215 [23:56<24:19,  3.62s/it]"
     ]
    },
    {
     "name": "stdout",
     "output_type": "stream",
     "text": [
      "Pulling from GBIF API with species key: 9627705\n"
     ]
    },
    {
     "name": "stderr",
     "output_type": "stream",
     "text": [
      " 67%|██████▋   | 813/1215 [23:57<18:34,  2.77s/it]"
     ]
    },
    {
     "name": "stdout",
     "output_type": "stream",
     "text": [
      "Failed: Returned status code of 204, with message: <Response [204]>\n",
      "Error querying GBIF for image tile_51.695132610464306_-0.05934342149389207.jpg at coords ('51.695132610464306', '-0.05934342149389207'): 'NoneType' object has no attribute 'get'\n",
      "No GBIF data found for image: tile_51.695132610464306_-0.05934342149389207.jpg at coords: ('51.695132610464306', '-0.05934342149389207')\n"
     ]
    },
    {
     "name": "stderr",
     "output_type": "stream",
     "text": [
      " 67%|██████▋   | 814/1215 [23:58<14:36,  2.19s/it]"
     ]
    },
    {
     "name": "stdout",
     "output_type": "stream",
     "text": [
      "Failed: Returned status code of 204, with message: <Response [204]>\n",
      "Error querying GBIF for image tile_51.33026774559944_0.20043697927199544.jpg at coords ('51.33026774559944', '0.20043697927199544'): 'NoneType' object has no attribute 'get'\n",
      "No GBIF data found for image: tile_51.33026774559944_0.20043697927199544.jpg at coords: ('51.33026774559944', '0.20043697927199544')\n"
     ]
    },
    {
     "name": "stderr",
     "output_type": "stream",
     "text": [
      " 67%|██████▋   | 815/1215 [23:59<11:51,  1.78s/it]"
     ]
    },
    {
     "name": "stdout",
     "output_type": "stream",
     "text": [
      "Pulling from GBIF API with species key: 1542118\n"
     ]
    },
    {
     "name": "stderr",
     "output_type": "stream",
     "text": [
      " 67%|██████▋   | 818/1215 [24:00<06:07,  1.08it/s]"
     ]
    },
    {
     "name": "stdout",
     "output_type": "stream",
     "text": [
      "Pulling from GBIF API with species key: 4460196\n"
     ]
    },
    {
     "name": "stderr",
     "output_type": "stream",
     "text": [
      " 67%|██████▋   | 819/1215 [24:01<06:23,  1.03it/s]"
     ]
    },
    {
     "name": "stdout",
     "output_type": "stream",
     "text": [
      "Pulling from GBIF API with species key: 5103562\n",
      "Pulling from GBIF API with species key: 5748098\n",
      "Pulling from GBIF API with species key: 1037293\n",
      "Pulling from GBIF API with species key: 1091267\n",
      "Pulling from GBIF API with species key: 4469880\n",
      "Pulling from GBIF API with species key: 1047386\n",
      "Pulling from GBIF API with species key: 1239980\n",
      "Pulling from GBIF API with species key: 2379300\n",
      "Pulling from GBIF API with species key: 4469849\n",
      "Pulling from GBIF API with species key: 4486517\n",
      "Pulling from GBIF API with species key: 4498513\n",
      "Pulling from GBIF API with species key: 5744319\n"
     ]
    },
    {
     "name": "stderr",
     "output_type": "stream",
     "text": [
      " 67%|██████▋   | 820/1215 [24:05<12:14,  1.86s/it]"
     ]
    },
    {
     "name": "stdout",
     "output_type": "stream",
     "text": [
      "Pulling from GBIF API with species key: 8186956\n"
     ]
    },
    {
     "name": "stderr",
     "output_type": "stream",
     "text": [
      " 68%|██████▊   | 822/1215 [24:07<08:11,  1.25s/it]"
     ]
    },
    {
     "name": "stdout",
     "output_type": "stream",
     "text": [
      "Pulling from GBIF API with species key: 5077529\n",
      "Pulling from GBIF API with species key: 4490683\n",
      "Pulling from GBIF API with species key: 1573524\n",
      "Pulling from GBIF API with species key: 4490329\n",
      "Pulling from GBIF API with species key: 4490955\n",
      "Pulling from GBIF API with species key: 4491260\n",
      "Pulling from GBIF API with species key: 4492444\n",
      "Pulling from GBIF API with species key: 8026141\n"
     ]
    },
    {
     "name": "stderr",
     "output_type": "stream",
     "text": [
      " 68%|██████▊   | 823/1215 [24:10<11:29,  1.76s/it]"
     ]
    },
    {
     "name": "stdout",
     "output_type": "stream",
     "text": [
      "Pulling from GBIF API with species key: 9518602\n"
     ]
    },
    {
     "name": "stderr",
     "output_type": "stream",
     "text": [
      " 68%|██████▊   | 825/1215 [24:11<07:16,  1.12s/it]"
     ]
    },
    {
     "name": "stdout",
     "output_type": "stream",
     "text": [
      "Pulling from GBIF API with species key: 1306658\n",
      "Pulling from GBIF API with species key: 4426758\n",
      "Pulling from GBIF API with species key: 1676076\n",
      "Pulling from GBIF API with species key: 4447753\n",
      "Pulling from GBIF API with species key: 4470284\n"
     ]
    },
    {
     "name": "stderr",
     "output_type": "stream",
     "text": [
      " 68%|██████▊   | 826/1215 [24:13<09:21,  1.44s/it]"
     ]
    },
    {
     "name": "stdout",
     "output_type": "stream",
     "text": [
      "Pulling from GBIF API with species key: 4566007\n"
     ]
    },
    {
     "name": "stderr",
     "output_type": "stream",
     "text": [
      " 68%|██████▊   | 827/1215 [24:14<08:10,  1.27s/it]"
     ]
    },
    {
     "name": "stdout",
     "output_type": "stream",
     "text": [
      "Pulling from GBIF API with species key: 1251590\n"
     ]
    },
    {
     "name": "stderr",
     "output_type": "stream",
     "text": [
      " 68%|██████▊   | 828/1215 [24:14<07:10,  1.11s/it]"
     ]
    },
    {
     "name": "stdout",
     "output_type": "stream",
     "text": [
      "Pulling from GBIF API with species key: 4453391\n",
      "Pulling from GBIF API with species key: 1488143\n",
      "Pulling from GBIF API with species key: 1553454\n"
     ]
    },
    {
     "name": "stderr",
     "output_type": "stream",
     "text": [
      " 68%|██████▊   | 829/1215 [24:16<07:40,  1.19s/it]"
     ]
    },
    {
     "name": "stdout",
     "output_type": "stream",
     "text": [
      "Pulling from GBIF API with species key: 5089487\n"
     ]
    },
    {
     "name": "stderr",
     "output_type": "stream",
     "text": [
      " 68%|██████▊   | 831/1215 [24:17<05:52,  1.09it/s]"
     ]
    },
    {
     "name": "stdout",
     "output_type": "stream",
     "text": [
      "Pulling from GBIF API with species key: 8062861\n"
     ]
    },
    {
     "name": "stderr",
     "output_type": "stream",
     "text": [
      " 68%|██████▊   | 832/1215 [24:18<05:39,  1.13it/s]"
     ]
    },
    {
     "name": "stdout",
     "output_type": "stream",
     "text": [
      "Pulling from GBIF API with species key: 5135191\n"
     ]
    },
    {
     "name": "stderr",
     "output_type": "stream",
     "text": [
      " 69%|██████▊   | 833/1215 [24:19<05:29,  1.16it/s]"
     ]
    },
    {
     "name": "stdout",
     "output_type": "stream",
     "text": [
      "Pulling from GBIF API with species key: 1598825\n",
      "Pulling from GBIF API with species key: 5027492\n",
      "Pulling from GBIF API with species key: 12183256\n",
      "Pulling from GBIF API with species key: 1291599\n",
      "Pulling from GBIF API with species key: 5030095\n",
      "Pulling from GBIF API with species key: 1286992\n",
      "Pulling from GBIF API with species key: 1290999\n",
      "Pulling from GBIF API with species key: 1301898\n",
      "Pulling from GBIF API with species key: 1396797\n"
     ]
    },
    {
     "name": "stderr",
     "output_type": "stream",
     "text": [
      " 69%|██████▊   | 834/1215 [24:22<09:38,  1.52s/it]"
     ]
    },
    {
     "name": "stdout",
     "output_type": "stream",
     "text": [
      "Pulling from GBIF API with species key: 7685693\n"
     ]
    },
    {
     "name": "stderr",
     "output_type": "stream",
     "text": [
      " 69%|██████▉   | 836/1215 [24:23<06:21,  1.01s/it]"
     ]
    },
    {
     "name": "stdout",
     "output_type": "stream",
     "text": [
      "Pulling from GBIF API with species key: 1557713\n",
      "Pulling from GBIF API with species key: 1587695\n"
     ]
    },
    {
     "name": "stderr",
     "output_type": "stream",
     "text": [
      " 69%|██████▉   | 837/1215 [24:24<06:53,  1.09s/it]"
     ]
    },
    {
     "name": "stdout",
     "output_type": "stream",
     "text": [
      "Pulling from GBIF API with species key: 4512258\n"
     ]
    },
    {
     "name": "stderr",
     "output_type": "stream",
     "text": [
      " 69%|██████▉   | 840/1215 [24:26<04:41,  1.33it/s]"
     ]
    },
    {
     "name": "stdout",
     "output_type": "stream",
     "text": [
      "Pulling from GBIF API with species key: 1554456\n",
      "Pulling from GBIF API with species key: 1552349\n"
     ]
    },
    {
     "name": "stderr",
     "output_type": "stream",
     "text": [
      " 69%|██████▉   | 841/1215 [24:27<05:53,  1.06it/s]"
     ]
    },
    {
     "name": "stdout",
     "output_type": "stream",
     "text": [
      "Pulling from GBIF API with species key: 1128491\n",
      "Pulling from GBIF API with species key: 5772309\n"
     ]
    },
    {
     "name": "stderr",
     "output_type": "stream",
     "text": [
      " 69%|██████▉   | 842/1215 [24:28<06:10,  1.01it/s]"
     ]
    },
    {
     "name": "stdout",
     "output_type": "stream",
     "text": [
      "Pulling from GBIF API with species key: 5883983\n"
     ]
    },
    {
     "name": "stderr",
     "output_type": "stream",
     "text": [
      " 69%|██████▉   | 843/1215 [24:29<05:12,  1.19it/s]"
     ]
    },
    {
     "name": "stdout",
     "output_type": "stream",
     "text": [
      "Pulling from GBIF API with species key: 2008621\n"
     ]
    },
    {
     "name": "stderr",
     "output_type": "stream",
     "text": [
      " 69%|██████▉   | 844/1215 [24:30<05:39,  1.09it/s]"
     ]
    },
    {
     "name": "stdout",
     "output_type": "stream",
     "text": [
      "Pulling from GBIF API with species key: 5759259\n"
     ]
    },
    {
     "name": "stderr",
     "output_type": "stream",
     "text": [
      " 70%|██████▉   | 845/1215 [24:30<04:55,  1.25it/s]"
     ]
    },
    {
     "name": "stdout",
     "output_type": "stream",
     "text": [
      "Pulling from GBIF API with species key: 1380349\n"
     ]
    },
    {
     "name": "stderr",
     "output_type": "stream",
     "text": [
      " 70%|██████▉   | 846/1215 [24:31<05:19,  1.15it/s]"
     ]
    },
    {
     "name": "stdout",
     "output_type": "stream",
     "text": [
      "Pulling from GBIF API with species key: 8201503\n"
     ]
    },
    {
     "name": "stderr",
     "output_type": "stream",
     "text": [
      " 70%|██████▉   | 847/1215 [24:32<05:11,  1.18it/s]"
     ]
    },
    {
     "name": "stdout",
     "output_type": "stream",
     "text": [
      "Pulling from GBIF API with species key: 1551634\n",
      "Pulling from GBIF API with species key: 1878513\n",
      "Pulling from GBIF API with species key: 5120696\n",
      "Pulling from GBIF API with species key: 5148436\n",
      "Pulling from GBIF API with species key: 10896592\n",
      "Pulling from GBIF API with species key: 10057609\n",
      "Pulling from GBIF API with species key: 1456955\n",
      "Pulling from GBIF API with species key: 1522655\n",
      "Pulling from GBIF API with species key: 1617154\n",
      "Pulling from GBIF API with species key: 1646585\n",
      "Pulling from GBIF API with species key: 1732072\n",
      "Pulling from GBIF API with species key: 1840311\n",
      "Pulling from GBIF API with species key: 4544890\n",
      "Pulling from GBIF API with species key: 5067972\n",
      "Pulling from GBIF API with species key: 5068582\n",
      "Pulling from GBIF API with species key: 5085585\n",
      "Pulling from GBIF API with species key: 5117400\n"
     ]
    },
    {
     "name": "stderr",
     "output_type": "stream",
     "text": [
      " 70%|██████▉   | 848/1215 [24:37<13:14,  2.17s/it]"
     ]
    },
    {
     "name": "stdout",
     "output_type": "stream",
     "text": [
      "Pulling from GBIF API with species key: 9710182\n",
      "Pulling from GBIF API with species key: 2072752\n"
     ]
    },
    {
     "name": "stderr",
     "output_type": "stream",
     "text": [
      " 70%|██████▉   | 849/1215 [24:39<11:28,  1.88s/it]"
     ]
    },
    {
     "name": "stdout",
     "output_type": "stream",
     "text": [
      "Pulling from GBIF API with species key: 1029114\n"
     ]
    },
    {
     "name": "stderr",
     "output_type": "stream",
     "text": [
      " 70%|███████   | 851/1215 [24:40<07:46,  1.28s/it]"
     ]
    },
    {
     "name": "stdout",
     "output_type": "stream",
     "text": [
      "Pulling from GBIF API with species key: 4427746\n"
     ]
    },
    {
     "name": "stderr",
     "output_type": "stream",
     "text": [
      " 70%|███████   | 852/1215 [24:40<06:16,  1.04s/it]"
     ]
    },
    {
     "name": "stdout",
     "output_type": "stream",
     "text": [
      "Pulling from GBIF API with species key: 1505565\n"
     ]
    },
    {
     "name": "stderr",
     "output_type": "stream",
     "text": [
      " 70%|███████   | 853/1215 [24:41<06:19,  1.05s/it]"
     ]
    },
    {
     "name": "stdout",
     "output_type": "stream",
     "text": [
      "Pulling from GBIF API with species key: 5759364\n"
     ]
    },
    {
     "name": "stderr",
     "output_type": "stream",
     "text": [
      " 70%|███████   | 855/1215 [24:43<05:12,  1.15it/s]"
     ]
    },
    {
     "name": "stdout",
     "output_type": "stream",
     "text": [
      "Failed: Returned status code of 204, with message: <Response [204]>\n",
      "Error querying GBIF for image tile_51.316754232085934_-0.31912382225977964.jpg at coords ('51.316754232085934', '-0.31912382225977964'): 'NoneType' object has no attribute 'get'\n",
      "No GBIF data found for image: tile_51.316754232085934_-0.31912382225977964.jpg at coords: ('51.316754232085934', '-0.31912382225977964')\n"
     ]
    },
    {
     "name": "stderr",
     "output_type": "stream",
     "text": [
      " 70%|███████   | 856/1215 [24:43<04:34,  1.31it/s]"
     ]
    },
    {
     "name": "stdout",
     "output_type": "stream",
     "text": [
      "Pulling from GBIF API with species key: 4652175\n",
      "Pulling from GBIF API with species key: 10565421\n",
      "Pulling from GBIF API with species key: 2197732\n",
      "Pulling from GBIF API with species key: 2197768\n",
      "Pulling from GBIF API with species key: 2198026\n"
     ]
    },
    {
     "name": "stderr",
     "output_type": "stream",
     "text": [
      " 71%|███████   | 857/1215 [24:46<07:13,  1.21s/it]"
     ]
    },
    {
     "name": "stdout",
     "output_type": "stream",
     "text": [
      "Failed: Returned status code of 204, with message: <Response [204]>\n",
      "Error querying GBIF for image tile_51.66810558343728_0.09219514561954233.jpg at coords ('51.66810558343728', '0.09219514561954233'): 'NoneType' object has no attribute 'get'\n",
      "No GBIF data found for image: tile_51.66810558343728_0.09219514561954233.jpg at coords: ('51.66810558343728', '0.09219514561954233')\n"
     ]
    },
    {
     "name": "stderr",
     "output_type": "stream",
     "text": [
      " 71%|███████   | 858/1215 [24:46<06:03,  1.02s/it]"
     ]
    },
    {
     "name": "stdout",
     "output_type": "stream",
     "text": [
      "Pulling from GBIF API with species key: 9112041\n",
      "Pulling from GBIF API with species key: 8986107\n",
      "Pulling from GBIF API with species key: 9109538\n",
      "Pulling from GBIF API with species key: 9158332\n",
      "Pulling from GBIF API with species key: 1008248\n",
      "Pulling from GBIF API with species key: 8727534\n",
      "Pulling from GBIF API with species key: 8883637\n",
      "Pulling from GBIF API with species key: 8939240\n"
     ]
    },
    {
     "name": "stderr",
     "output_type": "stream",
     "text": [
      " 71%|███████   | 859/1215 [24:49<09:34,  1.61s/it]"
     ]
    },
    {
     "name": "stdout",
     "output_type": "stream",
     "text": [
      "Pulling from GBIF API with species key: 8947359\n",
      "Pulling from GBIF API with species key: 1961040\n",
      "Pulling from GBIF API with species key: 5147062\n",
      "Pulling from GBIF API with species key: 5152579\n",
      "Pulling from GBIF API with species key: 1380967\n",
      "Pulling from GBIF API with species key: 1881834\n",
      "Pulling from GBIF API with species key: 11083976\n",
      "Pulling from GBIF API with species key: 1553063\n",
      "Pulling from GBIF API with species key: 1554369\n",
      "Pulling from GBIF API with species key: 4469063\n",
      "Pulling from GBIF API with species key: 4501889\n",
      "Pulling from GBIF API with species key: 5874837\n"
     ]
    },
    {
     "name": "stderr",
     "output_type": "stream",
     "text": [
      " 71%|███████   | 860/1215 [24:53<13:38,  2.31s/it]"
     ]
    },
    {
     "name": "stdout",
     "output_type": "stream",
     "text": [
      "Pulling from GBIF API with species key: 7769543\n"
     ]
    },
    {
     "name": "stderr",
     "output_type": "stream",
     "text": [
      " 71%|███████   | 863/1215 [24:55<07:16,  1.24s/it]"
     ]
    },
    {
     "name": "stdout",
     "output_type": "stream",
     "text": [
      "Failed: Returned status code of 204, with message: <Response [204]>\n",
      "Error querying GBIF for image tile_51.64107855641026_-0.037695054763401445.jpg at coords ('51.64107855641026', '-0.037695054763401445'): 'NoneType' object has no attribute 'get'\n",
      "No GBIF data found for image: tile_51.64107855641026_-0.037695054763401445.jpg at coords: ('51.64107855641026', '-0.037695054763401445')\n"
     ]
    },
    {
     "name": "stderr",
     "output_type": "stream",
     "text": [
      " 71%|███████   | 864/1215 [24:55<05:55,  1.01s/it]"
     ]
    },
    {
     "name": "stdout",
     "output_type": "stream",
     "text": [
      "Pulling from GBIF API with species key: 1735827\n"
     ]
    },
    {
     "name": "stderr",
     "output_type": "stream",
     "text": [
      " 71%|███████   | 865/1215 [24:56<05:54,  1.01s/it]"
     ]
    },
    {
     "name": "stdout",
     "output_type": "stream",
     "text": [
      "Pulling from GBIF API with species key: 9123009\n"
     ]
    },
    {
     "name": "stderr",
     "output_type": "stream",
     "text": [
      " 71%|███████▏  | 867/1215 [24:58<04:55,  1.18it/s]"
     ]
    },
    {
     "name": "stdout",
     "output_type": "stream",
     "text": [
      "Pulling from GBIF API with species key: 6097428\n"
     ]
    },
    {
     "name": "stderr",
     "output_type": "stream",
     "text": [
      " 71%|███████▏  | 868/1215 [24:58<04:19,  1.34it/s]"
     ]
    },
    {
     "name": "stdout",
     "output_type": "stream",
     "text": [
      "Pulling from GBIF API with species key: 2060480\n"
     ]
    },
    {
     "name": "stderr",
     "output_type": "stream",
     "text": [
      " 72%|███████▏  | 869/1215 [24:59<04:54,  1.18it/s]"
     ]
    },
    {
     "name": "stdout",
     "output_type": "stream",
     "text": [
      "Failed: Returned status code of 204, with message: <Response [204]>\n",
      "Error querying GBIF for image tile_51.478916394248095_0.04889841215856107.jpg at coords ('51.478916394248095', '0.04889841215856107'): 'NoneType' object has no attribute 'get'\n",
      "No GBIF data found for image: tile_51.478916394248095_0.04889841215856107.jpg at coords: ('51.478916394248095', '0.04889841215856107')\n"
     ]
    },
    {
     "name": "stderr",
     "output_type": "stream",
     "text": [
      " 72%|███████▏  | 871/1215 [25:00<03:45,  1.52it/s]"
     ]
    },
    {
     "name": "stdout",
     "output_type": "stream",
     "text": [
      "Pulling from GBIF API with species key: 5748793\n",
      "Pulling from GBIF API with species key: 1829505\n",
      "Pulling from GBIF API with species key: 1838676\n",
      "Pulling from GBIF API with species key: 4426451\n",
      "Pulling from GBIF API with species key: 4496981\n",
      "Pulling from GBIF API with species key: 5120533\n"
     ]
    },
    {
     "name": "stderr",
     "output_type": "stream",
     "text": [
      " 72%|███████▏  | 872/1215 [25:03<06:49,  1.19s/it]"
     ]
    },
    {
     "name": "stdout",
     "output_type": "stream",
     "text": [
      "Pulling from GBIF API with species key: 7716051\n"
     ]
    },
    {
     "name": "stderr",
     "output_type": "stream",
     "text": [
      " 72%|███████▏  | 873/1215 [25:04<06:15,  1.10s/it]"
     ]
    },
    {
     "name": "stdout",
     "output_type": "stream",
     "text": [
      "Pulling from GBIF API with species key: 1590733\n"
     ]
    },
    {
     "name": "stderr",
     "output_type": "stream",
     "text": [
      " 72%|███████▏  | 876/1215 [25:05<04:02,  1.40it/s]"
     ]
    },
    {
     "name": "stdout",
     "output_type": "stream",
     "text": [
      "Pulling from GBIF API with species key: 1003106\n"
     ]
    },
    {
     "name": "stderr",
     "output_type": "stream",
     "text": [
      " 72%|███████▏  | 877/1215 [25:06<04:50,  1.16it/s]"
     ]
    },
    {
     "name": "stdout",
     "output_type": "stream",
     "text": [
      "Pulling from GBIF API with species key: 4984239\n"
     ]
    },
    {
     "name": "stderr",
     "output_type": "stream",
     "text": [
      " 72%|███████▏  | 878/1215 [25:07<04:51,  1.16it/s]"
     ]
    },
    {
     "name": "stdout",
     "output_type": "stream",
     "text": [
      "Pulling from GBIF API with species key: 1553131\n"
     ]
    },
    {
     "name": "stderr",
     "output_type": "stream",
     "text": [
      " 73%|███████▎  | 882/1215 [25:09<03:10,  1.75it/s]"
     ]
    },
    {
     "name": "stdout",
     "output_type": "stream",
     "text": [
      "Pulling from GBIF API with species key: 2219844\n"
     ]
    },
    {
     "name": "stderr",
     "output_type": "stream",
     "text": [
      " 73%|███████▎  | 883/1215 [25:10<04:00,  1.38it/s]"
     ]
    },
    {
     "name": "stdout",
     "output_type": "stream",
     "text": [
      "Pulling from GBIF API with species key: 2321271\n"
     ]
    },
    {
     "name": "stderr",
     "output_type": "stream",
     "text": [
      " 73%|███████▎  | 884/1215 [25:11<04:06,  1.34it/s]"
     ]
    },
    {
     "name": "stdout",
     "output_type": "stream",
     "text": [
      "Pulling from GBIF API with species key: 2286328\n"
     ]
    },
    {
     "name": "stderr",
     "output_type": "stream",
     "text": [
      " 73%|███████▎  | 885/1215 [25:12<03:40,  1.50it/s]"
     ]
    },
    {
     "name": "stdout",
     "output_type": "stream",
     "text": [
      "Pulling from GBIF API with species key: 4433574\n",
      "Pulling from GBIF API with species key: 1583712\n",
      "Pulling from GBIF API with species key: 1586354\n",
      "Pulling from GBIF API with species key: 4436099\n",
      "Pulling from GBIF API with species key: 5077764\n",
      "Pulling from GBIF API with species key: 6097400\n",
      "Pulling from GBIF API with species key: 6097730\n",
      "Pulling from GBIF API with species key: 1373326\n",
      "Pulling from GBIF API with species key: 1522840\n",
      "Pulling from GBIF API with species key: 1529816\n",
      "Pulling from GBIF API with species key: 1532179\n",
      "Pulling from GBIF API with species key: 1540212\n",
      "Pulling from GBIF API with species key: 1546443\n",
      "Pulling from GBIF API with species key: 1546740\n",
      "Pulling from GBIF API with species key: 1546809\n",
      "Pulling from GBIF API with species key: 1547427\n",
      "Pulling from GBIF API with species key: 1547989\n",
      "Pulling from GBIF API with species key: 1548369\n",
      "Pulling from GBIF API with species key: 1549607\n",
      "Pulling from GBIF API with species key: 1551764\n",
      "Pulling from GBIF API with species key: 1552322\n",
      "Pulling from GBIF API with species key: 1556629\n",
      "Pulling from GBIF API with species key: 1576054\n",
      "Pulling from GBIF API with species key: 1576139\n",
      "Pulling from GBIF API with species key: 1585906\n",
      "Pulling from GBIF API with species key: 1605418\n",
      "Pulling from GBIF API with species key: 1618130\n",
      "Pulling from GBIF API with species key: 1634915\n",
      "Pulling from GBIF API with species key: 1647675\n",
      "Pulling from GBIF API with species key: 1647736\n",
      "Pulling from GBIF API with species key: 1647761\n",
      "Pulling from GBIF API with species key: 1674494\n"
     ]
    },
    {
     "name": "stderr",
     "output_type": "stream",
     "text": [
      " 73%|███████▎  | 886/1215 [25:21<18:16,  3.33s/it]"
     ]
    },
    {
     "name": "stdout",
     "output_type": "stream",
     "text": [
      "Pulling from GBIF API with species key: 1676075\n"
     ]
    },
    {
     "name": "stderr",
     "output_type": "stream",
     "text": [
      " 73%|███████▎  | 887/1215 [25:22<14:05,  2.58s/it]"
     ]
    },
    {
     "name": "stdout",
     "output_type": "stream",
     "text": [
      "Pulling from GBIF API with species key: 6943460\n"
     ]
    },
    {
     "name": "stderr",
     "output_type": "stream",
     "text": [
      " 73%|███████▎  | 888/1215 [25:22<10:42,  1.96s/it]"
     ]
    },
    {
     "name": "stdout",
     "output_type": "stream",
     "text": [
      "Pulling from GBIF API with species key: 1922311\n",
      "Pulling from GBIF API with species key: 2440938\n",
      "Pulling from GBIF API with species key: 8073674\n",
      "Pulling from GBIF API with species key: 1326651\n",
      "Pulling from GBIF API with species key: 1861488\n",
      "Pulling from GBIF API with species key: 1862841\n",
      "Pulling from GBIF API with species key: 1894088\n",
      "Pulling from GBIF API with species key: 1911112\n",
      "Pulling from GBIF API with species key: 1926824\n",
      "Pulling from GBIF API with species key: 2432416\n",
      "Pulling from GBIF API with species key: 4526792\n"
     ]
    },
    {
     "name": "stderr",
     "output_type": "stream",
     "text": [
      " 73%|███████▎  | 889/1215 [25:26<13:50,  2.55s/it]"
     ]
    },
    {
     "name": "stdout",
     "output_type": "stream",
     "text": [
      "Pulling from GBIF API with species key: 5105176\n",
      "Pulling from GBIF API with species key: 1607205\n",
      "Pulling from GBIF API with species key: 4304639\n",
      "Pulling from GBIF API with species key: 4482785\n"
     ]
    },
    {
     "name": "stderr",
     "output_type": "stream",
     "text": [
      " 73%|███████▎  | 890/1215 [25:28<12:11,  2.25s/it]"
     ]
    },
    {
     "name": "stdout",
     "output_type": "stream",
     "text": [
      "Pulling from GBIF API with species key: 5984738\n",
      "Pulling from GBIF API with species key: 2284247\n",
      "Pulling from GBIF API with species key: 1640776\n",
      "Pulling from GBIF API with species key: 1435574\n",
      "Pulling from GBIF API with species key: 5055406\n",
      "Pulling from GBIF API with species key: 1003611\n"
     ]
    },
    {
     "name": "stderr",
     "output_type": "stream",
     "text": [
      " 73%|███████▎  | 891/1215 [25:30<12:22,  2.29s/it]"
     ]
    },
    {
     "name": "stdout",
     "output_type": "stream",
     "text": [
      "Failed: Returned status code of 204, with message: <Response [204]>\n",
      "Error querying GBIF for image tile_51.50594342127512_-0.1675852551463452.jpg at coords ('51.50594342127512', '-0.1675852551463452'): 'NoneType' object has no attribute 'get'\n",
      "No GBIF data found for image: tile_51.50594342127512_-0.1675852551463452.jpg at coords: ('51.50594342127512', '-0.1675852551463452')\n"
     ]
    },
    {
     "name": "stderr",
     "output_type": "stream",
     "text": [
      " 73%|███████▎  | 893/1215 [25:32<07:57,  1.48s/it]"
     ]
    },
    {
     "name": "stdout",
     "output_type": "stream",
     "text": [
      "Pulling from GBIF API with species key: 7982270\n",
      "Pulling from GBIF API with species key: 1474884\n"
     ]
    },
    {
     "name": "stderr",
     "output_type": "stream",
     "text": [
      " 74%|███████▎  | 894/1215 [25:33<07:28,  1.40s/it]"
     ]
    },
    {
     "name": "stdout",
     "output_type": "stream",
     "text": [
      "Pulling from GBIF API with species key: 1644628\n"
     ]
    },
    {
     "name": "stderr",
     "output_type": "stream",
     "text": [
      " 74%|███████▍  | 897/1215 [25:35<04:43,  1.12it/s]"
     ]
    },
    {
     "name": "stdout",
     "output_type": "stream",
     "text": [
      "Pulling from GBIF API with species key: 11118858\n"
     ]
    },
    {
     "name": "stderr",
     "output_type": "stream",
     "text": [
      " 74%|███████▍  | 898/1215 [25:35<04:39,  1.14it/s]"
     ]
    },
    {
     "name": "stdout",
     "output_type": "stream",
     "text": [
      "Pulling from GBIF API with species key: 4514051\n"
     ]
    },
    {
     "name": "stderr",
     "output_type": "stream",
     "text": [
      " 74%|███████▍  | 902/1215 [25:38<03:32,  1.48it/s]"
     ]
    },
    {
     "name": "stdout",
     "output_type": "stream",
     "text": [
      "Failed: Returned status code of 204, with message: <Response [204]>\n",
      "Error querying GBIF for image tile_51.3843217996535_-0.016046688032910816.jpg at coords ('51.3843217996535', '-0.016046688032910816'): 'NoneType' object has no attribute 'get'\n",
      "No GBIF data found for image: tile_51.3843217996535_-0.016046688032910816.jpg at coords: ('51.3843217996535', '-0.016046688032910816')\n"
     ]
    },
    {
     "name": "stderr",
     "output_type": "stream",
     "text": [
      " 74%|███████▍  | 903/1215 [25:39<03:58,  1.31it/s]"
     ]
    },
    {
     "name": "stdout",
     "output_type": "stream",
     "text": [
      "Pulling from GBIF API with species key: 1749762\n"
     ]
    },
    {
     "name": "stderr",
     "output_type": "stream",
     "text": [
      " 75%|███████▍  | 906/1215 [25:41<03:32,  1.45it/s]"
     ]
    },
    {
     "name": "stdout",
     "output_type": "stream",
     "text": [
      "Failed: Returned status code of 204, with message: <Response [204]>\n",
      "Error querying GBIF for image tile_51.41134882668052_0.027250045428070427.jpg at coords ('51.41134882668052', '0.027250045428070427'): 'NoneType' object has no attribute 'get'\n",
      "No GBIF data found for image: tile_51.41134882668052_0.027250045428070427.jpg at coords: ('51.41134882668052', '0.027250045428070427')\n"
     ]
    },
    {
     "name": "stderr",
     "output_type": "stream",
     "text": [
      " 75%|███████▍  | 908/1215 [25:42<03:05,  1.65it/s]"
     ]
    },
    {
     "name": "stdout",
     "output_type": "stream",
     "text": [
      "Pulling from GBIF API with species key: 5779438\n",
      "Pulling from GBIF API with species key: 1741765\n",
      "Pulling from GBIF API with species key: 1872315\n"
     ]
    },
    {
     "name": "stderr",
     "output_type": "stream",
     "text": [
      " 75%|███████▍  | 909/1215 [25:43<04:40,  1.09it/s]"
     ]
    },
    {
     "name": "stdout",
     "output_type": "stream",
     "text": [
      "Failed: Returned status code of 204, with message: <Response [204]>\n",
      "Error querying GBIF for image tile_51.357294772626474_-0.0809917882243827.jpg at coords ('51.357294772626474', '-0.0809917882243827'): 'NoneType' object has no attribute 'get'\n",
      "No GBIF data found for image: tile_51.357294772626474_-0.0809917882243827.jpg at coords: ('51.357294772626474', '-0.0809917882243827')\n"
     ]
    },
    {
     "name": "stderr",
     "output_type": "stream",
     "text": [
      " 75%|███████▍  | 911/1215 [25:44<03:37,  1.40it/s]"
     ]
    },
    {
     "name": "stdout",
     "output_type": "stream",
     "text": [
      "Pulling from GBIF API with species key: 5077180\n",
      "Pulling from GBIF API with species key: 5752364\n",
      "Pulling from GBIF API with species key: 6097089\n",
      "Pulling from GBIF API with species key: 8221301\n",
      "Pulling from GBIF API with species key: 1044592\n",
      "Pulling from GBIF API with species key: 1068373\n",
      "Pulling from GBIF API with species key: 10876010\n",
      "Pulling from GBIF API with species key: 10914330\n",
      "Pulling from GBIF API with species key: 10981392\n",
      "Pulling from GBIF API with species key: 11050373\n",
      "Pulling from GBIF API with species key: 11072269\n",
      "Pulling from GBIF API with species key: 11183364\n",
      "Pulling from GBIF API with species key: 11743113\n",
      "Pulling from GBIF API with species key: 1196030\n",
      "Pulling from GBIF API with species key: 12012355\n",
      "Pulling from GBIF API with species key: 12187759\n",
      "Pulling from GBIF API with species key: 12237444\n",
      "Pulling from GBIF API with species key: 12374785\n",
      "Pulling from GBIF API with species key: 1244357\n",
      "Pulling from GBIF API with species key: 1244431\n",
      "Pulling from GBIF API with species key: 1244483\n",
      "Pulling from GBIF API with species key: 1244512\n",
      "Pulling from GBIF API with species key: 1247903\n",
      "Pulling from GBIF API with species key: 1249663\n",
      "Pulling from GBIF API with species key: 1249687\n",
      "Pulling from GBIF API with species key: 1444529\n",
      "Pulling from GBIF API with species key: 1457096\n",
      "Pulling from GBIF API with species key: 1457359\n",
      "Pulling from GBIF API with species key: 1458098\n",
      "Pulling from GBIF API with species key: 1458104\n",
      "Pulling from GBIF API with species key: 1458118\n",
      "Pulling from GBIF API with species key: 1489320\n",
      "Pulling from GBIF API with species key: 1489442\n",
      "Pulling from GBIF API with species key: 1489491\n",
      "Pulling from GBIF API with species key: 1489593\n",
      "Pulling from GBIF API with species key: 1489839\n",
      "Pulling from GBIF API with species key: 1490217\n",
      "Pulling from GBIF API with species key: 1490350\n",
      "Pulling from GBIF API with species key: 1490555\n",
      "Pulling from GBIF API with species key: 1490696\n",
      "Pulling from GBIF API with species key: 1490745\n",
      "Pulling from GBIF API with species key: 1490901\n",
      "Pulling from GBIF API with species key: 1491161\n",
      "Pulling from GBIF API with species key: 1491465\n",
      "Pulling from GBIF API with species key: 1493710\n",
      "Pulling from GBIF API with species key: 1493713\n",
      "Pulling from GBIF API with species key: 1522497\n",
      "Pulling from GBIF API with species key: 1528193\n",
      "Pulling from GBIF API with species key: 1528532\n",
      "Pulling from GBIF API with species key: 1528992\n",
      "Pulling from GBIF API with species key: 1531939\n",
      "Pulling from GBIF API with species key: 1539931\n",
      "Pulling from GBIF API with species key: 1540167\n",
      "Pulling from GBIF API with species key: 1542226\n",
      "Pulling from GBIF API with species key: 1546757\n",
      "Pulling from GBIF API with species key: 1547156\n",
      "Pulling from GBIF API with species key: 1547204\n",
      "Pulling from GBIF API with species key: 1547368\n",
      "Pulling from GBIF API with species key: 1547725\n",
      "Pulling from GBIF API with species key: 1547970\n",
      "Pulling from GBIF API with species key: 1548594\n",
      "Pulling from GBIF API with species key: 1549596\n",
      "Pulling from GBIF API with species key: 1551394\n",
      "Pulling from GBIF API with species key: 1551482\n",
      "Pulling from GBIF API with species key: 1551553\n",
      "Pulling from GBIF API with species key: 1551562\n",
      "Pulling from GBIF API with species key: 1551841\n",
      "Pulling from GBIF API with species key: 1551901\n",
      "Pulling from GBIF API with species key: 1552424\n",
      "Pulling from GBIF API with species key: 1553965\n",
      "Pulling from GBIF API with species key: 1554816\n",
      "Pulling from GBIF API with species key: 1554886\n",
      "Pulling from GBIF API with species key: 1556877\n",
      "Pulling from GBIF API with species key: 1560094\n",
      "Pulling from GBIF API with species key: 1562180\n",
      "Pulling from GBIF API with species key: 1572864\n",
      "Pulling from GBIF API with species key: 1573105\n",
      "Pulling from GBIF API with species key: 1573393\n",
      "Pulling from GBIF API with species key: 1573446\n",
      "Pulling from GBIF API with species key: 1573506\n",
      "Pulling from GBIF API with species key: 1573555\n",
      "Pulling from GBIF API with species key: 1573915\n",
      "Pulling from GBIF API with species key: 1573917\n",
      "Pulling from GBIF API with species key: 1573944\n",
      "Pulling from GBIF API with species key: 1574857\n",
      "Pulling from GBIF API with species key: 1574908\n",
      "Pulling from GBIF API with species key: 1574915\n",
      "Pulling from GBIF API with species key: 1575245\n",
      "Pulling from GBIF API with species key: 1575261\n",
      "Pulling from GBIF API with species key: 1575273\n",
      "Pulling from GBIF API with species key: 1575444\n",
      "Pulling from GBIF API with species key: 1575656\n",
      "Pulling from GBIF API with species key: 1575962\n",
      "Pulling from GBIF API with species key: 1576020\n",
      "Pulling from GBIF API with species key: 1576105\n",
      "Pulling from GBIF API with species key: 1576290\n",
      "Pulling from GBIF API with species key: 1576358\n",
      "Pulling from GBIF API with species key: 1582902\n",
      "Pulling from GBIF API with species key: 1583437\n",
      "Pulling from GBIF API with species key: 1583633\n",
      "Pulling from GBIF API with species key: 1585040\n",
      "Pulling from GBIF API with species key: 1585048\n",
      "Pulling from GBIF API with species key: 1585050\n",
      "Pulling from GBIF API with species key: 1585380\n",
      "Pulling from GBIF API with species key: 1585709\n",
      "Pulling from GBIF API with species key: 1586510\n",
      "Pulling from GBIF API with species key: 1586660\n",
      "Pulling from GBIF API with species key: 1587916\n",
      "Pulling from GBIF API with species key: 1588056\n",
      "Pulling from GBIF API with species key: 1588092\n",
      "Pulling from GBIF API with species key: 1588220\n",
      "Pulling from GBIF API with species key: 1588349\n",
      "Pulling from GBIF API with species key: 1588485\n",
      "Pulling from GBIF API with species key: 1588514\n",
      "Pulling from GBIF API with species key: 1588900\n",
      "Pulling from GBIF API with species key: 1589278\n",
      "Pulling from GBIF API with species key: 1589683\n",
      "Pulling from GBIF API with species key: 1589696\n",
      "Pulling from GBIF API with species key: 1589744\n",
      "Pulling from GBIF API with species key: 1589770\n",
      "Pulling from GBIF API with species key: 1589774\n",
      "Pulling from GBIF API with species key: 1590867\n",
      "Pulling from GBIF API with species key: 1590964\n",
      "Pulling from GBIF API with species key: 1605045\n",
      "Pulling from GBIF API with species key: 1605259\n",
      "Pulling from GBIF API with species key: 1605569\n",
      "Pulling from GBIF API with species key: 1606044\n",
      "Pulling from GBIF API with species key: 1607679\n",
      "Pulling from GBIF API with species key: 1609707\n",
      "Pulling from GBIF API with species key: 1609725\n",
      "Pulling from GBIF API with species key: 1609740\n",
      "Pulling from GBIF API with species key: 1612930\n",
      "Pulling from GBIF API with species key: 1613120\n",
      "Pulling from GBIF API with species key: 1613247\n",
      "Pulling from GBIF API with species key: 1613258\n",
      "Pulling from GBIF API with species key: 1615464\n",
      "Pulling from GBIF API with species key: 1615482\n",
      "Pulling from GBIF API with species key: 1615774\n",
      "Pulling from GBIF API with species key: 1616026\n",
      "Pulling from GBIF API with species key: 1616195\n",
      "Pulling from GBIF API with species key: 1617546\n",
      "Pulling from GBIF API with species key: 1617615\n",
      "Pulling from GBIF API with species key: 1617688\n",
      "Pulling from GBIF API with species key: 1617791\n",
      "Pulling from GBIF API with species key: 1617873\n",
      "Pulling from GBIF API with species key: 1618487\n",
      "Pulling from GBIF API with species key: 1619062\n",
      "Pulling from GBIF API with species key: 1619369\n",
      "Pulling from GBIF API with species key: 1620022\n",
      "Pulling from GBIF API with species key: 1620070\n",
      "Pulling from GBIF API with species key: 1620159\n",
      "Pulling from GBIF API with species key: 1623324\n",
      "Pulling from GBIF API with species key: 1626315\n",
      "Pulling from GBIF API with species key: 1632581\n",
      "Pulling from GBIF API with species key: 1634741\n",
      "Pulling from GBIF API with species key: 1634757\n",
      "Pulling from GBIF API with species key: 1637492\n"
     ]
    },
    {
     "name": "stderr",
     "output_type": "stream",
     "text": [
      " 75%|███████▌  | 912/1215 [26:27<1:07:46, 13.42s/it]"
     ]
    },
    {
     "name": "stdout",
     "output_type": "stream",
     "text": [
      "Pulling from GBIF API with species key: 1638390\n",
      "Pulling from GBIF API with species key: 4456414\n",
      "Pulling from GBIF API with species key: 4472884\n",
      "Pulling from GBIF API with species key: 5070091\n"
     ]
    },
    {
     "name": "stderr",
     "output_type": "stream",
     "text": [
      " 75%|███████▌  | 913/1215 [26:29<49:48,  9.89s/it]  "
     ]
    },
    {
     "name": "stdout",
     "output_type": "stream",
     "text": [
      "Pulling from GBIF API with species key: 6958150\n",
      "Pulling from GBIF API with species key: 6097517\n",
      "Pulling from GBIF API with species key: 8044740\n"
     ]
    },
    {
     "name": "stderr",
     "output_type": "stream",
     "text": [
      " 75%|███████▌  | 914/1215 [26:30<36:49,  7.34s/it]"
     ]
    },
    {
     "name": "stdout",
     "output_type": "stream",
     "text": [
      "Pulling from GBIF API with species key: 8182573\n"
     ]
    },
    {
     "name": "stderr",
     "output_type": "stream",
     "text": [
      " 76%|███████▌  | 920/1215 [26:34<06:58,  1.42s/it]"
     ]
    },
    {
     "name": "stdout",
     "output_type": "stream",
     "text": [
      "Pulling from GBIF API with species key: 1594094\n"
     ]
    },
    {
     "name": "stderr",
     "output_type": "stream",
     "text": [
      " 76%|███████▌  | 922/1215 [26:35<05:05,  1.04s/it]"
     ]
    },
    {
     "name": "stdout",
     "output_type": "stream",
     "text": [
      "Pulling from GBIF API with species key: 5053612\n",
      "Pulling from GBIF API with species key: 1001820\n",
      "Pulling from GBIF API with species key: 4414967\n"
     ]
    },
    {
     "name": "stderr",
     "output_type": "stream",
     "text": [
      " 76%|███████▌  | 923/1215 [26:37<05:35,  1.15s/it]"
     ]
    },
    {
     "name": "stdout",
     "output_type": "stream",
     "text": [
      "Pulling from GBIF API with species key: 5145186\n"
     ]
    },
    {
     "name": "stderr",
     "output_type": "stream",
     "text": [
      " 76%|███████▌  | 924/1215 [26:37<04:33,  1.06it/s]"
     ]
    },
    {
     "name": "stdout",
     "output_type": "stream",
     "text": [
      "Pulling from GBIF API with species key: 1851220\n",
      "Pulling from GBIF API with species key: 1860408\n",
      "Pulling from GBIF API with species key: 4435609\n",
      "Pulling from GBIF API with species key: 4435716\n",
      "Pulling from GBIF API with species key: 4437296\n",
      "Pulling from GBIF API with species key: 4526050\n",
      "Pulling from GBIF API with species key: 4989869\n"
     ]
    },
    {
     "name": "stderr",
     "output_type": "stream",
     "text": [
      " 76%|███████▌  | 925/1215 [26:40<07:16,  1.51s/it]"
     ]
    },
    {
     "name": "stdout",
     "output_type": "stream",
     "text": [
      "Pulling from GBIF API with species key: 5130392\n",
      "Pulling from GBIF API with species key: 11562906\n"
     ]
    },
    {
     "name": "stderr",
     "output_type": "stream",
     "text": [
      " 76%|███████▌  | 926/1215 [26:41<06:38,  1.38s/it]"
     ]
    },
    {
     "name": "stdout",
     "output_type": "stream",
     "text": [
      "Pulling from GBIF API with species key: 4490449\n"
     ]
    },
    {
     "name": "stderr",
     "output_type": "stream",
     "text": [
      " 76%|███████▋  | 927/1215 [26:41<05:15,  1.09s/it]"
     ]
    },
    {
     "name": "stdout",
     "output_type": "stream",
     "text": [
      "Pulling from GBIF API with species key: 10752689\n",
      "Pulling from GBIF API with species key: 11087673\n",
      "Pulling from GBIF API with species key: 5002115\n",
      "Pulling from GBIF API with species key: 9187917\n"
     ]
    },
    {
     "name": "stderr",
     "output_type": "stream",
     "text": [
      " 76%|███████▋  | 928/1215 [26:43<06:23,  1.34s/it]"
     ]
    },
    {
     "name": "stdout",
     "output_type": "stream",
     "text": [
      "Pulling from GBIF API with species key: 9456184\n"
     ]
    },
    {
     "name": "stderr",
     "output_type": "stream",
     "text": [
      " 76%|███████▋  | 929/1215 [26:44<05:10,  1.09s/it]"
     ]
    },
    {
     "name": "stdout",
     "output_type": "stream",
     "text": [
      "Pulling from GBIF API with species key: 8799600\n",
      "Pulling from GBIF API with species key: 2054625\n",
      "Pulling from GBIF API with species key: 1456161\n",
      "Pulling from GBIF API with species key: 1674603\n",
      "Pulling from GBIF API with species key: 2043283\n"
     ]
    },
    {
     "name": "stderr",
     "output_type": "stream",
     "text": [
      " 77%|███████▋  | 930/1215 [26:46<06:50,  1.44s/it]"
     ]
    },
    {
     "name": "stdout",
     "output_type": "stream",
     "text": [
      "Pulling from GBIF API with species key: 4491772\n"
     ]
    },
    {
     "name": "stderr",
     "output_type": "stream",
     "text": [
      " 77%|███████▋  | 931/1215 [26:47<05:59,  1.27s/it]"
     ]
    },
    {
     "name": "stdout",
     "output_type": "stream",
     "text": [
      "Failed: Returned status code of 204, with message: <Response [204]>\n",
      "Error querying GBIF for image tile_51.397835313167015_-0.037695054763401445.jpg at coords ('51.397835313167015', '-0.037695054763401445'): 'NoneType' object has no attribute 'get'\n",
      "No GBIF data found for image: tile_51.397835313167015_-0.037695054763401445.jpg at coords: ('51.397835313167015', '-0.037695054763401445')\n"
     ]
    },
    {
     "name": "stderr",
     "output_type": "stream",
     "text": [
      " 77%|███████▋  | 932/1215 [26:48<05:17,  1.12s/it]"
     ]
    },
    {
     "name": "stdout",
     "output_type": "stream",
     "text": [
      "Pulling from GBIF API with species key: 4487359\n"
     ]
    },
    {
     "name": "stderr",
     "output_type": "stream",
     "text": [
      " 77%|███████▋  | 933/1215 [26:48<04:24,  1.07it/s]"
     ]
    },
    {
     "name": "stdout",
     "output_type": "stream",
     "text": [
      "Pulling from GBIF API with species key: 12105471\n",
      "Pulling from GBIF API with species key: 1457589\n",
      "Pulling from GBIF API with species key: 1528292\n",
      "Pulling from GBIF API with species key: 1549340\n",
      "Pulling from GBIF API with species key: 1563595\n",
      "Pulling from GBIF API with species key: 1604031\n",
      "Pulling from GBIF API with species key: 1615718\n",
      "Pulling from GBIF API with species key: 1620185\n",
      "Pulling from GBIF API with species key: 1675762\n",
      "Pulling from GBIF API with species key: 2027023\n",
      "Pulling from GBIF API with species key: 2133054\n",
      "Pulling from GBIF API with species key: 2135135\n",
      "Pulling from GBIF API with species key: 2135684\n",
      "Pulling from GBIF API with species key: 2155881\n",
      "Pulling from GBIF API with species key: 4514673\n",
      "Pulling from GBIF API with species key: 5094669\n",
      "Pulling from GBIF API with species key: 5152784\n"
     ]
    },
    {
     "name": "stderr",
     "output_type": "stream",
     "text": [
      " 77%|███████▋  | 934/1215 [26:54<10:55,  2.33s/it]"
     ]
    },
    {
     "name": "stdout",
     "output_type": "stream",
     "text": [
      "Pulling from GBIF API with species key: 8327349\n"
     ]
    },
    {
     "name": "stderr",
     "output_type": "stream",
     "text": [
      " 77%|███████▋  | 935/1215 [26:55<08:52,  1.90s/it]"
     ]
    },
    {
     "name": "stdout",
     "output_type": "stream",
     "text": [
      "Failed: Returned status code of 204, with message: <Response [204]>\n",
      "Error querying GBIF for image tile_51.600538015869716_-0.0809917882243827.jpg at coords ('51.600538015869716', '-0.0809917882243827'): 'NoneType' object has no attribute 'get'\n",
      "No GBIF data found for image: tile_51.600538015869716_-0.0809917882243827.jpg at coords: ('51.600538015869716', '-0.0809917882243827')\n",
      "Pulling from GBIF API with species key: 1478275\n"
     ]
    },
    {
     "name": "stderr",
     "output_type": "stream",
     "text": [
      " 77%|███████▋  | 936/1215 [26:56<07:39,  1.65s/it]"
     ]
    },
    {
     "name": "stdout",
     "output_type": "stream",
     "text": [
      "Pulling from GBIF API with species key: 1563695\n"
     ]
    },
    {
     "name": "stderr",
     "output_type": "stream",
     "text": [
      " 78%|███████▊  | 942/1215 [27:08<11:57,  2.63s/it]"
     ]
    },
    {
     "name": "stdout",
     "output_type": "stream",
     "text": [
      "Failed: Returned status code of 204, with message: <Response [204]>\n",
      "Error querying GBIF for image tile_51.695132610464306_0.1787886125415048.jpg at coords ('51.695132610464306', '0.1787886125415048'): 'NoneType' object has no attribute 'get'\n",
      "No GBIF data found for image: tile_51.695132610464306_0.1787886125415048.jpg at coords: ('51.695132610464306', '0.1787886125415048')\n",
      "Pulling from GBIF API with species key: 1787279\n",
      "Pulling from GBIF API with species key: 4518858\n"
     ]
    },
    {
     "name": "stderr",
     "output_type": "stream",
     "text": [
      " 78%|███████▊  | 943/1215 [27:09<10:13,  2.25s/it]"
     ]
    },
    {
     "name": "stdout",
     "output_type": "stream",
     "text": [
      "Failed: Returned status code of 204, with message: <Response [204]>\n",
      "Error querying GBIF for image tile_51.276213691545394_0.1571402458110142.jpg at coords ('51.276213691545394', '0.1571402458110142'): 'NoneType' object has no attribute 'get'\n",
      "No GBIF data found for image: tile_51.276213691545394_0.1571402458110142.jpg at coords: ('51.276213691545394', '0.1571402458110142')\n",
      "Pulling from GBIF API with species key: 2206912\n"
     ]
    },
    {
     "name": "stderr",
     "output_type": "stream",
     "text": [
      " 78%|███████▊  | 944/1215 [27:11<08:35,  1.90s/it]"
     ]
    },
    {
     "name": "stdout",
     "output_type": "stream",
     "text": [
      "Pulling from GBIF API with species key: 5197747\n"
     ]
    },
    {
     "name": "stderr",
     "output_type": "stream",
     "text": [
      " 78%|███████▊  | 945/1215 [27:11<07:00,  1.56s/it]"
     ]
    },
    {
     "name": "stdout",
     "output_type": "stream",
     "text": [
      "Pulling from GBIF API with species key: 4491475\n"
     ]
    },
    {
     "name": "stderr",
     "output_type": "stream",
     "text": [
      " 78%|███████▊  | 947/1215 [27:12<04:32,  1.02s/it]"
     ]
    },
    {
     "name": "stdout",
     "output_type": "stream",
     "text": [
      "Pulling from GBIF API with species key: 1397832\n"
     ]
    },
    {
     "name": "stderr",
     "output_type": "stream",
     "text": [
      " 78%|███████▊  | 948/1215 [27:13<04:37,  1.04s/it]"
     ]
    },
    {
     "name": "stdout",
     "output_type": "stream",
     "text": [
      "Pulling from GBIF API with species key: 1397837\n",
      "Pulling from GBIF API with species key: 9240890\n",
      "Pulling from GBIF API with species key: 9529472\n",
      "Pulling from GBIF API with species key: 9175141\n",
      "Pulling from GBIF API with species key: 11626706\n",
      "Pulling from GBIF API with species key: 11135545\n",
      "Pulling from GBIF API with species key: 4440073\n",
      "Pulling from GBIF API with species key: 4444023\n",
      "Pulling from GBIF API with species key: 5054678\n",
      "Pulling from GBIF API with species key: 5746297\n",
      "Pulling from GBIF API with species key: 5781288\n"
     ]
    },
    {
     "name": "stderr",
     "output_type": "stream",
     "text": [
      " 78%|███████▊  | 949/1215 [27:17<07:59,  1.80s/it]"
     ]
    },
    {
     "name": "stdout",
     "output_type": "stream",
     "text": [
      "Pulling from GBIF API with species key: 9415814\n"
     ]
    },
    {
     "name": "stderr",
     "output_type": "stream",
     "text": [
      " 78%|███████▊  | 950/1215 [27:18<06:36,  1.50s/it]"
     ]
    },
    {
     "name": "stdout",
     "output_type": "stream",
     "text": [
      "Pulling from GBIF API with species key: 1380956\n"
     ]
    },
    {
     "name": "stderr",
     "output_type": "stream",
     "text": [
      " 78%|███████▊  | 951/1215 [27:19<05:35,  1.27s/it]"
     ]
    },
    {
     "name": "stdout",
     "output_type": "stream",
     "text": [
      "Pulling from GBIF API with species key: 8485882\n"
     ]
    },
    {
     "name": "stderr",
     "output_type": "stream",
     "text": [
      " 79%|███████▊  | 955/1215 [27:21<03:22,  1.29it/s]"
     ]
    },
    {
     "name": "stdout",
     "output_type": "stream",
     "text": [
      "Pulling from GBIF API with species key: 1615907\n"
     ]
    },
    {
     "name": "stderr",
     "output_type": "stream",
     "text": [
      " 79%|███████▉  | 961/1215 [27:24<02:44,  1.54it/s]"
     ]
    },
    {
     "name": "stdout",
     "output_type": "stream",
     "text": [
      "Failed: Returned status code of 204, with message: <Response [204]>\n",
      "Error querying GBIF for image tile_51.357294772626474_-0.10264015495487333.jpg at coords ('51.357294772626474', '-0.10264015495487333'): 'NoneType' object has no attribute 'get'\n",
      "No GBIF data found for image: tile_51.357294772626474_-0.10264015495487333.jpg at coords: ('51.357294772626474', '-0.10264015495487333')\n"
     ]
    },
    {
     "name": "stderr",
     "output_type": "stream",
     "text": [
      " 80%|███████▉  | 966/1215 [27:27<02:19,  1.78it/s]"
     ]
    },
    {
     "name": "stdout",
     "output_type": "stream",
     "text": [
      "Pulling from GBIF API with species key: 4427753\n",
      "Pulling from GBIF API with species key: 4475908\n"
     ]
    },
    {
     "name": "stderr",
     "output_type": "stream",
     "text": [
      " 80%|███████▉  | 967/1215 [27:28<03:15,  1.27it/s]"
     ]
    },
    {
     "name": "stdout",
     "output_type": "stream",
     "text": [
      "Pulling from GBIF API with species key: 7866675\n"
     ]
    },
    {
     "name": "stderr",
     "output_type": "stream",
     "text": [
      " 80%|███████▉  | 968/1215 [27:29<03:23,  1.21it/s]"
     ]
    },
    {
     "name": "stdout",
     "output_type": "stream",
     "text": [
      "Pulling from GBIF API with species key: 4512280\n"
     ]
    },
    {
     "name": "stderr",
     "output_type": "stream",
     "text": [
      " 80%|███████▉  | 970/1215 [27:31<03:17,  1.24it/s]"
     ]
    },
    {
     "name": "stdout",
     "output_type": "stream",
     "text": [
      "Pulling from GBIF API with species key: 1391877\n"
     ]
    },
    {
     "name": "stderr",
     "output_type": "stream",
     "text": [
      " 80%|████████  | 973/1215 [27:36<06:13,  1.54s/it]"
     ]
    },
    {
     "name": "stdout",
     "output_type": "stream",
     "text": [
      "Pulling from GBIF API with species key: 5076443\n",
      "Pulling from GBIF API with species key: 1481622\n",
      "Pulling from GBIF API with species key: 1569863\n",
      "Pulling from GBIF API with species key: 5094291\n",
      "Pulling from GBIF API with species key: 6097350\n",
      "Pulling from GBIF API with species key: 11166535\n",
      "Pulling from GBIF API with species key: 12320331\n",
      "Pulling from GBIF API with species key: 1506462\n",
      "Pulling from GBIF API with species key: 1643441\n",
      "Pulling from GBIF API with species key: 2074419\n",
      "Pulling from GBIF API with species key: 4463109\n",
      "Pulling from GBIF API with species key: 4544520\n"
     ]
    },
    {
     "name": "stderr",
     "output_type": "stream",
     "text": [
      " 80%|████████  | 974/1215 [27:40<09:21,  2.33s/it]"
     ]
    },
    {
     "name": "stdout",
     "output_type": "stream",
     "text": [
      "Pulling from GBIF API with species key: 5180050\n"
     ]
    },
    {
     "name": "stderr",
     "output_type": "stream",
     "text": [
      " 80%|████████  | 975/1215 [27:41<08:17,  2.07s/it]"
     ]
    },
    {
     "name": "stdout",
     "output_type": "stream",
     "text": [
      "Pulling from GBIF API with species key: 5884888\n"
     ]
    },
    {
     "name": "stderr",
     "output_type": "stream",
     "text": [
      " 80%|████████  | 976/1215 [27:42<06:43,  1.69s/it]"
     ]
    },
    {
     "name": "stdout",
     "output_type": "stream",
     "text": [
      "Pulling from GBIF API with species key: 8730688\n"
     ]
    },
    {
     "name": "stderr",
     "output_type": "stream",
     "text": [
      " 80%|████████  | 977/1215 [27:43<05:19,  1.34s/it]"
     ]
    },
    {
     "name": "stdout",
     "output_type": "stream",
     "text": [
      "Pulling from GBIF API with species key: 1568846\n"
     ]
    },
    {
     "name": "stderr",
     "output_type": "stream",
     "text": [
      " 80%|████████  | 978/1215 [27:44<04:59,  1.26s/it]"
     ]
    },
    {
     "name": "stdout",
     "output_type": "stream",
     "text": [
      "Pulling from GBIF API with species key: 4444182\n"
     ]
    },
    {
     "name": "stderr",
     "output_type": "stream",
     "text": [
      " 81%|████████  | 980/1215 [27:45<03:31,  1.11it/s]"
     ]
    },
    {
     "name": "stdout",
     "output_type": "stream",
     "text": [
      "Pulling from GBIF API with species key: 2158090\n"
     ]
    },
    {
     "name": "stderr",
     "output_type": "stream",
     "text": [
      " 81%|████████  | 981/1215 [27:46<03:47,  1.03it/s]"
     ]
    },
    {
     "name": "stdout",
     "output_type": "stream",
     "text": [
      "Pulling from GBIF API with species key: 8729319\n"
     ]
    },
    {
     "name": "stderr",
     "output_type": "stream",
     "text": [
      " 81%|████████  | 983/1215 [27:47<02:56,  1.31it/s]"
     ]
    },
    {
     "name": "stdout",
     "output_type": "stream",
     "text": [
      "Pulling from GBIF API with species key: 4410232\n",
      "Pulling from GBIF API with species key: 11216543\n",
      "Pulling from GBIF API with species key: 1161902\n",
      "Pulling from GBIF API with species key: 1229634\n",
      "Pulling from GBIF API with species key: 4623984\n",
      "Pulling from GBIF API with species key: 4652091\n",
      "Pulling from GBIF API with species key: 4652098\n",
      "Pulling from GBIF API with species key: 4880877\n",
      "Pulling from GBIF API with species key: 8326982\n",
      "Pulling from GBIF API with species key: 8488567\n"
     ]
    },
    {
     "name": "stderr",
     "output_type": "stream",
     "text": [
      " 81%|████████  | 984/1215 [27:51<06:06,  1.59s/it]"
     ]
    },
    {
     "name": "stdout",
     "output_type": "stream",
     "text": [
      "Pulling from GBIF API with species key: 9481581\n"
     ]
    },
    {
     "name": "stderr",
     "output_type": "stream",
     "text": [
      " 81%|████████  | 985/1215 [27:51<05:03,  1.32s/it]"
     ]
    },
    {
     "name": "stdout",
     "output_type": "stream",
     "text": [
      "Pulling from GBIF API with species key: 8803095\n"
     ]
    },
    {
     "name": "stderr",
     "output_type": "stream",
     "text": [
      " 81%|████████  | 987/1215 [27:53<03:37,  1.05it/s]"
     ]
    },
    {
     "name": "stdout",
     "output_type": "stream",
     "text": [
      "Pulling from GBIF API with species key: 6097411\n",
      "Pulling from GBIF API with species key: 6097450\n",
      "Pulling from GBIF API with species key: 8102850\n",
      "Pulling from GBIF API with species key: 8697614\n"
     ]
    },
    {
     "name": "stderr",
     "output_type": "stream",
     "text": [
      " 81%|████████▏ | 988/1215 [27:55<04:43,  1.25s/it]"
     ]
    },
    {
     "name": "stdout",
     "output_type": "stream",
     "text": [
      "Pulling from GBIF API with species key: 9624156\n"
     ]
    },
    {
     "name": "stderr",
     "output_type": "stream",
     "text": [
      " 82%|████████▏ | 992/1215 [27:58<03:59,  1.07s/it]"
     ]
    },
    {
     "name": "stdout",
     "output_type": "stream",
     "text": [
      "Pulling from GBIF API with species key: 4308896\n"
     ]
    },
    {
     "name": "stderr",
     "output_type": "stream",
     "text": [
      " 82%|████████▏ | 995/1215 [28:00<02:58,  1.23it/s]"
     ]
    },
    {
     "name": "stdout",
     "output_type": "stream",
     "text": [
      "Pulling from GBIF API with species key: 1759620\n"
     ]
    },
    {
     "name": "stderr",
     "output_type": "stream",
     "text": [
      " 82%|████████▏ | 996/1215 [28:00<02:34,  1.42it/s]"
     ]
    },
    {
     "name": "stdout",
     "output_type": "stream",
     "text": [
      "Pulling from GBIF API with species key: 1178620\n",
      "Pulling from GBIF API with species key: 1605355\n",
      "Pulling from GBIF API with species key: 1746689\n",
      "Pulling from GBIF API with species key: 4472832\n"
     ]
    },
    {
     "name": "stderr",
     "output_type": "stream",
     "text": [
      " 82%|████████▏ | 997/1215 [28:02<03:52,  1.07s/it]"
     ]
    },
    {
     "name": "stdout",
     "output_type": "stream",
     "text": [
      "Pulling from GBIF API with species key: 4487212\n"
     ]
    },
    {
     "name": "stderr",
     "output_type": "stream",
     "text": [
      " 82%|████████▏ | 998/1215 [28:03<03:13,  1.12it/s]"
     ]
    },
    {
     "name": "stdout",
     "output_type": "stream",
     "text": [
      "Pulling from GBIF API with species key: 4485440\n",
      "Pulling from GBIF API with species key: 1477768\n",
      "Pulling from GBIF API with species key: 1846663\n",
      "Pulling from GBIF API with species key: 1849742\n",
      "Pulling from GBIF API with species key: 2119507\n",
      "Pulling from GBIF API with species key: 2137318\n",
      "Pulling from GBIF API with species key: 4486811\n",
      "Pulling from GBIF API with species key: 4550743\n",
      "Pulling from GBIF API with species key: 8706177\n"
     ]
    },
    {
     "name": "stderr",
     "output_type": "stream",
     "text": [
      " 82%|████████▏ | 999/1215 [28:06<05:48,  1.61s/it]"
     ]
    },
    {
     "name": "stdout",
     "output_type": "stream",
     "text": [
      "Pulling from GBIF API with species key: 9397160\n"
     ]
    },
    {
     "name": "stderr",
     "output_type": "stream",
     "text": [
      " 82%|████████▏ | 1000/1215 [28:07<04:58,  1.39s/it]"
     ]
    },
    {
     "name": "stdout",
     "output_type": "stream",
     "text": [
      "Failed: Returned status code of 204, with message: <Response [204]>\n",
      "Error querying GBIF for image tile_51.3843217996535_0.005601678697579812.jpg at coords ('51.3843217996535', '0.005601678697579812'): 'NoneType' object has no attribute 'get'\n",
      "No GBIF data found for image: tile_51.3843217996535_0.005601678697579812.jpg at coords: ('51.3843217996535', '0.005601678697579812')\n"
     ]
    },
    {
     "name": "stderr",
     "output_type": "stream",
     "text": [
      " 82%|████████▏ | 1001/1215 [28:07<03:58,  1.12s/it]"
     ]
    },
    {
     "name": "stdout",
     "output_type": "stream",
     "text": [
      "Pulling from GBIF API with species key: 10785343\n",
      "Pulling from GBIF API with species key: 4488445\n",
      "Pulling from GBIF API with species key: 4489192\n",
      "Pulling from GBIF API with species key: 5212437\n",
      "Pulling from GBIF API with species key: 5755687\n",
      "Pulling from GBIF API with species key: 5978562\n"
     ]
    },
    {
     "name": "stderr",
     "output_type": "stream",
     "text": [
      " 82%|████████▏ | 1002/1215 [28:10<05:27,  1.54s/it]"
     ]
    },
    {
     "name": "stdout",
     "output_type": "stream",
     "text": [
      "Pulling from GBIF API with species key: 7942480\n"
     ]
    },
    {
     "name": "stderr",
     "output_type": "stream",
     "text": [
      " 83%|████████▎ | 1003/1215 [28:11<04:27,  1.26s/it]"
     ]
    },
    {
     "name": "stdout",
     "output_type": "stream",
     "text": [
      "Pulling from GBIF API with species key: 2047629\n",
      "Pulling from GBIF API with species key: 2056864\n",
      "Pulling from GBIF API with species key: 2073320\n",
      "Pulling from GBIF API with species key: 4483973\n",
      "Pulling from GBIF API with species key: 4483994\n",
      "Pulling from GBIF API with species key: 4486552\n",
      "Pulling from GBIF API with species key: 4488693\n"
     ]
    },
    {
     "name": "stderr",
     "output_type": "stream",
     "text": [
      " 83%|████████▎ | 1004/1215 [28:13<06:07,  1.74s/it]"
     ]
    },
    {
     "name": "stdout",
     "output_type": "stream",
     "text": [
      "Pulling from GBIF API with species key: 8538673\n"
     ]
    },
    {
     "name": "stderr",
     "output_type": "stream",
     "text": [
      " 83%|████████▎ | 1005/1215 [28:14<05:05,  1.46s/it]"
     ]
    },
    {
     "name": "stdout",
     "output_type": "stream",
     "text": [
      "Pulling from GBIF API with species key: 8403618\n"
     ]
    },
    {
     "name": "stderr",
     "output_type": "stream",
     "text": [
      " 83%|████████▎ | 1007/1215 [28:15<03:38,  1.05s/it]"
     ]
    },
    {
     "name": "stdout",
     "output_type": "stream",
     "text": [
      "Pulling from GBIF API with species key: 5121613\n"
     ]
    },
    {
     "name": "stderr",
     "output_type": "stream",
     "text": [
      " 83%|████████▎ | 1008/1215 [28:16<03:03,  1.13it/s]"
     ]
    },
    {
     "name": "stdout",
     "output_type": "stream",
     "text": [
      "Pulling from GBIF API with species key: 1292146\n",
      "Pulling from GBIF API with species key: 1301747\n",
      "Pulling from GBIF API with species key: 1283375\n",
      "Pulling from GBIF API with species key: 1291558\n",
      "Pulling from GBIF API with species key: 4990235\n",
      "Pulling from GBIF API with species key: 1289287\n",
      "Pulling from GBIF API with species key: 12228740\n",
      "Pulling from GBIF API with species key: 1277762\n",
      "Pulling from GBIF API with species key: 1278845\n",
      "Pulling from GBIF API with species key: 1279388\n",
      "Pulling from GBIF API with species key: 1280658\n",
      "Pulling from GBIF API with species key: 1296871\n",
      "Pulling from GBIF API with species key: 1300114\n",
      "Pulling from GBIF API with species key: 1301879\n",
      "Pulling from GBIF API with species key: 1308838\n",
      "Pulling from GBIF API with species key: 2426760\n",
      "Pulling from GBIF API with species key: 2493392\n",
      "Pulling from GBIF API with species key: 4428304\n",
      "Pulling from GBIF API with species key: 4481156\n",
      "Pulling from GBIF API with species key: 4490615\n",
      "Pulling from GBIF API with species key: 5027503\n"
     ]
    },
    {
     "name": "stderr",
     "output_type": "stream",
     "text": [
      " 83%|████████▎ | 1009/1215 [28:23<09:03,  2.64s/it]"
     ]
    },
    {
     "name": "stdout",
     "output_type": "stream",
     "text": [
      "Pulling from GBIF API with species key: 5029760\n"
     ]
    },
    {
     "name": "stderr",
     "output_type": "stream",
     "text": [
      " 83%|████████▎ | 1012/1215 [28:24<04:11,  1.24s/it]"
     ]
    },
    {
     "name": "stdout",
     "output_type": "stream",
     "text": [
      "Pulling from GBIF API with species key: 8633536\n",
      "Pulling from GBIF API with species key: 8686628\n",
      "Pulling from GBIF API with species key: 8691377\n"
     ]
    },
    {
     "name": "stderr",
     "output_type": "stream",
     "text": [
      " 83%|████████▎ | 1013/1215 [28:26<04:31,  1.34s/it]"
     ]
    },
    {
     "name": "stdout",
     "output_type": "stream",
     "text": [
      "Failed: Returned status code of 204, with message: <Response [204]>\n",
      "Error querying GBIF for image tile_51.62756504289674_-0.47066238937321403.jpg at coords ('51.62756504289674', '-0.47066238937321403'): 'NoneType' object has no attribute 'get'\n",
      "No GBIF data found for image: tile_51.62756504289674_-0.47066238937321403.jpg at coords: ('51.62756504289674', '-0.47066238937321403')\n"
     ]
    },
    {
     "name": "stderr",
     "output_type": "stream",
     "text": [
      " 83%|████████▎ | 1014/1215 [28:27<04:04,  1.21s/it]"
     ]
    },
    {
     "name": "stdout",
     "output_type": "stream",
     "text": [
      "Failed: Returned status code of 204, with message: <Response [204]>\n",
      "Error querying GBIF for image tile_51.2897272050589_-0.31912382225977964.jpg at coords ('51.2897272050589', '-0.31912382225977964'): 'NoneType' object has no attribute 'get'\n",
      "No GBIF data found for image: tile_51.2897272050589_-0.31912382225977964.jpg at coords: ('51.2897272050589', '-0.31912382225977964')\n"
     ]
    },
    {
     "name": "stderr",
     "output_type": "stream",
     "text": [
      " 84%|████████▎ | 1015/1215 [28:27<03:36,  1.08s/it]"
     ]
    },
    {
     "name": "stdout",
     "output_type": "stream",
     "text": [
      "Pulling from GBIF API with species key: 11093918\n"
     ]
    },
    {
     "name": "stderr",
     "output_type": "stream",
     "text": [
      " 84%|████████▎ | 1016/1215 [28:28<03:20,  1.01s/it]"
     ]
    },
    {
     "name": "stdout",
     "output_type": "stream",
     "text": [
      "Failed: Returned status code of 204, with message: <Response [204]>\n",
      "Error querying GBIF for image tile_51.33026774559944_-0.05934342149389207.jpg at coords ('51.33026774559944', '-0.05934342149389207'): 'NoneType' object has no attribute 'get'\n",
      "No GBIF data found for image: tile_51.33026774559944_-0.05934342149389207.jpg at coords: ('51.33026774559944', '-0.05934342149389207')\n"
     ]
    },
    {
     "name": "stderr",
     "output_type": "stream",
     "text": [
      " 84%|████████▎ | 1017/1215 [28:29<03:03,  1.08it/s]"
     ]
    },
    {
     "name": "stdout",
     "output_type": "stream",
     "text": [
      "Pulling from GBIF API with species key: 7557614\n"
     ]
    },
    {
     "name": "stderr",
     "output_type": "stream",
     "text": [
      " 84%|████████▍ | 1022/1215 [28:32<01:57,  1.65it/s]"
     ]
    },
    {
     "name": "stdout",
     "output_type": "stream",
     "text": [
      "Pulling from GBIF API with species key: 1451753\n",
      "Pulling from GBIF API with species key: 2171934\n"
     ]
    },
    {
     "name": "stderr",
     "output_type": "stream",
     "text": [
      " 84%|████████▍ | 1023/1215 [28:33<02:36,  1.22it/s]"
     ]
    },
    {
     "name": "stdout",
     "output_type": "stream",
     "text": [
      "Pulling from GBIF API with species key: 9490042\n"
     ]
    },
    {
     "name": "stderr",
     "output_type": "stream",
     "text": [
      " 84%|████████▍ | 1025/1215 [28:34<02:24,  1.32it/s]"
     ]
    },
    {
     "name": "stdout",
     "output_type": "stream",
     "text": [
      "Pulling from GBIF API with species key: 1685298\n"
     ]
    },
    {
     "name": "stderr",
     "output_type": "stream",
     "text": [
      " 85%|████████▍ | 1029/1215 [28:37<01:58,  1.57it/s]"
     ]
    },
    {
     "name": "stdout",
     "output_type": "stream",
     "text": [
      "Failed: Returned status code of 204, with message: <Response [204]>\n",
      "Error querying GBIF for image tile_51.735673151004846_-0.037695054763401445.jpg at coords ('51.735673151004846', '-0.037695054763401445'): 'NoneType' object has no attribute 'get'\n",
      "No GBIF data found for image: tile_51.735673151004846_-0.037695054763401445.jpg at coords: ('51.735673151004846', '-0.037695054763401445')\n"
     ]
    },
    {
     "name": "stderr",
     "output_type": "stream",
     "text": [
      " 85%|████████▍ | 1031/1215 [28:38<02:05,  1.46it/s]"
     ]
    },
    {
     "name": "stdout",
     "output_type": "stream",
     "text": [
      "Pulling from GBIF API with species key: 4412772\n"
     ]
    },
    {
     "name": "stderr",
     "output_type": "stream",
     "text": [
      " 85%|████████▍ | 1032/1215 [28:39<02:15,  1.35it/s]"
     ]
    },
    {
     "name": "stdout",
     "output_type": "stream",
     "text": [
      "Pulling from GBIF API with species key: 1592474\n"
     ]
    },
    {
     "name": "stderr",
     "output_type": "stream",
     "text": [
      " 85%|████████▌ | 1033/1215 [28:40<02:14,  1.35it/s]"
     ]
    },
    {
     "name": "stdout",
     "output_type": "stream",
     "text": [
      "Pulling from GBIF API with species key: 5121032\n"
     ]
    },
    {
     "name": "stderr",
     "output_type": "stream",
     "text": [
      " 85%|████████▌ | 1034/1215 [28:40<02:15,  1.34it/s]"
     ]
    },
    {
     "name": "stdout",
     "output_type": "stream",
     "text": [
      "Pulling from GBIF API with species key: 5716171\n"
     ]
    },
    {
     "name": "stderr",
     "output_type": "stream",
     "text": [
      " 85%|████████▌ | 1035/1215 [28:41<02:11,  1.37it/s]"
     ]
    },
    {
     "name": "stdout",
     "output_type": "stream",
     "text": [
      "Pulling from GBIF API with species key: 6097535\n",
      "Pulling from GBIF API with species key: 4437950\n",
      "Pulling from GBIF API with species key: 4438831\n"
     ]
    },
    {
     "name": "stderr",
     "output_type": "stream",
     "text": [
      " 85%|████████▌ | 1036/1215 [28:43<02:57,  1.01it/s]"
     ]
    },
    {
     "name": "stdout",
     "output_type": "stream",
     "text": [
      "Pulling from GBIF API with species key: 5069728\n"
     ]
    },
    {
     "name": "stderr",
     "output_type": "stream",
     "text": [
      " 86%|████████▌ | 1041/1215 [28:46<01:58,  1.47it/s]"
     ]
    },
    {
     "name": "stdout",
     "output_type": "stream",
     "text": [
      "Pulling from GBIF API with species key: 1551169\n",
      "Pulling from GBIF API with species key: 2159207\n"
     ]
    },
    {
     "name": "stderr",
     "output_type": "stream",
     "text": [
      " 86%|████████▌ | 1042/1215 [28:47<02:23,  1.21it/s]"
     ]
    },
    {
     "name": "stdout",
     "output_type": "stream",
     "text": [
      "Pulling from GBIF API with species key: 9288935\n"
     ]
    },
    {
     "name": "stderr",
     "output_type": "stream",
     "text": [
      " 86%|████████▌ | 1043/1215 [28:47<02:18,  1.25it/s]"
     ]
    },
    {
     "name": "stdout",
     "output_type": "stream",
     "text": [
      "Pulling from GBIF API with species key: 1264829\n"
     ]
    },
    {
     "name": "stderr",
     "output_type": "stream",
     "text": [
      " 86%|████████▌ | 1045/1215 [28:49<02:13,  1.27it/s]"
     ]
    },
    {
     "name": "stdout",
     "output_type": "stream",
     "text": [
      "Pulling from GBIF API with species key: 11923767\n"
     ]
    },
    {
     "name": "stderr",
     "output_type": "stream",
     "text": [
      " 87%|████████▋ | 1057/1215 [28:55<01:24,  1.87it/s]"
     ]
    },
    {
     "name": "stdout",
     "output_type": "stream",
     "text": [
      "Pulling from GBIF API with species key: 1493788\n",
      "Pulling from GBIF API with species key: 1490266\n"
     ]
    },
    {
     "name": "stderr",
     "output_type": "stream",
     "text": [
      " 87%|████████▋ | 1058/1215 [28:57<02:01,  1.29it/s]"
     ]
    },
    {
     "name": "stdout",
     "output_type": "stream",
     "text": [
      "Pulling from GBIF API with species key: 1490712\n"
     ]
    },
    {
     "name": "stderr",
     "output_type": "stream",
     "text": [
      " 87%|████████▋ | 1060/1215 [28:58<01:52,  1.38it/s]"
     ]
    },
    {
     "name": "stdout",
     "output_type": "stream",
     "text": [
      "Pulling from GBIF API with species key: 4488810\n"
     ]
    },
    {
     "name": "stderr",
     "output_type": "stream",
     "text": [
      " 87%|████████▋ | 1062/1215 [28:59<01:49,  1.40it/s]"
     ]
    },
    {
     "name": "stdout",
     "output_type": "stream",
     "text": [
      "Pulling from GBIF API with species key: 9776685\n"
     ]
    },
    {
     "name": "stderr",
     "output_type": "stream",
     "text": [
      " 88%|████████▊ | 1073/1215 [29:05<01:13,  1.92it/s]"
     ]
    },
    {
     "name": "stdout",
     "output_type": "stream",
     "text": [
      "Pulling from GBIF API with species key: 2078259\n"
     ]
    },
    {
     "name": "stderr",
     "output_type": "stream",
     "text": [
      " 88%|████████▊ | 1074/1215 [29:06<01:36,  1.47it/s]"
     ]
    },
    {
     "name": "stdout",
     "output_type": "stream",
     "text": [
      "Pulling from GBIF API with species key: 4485895\n"
     ]
    },
    {
     "name": "stderr",
     "output_type": "stream",
     "text": [
      " 88%|████████▊ | 1075/1215 [29:07<01:45,  1.32it/s]"
     ]
    },
    {
     "name": "stdout",
     "output_type": "stream",
     "text": [
      "Pulling from GBIF API with species key: 1309534\n"
     ]
    },
    {
     "name": "stderr",
     "output_type": "stream",
     "text": [
      " 89%|████████▊ | 1076/1215 [29:08<01:46,  1.31it/s]"
     ]
    },
    {
     "name": "stdout",
     "output_type": "stream",
     "text": [
      "Failed: Returned status code of 204, with message: <Response [204]>\n",
      "Error querying GBIF for image tile_51.41134882668052_0.13549187908052357.jpg at coords ('51.41134882668052', '0.13549187908052357'): 'NoneType' object has no attribute 'get'\n",
      "No GBIF data found for image: tile_51.41134882668052_0.13549187908052357.jpg at coords: ('51.41134882668052', '0.13549187908052357')\n"
     ]
    },
    {
     "name": "stderr",
     "output_type": "stream",
     "text": [
      " 89%|████████▊ | 1077/1215 [29:08<01:34,  1.47it/s]"
     ]
    },
    {
     "name": "stdout",
     "output_type": "stream",
     "text": [
      "Pulling from GBIF API with species key: 1349884\n"
     ]
    },
    {
     "name": "stderr",
     "output_type": "stream",
     "text": [
      " 89%|████████▊ | 1078/1215 [29:09<01:52,  1.22it/s]"
     ]
    },
    {
     "name": "stdout",
     "output_type": "stream",
     "text": [
      "Pulling from GBIF API with species key: 2047551\n"
     ]
    },
    {
     "name": "stderr",
     "output_type": "stream",
     "text": [
      " 89%|████████▉ | 1080/1215 [29:11<01:39,  1.35it/s]"
     ]
    },
    {
     "name": "stdout",
     "output_type": "stream",
     "text": [
      "Pulling from GBIF API with species key: 4547732\n",
      "Pulling from GBIF API with species key: 5018723\n",
      "Pulling from GBIF API with species key: 10807013\n"
     ]
    },
    {
     "name": "stderr",
     "output_type": "stream",
     "text": [
      " 89%|████████▉ | 1081/1215 [29:12<02:03,  1.08it/s]"
     ]
    },
    {
     "name": "stdout",
     "output_type": "stream",
     "text": [
      "Pulling from GBIF API with species key: 1656464\n",
      "Pulling from GBIF API with species key: 1442562\n",
      "Pulling from GBIF API with species key: 2121349\n"
     ]
    },
    {
     "name": "stderr",
     "output_type": "stream",
     "text": [
      " 89%|████████▉ | 1082/1215 [29:13<02:22,  1.07s/it]"
     ]
    },
    {
     "name": "stdout",
     "output_type": "stream",
     "text": [
      "Pulling from GBIF API with species key: 5073713\n"
     ]
    },
    {
     "name": "stderr",
     "output_type": "stream",
     "text": [
      " 89%|████████▉ | 1084/1215 [29:15<01:58,  1.11it/s]"
     ]
    },
    {
     "name": "stdout",
     "output_type": "stream",
     "text": [
      "Pulling from GBIF API with species key: 2000335\n",
      "Pulling from GBIF API with species key: 1440933\n",
      "Pulling from GBIF API with species key: 1441765\n",
      "Pulling from GBIF API with species key: 1446479\n",
      "Pulling from GBIF API with species key: 1864161\n",
      "Pulling from GBIF API with species key: 2120734\n",
      "Pulling from GBIF API with species key: 2120917\n",
      "Pulling from GBIF API with species key: 4307914\n",
      "Pulling from GBIF API with species key: 4470300\n"
     ]
    },
    {
     "name": "stderr",
     "output_type": "stream",
     "text": [
      " 89%|████████▉ | 1085/1215 [29:18<03:23,  1.57s/it]"
     ]
    },
    {
     "name": "stdout",
     "output_type": "stream",
     "text": [
      "Pulling from GBIF API with species key: 5054391\n"
     ]
    },
    {
     "name": "stderr",
     "output_type": "stream",
     "text": [
      " 89%|████████▉ | 1086/1215 [29:18<02:41,  1.25s/it]"
     ]
    },
    {
     "name": "stdout",
     "output_type": "stream",
     "text": [
      "Pulling from GBIF API with species key: 1482476\n",
      "Pulling from GBIF API with species key: 1490558\n",
      "Pulling from GBIF API with species key: 1545022\n",
      "Pulling from GBIF API with species key: 1570238\n",
      "Pulling from GBIF API with species key: 1603402\n",
      "Pulling from GBIF API with species key: 1603407\n",
      "Pulling from GBIF API with species key: 1603700\n",
      "Pulling from GBIF API with species key: 1618808\n",
      "Pulling from GBIF API with species key: 4456771\n",
      "Pulling from GBIF API with species key: 4505598\n",
      "Pulling from GBIF API with species key: 4505799\n",
      "Pulling from GBIF API with species key: 4517877\n",
      "Pulling from GBIF API with species key: 5068137\n"
     ]
    },
    {
     "name": "stderr",
     "output_type": "stream",
     "text": [
      " 89%|████████▉ | 1087/1215 [29:23<04:43,  2.22s/it]"
     ]
    },
    {
     "name": "stdout",
     "output_type": "stream",
     "text": [
      "Pulling from GBIF API with species key: 9711771\n"
     ]
    },
    {
     "name": "stderr",
     "output_type": "stream",
     "text": [
      " 90%|████████▉ | 1089/1215 [29:24<02:50,  1.35s/it]"
     ]
    },
    {
     "name": "stdout",
     "output_type": "stream",
     "text": [
      "Pulling from GBIF API with species key: 1307563\n",
      "Pulling from GBIF API with species key: 5053130\n"
     ]
    },
    {
     "name": "stderr",
     "output_type": "stream",
     "text": [
      " 90%|████████▉ | 1090/1215 [29:25<02:53,  1.39s/it]"
     ]
    },
    {
     "name": "stdout",
     "output_type": "stream",
     "text": [
      "Pulling from GBIF API with species key: 9782998\n"
     ]
    },
    {
     "name": "stderr",
     "output_type": "stream",
     "text": [
      " 90%|████████▉ | 1091/1215 [29:26<02:27,  1.19s/it]"
     ]
    },
    {
     "name": "stdout",
     "output_type": "stream",
     "text": [
      "Failed: Returned status code of 204, with message: <Response [204]>\n",
      "Error querying GBIF for image tile_51.478916394248095_0.07054677888905171.jpg at coords ('51.478916394248095', '0.07054677888905171'): 'NoneType' object has no attribute 'get'\n",
      "No GBIF data found for image: tile_51.478916394248095_0.07054677888905171.jpg at coords: ('51.478916394248095', '0.07054677888905171')\n"
     ]
    },
    {
     "name": "stderr",
     "output_type": "stream",
     "text": [
      " 90%|█████████ | 1097/1215 [29:30<01:28,  1.34it/s]"
     ]
    },
    {
     "name": "stdout",
     "output_type": "stream",
     "text": [
      "Pulling from GBIF API with species key: 1803078\n"
     ]
    },
    {
     "name": "stderr",
     "output_type": "stream",
     "text": [
      " 91%|█████████ | 1101/1215 [29:32<01:02,  1.83it/s]"
     ]
    },
    {
     "name": "stdout",
     "output_type": "stream",
     "text": [
      "Pulling from GBIF API with species key: 4537119\n",
      "Pulling from GBIF API with species key: 5978451\n"
     ]
    },
    {
     "name": "stderr",
     "output_type": "stream",
     "text": [
      " 91%|█████████ | 1102/1215 [29:33<01:31,  1.24it/s]"
     ]
    },
    {
     "name": "stdout",
     "output_type": "stream",
     "text": [
      "Pulling from GBIF API with species key: 6097497\n"
     ]
    },
    {
     "name": "stderr",
     "output_type": "stream",
     "text": [
      " 91%|█████████ | 1103/1215 [29:34<01:30,  1.24it/s]"
     ]
    },
    {
     "name": "stdout",
     "output_type": "stream",
     "text": [
      "Pulling from GBIF API with species key: 1395238\n"
     ]
    },
    {
     "name": "stderr",
     "output_type": "stream",
     "text": [
      " 91%|█████████ | 1104/1215 [29:35<01:29,  1.24it/s]"
     ]
    },
    {
     "name": "stdout",
     "output_type": "stream",
     "text": [
      "Pulling from GBIF API with species key: 4464510\n"
     ]
    },
    {
     "name": "stderr",
     "output_type": "stream",
     "text": [
      " 91%|█████████ | 1106/1215 [29:36<01:15,  1.44it/s]"
     ]
    },
    {
     "name": "stdout",
     "output_type": "stream",
     "text": [
      "Pulling from GBIF API with species key: 10803487\n"
     ]
    },
    {
     "name": "stderr",
     "output_type": "stream",
     "text": [
      " 91%|█████████ | 1107/1215 [29:37<01:29,  1.21it/s]"
     ]
    },
    {
     "name": "stdout",
     "output_type": "stream",
     "text": [
      "Pulling from GBIF API with species key: 1351540\n"
     ]
    },
    {
     "name": "stderr",
     "output_type": "stream",
     "text": [
      " 91%|█████████ | 1108/1215 [29:39<02:04,  1.16s/it]"
     ]
    },
    {
     "name": "stdout",
     "output_type": "stream",
     "text": [
      "Pulling from GBIF API with species key: 4484527\n",
      "Pulling from GBIF API with species key: 1587301\n",
      "Pulling from GBIF API with species key: 10764017\n",
      "Pulling from GBIF API with species key: 1587209\n",
      "Pulling from GBIF API with species key: 6097074\n",
      "Pulling from GBIF API with species key: 6097094\n"
     ]
    },
    {
     "name": "stderr",
     "output_type": "stream",
     "text": [
      " 91%|█████████▏| 1109/1215 [29:41<02:39,  1.51s/it]"
     ]
    },
    {
     "name": "stdout",
     "output_type": "stream",
     "text": [
      "Pulling from GBIF API with species key: 8205517\n"
     ]
    },
    {
     "name": "stderr",
     "output_type": "stream",
     "text": [
      " 92%|█████████▏| 1115/1215 [29:45<01:14,  1.33it/s]"
     ]
    },
    {
     "name": "stdout",
     "output_type": "stream",
     "text": [
      "Pulling from GBIF API with species key: 9624079\n"
     ]
    },
    {
     "name": "stderr",
     "output_type": "stream",
     "text": [
      " 92%|█████████▏| 1117/1215 [29:46<01:03,  1.54it/s]"
     ]
    },
    {
     "name": "stdout",
     "output_type": "stream",
     "text": [
      "Pulling from GBIF API with species key: 4491152\n"
     ]
    },
    {
     "name": "stderr",
     "output_type": "stream",
     "text": [
      " 92%|█████████▏| 1118/1215 [29:47<01:19,  1.22it/s]"
     ]
    },
    {
     "name": "stdout",
     "output_type": "stream",
     "text": [
      "Pulling from GBIF API with species key: 5746394\n"
     ]
    },
    {
     "name": "stderr",
     "output_type": "stream",
     "text": [
      " 92%|█████████▏| 1120/1215 [29:49<01:10,  1.35it/s]"
     ]
    },
    {
     "name": "stdout",
     "output_type": "stream",
     "text": [
      "Pulling from GBIF API with species key: 4400379\n"
     ]
    },
    {
     "name": "stderr",
     "output_type": "stream",
     "text": [
      " 92%|█████████▏| 1123/1215 [29:50<01:01,  1.49it/s]"
     ]
    },
    {
     "name": "stdout",
     "output_type": "stream",
     "text": [
      "Pulling from GBIF API with species key: 1720967\n"
     ]
    },
    {
     "name": "stderr",
     "output_type": "stream",
     "text": [
      " 93%|█████████▎| 1125/1215 [29:52<01:02,  1.44it/s]"
     ]
    },
    {
     "name": "stdout",
     "output_type": "stream",
     "text": [
      "Pulling from GBIF API with species key: 10895743\n"
     ]
    },
    {
     "name": "stderr",
     "output_type": "stream",
     "text": [
      " 93%|█████████▎| 1128/1215 [29:54<00:59,  1.47it/s]"
     ]
    },
    {
     "name": "stdout",
     "output_type": "stream",
     "text": [
      "Pulling from GBIF API with species key: 7825598\n"
     ]
    },
    {
     "name": "stderr",
     "output_type": "stream",
     "text": [
      " 93%|█████████▎| 1130/1215 [29:55<00:58,  1.47it/s]"
     ]
    },
    {
     "name": "stdout",
     "output_type": "stream",
     "text": [
      "Pulling from GBIF API with species key: 12017078\n"
     ]
    },
    {
     "name": "stderr",
     "output_type": "stream",
     "text": [
      " 94%|█████████▎| 1138/1215 [30:00<00:48,  1.58it/s]"
     ]
    },
    {
     "name": "stdout",
     "output_type": "stream",
     "text": [
      "Failed: Returned status code of 204, with message: <Response [204]>\n",
      "Error querying GBIF for image tile_51.438375853707555_0.1787886125415048.jpg at coords ('51.438375853707555', '0.1787886125415048'): 'NoneType' object has no attribute 'get'\n",
      "No GBIF data found for image: tile_51.438375853707555_0.1787886125415048.jpg at coords: ('51.438375853707555', '0.1787886125415048')\n"
     ]
    },
    {
     "name": "stderr",
     "output_type": "stream",
     "text": [
      " 94%|█████████▎| 1139/1215 [30:00<00:47,  1.59it/s]"
     ]
    },
    {
     "name": "stdout",
     "output_type": "stream",
     "text": [
      "Pulling from GBIF API with species key: 4988050\n",
      "Pulling from GBIF API with species key: 9505819\n",
      "Pulling from GBIF API with species key: 4427680\n",
      "Pulling from GBIF API with species key: 1049507\n",
      "Pulling from GBIF API with species key: 4427757\n",
      "Pulling from GBIF API with species key: 4440849\n",
      "Pulling from GBIF API with species key: 1201317\n",
      "Pulling from GBIF API with species key: 4478798\n",
      "Pulling from GBIF API with species key: 1239066\n",
      "Pulling from GBIF API with species key: 4438776\n",
      "Pulling from GBIF API with species key: 1065382\n",
      "Pulling from GBIF API with species key: 11097626\n",
      "Pulling from GBIF API with species key: 4434448\n",
      "Pulling from GBIF API with species key: 10594760\n",
      "Pulling from GBIF API with species key: 1066657\n",
      "Pulling from GBIF API with species key: 1201193\n",
      "Pulling from GBIF API with species key: 4433523\n",
      "Pulling from GBIF API with species key: 5752114\n",
      "Pulling from GBIF API with species key: 5872119\n",
      "Pulling from GBIF API with species key: 6097907\n",
      "Pulling from GBIF API with species key: 9484569\n",
      "Pulling from GBIF API with species key: 1068586\n",
      "Pulling from GBIF API with species key: 1189360\n",
      "Pulling from GBIF API with species key: 1189493\n",
      "Pulling from GBIF API with species key: 4428676\n",
      "Pulling from GBIF API with species key: 4440462\n",
      "Pulling from GBIF API with species key: 4442345\n",
      "Pulling from GBIF API with species key: 4456853\n",
      "Pulling from GBIF API with species key: 4460074\n",
      "Pulling from GBIF API with species key: 4996852\n",
      "Pulling from GBIF API with species key: 4997515\n"
     ]
    },
    {
     "name": "stderr",
     "output_type": "stream",
     "text": [
      " 94%|█████████▍| 1140/1215 [30:10<04:09,  3.32s/it]"
     ]
    },
    {
     "name": "stdout",
     "output_type": "stream",
     "text": [
      "Pulling from GBIF API with species key: 8152731\n"
     ]
    },
    {
     "name": "stderr",
     "output_type": "stream",
     "text": [
      " 94%|█████████▍| 1141/1215 [30:11<03:09,  2.56s/it]"
     ]
    },
    {
     "name": "stdout",
     "output_type": "stream",
     "text": [
      "Pulling from GBIF API with species key: 1267936\n",
      "Pulling from GBIF API with species key: 7607277\n",
      "Pulling from GBIF API with species key: 4505117\n",
      "Pulling from GBIF API with species key: 8583297\n",
      "Pulling from GBIF API with species key: 1602045\n",
      "Pulling from GBIF API with species key: 1642769\n",
      "Pulling from GBIF API with species key: 1645072\n",
      "Pulling from GBIF API with species key: 1679392\n",
      "Pulling from GBIF API with species key: 1749954\n",
      "Pulling from GBIF API with species key: 2012999\n",
      "Pulling from GBIF API with species key: 2027015\n",
      "Pulling from GBIF API with species key: 2054167\n",
      "Pulling from GBIF API with species key: 2166678\n",
      "Pulling from GBIF API with species key: 4435479\n",
      "Pulling from GBIF API with species key: 4487204\n",
      "Pulling from GBIF API with species key: 4494011\n",
      "Pulling from GBIF API with species key: 4494910\n",
      "Pulling from GBIF API with species key: 5892120\n"
     ]
    },
    {
     "name": "stderr",
     "output_type": "stream",
     "text": [
      " 94%|█████████▍| 1142/1215 [30:17<04:19,  3.56s/it]"
     ]
    },
    {
     "name": "stdout",
     "output_type": "stream",
     "text": [
      "Pulling from GBIF API with species key: 7454199\n"
     ]
    },
    {
     "name": "stderr",
     "output_type": "stream",
     "text": [
      " 94%|█████████▍| 1145/1215 [30:19<01:57,  1.68s/it]"
     ]
    },
    {
     "name": "stdout",
     "output_type": "stream",
     "text": [
      "Pulling from GBIF API with species key: 1788635\n"
     ]
    },
    {
     "name": "stderr",
     "output_type": "stream",
     "text": [
      " 95%|█████████▍| 1149/1215 [30:21<01:02,  1.06it/s]"
     ]
    },
    {
     "name": "stdout",
     "output_type": "stream",
     "text": [
      "Pulling from GBIF API with species key: 7774102\n"
     ]
    },
    {
     "name": "stderr",
     "output_type": "stream",
     "text": [
      " 95%|█████████▍| 1150/1215 [30:22<00:57,  1.12it/s]"
     ]
    },
    {
     "name": "stdout",
     "output_type": "stream",
     "text": [
      "Pulling from GBIF API with species key: 8147305\n"
     ]
    },
    {
     "name": "stderr",
     "output_type": "stream",
     "text": [
      " 95%|█████████▍| 1151/1215 [30:23<00:55,  1.16it/s]"
     ]
    },
    {
     "name": "stdout",
     "output_type": "stream",
     "text": [
      "Pulling from GBIF API with species key: 1770353\n",
      "Pulling from GBIF API with species key: 4485816\n",
      "Pulling from GBIF API with species key: 4473320\n",
      "Pulling from GBIF API with species key: 4568259\n"
     ]
    },
    {
     "name": "stderr",
     "output_type": "stream",
     "text": [
      " 95%|█████████▍| 1152/1215 [30:25<01:11,  1.13s/it]"
     ]
    },
    {
     "name": "stdout",
     "output_type": "stream",
     "text": [
      "Pulling from GBIF API with species key: 5219858\n"
     ]
    },
    {
     "name": "stderr",
     "output_type": "stream",
     "text": [
      " 95%|█████████▌| 1156/1215 [30:30<01:09,  1.18s/it]"
     ]
    },
    {
     "name": "stdout",
     "output_type": "stream",
     "text": [
      "Pulling from GBIF API with species key: 11344292\n",
      "Pulling from GBIF API with species key: 1288042\n",
      "Pulling from GBIF API with species key: 1323881\n"
     ]
    },
    {
     "name": "stderr",
     "output_type": "stream",
     "text": [
      " 95%|█████████▌| 1157/1215 [30:32<01:26,  1.49s/it]"
     ]
    },
    {
     "name": "stdout",
     "output_type": "stream",
     "text": [
      "Pulling from GBIF API with species key: 8701771\n"
     ]
    },
    {
     "name": "stderr",
     "output_type": "stream",
     "text": [
      " 95%|█████████▌| 1159/1215 [30:37<01:49,  1.95s/it]"
     ]
    },
    {
     "name": "stdout",
     "output_type": "stream",
     "text": [
      "Failed: Returned status code of 204, with message: <Response [204]>\n",
      "Error querying GBIF for image tile_51.33026774559944_0.1787886125415048.jpg at coords ('51.33026774559944', '0.1787886125415048'): 'NoneType' object has no attribute 'get'\n",
      "No GBIF data found for image: tile_51.33026774559944_0.1787886125415048.jpg at coords: ('51.33026774559944', '0.1787886125415048')\n",
      "Pulling from GBIF API with species key: 1551568\n"
     ]
    },
    {
     "name": "stderr",
     "output_type": "stream",
     "text": [
      " 95%|█████████▌| 1160/1215 [30:38<01:33,  1.70s/it]"
     ]
    },
    {
     "name": "stdout",
     "output_type": "stream",
     "text": [
      "Pulling from GBIF API with species key: 7988195\n",
      "Pulling from GBIF API with species key: 1039742\n",
      "Pulling from GBIF API with species key: 4439039\n",
      "Pulling from GBIF API with species key: 4444059\n",
      "Pulling from GBIF API with species key: 6097531\n"
     ]
    },
    {
     "name": "stderr",
     "output_type": "stream",
     "text": [
      " 96%|█████████▌| 1161/1215 [30:41<01:36,  1.79s/it]"
     ]
    },
    {
     "name": "stdout",
     "output_type": "stream",
     "text": [
      "Pulling from GBIF API with species key: 6097654\n"
     ]
    },
    {
     "name": "stderr",
     "output_type": "stream",
     "text": [
      " 96%|█████████▌| 1165/1215 [30:43<00:41,  1.20it/s]"
     ]
    },
    {
     "name": "stdout",
     "output_type": "stream",
     "text": [
      "Pulling from GBIF API with species key: 9312556\n",
      "Pulling from GBIF API with species key: 2474945\n",
      "Pulling from GBIF API with species key: 5771256\n"
     ]
    },
    {
     "name": "stderr",
     "output_type": "stream",
     "text": [
      " 96%|█████████▌| 1166/1215 [30:44<00:52,  1.07s/it]"
     ]
    },
    {
     "name": "stdout",
     "output_type": "stream",
     "text": [
      "Pulling from GBIF API with species key: 8535290\n"
     ]
    },
    {
     "name": "stderr",
     "output_type": "stream",
     "text": [
      " 96%|█████████▋| 1172/1215 [30:48<00:29,  1.48it/s]"
     ]
    },
    {
     "name": "stdout",
     "output_type": "stream",
     "text": [
      "Failed: Returned status code of 204, with message: <Response [204]>\n",
      "Error querying GBIF for image tile_51.451889367221064_0.04889841215856107.jpg at coords ('51.451889367221064', '0.04889841215856107'): 'NoneType' object has no attribute 'get'\n",
      "No GBIF data found for image: tile_51.451889367221064_0.04889841215856107.jpg at coords: ('51.451889367221064', '0.04889841215856107')\n"
     ]
    },
    {
     "name": "stderr",
     "output_type": "stream",
     "text": [
      " 97%|█████████▋| 1173/1215 [30:49<00:31,  1.35it/s]"
     ]
    },
    {
     "name": "stdout",
     "output_type": "stream",
     "text": [
      "Pulling from GBIF API with species key: 4490846\n",
      "Pulling from GBIF API with species key: 2234866\n"
     ]
    },
    {
     "name": "stderr",
     "output_type": "stream",
     "text": [
      " 97%|█████████▋| 1174/1215 [30:50<00:35,  1.16it/s]"
     ]
    },
    {
     "name": "stdout",
     "output_type": "stream",
     "text": [
      "Pulling from GBIF API with species key: 4522294\n"
     ]
    },
    {
     "name": "stderr",
     "output_type": "stream",
     "text": [
      " 97%|█████████▋| 1175/1215 [30:50<00:30,  1.30it/s]"
     ]
    },
    {
     "name": "stdout",
     "output_type": "stream",
     "text": [
      "Pulling from GBIF API with species key: 11828284\n"
     ]
    },
    {
     "name": "stderr",
     "output_type": "stream",
     "text": [
      " 97%|█████████▋| 1176/1215 [30:51<00:34,  1.14it/s]"
     ]
    },
    {
     "name": "stdout",
     "output_type": "stream",
     "text": [
      "Pulling from GBIF API with species key: 2443133\n"
     ]
    },
    {
     "name": "stderr",
     "output_type": "stream",
     "text": [
      " 97%|█████████▋| 1179/1215 [30:53<00:26,  1.34it/s]"
     ]
    },
    {
     "name": "stdout",
     "output_type": "stream",
     "text": [
      "Pulling from GBIF API with species key: 9579730\n"
     ]
    },
    {
     "name": "stderr",
     "output_type": "stream",
     "text": [
      " 97%|█████████▋| 1183/1215 [30:56<00:20,  1.57it/s]"
     ]
    },
    {
     "name": "stdout",
     "output_type": "stream",
     "text": [
      "Pulling from GBIF API with species key: 6097278\n"
     ]
    },
    {
     "name": "stderr",
     "output_type": "stream",
     "text": [
      " 97%|█████████▋| 1184/1215 [30:56<00:19,  1.61it/s]"
     ]
    },
    {
     "name": "stdout",
     "output_type": "stream",
     "text": [
      "Pulling from GBIF API with species key: 7358447\n"
     ]
    },
    {
     "name": "stderr",
     "output_type": "stream",
     "text": [
      " 98%|█████████▊| 1185/1215 [30:57<00:22,  1.33it/s]"
     ]
    },
    {
     "name": "stdout",
     "output_type": "stream",
     "text": [
      "Pulling from GBIF API with species key: 7518328\n"
     ]
    },
    {
     "name": "stderr",
     "output_type": "stream",
     "text": [
      " 98%|█████████▊| 1189/1215 [31:00<00:18,  1.40it/s]"
     ]
    },
    {
     "name": "stdout",
     "output_type": "stream",
     "text": [
      "Pulling from GBIF API with species key: 4490910\n"
     ]
    },
    {
     "name": "stderr",
     "output_type": "stream",
     "text": [
      " 98%|█████████▊| 1193/1215 [31:02<00:13,  1.61it/s]"
     ]
    },
    {
     "name": "stdout",
     "output_type": "stream",
     "text": [
      "Pulling from GBIF API with species key: 1631998\n",
      "Pulling from GBIF API with species key: 1822830\n",
      "Pulling from GBIF API with species key: 1554553\n",
      "Pulling from GBIF API with species key: 4534779\n",
      "Pulling from GBIF API with species key: 7903078\n",
      "Pulling from GBIF API with species key: 10051223\n"
     ]
    },
    {
     "name": "stderr",
     "output_type": "stream",
     "text": [
      " 98%|█████████▊| 1194/1215 [31:05<00:25,  1.21s/it]"
     ]
    },
    {
     "name": "stdout",
     "output_type": "stream",
     "text": [
      "Failed: Returned status code of 204, with message: <Response [204]>\n",
      "Error querying GBIF for image tile_51.50594342127512_-0.12428852168536396.jpg at coords ('51.50594342127512', '-0.12428852168536396'): 'NoneType' object has no attribute 'get'\n",
      "No GBIF data found for image: tile_51.50594342127512_-0.12428852168536396.jpg at coords: ('51.50594342127512', '-0.12428852168536396')\n"
     ]
    },
    {
     "name": "stderr",
     "output_type": "stream",
     "text": [
      " 98%|█████████▊| 1196/1215 [31:06<00:17,  1.08it/s]"
     ]
    },
    {
     "name": "stdout",
     "output_type": "stream",
     "text": [
      "Pulling from GBIF API with species key: 8529848\n"
     ]
    },
    {
     "name": "stderr",
     "output_type": "stream",
     "text": [
      " 99%|█████████▊| 1199/1215 [31:08<00:10,  1.51it/s]"
     ]
    },
    {
     "name": "stdout",
     "output_type": "stream",
     "text": [
      "Pulling from GBIF API with species key: 2415788\n",
      "Pulling from GBIF API with species key: 5216024\n",
      "Pulling from GBIF API with species key: 7700106\n"
     ]
    },
    {
     "name": "stderr",
     "output_type": "stream",
     "text": [
      " 99%|█████████▉| 1200/1215 [31:09<00:14,  1.06it/s]"
     ]
    },
    {
     "name": "stdout",
     "output_type": "stream",
     "text": [
      "Pulling from GBIF API with species key: 8084280\n"
     ]
    },
    {
     "name": "stderr",
     "output_type": "stream",
     "text": [
      "100%|█████████▉| 1211/1215 [31:15<00:02,  1.61it/s]"
     ]
    },
    {
     "name": "stdout",
     "output_type": "stream",
     "text": [
      "Pulling from GBIF API with species key: 6097637\n"
     ]
    },
    {
     "name": "stderr",
     "output_type": "stream",
     "text": [
      "100%|█████████▉| 1213/1215 [31:18<00:01,  1.20it/s]"
     ]
    },
    {
     "name": "stdout",
     "output_type": "stream",
     "text": [
      "Pulling from GBIF API with species key: 2270113\n",
      "Pulling from GBIF API with species key: 1257708\n"
     ]
    },
    {
     "name": "stderr",
     "output_type": "stream",
     "text": [
      "100%|█████████▉| 1214/1215 [31:19<00:00,  1.07it/s]"
     ]
    },
    {
     "name": "stdout",
     "output_type": "stream",
     "text": [
      "Pulling from GBIF API with species key: 1580580\n"
     ]
    },
    {
     "name": "stderr",
     "output_type": "stream",
     "text": [
      "100%|██████████| 1215/1215 [31:19<00:00,  1.55s/it]\n"
     ]
    },
    {
     "name": "stdout",
     "output_type": "stream",
     "text": [
      "Sucessfully created df with cols: Index(['full_name', 'city', 'variation', 'longitude', 'latitude',\n",
      "       'species_richness', 'redlist_EX', 'redlist_EW', 'redlist_CR',\n",
      "       'redlist_EN', 'redlist_VU', 'redlist_NT', 'redlist_LC', 'redlist_DD',\n",
      "       'redlist_NE'],\n",
      "      dtype='object'), and size: (4512, 15).\n",
      "Processing city: Manchester\n"
     ]
    },
    {
     "name": "stderr",
     "output_type": "stream",
     "text": [
      "  0%|          | 1/225 [00:00<03:06,  1.20it/s]"
     ]
    },
    {
     "name": "stdout",
     "output_type": "stream",
     "text": [
      "Pulling from GBIF API with species key: 4533442\n",
      "Pulling from GBIF API with species key: 1543300\n"
     ]
    },
    {
     "name": "stderr",
     "output_type": "stream",
     "text": [
      "  1%|          | 2/225 [00:01<03:49,  1.03s/it]"
     ]
    },
    {
     "name": "stdout",
     "output_type": "stream",
     "text": [
      "Pulling from GBIF API with species key: 9800250\n",
      "Pulling from GBIF API with species key: 1594607\n",
      "Pulling from GBIF API with species key: 1570988\n",
      "Pulling from GBIF API with species key: 1628950\n"
     ]
    },
    {
     "name": "stderr",
     "output_type": "stream",
     "text": [
      "  1%|▏         | 3/225 [00:03<04:46,  1.29s/it]"
     ]
    },
    {
     "name": "stdout",
     "output_type": "stream",
     "text": [
      "Pulling from GBIF API with species key: 5979644\n",
      "Pulling from GBIF API with species key: 1676433\n",
      "Pulling from GBIF API with species key: 2013702\n",
      "Pulling from GBIF API with species key: 2013739\n"
     ]
    },
    {
     "name": "stderr",
     "output_type": "stream",
     "text": [
      "  2%|▏         | 4/225 [00:05<05:10,  1.41s/it]"
     ]
    },
    {
     "name": "stdout",
     "output_type": "stream",
     "text": [
      "Pulling from GBIF API with species key: 5985058\n",
      "Pulling from GBIF API with species key: 1882210\n"
     ]
    },
    {
     "name": "stderr",
     "output_type": "stream",
     "text": [
      "  2%|▏         | 5/225 [00:06<04:44,  1.29s/it]"
     ]
    },
    {
     "name": "stdout",
     "output_type": "stream",
     "text": [
      "Pulling from GBIF API with species key: 1986367\n"
     ]
    },
    {
     "name": "stderr",
     "output_type": "stream",
     "text": [
      "  4%|▍         | 10/225 [00:08<02:14,  1.60it/s]"
     ]
    },
    {
     "name": "stdout",
     "output_type": "stream",
     "text": [
      "Pulling from GBIF API with species key: 1036958\n",
      "Pulling from GBIF API with species key: 2001671\n",
      "Pulling from GBIF API with species key: 2001976\n",
      "Pulling from GBIF API with species key: 1510321\n",
      "Pulling from GBIF API with species key: 1516040\n",
      "Pulling from GBIF API with species key: 1582382\n",
      "Pulling from GBIF API with species key: 4519066\n",
      "Pulling from GBIF API with species key: 1433703\n",
      "Pulling from GBIF API with species key: 1510588\n",
      "Pulling from GBIF API with species key: 1520928\n",
      "Pulling from GBIF API with species key: 2003559\n",
      "Pulling from GBIF API with species key: 2003833\n",
      "Pulling from GBIF API with species key: 6097882\n",
      "Pulling from GBIF API with species key: 1516801\n",
      "Pulling from GBIF API with species key: 1519120\n",
      "Pulling from GBIF API with species key: 1519595\n"
     ]
    },
    {
     "name": "stderr",
     "output_type": "stream",
     "text": [
      "  5%|▍         | 11/225 [00:14<07:32,  2.11s/it]"
     ]
    },
    {
     "name": "stdout",
     "output_type": "stream",
     "text": [
      "Pulling from GBIF API with species key: 1520505\n",
      "Pulling from GBIF API with species key: 5053142\n",
      "Pulling from GBIF API with species key: 1507029\n"
     ]
    },
    {
     "name": "stderr",
     "output_type": "stream",
     "text": [
      "  5%|▌         | 12/225 [00:15<06:50,  1.93s/it]"
     ]
    },
    {
     "name": "stdout",
     "output_type": "stream",
     "text": [
      "Pulling from GBIF API with species key: 4562529\n",
      "Pulling from GBIF API with species key: 2479501\n"
     ]
    },
    {
     "name": "stderr",
     "output_type": "stream",
     "text": [
      "  6%|▌         | 13/225 [00:16<05:55,  1.68s/it]"
     ]
    },
    {
     "name": "stdout",
     "output_type": "stream",
     "text": [
      "Pulling from GBIF API with species key: 5855593\n"
     ]
    },
    {
     "name": "stderr",
     "output_type": "stream",
     "text": [
      "  8%|▊         | 17/225 [00:19<03:09,  1.10it/s]"
     ]
    },
    {
     "name": "stdout",
     "output_type": "stream",
     "text": [
      "Pulling from GBIF API with species key: 1520599\n"
     ]
    },
    {
     "name": "stderr",
     "output_type": "stream",
     "text": [
      "  8%|▊         | 18/225 [00:20<02:54,  1.19it/s]"
     ]
    },
    {
     "name": "stdout",
     "output_type": "stream",
     "text": [
      "Pulling from GBIF API with species key: 2479666\n"
     ]
    },
    {
     "name": "stderr",
     "output_type": "stream",
     "text": [
      "  8%|▊         | 19/225 [00:21<03:12,  1.07it/s]"
     ]
    },
    {
     "name": "stdout",
     "output_type": "stream",
     "text": [
      "Pulling from GBIF API with species key: 1596498\n",
      "Pulling from GBIF API with species key: 1095750\n"
     ]
    },
    {
     "name": "stderr",
     "output_type": "stream",
     "text": [
      "  9%|▉         | 20/225 [00:22<03:18,  1.03it/s]"
     ]
    },
    {
     "name": "stdout",
     "output_type": "stream",
     "text": [
      "Pulling from GBIF API with species key: 6948570\n"
     ]
    },
    {
     "name": "stderr",
     "output_type": "stream",
     "text": [
      " 10%|▉         | 22/225 [00:23<02:42,  1.25it/s]"
     ]
    },
    {
     "name": "stdout",
     "output_type": "stream",
     "text": [
      "Pulling from GBIF API with species key: 5868068\n"
     ]
    },
    {
     "name": "stderr",
     "output_type": "stream",
     "text": [
      " 11%|█         | 24/225 [00:24<02:18,  1.45it/s]"
     ]
    },
    {
     "name": "stdout",
     "output_type": "stream",
     "text": [
      "Pulling from GBIF API with species key: 1565923\n",
      "Pulling from GBIF API with species key: 1569644\n",
      "Pulling from GBIF API with species key: 2502887\n"
     ]
    },
    {
     "name": "stderr",
     "output_type": "stream",
     "text": [
      " 11%|█         | 25/225 [00:26<03:21,  1.01s/it]"
     ]
    },
    {
     "name": "stdout",
     "output_type": "stream",
     "text": [
      "Pulling from GBIF API with species key: 4490374\n"
     ]
    },
    {
     "name": "stderr",
     "output_type": "stream",
     "text": [
      " 12%|█▏        | 28/225 [00:28<02:28,  1.32it/s]"
     ]
    },
    {
     "name": "stdout",
     "output_type": "stream",
     "text": [
      "Pulling from GBIF API with species key: 5755975\n",
      "Pulling from GBIF API with species key: 5213960\n"
     ]
    },
    {
     "name": "stderr",
     "output_type": "stream",
     "text": [
      " 13%|█▎        | 29/225 [00:29<02:56,  1.11it/s]"
     ]
    },
    {
     "name": "stdout",
     "output_type": "stream",
     "text": [
      "Pulling from GBIF API with species key: 4998217\n"
     ]
    },
    {
     "name": "stderr",
     "output_type": "stream",
     "text": [
      " 13%|█▎        | 30/225 [00:30<02:51,  1.13it/s]"
     ]
    },
    {
     "name": "stdout",
     "output_type": "stream",
     "text": [
      "Pulling from GBIF API with species key: 4490358\n"
     ]
    },
    {
     "name": "stderr",
     "output_type": "stream",
     "text": [
      " 14%|█▍        | 31/225 [00:31<02:46,  1.17it/s]"
     ]
    },
    {
     "name": "stdout",
     "output_type": "stream",
     "text": [
      "Pulling from GBIF API with species key: 4491865\n",
      "Pulling from GBIF API with species key: 5755044\n",
      "Pulling from GBIF API with species key: 1850087\n",
      "Pulling from GBIF API with species key: 4471071\n"
     ]
    },
    {
     "name": "stderr",
     "output_type": "stream",
     "text": [
      " 14%|█▍        | 32/225 [00:32<03:30,  1.09s/it]"
     ]
    },
    {
     "name": "stdout",
     "output_type": "stream",
     "text": [
      "Pulling from GBIF API with species key: 5749191\n"
     ]
    },
    {
     "name": "stderr",
     "output_type": "stream",
     "text": [
      " 15%|█▍        | 33/225 [00:33<03:17,  1.03s/it]"
     ]
    },
    {
     "name": "stdout",
     "output_type": "stream",
     "text": [
      "Pulling from GBIF API with species key: 6097373\n"
     ]
    },
    {
     "name": "stderr",
     "output_type": "stream",
     "text": [
      " 16%|█▌        | 35/225 [00:34<02:39,  1.19it/s]"
     ]
    },
    {
     "name": "stdout",
     "output_type": "stream",
     "text": [
      "Pulling from GBIF API with species key: 11743343\n"
     ]
    },
    {
     "name": "stderr",
     "output_type": "stream",
     "text": [
      " 18%|█▊        | 40/225 [00:37<02:07,  1.45it/s]"
     ]
    },
    {
     "name": "stdout",
     "output_type": "stream",
     "text": [
      "Pulling from GBIF API with species key: 4476584\n",
      "Pulling from GBIF API with species key: 4560882\n",
      "Pulling from GBIF API with species key: 2300091\n"
     ]
    },
    {
     "name": "stderr",
     "output_type": "stream",
     "text": [
      " 18%|█▊        | 41/225 [00:39<02:44,  1.12it/s]"
     ]
    },
    {
     "name": "stdout",
     "output_type": "stream",
     "text": [
      "Pulling from GBIF API with species key: 4490899\n"
     ]
    },
    {
     "name": "stderr",
     "output_type": "stream",
     "text": [
      " 20%|██        | 46/225 [00:42<02:01,  1.47it/s]"
     ]
    },
    {
     "name": "stdout",
     "output_type": "stream",
     "text": [
      "Pulling from GBIF API with species key: 6476704\n",
      "Pulling from GBIF API with species key: 2308090\n",
      "Pulling from GBIF API with species key: 2308557\n",
      "Pulling from GBIF API with species key: 4289016\n"
     ]
    },
    {
     "name": "stderr",
     "output_type": "stream",
     "text": [
      " 21%|██        | 47/225 [00:43<02:54,  1.02it/s]"
     ]
    },
    {
     "name": "stdout",
     "output_type": "stream",
     "text": [
      "Pulling from GBIF API with species key: 8282704\n",
      "Pulling from GBIF API with species key: 1446926\n",
      "Pulling from GBIF API with species key: 1447693\n",
      "Pulling from GBIF API with species key: 1451129\n",
      "Pulling from GBIF API with species key: 1452287\n",
      "Pulling from GBIF API with species key: 1601734\n"
     ]
    },
    {
     "name": "stderr",
     "output_type": "stream",
     "text": [
      " 21%|██▏       | 48/225 [00:46<03:57,  1.34s/it]"
     ]
    },
    {
     "name": "stdout",
     "output_type": "stream",
     "text": [
      "Pulling from GBIF API with species key: 4451075\n"
     ]
    },
    {
     "name": "stderr",
     "output_type": "stream",
     "text": [
      " 24%|██▍       | 54/225 [00:49<01:44,  1.63it/s]"
     ]
    },
    {
     "name": "stdout",
     "output_type": "stream",
     "text": [
      "Pulling from GBIF API with species key: 4444753\n",
      "Pulling from GBIF API with species key: 1608353\n",
      "Pulling from GBIF API with species key: 11142241\n",
      "Pulling from GBIF API with species key: 1487982\n",
      "Pulling from GBIF API with species key: 1501514\n",
      "Pulling from GBIF API with species key: 1634794\n",
      "Pulling from GBIF API with species key: 1642445\n",
      "Pulling from GBIF API with species key: 4444167\n",
      "Pulling from GBIF API with species key: 6097378\n",
      "Pulling from GBIF API with species key: 8521485\n",
      "Pulling from GBIF API with species key: 10374951\n",
      "Pulling from GBIF API with species key: 1459168\n",
      "Pulling from GBIF API with species key: 1485802\n",
      "Pulling from GBIF API with species key: 1486407\n",
      "Pulling from GBIF API with species key: 1487130\n",
      "Pulling from GBIF API with species key: 1487348\n",
      "Pulling from GBIF API with species key: 1488221\n",
      "Pulling from GBIF API with species key: 1488827\n",
      "Pulling from GBIF API with species key: 1489046\n",
      "Pulling from GBIF API with species key: 1489074\n",
      "Pulling from GBIF API with species key: 1508928\n",
      "Pulling from GBIF API with species key: 1550727\n",
      "Pulling from GBIF API with species key: 1564654\n",
      "Pulling from GBIF API with species key: 1564736\n",
      "Pulling from GBIF API with species key: 1573922\n",
      "Pulling from GBIF API with species key: 1586481\n",
      "Pulling from GBIF API with species key: 1608194\n",
      "Pulling from GBIF API with species key: 1613745\n",
      "Pulling from GBIF API with species key: 1615984\n",
      "Pulling from GBIF API with species key: 1617800\n",
      "Pulling from GBIF API with species key: 1633937\n",
      "Pulling from GBIF API with species key: 4435801\n",
      "Pulling from GBIF API with species key: 4436849\n",
      "Pulling from GBIF API with species key: 4441336\n",
      "Pulling from GBIF API with species key: 4447766\n",
      "Pulling from GBIF API with species key: 4522220\n",
      "Pulling from GBIF API with species key: 5068491\n",
      "Pulling from GBIF API with species key: 5094755\n",
      "Pulling from GBIF API with species key: 5743466\n",
      "Pulling from GBIF API with species key: 5749054\n",
      "Pulling from GBIF API with species key: 5874840\n",
      "Pulling from GBIF API with species key: 6097578\n"
     ]
    },
    {
     "name": "stderr",
     "output_type": "stream",
     "text": [
      " 24%|██▍       | 55/225 [01:01<11:58,  4.23s/it]"
     ]
    },
    {
     "name": "stdout",
     "output_type": "stream",
     "text": [
      "Pulling from GBIF API with species key: 8319006\n"
     ]
    },
    {
     "name": "stderr",
     "output_type": "stream",
     "text": [
      " 25%|██▍       | 56/225 [01:02<08:42,  3.09s/it]"
     ]
    },
    {
     "name": "stdout",
     "output_type": "stream",
     "text": [
      "Pulling from GBIF API with species key: 1516810\n",
      "Pulling from GBIF API with species key: 1522752\n",
      "Pulling from GBIF API with species key: 1550740\n",
      "Pulling from GBIF API with species key: 1607245\n",
      "Pulling from GBIF API with species key: 1612310\n",
      "Pulling from GBIF API with species key: 1612533\n",
      "Pulling from GBIF API with species key: 1615701\n",
      "Pulling from GBIF API with species key: 1616522\n",
      "Pulling from GBIF API with species key: 1744498\n",
      "Pulling from GBIF API with species key: 5079442\n"
     ]
    },
    {
     "name": "stderr",
     "output_type": "stream",
     "text": [
      " 25%|██▌       | 57/225 [01:05<09:09,  3.27s/it]"
     ]
    },
    {
     "name": "stdout",
     "output_type": "stream",
     "text": [
      "Pulling from GBIF API with species key: 5874878\n"
     ]
    },
    {
     "name": "stderr",
     "output_type": "stream",
     "text": [
      " 27%|██▋       | 60/225 [01:07<04:17,  1.56s/it]"
     ]
    },
    {
     "name": "stdout",
     "output_type": "stream",
     "text": [
      "Pulling from GBIF API with species key: 5879234\n"
     ]
    },
    {
     "name": "stderr",
     "output_type": "stream",
     "text": [
      " 28%|██▊       | 62/225 [01:09<02:59,  1.10s/it]"
     ]
    },
    {
     "name": "stdout",
     "output_type": "stream",
     "text": [
      "Pulling from GBIF API with species key: 5075802\n",
      "Pulling from GBIF API with species key: 1427855\n",
      "Pulling from GBIF API with species key: 1525985\n",
      "Pulling from GBIF API with species key: 4538145\n"
     ]
    },
    {
     "name": "stderr",
     "output_type": "stream",
     "text": [
      " 28%|██▊       | 63/225 [01:10<03:31,  1.30s/it]"
     ]
    },
    {
     "name": "stdout",
     "output_type": "stream",
     "text": [
      "Pulling from GBIF API with species key: 9414984\n"
     ]
    },
    {
     "name": "stderr",
     "output_type": "stream",
     "text": [
      " 29%|██▉       | 65/225 [01:12<02:41,  1.01s/it]"
     ]
    },
    {
     "name": "stdout",
     "output_type": "stream",
     "text": [
      "Pulling from GBIF API with species key: 8642913\n"
     ]
    },
    {
     "name": "stderr",
     "output_type": "stream",
     "text": [
      " 29%|██▉       | 66/225 [01:13<02:30,  1.06it/s]"
     ]
    },
    {
     "name": "stdout",
     "output_type": "stream",
     "text": [
      "Pulling from GBIF API with species key: 2480764\n"
     ]
    },
    {
     "name": "stderr",
     "output_type": "stream",
     "text": [
      " 30%|███       | 68/225 [01:14<01:52,  1.40it/s]"
     ]
    },
    {
     "name": "stdout",
     "output_type": "stream",
     "text": [
      "Pulling from GBIF API with species key: 8819051\n"
     ]
    },
    {
     "name": "stderr",
     "output_type": "stream",
     "text": [
      " 31%|███       | 69/225 [01:15<02:12,  1.18it/s]"
     ]
    },
    {
     "name": "stdout",
     "output_type": "stream",
     "text": [
      "Pulling from GBIF API with species key: 5194015\n"
     ]
    },
    {
     "name": "stderr",
     "output_type": "stream",
     "text": [
      " 32%|███▏      | 72/225 [01:16<01:35,  1.60it/s]"
     ]
    },
    {
     "name": "stdout",
     "output_type": "stream",
     "text": [
      "Pulling from GBIF API with species key: 10595482\n",
      "Pulling from GBIF API with species key: 1037964\n",
      "Pulling from GBIF API with species key: 1038224\n",
      "Pulling from GBIF API with species key: 1510276\n",
      "Pulling from GBIF API with species key: 1510390\n",
      "Pulling from GBIF API with species key: 1569673\n",
      "Pulling from GBIF API with species key: 2120633\n"
     ]
    },
    {
     "name": "stderr",
     "output_type": "stream",
     "text": [
      " 32%|███▏      | 73/225 [01:19<03:15,  1.29s/it]"
     ]
    },
    {
     "name": "stdout",
     "output_type": "stream",
     "text": [
      "Pulling from GBIF API with species key: 4470068\n"
     ]
    },
    {
     "name": "stderr",
     "output_type": "stream",
     "text": [
      " 36%|███▌      | 80/225 [01:23<01:40,  1.44it/s]"
     ]
    },
    {
     "name": "stdout",
     "output_type": "stream",
     "text": [
      "Pulling from GBIF API with species key: 9239066\n"
     ]
    },
    {
     "name": "stderr",
     "output_type": "stream",
     "text": [
      " 37%|███▋      | 84/225 [01:26<01:34,  1.49it/s]"
     ]
    },
    {
     "name": "stdout",
     "output_type": "stream",
     "text": [
      "Pulling from GBIF API with species key: 1095277\n"
     ]
    },
    {
     "name": "stderr",
     "output_type": "stream",
     "text": [
      " 38%|███▊      | 85/225 [01:27<01:39,  1.41it/s]"
     ]
    },
    {
     "name": "stdout",
     "output_type": "stream",
     "text": [
      "Pulling from GBIF API with species key: 2436090\n"
     ]
    },
    {
     "name": "stderr",
     "output_type": "stream",
     "text": [
      " 44%|████▎     | 98/225 [01:34<01:13,  1.72it/s]"
     ]
    },
    {
     "name": "stdout",
     "output_type": "stream",
     "text": [
      "Pulling from GBIF API with species key: 1749597\n"
     ]
    },
    {
     "name": "stderr",
     "output_type": "stream",
     "text": [
      " 44%|████▍     | 99/225 [01:35<01:22,  1.52it/s]"
     ]
    },
    {
     "name": "stdout",
     "output_type": "stream",
     "text": [
      "Pulling from GBIF API with species key: 1304057\n"
     ]
    },
    {
     "name": "stderr",
     "output_type": "stream",
     "text": [
      " 44%|████▍     | 100/225 [01:35<01:14,  1.67it/s]"
     ]
    },
    {
     "name": "stdout",
     "output_type": "stream",
     "text": [
      "Pulling from GBIF API with species key: 1643800\n",
      "Pulling from GBIF API with species key: 1646955\n"
     ]
    },
    {
     "name": "stderr",
     "output_type": "stream",
     "text": [
      " 45%|████▍     | 101/225 [01:36<01:45,  1.18it/s]"
     ]
    },
    {
     "name": "stdout",
     "output_type": "stream",
     "text": [
      "Pulling from GBIF API with species key: 2071015\n"
     ]
    },
    {
     "name": "stderr",
     "output_type": "stream",
     "text": [
      " 46%|████▌     | 103/225 [01:38<01:26,  1.41it/s]"
     ]
    },
    {
     "name": "stdout",
     "output_type": "stream",
     "text": [
      "Pulling from GBIF API with species key: 1487433\n"
     ]
    },
    {
     "name": "stderr",
     "output_type": "stream",
     "text": [
      " 46%|████▌     | 104/225 [01:39<01:42,  1.18it/s]"
     ]
    },
    {
     "name": "stdout",
     "output_type": "stream",
     "text": [
      "Pulling from GBIF API with species key: 2308095\n",
      "Pulling from GBIF API with species key: 1442653\n"
     ]
    },
    {
     "name": "stderr",
     "output_type": "stream",
     "text": [
      " 47%|████▋     | 105/225 [01:40<01:50,  1.09it/s]"
     ]
    },
    {
     "name": "stdout",
     "output_type": "stream",
     "text": [
      "Pulling from GBIF API with species key: 1638292\n"
     ]
    },
    {
     "name": "stderr",
     "output_type": "stream",
     "text": [
      " 50%|████▉     | 112/225 [01:44<01:11,  1.57it/s]"
     ]
    },
    {
     "name": "stdout",
     "output_type": "stream",
     "text": [
      "Pulling from GBIF API with species key: 5079169\n"
     ]
    },
    {
     "name": "stderr",
     "output_type": "stream",
     "text": [
      " 52%|█████▏    | 116/225 [01:46<01:12,  1.50it/s]"
     ]
    },
    {
     "name": "stdout",
     "output_type": "stream",
     "text": [
      "Pulling from GBIF API with species key: 2480089\n",
      "Pulling from GBIF API with species key: 4497150\n"
     ]
    },
    {
     "name": "stderr",
     "output_type": "stream",
     "text": [
      " 52%|█████▏    | 117/225 [01:48<01:27,  1.24it/s]"
     ]
    },
    {
     "name": "stdout",
     "output_type": "stream",
     "text": [
      "Pulling from GBIF API with species key: 4544252\n"
     ]
    },
    {
     "name": "stderr",
     "output_type": "stream",
     "text": [
      " 53%|█████▎    | 120/225 [01:50<01:16,  1.37it/s]"
     ]
    },
    {
     "name": "stdout",
     "output_type": "stream",
     "text": [
      "Pulling from GBIF API with species key: 1468138\n"
     ]
    },
    {
     "name": "stderr",
     "output_type": "stream",
     "text": [
      " 54%|█████▍    | 122/225 [01:51<01:05,  1.58it/s]"
     ]
    },
    {
     "name": "stdout",
     "output_type": "stream",
     "text": [
      "Pulling from GBIF API with species key: 1648340\n"
     ]
    },
    {
     "name": "stderr",
     "output_type": "stream",
     "text": [
      " 55%|█████▍    | 123/225 [01:52<01:18,  1.31it/s]"
     ]
    },
    {
     "name": "stdout",
     "output_type": "stream",
     "text": [
      "Pulling from GBIF API with species key: 5074056\n"
     ]
    },
    {
     "name": "stderr",
     "output_type": "stream",
     "text": [
      " 56%|█████▌    | 125/225 [01:53<01:04,  1.56it/s]"
     ]
    },
    {
     "name": "stdout",
     "output_type": "stream",
     "text": [
      "Pulling from GBIF API with species key: 1528909\n",
      "Pulling from GBIF API with species key: 1529188\n"
     ]
    },
    {
     "name": "stderr",
     "output_type": "stream",
     "text": [
      " 56%|█████▌    | 126/225 [01:54<01:27,  1.13it/s]"
     ]
    },
    {
     "name": "stdout",
     "output_type": "stream",
     "text": [
      "Pulling from GBIF API with species key: 1571058\n"
     ]
    },
    {
     "name": "stderr",
     "output_type": "stream",
     "text": [
      " 58%|█████▊    | 131/225 [01:57<01:03,  1.47it/s]"
     ]
    },
    {
     "name": "stdout",
     "output_type": "stream",
     "text": [
      "Pulling from GBIF API with species key: 5159251\n"
     ]
    },
    {
     "name": "stderr",
     "output_type": "stream",
     "text": [
      " 59%|█████▊    | 132/225 [01:58<00:58,  1.58it/s]"
     ]
    },
    {
     "name": "stdout",
     "output_type": "stream",
     "text": [
      "Pulling from GBIF API with species key: 1309679\n"
     ]
    },
    {
     "name": "stderr",
     "output_type": "stream",
     "text": [
      " 59%|█████▉    | 133/225 [01:59<01:09,  1.32it/s]"
     ]
    },
    {
     "name": "stdout",
     "output_type": "stream",
     "text": [
      "Pulling from GBIF API with species key: 2157278\n",
      "Pulling from GBIF API with species key: 10077316\n",
      "Pulling from GBIF API with species key: 1365453\n",
      "Pulling from GBIF API with species key: 1375741\n"
     ]
    },
    {
     "name": "stderr",
     "output_type": "stream",
     "text": [
      " 60%|█████▉    | 134/225 [02:00<01:31,  1.01s/it]"
     ]
    },
    {
     "name": "stdout",
     "output_type": "stream",
     "text": [
      "Pulling from GBIF API with species key: 8562761\n"
     ]
    },
    {
     "name": "stderr",
     "output_type": "stream",
     "text": [
      " 60%|██████    | 135/225 [02:01<01:25,  1.05it/s]"
     ]
    },
    {
     "name": "stdout",
     "output_type": "stream",
     "text": [
      "Pulling from GBIF API with species key: 6269582\n"
     ]
    },
    {
     "name": "stderr",
     "output_type": "stream",
     "text": [
      " 61%|██████▏   | 138/225 [02:03<01:05,  1.33it/s]"
     ]
    },
    {
     "name": "stdout",
     "output_type": "stream",
     "text": [
      "Pulling from GBIF API with species key: 2498246\n"
     ]
    },
    {
     "name": "stderr",
     "output_type": "stream",
     "text": [
      " 63%|██████▎   | 141/225 [02:04<00:49,  1.70it/s]"
     ]
    },
    {
     "name": "stdout",
     "output_type": "stream",
     "text": [
      "Pulling from GBIF API with species key: 11877846\n",
      "Pulling from GBIF API with species key: 4951515\n",
      "Pulling from GBIF API with species key: 5081869\n",
      "Pulling from GBIF API with species key: 9390318\n",
      "Pulling from GBIF API with species key: 12226947\n",
      "Pulling from GBIF API with species key: 9445036\n",
      "Pulling from GBIF API with species key: 4950786\n",
      "Pulling from GBIF API with species key: 4954034\n",
      "Pulling from GBIF API with species key: 8468626\n",
      "Pulling from GBIF API with species key: 8694400\n",
      "Pulling from GBIF API with species key: 8664324\n",
      "Pulling from GBIF API with species key: 11114637\n",
      "Pulling from GBIF API with species key: 4824826\n",
      "Pulling from GBIF API with species key: 5189019\n",
      "Pulling from GBIF API with species key: 7823183\n",
      "Pulling from GBIF API with species key: 8045384\n"
     ]
    },
    {
     "name": "stderr",
     "output_type": "stream",
     "text": [
      " 63%|██████▎   | 142/225 [02:10<02:46,  2.00s/it]"
     ]
    },
    {
     "name": "stdout",
     "output_type": "stream",
     "text": [
      "Pulling from GBIF API with species key: 8552181\n"
     ]
    },
    {
     "name": "stderr",
     "output_type": "stream",
     "text": [
      " 64%|██████▍   | 144/225 [02:11<01:53,  1.40s/it]"
     ]
    },
    {
     "name": "stdout",
     "output_type": "stream",
     "text": [
      "Pulling from GBIF API with species key: 4457477\n"
     ]
    },
    {
     "name": "stderr",
     "output_type": "stream",
     "text": [
      " 69%|██████▉   | 155/225 [02:18<00:47,  1.48it/s]"
     ]
    },
    {
     "name": "stdout",
     "output_type": "stream",
     "text": [
      "Pulling from GBIF API with species key: 1596065\n"
     ]
    },
    {
     "name": "stderr",
     "output_type": "stream",
     "text": [
      " 71%|███████   | 159/225 [02:20<00:46,  1.43it/s]"
     ]
    },
    {
     "name": "stdout",
     "output_type": "stream",
     "text": [
      "Pulling from GBIF API with species key: 4491210\n"
     ]
    },
    {
     "name": "stderr",
     "output_type": "stream",
     "text": [
      " 73%|███████▎  | 164/225 [02:23<00:33,  1.83it/s]"
     ]
    },
    {
     "name": "stdout",
     "output_type": "stream",
     "text": [
      "Pulling from GBIF API with species key: 4464164\n"
     ]
    },
    {
     "name": "stderr",
     "output_type": "stream",
     "text": [
      " 73%|███████▎  | 165/225 [02:24<00:46,  1.30it/s]"
     ]
    },
    {
     "name": "stdout",
     "output_type": "stream",
     "text": [
      "Pulling from GBIF API with species key: 8251236\n"
     ]
    },
    {
     "name": "stderr",
     "output_type": "stream",
     "text": [
      " 80%|████████  | 181/225 [02:33<00:27,  1.60it/s]"
     ]
    },
    {
     "name": "stdout",
     "output_type": "stream",
     "text": [
      "Pulling from GBIF API with species key: 5159068\n"
     ]
    },
    {
     "name": "stderr",
     "output_type": "stream",
     "text": [
      " 81%|████████▏ | 183/225 [02:34<00:23,  1.76it/s]"
     ]
    },
    {
     "name": "stdout",
     "output_type": "stream",
     "text": [
      "Pulling from GBIF API with species key: 11141352\n"
     ]
    },
    {
     "name": "stderr",
     "output_type": "stream",
     "text": [
      " 82%|████████▏ | 184/225 [02:35<00:30,  1.35it/s]"
     ]
    },
    {
     "name": "stdout",
     "output_type": "stream",
     "text": [
      "Pulling from GBIF API with species key: 5759487\n"
     ]
    },
    {
     "name": "stderr",
     "output_type": "stream",
     "text": [
      " 88%|████████▊ | 197/225 [02:42<00:17,  1.56it/s]"
     ]
    },
    {
     "name": "stdout",
     "output_type": "stream",
     "text": [
      "Pulling from GBIF API with species key: 5232452\n"
     ]
    },
    {
     "name": "stderr",
     "output_type": "stream",
     "text": [
      " 90%|█████████ | 203/225 [02:46<00:14,  1.52it/s]"
     ]
    },
    {
     "name": "stdout",
     "output_type": "stream",
     "text": [
      "Pulling from GBIF API with species key: 1803266\n"
     ]
    },
    {
     "name": "stderr",
     "output_type": "stream",
     "text": [
      " 91%|█████████ | 204/225 [02:47<00:12,  1.63it/s]"
     ]
    },
    {
     "name": "stdout",
     "output_type": "stream",
     "text": [
      "Pulling from GBIF API with species key: 4430719\n",
      "Pulling from GBIF API with species key: 5109882\n",
      "Pulling from GBIF API with species key: 1583448\n",
      "Pulling from GBIF API with species key: 1798372\n",
      "Pulling from GBIF API with species key: 2120653\n",
      "Pulling from GBIF API with species key: 4539502\n",
      "Pulling from GBIF API with species key: 7649338\n",
      "Pulling from GBIF API with species key: 8023479\n"
     ]
    },
    {
     "name": "stderr",
     "output_type": "stream",
     "text": [
      " 91%|█████████ | 205/225 [02:50<00:28,  1.41s/it]"
     ]
    },
    {
     "name": "stdout",
     "output_type": "stream",
     "text": [
      "Pulling from GBIF API with species key: 9427664\n"
     ]
    },
    {
     "name": "stderr",
     "output_type": "stream",
     "text": [
      " 94%|█████████▍| 212/225 [02:54<00:08,  1.62it/s]"
     ]
    },
    {
     "name": "stdout",
     "output_type": "stream",
     "text": [
      "Pulling from GBIF API with species key: 1676551\n"
     ]
    },
    {
     "name": "stderr",
     "output_type": "stream",
     "text": [
      " 95%|█████████▍| 213/225 [02:55<00:09,  1.27it/s]"
     ]
    },
    {
     "name": "stdout",
     "output_type": "stream",
     "text": [
      "Pulling from GBIF API with species key: 2234572\n"
     ]
    },
    {
     "name": "stderr",
     "output_type": "stream",
     "text": [
      " 97%|█████████▋| 219/225 [02:58<00:03,  1.85it/s]"
     ]
    },
    {
     "name": "stdout",
     "output_type": "stream",
     "text": [
      "Pulling from GBIF API with species key: 1741752\n",
      "Pulling from GBIF API with species key: 1846107\n",
      "Pulling from GBIF API with species key: 1878470\n"
     ]
    },
    {
     "name": "stderr",
     "output_type": "stream",
     "text": [
      " 98%|█████████▊| 220/225 [03:00<00:04,  1.11it/s]"
     ]
    },
    {
     "name": "stdout",
     "output_type": "stream",
     "text": [
      "Pulling from GBIF API with species key: 9400895\n"
     ]
    },
    {
     "name": "stderr",
     "output_type": "stream",
     "text": [
      " 99%|█████████▉| 223/225 [03:01<00:01,  1.49it/s]"
     ]
    },
    {
     "name": "stdout",
     "output_type": "stream",
     "text": [
      "Pulling from GBIF API with species key: 1318965\n",
      "Pulling from GBIF API with species key: 1647987\n",
      "Pulling from GBIF API with species key: 2027021\n",
      "Pulling from GBIF API with species key: 2072238\n"
     ]
    },
    {
     "name": "stderr",
     "output_type": "stream",
     "text": [
      "100%|█████████▉| 224/225 [03:04<00:01,  1.13s/it]"
     ]
    },
    {
     "name": "stdout",
     "output_type": "stream",
     "text": [
      "Pulling from GBIF API with species key: 2075031\n"
     ]
    },
    {
     "name": "stderr",
     "output_type": "stream",
     "text": [
      "100%|██████████| 225/225 [03:04<00:00,  1.22it/s]"
     ]
    },
    {
     "name": "stdout",
     "output_type": "stream",
     "text": [
      "Sucessfully created df with cols: Index(['full_name', 'city', 'variation', 'longitude', 'latitude',\n",
      "       'species_richness', 'redlist_EX', 'redlist_EW', 'redlist_CR',\n",
      "       'redlist_EN', 'redlist_VU', 'redlist_NT', 'redlist_LC', 'redlist_DD',\n",
      "       'redlist_NE'],\n",
      "      dtype='object'), and size: (900, 15).\n"
     ]
    },
    {
     "name": "stderr",
     "output_type": "stream",
     "text": [
      "\n"
     ]
    }
   ],
   "source": [
    "import gbio.src.process as prc\n",
    "\n",
    "\n",
    "input_path_raw = \"/Users/apple/Documents/github/geo-biodiversity-dataset/dataset/sat/raw\"\n",
    "output_path = \"/Users/apple/Documents/github/geo-biodiversity-dataset/dataset/sat/processed\"\n",
    "\n",
    "csv_path = \"/Users/apple/Documents/github/geo-biodiversity-dataset/dataset/sat/csv/seperate\"\n",
    "\n",
    "skip = [\"Manchester\", \"Birmingham\"]\n",
    "skip = []\n",
    "\n",
    "prc.process_sats(input_path_raw, output_path, csv_path, override=False, skip=skip)"
   ]
  },
  {
   "cell_type": "code",
   "execution_count": 1,
   "id": "ac66d7a7",
   "metadata": {},
   "outputs": [
    {
     "name": "stdout",
     "output_type": "stream",
     "text": [
      "Processing city: Birmingham\n"
     ]
    },
    {
     "name": "stderr",
     "output_type": "stream",
     "text": [
      "1720it [00:01, 940.94it/s] \n"
     ]
    },
    {
     "name": "stdout",
     "output_type": "stream",
     "text": [
      "Processing city: London\n"
     ]
    },
    {
     "name": "stderr",
     "output_type": "stream",
     "text": [
      "4512it [00:05, 835.40it/s]\n"
     ]
    },
    {
     "name": "stdout",
     "output_type": "stream",
     "text": [
      "Processing city: Manchester\n"
     ]
    },
    {
     "name": "stderr",
     "output_type": "stream",
     "text": [
      "900it [00:01, 879.05it/s]\n"
     ]
    }
   ],
   "source": [
    "# Generate landcover map:\n",
    "\n",
    "import gbio.src.landcover as lcv\n",
    "\n",
    "\n",
    "input_path_raw = \"/Users/apple/Documents/github/geo-biodiversity-dataset/dataset/sat/processed\"\n",
    "output_path = \"/Users/apple/Documents/github/geo-biodiversity-dataset/dataset/landcover/processed\"\n",
    "\n",
    "csv_path = \"/Users/apple/Documents/github/geo-biodiversity-dataset/dataset/sat/csv/seperate\"\n",
    "\n",
    "skip = [\"Manchester\", \"Birmingham\"]\n",
    "skip = []\n",
    "\n",
    "lcv.process_sats(input_path_raw, \n",
    "                 output_path, \n",
    "                 csv_path, \n",
    "                 override=True, \n",
    "                 skip=skip)"
   ]
  },
  {
   "cell_type": "code",
   "execution_count": 2,
   "id": "325fba62",
   "metadata": {},
   "outputs": [
    {
     "name": "stdout",
     "output_type": "stream",
     "text": [
      "Initialized GBIF IO\n",
      "   Dataset loaded: {'api-paths': {'GBIF_SEARCH': {'name': 'GBIF_SEARCH', 'url': 'https://api.gbif.org/v1/occurrence/search', 'description': 'API access to the Global Biodiversity Information Facility'}, 'GBIF_SPECIES': {'name': 'GBIF_SPECIES', 'url': 'https://api.gbif.org/v1/species', 'description': 'API access to the Global Biodiversity Information Facility'}}}\n",
      "Initialized cache directory: /Users/apple/Documents/github/geo-biodiversity-dataset/cache\n",
      "Checking if pickle exists at: /Users/apple/Documents/github/geo-biodiversity-dataset/cache/species_cache.pkl -> True\n",
      "Combined CSV saved to /Users/apple/Documents/github/geo-biodiversity-dataset/dataset/sat/csv/combined.csv with shape (7132, 17).\n"
     ]
    }
   ],
   "source": [
    "# Combine all CSVs into one\n",
    "\n",
    "import gbio.src.process as prc\n",
    "\n",
    "csv_path = \"/Users/apple/Documents/github/geo-biodiversity-dataset/dataset/sat/csv/seperate\"\n",
    "output_path = \"/Users/apple/Documents/github/geo-biodiversity-dataset/dataset/sat/csv/combined.csv\"\n",
    "\n",
    "prc.combine_csvs(csv_path, output_path)"
   ]
  }
 ],
 "metadata": {
  "kernelspec": {
   "display_name": "gbio_env",
   "language": "python",
   "name": "python3"
  },
  "language_info": {
   "codemirror_mode": {
    "name": "ipython",
    "version": 3
   },
   "file_extension": ".py",
   "mimetype": "text/x-python",
   "name": "python",
   "nbconvert_exporter": "python",
   "pygments_lexer": "ipython3",
   "version": "3.12.11"
  }
 },
 "nbformat": 4,
 "nbformat_minor": 5
}
